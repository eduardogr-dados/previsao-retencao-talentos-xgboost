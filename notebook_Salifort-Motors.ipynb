{
 "cells": [
  {
   "cell_type": "markdown",
   "metadata": {
    "id": "ysS5rgTMWpwL"
   },
   "source": [
    "# **Projeto Capstone: Fornecendo sugestões baseadas em dados para o RH**"
   ]
  },
  {
   "cell_type": "markdown",
   "metadata": {
    "id": "psz51YkZVwtN"
   },
   "source": [
    "## **Planejamento**"
   ]
  },
  {
   "cell_type": "markdown",
   "metadata": {
    "id": "lnRdR6eacUkK"
   },
   "source": [
    "### Informações sobre o conjunto de dados\n",
    "\n",
    "O conjunto de dados deste projeto contém 15.000 linhas e 10 colunas para as variáveis listadas abaixo. Para obter mais informações sobre os dados, consulte a fonte em [Kaggle](https://www.kaggle.com/datasets/mfaisalqureshi/hr-analytics-and-job-prediction?select=HR_comma_sep.csv).\n",
    "\n",
    "Variable  |Description |\n",
    "-----|-----|\n",
    "satisfaction_level|Employee-reported job satisfaction level [0&ndash;1]|\n",
    "last_evaluation|Score of employee's last performance review [0&ndash;1]|\n",
    "number_project|Number of projects employee contributes to|\n",
    "average_monthly_hours|Average number of hours employee worked per month|\n",
    "time_spend_company|How long the employee has been with the company (years)\n",
    "Work_accident|Whether or not the employee experienced an accident while at work\n",
    "left|Whether or not the employee left the company\n",
    "promotion_last_5years|Whether or not the employee was promoted in the last 5 years\n",
    "Department|The employee's department\n",
    "salary|The employee's salary (U.S. dollars)"
   ]
  },
  {
   "cell_type": "markdown",
   "metadata": {
    "id": "EAfj2mxlHyO3"
   },
   "source": [
    "### Objetivo  \n",
    "\n",
    "Desenvolver um modelo preditivo para estimar a probabilidade de um funcionário deixar a empresa, considerando variáveis como departamento, número de projetos, média de horas mensais, entre outros.  "
   ]
  },
  {
   "cell_type": "markdown",
   "metadata": {
    "id": "Dfnvw1HZsfbd"
   },
   "source": [
    "## Etapa 1. Importação\n",
    "\n",
    "* Importar pacotes\n",
    "* Carregar conjunto de dados"
   ]
  },
  {
   "cell_type": "markdown",
   "metadata": {
    "id": "51UAXIOLC_8P"
   },
   "source": [
    "### 1. Importar pacotes"
   ]
  },
  {
   "cell_type": "code",
   "execution_count": 17,
   "metadata": {
    "id": "hVWGpX9As4e1"
   },
   "outputs": [
    {
     "name": "stdout",
     "output_type": "stream",
     "text": [
      "Collecting xgboost\n",
      "  Downloading xgboost-2.1.4-py3-none-win_amd64.whl.metadata (2.1 kB)\n",
      "Requirement already satisfied: numpy in c:\\users\\cliente\\anaconda3\\lib\\site-packages (from xgboost) (1.26.4)\n",
      "Requirement already satisfied: scipy in c:\\users\\cliente\\anaconda3\\lib\\site-packages (from xgboost) (1.13.1)\n",
      "Downloading xgboost-2.1.4-py3-none-win_amd64.whl (124.9 MB)\n",
      "   ---------------------------------------- 0.0/124.9 MB ? eta -:--:--\n",
      "   ------ -------------------------------- 19.7/124.9 MB 112.8 MB/s eta 0:00:01\n",
      "   ------- -------------------------------- 23.9/124.9 MB 60.3 MB/s eta 0:00:02\n",
      "   ------------- -------------------------- 43.0/124.9 MB 78.1 MB/s eta 0:00:02\n",
      "   --------------------- ------------------ 65.8/124.9 MB 79.1 MB/s eta 0:00:01\n",
      "   ------------------------ --------------- 77.6/124.9 MB 77.3 MB/s eta 0:00:01\n",
      "   ----------------------------- ---------- 92.3/124.9 MB 74.5 MB/s eta 0:00:01\n",
      "   ------------------------------------ -- 116.1/124.9 MB 80.6 MB/s eta 0:00:01\n",
      "   --------------------------------------  124.8/124.9 MB 83.0 MB/s eta 0:00:01\n",
      "   --------------------------------------  124.8/124.9 MB 83.0 MB/s eta 0:00:01\n",
      "   --------------------------------------  124.8/124.9 MB 83.0 MB/s eta 0:00:01\n",
      "   --------------------------------------  124.8/124.9 MB 83.0 MB/s eta 0:00:01\n",
      "   --------------------------------------  124.8/124.9 MB 83.0 MB/s eta 0:00:01\n",
      "   --------------------------------------  124.8/124.9 MB 83.0 MB/s eta 0:00:01\n",
      "   --------------------------------------- 124.9/124.9 MB 44.8 MB/s eta 0:00:00\n",
      "Installing collected packages: xgboost\n",
      "Successfully installed xgboost-2.1.4\n"
     ]
    }
   ],
   "source": [
    "# ======================================\n",
    "# Importações de pacotes operacionais padrão\n",
    "# ======================================\n",
    "import numpy as np\n",
    "import pandas as pd\n",
    "import pickle  # Para salvar modelos treinados\n",
    "\n",
    "# ======================================\n",
    "# Importações de pacotes de visualização\n",
    "# ======================================\n",
    "import matplotlib.pyplot as plt\n",
    "import seaborn as sns\n",
    "\n",
    "# Configuração do pandas para mostrar todas as colunas\n",
    "pd.set_option('display.max_columns', None)\n",
    "\n",
    "# ======================================\n",
    "# Instalação de Dependências (Opcional)\n",
    "# ======================================\n",
    "!pip install xgboost  # Necessário para algoritmos de boosting\n",
    "\n",
    "# ======================================\n",
    "# Pacotes para Modelagem de Dados\n",
    "# ======================================\n",
    "\n",
    "# --- Pré-processamento e Validação ---\n",
    "from sklearn.model_selection import (\n",
    "    train_test_split,\n",
    "    GridSearchCV,\n",
    "    StratifiedKFold\n",
    ")\n",
    "\n",
    "# --- Métricas de Avaliação ---\n",
    "from sklearn import metrics\n",
    "\n",
    "# --- Algoritmos de Machine Learning ---\n",
    "# Modelos Ensemble\n",
    "from sklearn.ensemble import RandomForestClassifier\n",
    "\n",
    "# XGBoost (Extreme Gradient Boosting)\n",
    "from xgboost import XGBClassifier, plot_importance"
   ]
  },
  {
   "cell_type": "markdown",
   "metadata": {
    "id": "zM2P9yLWDIjN"
   },
   "source": [
    "### 2. Carregar conjunto de dados\n",
    "\n",
    "Leia o conjunto de dados chamado **`HR_capstone_dataset.csv`.** "
   ]
  },
  {
   "cell_type": "code",
   "execution_count": 2,
   "metadata": {
    "id": "Bs0cJR5BDPgQ"
   },
   "outputs": [
    {
     "data": {
      "text/html": [
       "<div>\n",
       "<style scoped>\n",
       "    .dataframe tbody tr th:only-of-type {\n",
       "        vertical-align: middle;\n",
       "    }\n",
       "\n",
       "    .dataframe tbody tr th {\n",
       "        vertical-align: top;\n",
       "    }\n",
       "\n",
       "    .dataframe thead th {\n",
       "        text-align: right;\n",
       "    }\n",
       "</style>\n",
       "<table border=\"1\" class=\"dataframe\">\n",
       "  <thead>\n",
       "    <tr style=\"text-align: right;\">\n",
       "      <th></th>\n",
       "      <th>satisfaction_level</th>\n",
       "      <th>last_evaluation</th>\n",
       "      <th>number_project</th>\n",
       "      <th>average_montly_hours</th>\n",
       "      <th>time_spend_company</th>\n",
       "      <th>Work_accident</th>\n",
       "      <th>left</th>\n",
       "      <th>promotion_last_5years</th>\n",
       "      <th>Department</th>\n",
       "      <th>salary</th>\n",
       "    </tr>\n",
       "  </thead>\n",
       "  <tbody>\n",
       "    <tr>\n",
       "      <th>0</th>\n",
       "      <td>0.38</td>\n",
       "      <td>0.53</td>\n",
       "      <td>2</td>\n",
       "      <td>157</td>\n",
       "      <td>3</td>\n",
       "      <td>0</td>\n",
       "      <td>1</td>\n",
       "      <td>0</td>\n",
       "      <td>sales</td>\n",
       "      <td>low</td>\n",
       "    </tr>\n",
       "    <tr>\n",
       "      <th>1</th>\n",
       "      <td>0.80</td>\n",
       "      <td>0.86</td>\n",
       "      <td>5</td>\n",
       "      <td>262</td>\n",
       "      <td>6</td>\n",
       "      <td>0</td>\n",
       "      <td>1</td>\n",
       "      <td>0</td>\n",
       "      <td>sales</td>\n",
       "      <td>medium</td>\n",
       "    </tr>\n",
       "    <tr>\n",
       "      <th>2</th>\n",
       "      <td>0.11</td>\n",
       "      <td>0.88</td>\n",
       "      <td>7</td>\n",
       "      <td>272</td>\n",
       "      <td>4</td>\n",
       "      <td>0</td>\n",
       "      <td>1</td>\n",
       "      <td>0</td>\n",
       "      <td>sales</td>\n",
       "      <td>medium</td>\n",
       "    </tr>\n",
       "    <tr>\n",
       "      <th>3</th>\n",
       "      <td>0.72</td>\n",
       "      <td>0.87</td>\n",
       "      <td>5</td>\n",
       "      <td>223</td>\n",
       "      <td>5</td>\n",
       "      <td>0</td>\n",
       "      <td>1</td>\n",
       "      <td>0</td>\n",
       "      <td>sales</td>\n",
       "      <td>low</td>\n",
       "    </tr>\n",
       "    <tr>\n",
       "      <th>4</th>\n",
       "      <td>0.37</td>\n",
       "      <td>0.52</td>\n",
       "      <td>2</td>\n",
       "      <td>159</td>\n",
       "      <td>3</td>\n",
       "      <td>0</td>\n",
       "      <td>1</td>\n",
       "      <td>0</td>\n",
       "      <td>sales</td>\n",
       "      <td>low</td>\n",
       "    </tr>\n",
       "  </tbody>\n",
       "</table>\n",
       "</div>"
      ],
      "text/plain": [
       "   satisfaction_level  last_evaluation  number_project  average_montly_hours  \\\n",
       "0                0.38             0.53               2                   157   \n",
       "1                0.80             0.86               5                   262   \n",
       "2                0.11             0.88               7                   272   \n",
       "3                0.72             0.87               5                   223   \n",
       "4                0.37             0.52               2                   159   \n",
       "\n",
       "   time_spend_company  Work_accident  left  promotion_last_5years Department  \\\n",
       "0                   3              0     1                      0      sales   \n",
       "1                   6              0     1                      0      sales   \n",
       "2                   4              0     1                      0      sales   \n",
       "3                   5              0     1                      0      sales   \n",
       "4                   3              0     1                      0      sales   \n",
       "\n",
       "   salary  \n",
       "0     low  \n",
       "1  medium  \n",
       "2  medium  \n",
       "3     low  \n",
       "4     low  "
      ]
     },
     "execution_count": 2,
     "metadata": {},
     "output_type": "execute_result"
    }
   ],
   "source": [
    "# Carregar o conjunto de dados em um dataframe\n",
    "df0 = pd.read_csv(\"HR_capstone_dataset.csv\")\n",
    "\n",
    "# Exibir as primeiras linhas do dataframe\n",
    "df0.head()"
   ]
  },
  {
   "cell_type": "markdown",
   "metadata": {
    "id": "wF_LLorPs5G_"
   },
   "source": [
    "## Etapa 2. Exploração de dados (EDA inicial e limpeza de dados)\n",
    "\n",
    "- Entendendo as variáveis\n",
    "- Limpando o conjunto de dados (dados ausentes, dados redundantes, outliers)"
   ]
  },
  {
   "cell_type": "markdown",
   "metadata": {
    "id": "3LF6h1v9FYz2"
   },
   "source": [
    "### 1. Reunir informações sobre os dados"
   ]
  },
  {
   "cell_type": "code",
   "execution_count": 3,
   "metadata": {
    "id": "6XbfdPoKurMf"
   },
   "outputs": [
    {
     "name": "stdout",
     "output_type": "stream",
     "text": [
      "<class 'pandas.core.frame.DataFrame'>\n",
      "RangeIndex: 14999 entries, 0 to 14998\n",
      "Data columns (total 10 columns):\n",
      " #   Column                 Non-Null Count  Dtype  \n",
      "---  ------                 --------------  -----  \n",
      " 0   satisfaction_level     14999 non-null  float64\n",
      " 1   last_evaluation        14999 non-null  float64\n",
      " 2   number_project         14999 non-null  int64  \n",
      " 3   average_montly_hours   14999 non-null  int64  \n",
      " 4   time_spend_company     14999 non-null  int64  \n",
      " 5   Work_accident          14999 non-null  int64  \n",
      " 6   left                   14999 non-null  int64  \n",
      " 7   promotion_last_5years  14999 non-null  int64  \n",
      " 8   Department             14999 non-null  object \n",
      " 9   salary                 14999 non-null  object \n",
      "dtypes: float64(2), int64(6), object(2)\n",
      "memory usage: 1.1+ MB\n"
     ]
    }
   ],
   "source": [
    "# Informações básicas\n",
    "df0.info()"
   ]
  },
  {
   "cell_type": "code",
   "execution_count": 4,
   "metadata": {
    "id": "_5VRL-kzE8y1"
   },
   "outputs": [
    {
     "data": {
      "text/html": [
       "<div>\n",
       "<style scoped>\n",
       "    .dataframe tbody tr th:only-of-type {\n",
       "        vertical-align: middle;\n",
       "    }\n",
       "\n",
       "    .dataframe tbody tr th {\n",
       "        vertical-align: top;\n",
       "    }\n",
       "\n",
       "    .dataframe thead th {\n",
       "        text-align: right;\n",
       "    }\n",
       "</style>\n",
       "<table border=\"1\" class=\"dataframe\">\n",
       "  <thead>\n",
       "    <tr style=\"text-align: right;\">\n",
       "      <th></th>\n",
       "      <th>satisfaction_level</th>\n",
       "      <th>last_evaluation</th>\n",
       "      <th>number_project</th>\n",
       "      <th>average_montly_hours</th>\n",
       "      <th>time_spend_company</th>\n",
       "      <th>Work_accident</th>\n",
       "      <th>left</th>\n",
       "      <th>promotion_last_5years</th>\n",
       "    </tr>\n",
       "  </thead>\n",
       "  <tbody>\n",
       "    <tr>\n",
       "      <th>count</th>\n",
       "      <td>14999.000000</td>\n",
       "      <td>14999.000000</td>\n",
       "      <td>14999.000000</td>\n",
       "      <td>14999.000000</td>\n",
       "      <td>14999.000000</td>\n",
       "      <td>14999.000000</td>\n",
       "      <td>14999.000000</td>\n",
       "      <td>14999.000000</td>\n",
       "    </tr>\n",
       "    <tr>\n",
       "      <th>mean</th>\n",
       "      <td>0.612834</td>\n",
       "      <td>0.716102</td>\n",
       "      <td>3.803054</td>\n",
       "      <td>201.050337</td>\n",
       "      <td>3.498233</td>\n",
       "      <td>0.144610</td>\n",
       "      <td>0.238083</td>\n",
       "      <td>0.021268</td>\n",
       "    </tr>\n",
       "    <tr>\n",
       "      <th>std</th>\n",
       "      <td>0.248631</td>\n",
       "      <td>0.171169</td>\n",
       "      <td>1.232592</td>\n",
       "      <td>49.943099</td>\n",
       "      <td>1.460136</td>\n",
       "      <td>0.351719</td>\n",
       "      <td>0.425924</td>\n",
       "      <td>0.144281</td>\n",
       "    </tr>\n",
       "    <tr>\n",
       "      <th>min</th>\n",
       "      <td>0.090000</td>\n",
       "      <td>0.360000</td>\n",
       "      <td>2.000000</td>\n",
       "      <td>96.000000</td>\n",
       "      <td>2.000000</td>\n",
       "      <td>0.000000</td>\n",
       "      <td>0.000000</td>\n",
       "      <td>0.000000</td>\n",
       "    </tr>\n",
       "    <tr>\n",
       "      <th>25%</th>\n",
       "      <td>0.440000</td>\n",
       "      <td>0.560000</td>\n",
       "      <td>3.000000</td>\n",
       "      <td>156.000000</td>\n",
       "      <td>3.000000</td>\n",
       "      <td>0.000000</td>\n",
       "      <td>0.000000</td>\n",
       "      <td>0.000000</td>\n",
       "    </tr>\n",
       "    <tr>\n",
       "      <th>50%</th>\n",
       "      <td>0.640000</td>\n",
       "      <td>0.720000</td>\n",
       "      <td>4.000000</td>\n",
       "      <td>200.000000</td>\n",
       "      <td>3.000000</td>\n",
       "      <td>0.000000</td>\n",
       "      <td>0.000000</td>\n",
       "      <td>0.000000</td>\n",
       "    </tr>\n",
       "    <tr>\n",
       "      <th>75%</th>\n",
       "      <td>0.820000</td>\n",
       "      <td>0.870000</td>\n",
       "      <td>5.000000</td>\n",
       "      <td>245.000000</td>\n",
       "      <td>4.000000</td>\n",
       "      <td>0.000000</td>\n",
       "      <td>0.000000</td>\n",
       "      <td>0.000000</td>\n",
       "    </tr>\n",
       "    <tr>\n",
       "      <th>max</th>\n",
       "      <td>1.000000</td>\n",
       "      <td>1.000000</td>\n",
       "      <td>7.000000</td>\n",
       "      <td>310.000000</td>\n",
       "      <td>10.000000</td>\n",
       "      <td>1.000000</td>\n",
       "      <td>1.000000</td>\n",
       "      <td>1.000000</td>\n",
       "    </tr>\n",
       "  </tbody>\n",
       "</table>\n",
       "</div>"
      ],
      "text/plain": [
       "       satisfaction_level  last_evaluation  number_project  \\\n",
       "count        14999.000000     14999.000000    14999.000000   \n",
       "mean             0.612834         0.716102        3.803054   \n",
       "std              0.248631         0.171169        1.232592   \n",
       "min              0.090000         0.360000        2.000000   \n",
       "25%              0.440000         0.560000        3.000000   \n",
       "50%              0.640000         0.720000        4.000000   \n",
       "75%              0.820000         0.870000        5.000000   \n",
       "max              1.000000         1.000000        7.000000   \n",
       "\n",
       "       average_montly_hours  time_spend_company  Work_accident          left  \\\n",
       "count          14999.000000        14999.000000   14999.000000  14999.000000   \n",
       "mean             201.050337            3.498233       0.144610      0.238083   \n",
       "std               49.943099            1.460136       0.351719      0.425924   \n",
       "min               96.000000            2.000000       0.000000      0.000000   \n",
       "25%              156.000000            3.000000       0.000000      0.000000   \n",
       "50%              200.000000            3.000000       0.000000      0.000000   \n",
       "75%              245.000000            4.000000       0.000000      0.000000   \n",
       "max              310.000000           10.000000       1.000000      1.000000   \n",
       "\n",
       "       promotion_last_5years  \n",
       "count           14999.000000  \n",
       "mean                0.021268  \n",
       "std                 0.144281  \n",
       "min                 0.000000  \n",
       "25%                 0.000000  \n",
       "50%                 0.000000  \n",
       "75%                 0.000000  \n",
       "max                 1.000000  "
      ]
     },
     "execution_count": 4,
     "metadata": {},
     "output_type": "execute_result"
    }
   ],
   "source": [
    "# Estatísticas descritivas para dados numéricos\n",
    "df0.describe()"
   ]
  },
  {
   "cell_type": "code",
   "execution_count": 5,
   "metadata": {},
   "outputs": [
    {
     "data": {
      "text/html": [
       "<div>\n",
       "<style scoped>\n",
       "    .dataframe tbody tr th:only-of-type {\n",
       "        vertical-align: middle;\n",
       "    }\n",
       "\n",
       "    .dataframe tbody tr th {\n",
       "        vertical-align: top;\n",
       "    }\n",
       "\n",
       "    .dataframe thead th {\n",
       "        text-align: right;\n",
       "    }\n",
       "</style>\n",
       "<table border=\"1\" class=\"dataframe\">\n",
       "  <thead>\n",
       "    <tr style=\"text-align: right;\">\n",
       "      <th></th>\n",
       "      <th>Department</th>\n",
       "      <th>salary</th>\n",
       "    </tr>\n",
       "  </thead>\n",
       "  <tbody>\n",
       "    <tr>\n",
       "      <th>count</th>\n",
       "      <td>14999</td>\n",
       "      <td>14999</td>\n",
       "    </tr>\n",
       "    <tr>\n",
       "      <th>unique</th>\n",
       "      <td>10</td>\n",
       "      <td>3</td>\n",
       "    </tr>\n",
       "    <tr>\n",
       "      <th>top</th>\n",
       "      <td>sales</td>\n",
       "      <td>low</td>\n",
       "    </tr>\n",
       "    <tr>\n",
       "      <th>freq</th>\n",
       "      <td>4140</td>\n",
       "      <td>7316</td>\n",
       "    </tr>\n",
       "  </tbody>\n",
       "</table>\n",
       "</div>"
      ],
      "text/plain": [
       "       Department salary\n",
       "count       14999  14999\n",
       "unique         10      3\n",
       "top         sales    low\n",
       "freq         4140   7316"
      ]
     },
     "execution_count": 5,
     "metadata": {},
     "output_type": "execute_result"
    }
   ],
   "source": [
    "# Estatísticas descritivas para dados categóricos\n",
    "df0.describe(include=['object'])"
   ]
  },
  {
   "cell_type": "markdown",
   "metadata": {
    "id": "QR7eFNU0FklJ"
   },
   "source": [
    "### 2. Renomear colunas"
   ]
  },
  {
   "cell_type": "markdown",
   "metadata": {
    "id": "_TtE0JLPJyLF"
   },
   "source": [
    "Renomeando as colunas conforme necessário, padronizando os nomes no formato snake_case, corrigindo erros de ortografia e tornando-os mais concisos quando aplicável."
   ]
  },
  {
   "cell_type": "code",
   "execution_count": 6,
   "metadata": {
    "id": "kEn21u2bqrEI"
   },
   "outputs": [
    {
     "data": {
      "text/plain": [
       "Index(['satisfaction_level', 'last_evaluation', 'number_project',\n",
       "       'average_montly_hours', 'time_spend_company', 'Work_accident', 'left',\n",
       "       'promotion_last_5years', 'Department', 'salary'],\n",
       "      dtype='object')"
      ]
     },
     "execution_count": 6,
     "metadata": {},
     "output_type": "execute_result"
    }
   ],
   "source": [
    "# Exibir todos os nomes de colunas\n",
    "df0.columns"
   ]
  },
  {
   "cell_type": "code",
   "execution_count": 7,
   "metadata": {
    "id": "npUQA8jMFJQD"
   },
   "outputs": [
    {
     "name": "stdout",
     "output_type": "stream",
     "text": [
      "Colunas atualizadas:\n",
      "['satisfaction_level', 'last_evaluation', 'number_of_projects', 'average_monthly_hours', 'tenure', 'work_accident', 'employee_left', 'promotion_last_5years', 'department', 'salary']\n"
     ]
    }
   ],
   "source": [
    "# Renomeando as colunas\n",
    "df0 = df0.rename(columns={\n",
    "    'number_project': 'number_of_projects',\n",
    "    'time_spend_company': 'tenure',\n",
    "    'left': 'employee_left',\n",
    "    'Department': 'department',\n",
    "    'Work_accident': 'work_accident',\n",
    "    'average_montly_hours':'average_monthly_hours'\n",
    "})\n",
    "\n",
    "# Exibindo os nomes atualizados das colunas\n",
    "print(\"Colunas atualizadas:\")\n",
    "print(df0.columns.tolist())"
   ]
  },
  {
   "cell_type": "markdown",
   "metadata": {},
   "source": [
    "**Explicação das mudanças:**  \n",
    "- **`number_of_projects`:** Adiciona preposição para clareza.  \n",
    "- **`tenure`:** Substitui \"time_spend_company\" por um termo conciso que indica tempo de permanência na empresa.  \n",
    "- **`employee_left`:** Torna explícito que a coluna se refere ao status de saída do funcionário.  \n",
    "- **`department` e `work_accident`:** Colocando o texto em caixa baixa.  \n",
    "- **`average_monthly_hours`:** Corrigindo erros ortográficos. "
   ]
  },
  {
   "cell_type": "markdown",
   "metadata": {
    "id": "e-G2QlQxBq__"
   },
   "source": [
    "### 3. Valores ausentes"
   ]
  },
  {
   "cell_type": "markdown",
   "metadata": {
    "id": "GeiUUqeaBt-I"
   },
   "source": [
    "Verificando se há valores ausentes nos dados."
   ]
  },
  {
   "cell_type": "code",
   "execution_count": 8,
   "metadata": {
    "id": "EN9MvN0GByVV"
   },
   "outputs": [
    {
     "name": "stdout",
     "output_type": "stream",
     "text": [
      "satisfaction_level       0\n",
      "last_evaluation          0\n",
      "number_of_projects       0\n",
      "average_monthly_hours    0\n",
      "tenure                   0\n",
      "work_accident            0\n",
      "employee_left            0\n",
      "promotion_last_5years    0\n",
      "department               0\n",
      "salary                   0\n",
      "dtype: int64\n",
      "\n",
      "Total de valores nulos no DataFrame: 0\n"
     ]
    }
   ],
   "source": [
    "# Contar valores nulos em cada coluna\n",
    "null_count_per_column = df0.isnull().sum()\n",
    "\n",
    "# Contar o total de valores nulos em todo o DataFrame\n",
    "total_null_count = df0.isnull().sum().sum()\n",
    "\n",
    "print(null_count_per_column)\n",
    "print()\n",
    "print(\"Total de valores nulos no DataFrame:\", total_null_count)"
   ]
  },
  {
   "cell_type": "markdown",
   "metadata": {
    "id": "hBvrijItKQI9"
   },
   "source": [
    "### 4. Verificar duplicatas"
   ]
  },
  {
   "cell_type": "markdown",
   "metadata": {
    "id": "Q7ystBsdsGaL"
   },
   "source": [
    "Verificando se há entradas duplicadas nos dados."
   ]
  },
  {
   "cell_type": "code",
   "execution_count": 9,
   "metadata": {
    "id": "CFFLc5AOZ7-x"
   },
   "outputs": [
    {
     "name": "stdout",
     "output_type": "stream",
     "text": [
      "Número de linhas com dados duplicadas: 5346\n"
     ]
    }
   ],
   "source": [
    "# Checando por duplicatas\n",
    "colunas_avaliacao = ['satisfaction_level', 'last_evaluation', 'number_of_projects', \n",
    "                     'average_monthly_hours', 'tenure', 'work_accident', \n",
    "                     'employee_left', 'promotion_last_5years', 'department', 'salary']\n",
    "\n",
    "duplicates = df0[df0.duplicated(subset=colunas_avaliacao, keep=False)]\n",
    "\n",
    "print(f\"Número de linhas com dados duplicadas: {len(duplicates)}\")"
   ]
  },
  {
   "cell_type": "code",
   "execution_count": 10,
   "metadata": {},
   "outputs": [
    {
     "data": {
      "text/html": [
       "<div>\n",
       "<style scoped>\n",
       "    .dataframe tbody tr th:only-of-type {\n",
       "        vertical-align: middle;\n",
       "    }\n",
       "\n",
       "    .dataframe tbody tr th {\n",
       "        vertical-align: top;\n",
       "    }\n",
       "\n",
       "    .dataframe thead th {\n",
       "        text-align: right;\n",
       "    }\n",
       "</style>\n",
       "<table border=\"1\" class=\"dataframe\">\n",
       "  <thead>\n",
       "    <tr style=\"text-align: right;\">\n",
       "      <th></th>\n",
       "      <th>satisfaction_level</th>\n",
       "      <th>last_evaluation</th>\n",
       "      <th>number_of_projects</th>\n",
       "      <th>average_monthly_hours</th>\n",
       "      <th>tenure</th>\n",
       "      <th>work_accident</th>\n",
       "      <th>employee_left</th>\n",
       "      <th>promotion_last_5years</th>\n",
       "      <th>department</th>\n",
       "      <th>salary</th>\n",
       "    </tr>\n",
       "  </thead>\n",
       "  <tbody>\n",
       "    <tr>\n",
       "      <th>30</th>\n",
       "      <td>0.09</td>\n",
       "      <td>0.62</td>\n",
       "      <td>6</td>\n",
       "      <td>294</td>\n",
       "      <td>4</td>\n",
       "      <td>0</td>\n",
       "      <td>1</td>\n",
       "      <td>0</td>\n",
       "      <td>accounting</td>\n",
       "      <td>low</td>\n",
       "    </tr>\n",
       "    <tr>\n",
       "      <th>12030</th>\n",
       "      <td>0.09</td>\n",
       "      <td>0.62</td>\n",
       "      <td>6</td>\n",
       "      <td>294</td>\n",
       "      <td>4</td>\n",
       "      <td>0</td>\n",
       "      <td>1</td>\n",
       "      <td>0</td>\n",
       "      <td>accounting</td>\n",
       "      <td>low</td>\n",
       "    </tr>\n",
       "    <tr>\n",
       "      <th>14241</th>\n",
       "      <td>0.09</td>\n",
       "      <td>0.62</td>\n",
       "      <td>6</td>\n",
       "      <td>294</td>\n",
       "      <td>4</td>\n",
       "      <td>0</td>\n",
       "      <td>1</td>\n",
       "      <td>0</td>\n",
       "      <td>accounting</td>\n",
       "      <td>low</td>\n",
       "    </tr>\n",
       "    <tr>\n",
       "      <th>71</th>\n",
       "      <td>0.09</td>\n",
       "      <td>0.77</td>\n",
       "      <td>5</td>\n",
       "      <td>275</td>\n",
       "      <td>4</td>\n",
       "      <td>0</td>\n",
       "      <td>1</td>\n",
       "      <td>0</td>\n",
       "      <td>product_mng</td>\n",
       "      <td>medium</td>\n",
       "    </tr>\n",
       "    <tr>\n",
       "      <th>12071</th>\n",
       "      <td>0.09</td>\n",
       "      <td>0.77</td>\n",
       "      <td>5</td>\n",
       "      <td>275</td>\n",
       "      <td>4</td>\n",
       "      <td>0</td>\n",
       "      <td>1</td>\n",
       "      <td>0</td>\n",
       "      <td>product_mng</td>\n",
       "      <td>medium</td>\n",
       "    </tr>\n",
       "    <tr>\n",
       "      <th>14282</th>\n",
       "      <td>0.09</td>\n",
       "      <td>0.77</td>\n",
       "      <td>5</td>\n",
       "      <td>275</td>\n",
       "      <td>4</td>\n",
       "      <td>0</td>\n",
       "      <td>1</td>\n",
       "      <td>0</td>\n",
       "      <td>product_mng</td>\n",
       "      <td>medium</td>\n",
       "    </tr>\n",
       "    <tr>\n",
       "      <th>652</th>\n",
       "      <td>0.09</td>\n",
       "      <td>0.77</td>\n",
       "      <td>6</td>\n",
       "      <td>290</td>\n",
       "      <td>4</td>\n",
       "      <td>0</td>\n",
       "      <td>1</td>\n",
       "      <td>0</td>\n",
       "      <td>technical</td>\n",
       "      <td>medium</td>\n",
       "    </tr>\n",
       "    <tr>\n",
       "      <th>12652</th>\n",
       "      <td>0.09</td>\n",
       "      <td>0.77</td>\n",
       "      <td>6</td>\n",
       "      <td>290</td>\n",
       "      <td>4</td>\n",
       "      <td>0</td>\n",
       "      <td>1</td>\n",
       "      <td>0</td>\n",
       "      <td>technical</td>\n",
       "      <td>medium</td>\n",
       "    </tr>\n",
       "    <tr>\n",
       "      <th>14863</th>\n",
       "      <td>0.09</td>\n",
       "      <td>0.77</td>\n",
       "      <td>6</td>\n",
       "      <td>290</td>\n",
       "      <td>4</td>\n",
       "      <td>0</td>\n",
       "      <td>1</td>\n",
       "      <td>0</td>\n",
       "      <td>technical</td>\n",
       "      <td>medium</td>\n",
       "    </tr>\n",
       "    <tr>\n",
       "      <th>278</th>\n",
       "      <td>0.09</td>\n",
       "      <td>0.78</td>\n",
       "      <td>6</td>\n",
       "      <td>254</td>\n",
       "      <td>4</td>\n",
       "      <td>0</td>\n",
       "      <td>1</td>\n",
       "      <td>0</td>\n",
       "      <td>support</td>\n",
       "      <td>low</td>\n",
       "    </tr>\n",
       "  </tbody>\n",
       "</table>\n",
       "</div>"
      ],
      "text/plain": [
       "       satisfaction_level  last_evaluation  number_of_projects  \\\n",
       "30                   0.09             0.62                   6   \n",
       "12030                0.09             0.62                   6   \n",
       "14241                0.09             0.62                   6   \n",
       "71                   0.09             0.77                   5   \n",
       "12071                0.09             0.77                   5   \n",
       "14282                0.09             0.77                   5   \n",
       "652                  0.09             0.77                   6   \n",
       "12652                0.09             0.77                   6   \n",
       "14863                0.09             0.77                   6   \n",
       "278                  0.09             0.78                   6   \n",
       "\n",
       "       average_monthly_hours  tenure  work_accident  employee_left  \\\n",
       "30                       294       4              0              1   \n",
       "12030                    294       4              0              1   \n",
       "14241                    294       4              0              1   \n",
       "71                       275       4              0              1   \n",
       "12071                    275       4              0              1   \n",
       "14282                    275       4              0              1   \n",
       "652                      290       4              0              1   \n",
       "12652                    290       4              0              1   \n",
       "14863                    290       4              0              1   \n",
       "278                      254       4              0              1   \n",
       "\n",
       "       promotion_last_5years   department  salary  \n",
       "30                         0   accounting     low  \n",
       "12030                      0   accounting     low  \n",
       "14241                      0   accounting     low  \n",
       "71                         0  product_mng  medium  \n",
       "12071                      0  product_mng  medium  \n",
       "14282                      0  product_mng  medium  \n",
       "652                        0    technical  medium  \n",
       "12652                      0    technical  medium  \n",
       "14863                      0    technical  medium  \n",
       "278                        0      support     low  "
      ]
     },
     "execution_count": 10,
     "metadata": {},
     "output_type": "execute_result"
    }
   ],
   "source": [
    "# Inspecionar algumas linhas\n",
    "duplicates_sorted = duplicates.sort_values(by=colunas_avaliacao)\n",
    "duplicates_sorted.head(10)"
   ]
  },
  {
   "cell_type": "code",
   "execution_count": 11,
   "metadata": {
    "id": "wCr34Rppdjay"
   },
   "outputs": [],
   "source": [
    "# Eliminando as duplicatas e salvando o dataframe resultante\n",
    "df0 = df0.drop_duplicates(subset=colunas_avaliacao, keep='first')"
   ]
  },
  {
   "cell_type": "code",
   "execution_count": 12,
   "metadata": {},
   "outputs": [
    {
     "name": "stdout",
     "output_type": "stream",
     "text": [
      "Número de linhas com dados duplicadas: 0\n"
     ]
    }
   ],
   "source": [
    "# Verificação de duplicatas\n",
    "colunas_avaliacao = ['satisfaction_level', 'last_evaluation', 'number_of_projects', \n",
    "                     'average_monthly_hours', 'tenure', 'work_accident', \n",
    "                     'employee_left', 'promotion_last_5years', 'department', 'salary']\n",
    "\n",
    "duplicates = df0[df0.duplicated(subset=colunas_avaliacao, keep=False)]\n",
    "\n",
    "print(f\"Número de linhas com dados duplicadas: {len(duplicates)}\")"
   ]
  },
  {
   "cell_type": "markdown",
   "metadata": {
    "id": "4knHIoTIFu83"
   },
   "source": [
    "### 5. Verificar outliers"
   ]
  },
  {
   "cell_type": "markdown",
   "metadata": {
    "id": "EaVx2fk8GC_m"
   },
   "source": [
    "Verificando se há valores discrepantes nos dados."
   ]
  },
  {
   "cell_type": "code",
   "execution_count": 13,
   "metadata": {},
   "outputs": [
    {
     "data": {
      "text/html": [
       "<div>\n",
       "<style scoped>\n",
       "    .dataframe tbody tr th:only-of-type {\n",
       "        vertical-align: middle;\n",
       "    }\n",
       "\n",
       "    .dataframe tbody tr th {\n",
       "        vertical-align: top;\n",
       "    }\n",
       "\n",
       "    .dataframe thead th {\n",
       "        text-align: right;\n",
       "    }\n",
       "</style>\n",
       "<table border=\"1\" class=\"dataframe\">\n",
       "  <thead>\n",
       "    <tr style=\"text-align: right;\">\n",
       "      <th></th>\n",
       "      <th>satisfaction_level</th>\n",
       "      <th>last_evaluation</th>\n",
       "      <th>number_of_projects</th>\n",
       "      <th>average_monthly_hours</th>\n",
       "      <th>tenure</th>\n",
       "      <th>work_accident</th>\n",
       "      <th>employee_left</th>\n",
       "      <th>promotion_last_5years</th>\n",
       "    </tr>\n",
       "  </thead>\n",
       "  <tbody>\n",
       "    <tr>\n",
       "      <th>count</th>\n",
       "      <td>11991.000000</td>\n",
       "      <td>11991.000000</td>\n",
       "      <td>11991.000000</td>\n",
       "      <td>11991.000000</td>\n",
       "      <td>11991.000000</td>\n",
       "      <td>11991.000000</td>\n",
       "      <td>11991.000000</td>\n",
       "      <td>11991.000000</td>\n",
       "    </tr>\n",
       "    <tr>\n",
       "      <th>mean</th>\n",
       "      <td>0.629658</td>\n",
       "      <td>0.716683</td>\n",
       "      <td>3.802852</td>\n",
       "      <td>200.473522</td>\n",
       "      <td>3.364857</td>\n",
       "      <td>0.154282</td>\n",
       "      <td>0.166041</td>\n",
       "      <td>0.016929</td>\n",
       "    </tr>\n",
       "    <tr>\n",
       "      <th>std</th>\n",
       "      <td>0.241070</td>\n",
       "      <td>0.168343</td>\n",
       "      <td>1.163238</td>\n",
       "      <td>48.727813</td>\n",
       "      <td>1.330240</td>\n",
       "      <td>0.361234</td>\n",
       "      <td>0.372133</td>\n",
       "      <td>0.129012</td>\n",
       "    </tr>\n",
       "    <tr>\n",
       "      <th>min</th>\n",
       "      <td>0.090000</td>\n",
       "      <td>0.360000</td>\n",
       "      <td>2.000000</td>\n",
       "      <td>96.000000</td>\n",
       "      <td>2.000000</td>\n",
       "      <td>0.000000</td>\n",
       "      <td>0.000000</td>\n",
       "      <td>0.000000</td>\n",
       "    </tr>\n",
       "    <tr>\n",
       "      <th>25%</th>\n",
       "      <td>0.480000</td>\n",
       "      <td>0.570000</td>\n",
       "      <td>3.000000</td>\n",
       "      <td>157.000000</td>\n",
       "      <td>3.000000</td>\n",
       "      <td>0.000000</td>\n",
       "      <td>0.000000</td>\n",
       "      <td>0.000000</td>\n",
       "    </tr>\n",
       "    <tr>\n",
       "      <th>50%</th>\n",
       "      <td>0.660000</td>\n",
       "      <td>0.720000</td>\n",
       "      <td>4.000000</td>\n",
       "      <td>200.000000</td>\n",
       "      <td>3.000000</td>\n",
       "      <td>0.000000</td>\n",
       "      <td>0.000000</td>\n",
       "      <td>0.000000</td>\n",
       "    </tr>\n",
       "    <tr>\n",
       "      <th>75%</th>\n",
       "      <td>0.820000</td>\n",
       "      <td>0.860000</td>\n",
       "      <td>5.000000</td>\n",
       "      <td>243.000000</td>\n",
       "      <td>4.000000</td>\n",
       "      <td>0.000000</td>\n",
       "      <td>0.000000</td>\n",
       "      <td>0.000000</td>\n",
       "    </tr>\n",
       "    <tr>\n",
       "      <th>max</th>\n",
       "      <td>1.000000</td>\n",
       "      <td>1.000000</td>\n",
       "      <td>7.000000</td>\n",
       "      <td>310.000000</td>\n",
       "      <td>10.000000</td>\n",
       "      <td>1.000000</td>\n",
       "      <td>1.000000</td>\n",
       "      <td>1.000000</td>\n",
       "    </tr>\n",
       "  </tbody>\n",
       "</table>\n",
       "</div>"
      ],
      "text/plain": [
       "       satisfaction_level  last_evaluation  number_of_projects  \\\n",
       "count        11991.000000     11991.000000        11991.000000   \n",
       "mean             0.629658         0.716683            3.802852   \n",
       "std              0.241070         0.168343            1.163238   \n",
       "min              0.090000         0.360000            2.000000   \n",
       "25%              0.480000         0.570000            3.000000   \n",
       "50%              0.660000         0.720000            4.000000   \n",
       "75%              0.820000         0.860000            5.000000   \n",
       "max              1.000000         1.000000            7.000000   \n",
       "\n",
       "       average_monthly_hours        tenure  work_accident  employee_left  \\\n",
       "count           11991.000000  11991.000000   11991.000000   11991.000000   \n",
       "mean              200.473522      3.364857       0.154282       0.166041   \n",
       "std                48.727813      1.330240       0.361234       0.372133   \n",
       "min                96.000000      2.000000       0.000000       0.000000   \n",
       "25%               157.000000      3.000000       0.000000       0.000000   \n",
       "50%               200.000000      3.000000       0.000000       0.000000   \n",
       "75%               243.000000      4.000000       0.000000       0.000000   \n",
       "max               310.000000     10.000000       1.000000       1.000000   \n",
       "\n",
       "       promotion_last_5years  \n",
       "count           11991.000000  \n",
       "mean                0.016929  \n",
       "std                 0.129012  \n",
       "min                 0.000000  \n",
       "25%                 0.000000  \n",
       "50%                 0.000000  \n",
       "75%                 0.000000  \n",
       "max                 1.000000  "
      ]
     },
     "execution_count": 13,
     "metadata": {},
     "output_type": "execute_result"
    }
   ],
   "source": [
    "# Estatísticas descritivas para dados numéricos\n",
    "df0.describe()"
   ]
  },
  {
   "cell_type": "markdown",
   "metadata": {},
   "source": [
    "**Colunas com Potenciais Outliers**  \n",
    "- **`average_monthly_hours` (média de horas mensais):**  \n",
    "  - **Mínimo:** 96 horas (~24 horas/semana)  \n",
    "  - **Máximo:** 310 horas (~77 horas/semana)  \n",
    "  - **Análise:** Valores extremamente baixos e altos em comparação à média (200,47 horas).  \n",
    "  - **Ação ideal:** Verificar se:  \n",
    "    - Funcionários com 96 horas estão em regime de meio período (não declarado nos dados).  \n",
    "    - Funcionários com 310 horas representam sobrecarga extrema ou erro de registro.  \n",
    "\n",
    "- **`tenure` (tempo na empresa):**  \n",
    "  - **Máximo:** 10 anos  \n",
    "  - **Média:** 3,36 anos | **75%:** 4 anos  \n",
    "  - **Análise:** Funcionários com 10 anos são raros (apenas 25% ultrapassam 4 anos).  \n",
    "  - **Ação ideal:** Validar se esses casos são reais (e.g., funcionários seniores).  \n",
    "\n",
    "\n",
    "**Colunas Sem Outliers Evidentes**  \n",
    "- **`satisfaction_level` (nível de satisfação):**  \n",
    "  - Variação entre 0,09 e 1,0, mas distribuída de forma plausível (média 0,63).  \n",
    "\n",
    "- **`number_of_projects` (número de projetos):**  \n",
    "  - Intervalo de 2 a 7 projetos, com mediana em 4. Valores condizem com cargas de trabalho típicas.  \n",
    "\n",
    "- **Variáveis Binárias (`work_accident`, `employee_left`, `promotion_last_5years`):**  \n",
    "  - Todas variam entre 0 e 1, conforme esperado.  \n",
    "\n",
    "---\n",
    "\n",
    "**Considerações Gerais**  \n",
    "  - Plotar histogramas ou boxplots para `average_monthly_hours` e `tenure` para visualizar distribuição.  \n",
    "  - Cruzar `average_monthly_hours` com `employee_left` para ver se horas extremas correlacionam-se com rotatividade.  "
   ]
  },
  {
   "cell_type": "code",
   "execution_count": 14,
   "metadata": {
    "id": "pilaGYgh4LHM"
   },
   "outputs": [
    {
     "data": {
      "image/png": "[encoded data removed]",
      "text/plain": [
       "<Figure size 360x72 with 1 Axes>"
      ]
     },
     "metadata": {
      "needs_background": "light"
     },
     "output_type": "display_data"
    }
   ],
   "source": [
    "# Create a boxplot to visualize distribution of `tenure` and detect any outliers\n",
    "plt.figure(figsize=(5,1))\n",
    "sns.boxplot(x=df0['tenure'], fliersize=1)\n",
    "plt.title('Tempo de permanência na empresa em anos');"
   ]
  },
  {
   "cell_type": "code",
   "execution_count": 15,
   "metadata": {},
   "outputs": [
    {
     "data": {
      "image/png": "[encoded data removed]",
      "text/plain": [
       "<Figure size 360x72 with 1 Axes>"
      ]
     },
     "metadata": {
      "needs_background": "light"
     },
     "output_type": "display_data"
    }
   ],
   "source": [
    "# Create a boxplot to visualize distribution of `average_monthly_hours`\n",
    "plt.figure(figsize=(5,1))\n",
    "sns.boxplot(x=df0['average_monthly_hours'], fliersize=1)\n",
    "plt.title('Número médio de horas trabalhadas pelo funcionário por mês');"
   ]
  },
  {
   "cell_type": "code",
   "execution_count": 16,
   "metadata": {},
   "outputs": [
    {
     "name": "stdout",
     "output_type": "stream",
     "text": [
      "Contagem absoluta:\n",
      "3     5190\n",
      "2     2910\n",
      "4     2005\n",
      "5     1062\n",
      "6      542\n",
      "10     107\n",
      "7       94\n",
      "8       81\n",
      "Name: tenure, dtype: int64\n",
      "\n",
      "Porcentagem:\n",
      "3     43.282462\n",
      "2     24.268201\n",
      "4     16.720874\n",
      "5      8.856642\n",
      "6      4.520057\n",
      "10     0.892336\n",
      "7      0.783921\n",
      "8      0.675507\n",
      "Name: tenure, dtype: float64\n"
     ]
    }
   ],
   "source": [
    "# Determine the number of rows containing outliers\n",
    "print(\"Contagem absoluta:\")\n",
    "print(df0['tenure'].value_counts())\n",
    "print(\"\\nPorcentagem:\")\n",
    "print(df0['tenure'].value_counts(normalize=True) * 100)"
   ]
  },
  {
   "cell_type": "markdown",
   "metadata": {},
   "source": [
    "---\n",
    "#### Filtrar o DataFrame para tenure"
   ]
  },
  {
   "cell_type": "code",
   "execution_count": 17,
   "metadata": {},
   "outputs": [
    {
     "data": {
      "text/plain": [
       "promotion_last_5years\n",
       "0    990\n",
       "1     80\n",
       "Name: tenure, dtype: int64"
      ]
     },
     "execution_count": 17,
     "metadata": {},
     "output_type": "execute_result"
    }
   ],
   "source": [
    "# Tenure de 10 anos, agrupar por promotion_last_5years:\n",
    "df0[df0['tenure'] == 10].groupby('promotion_last_5years')['tenure'].sum()"
   ]
  },
  {
   "cell_type": "code",
   "execution_count": 18,
   "metadata": {},
   "outputs": [
    {
     "data": {
      "text/plain": [
       "promotion_last_5years\n",
       "0    608\n",
       "1     40\n",
       "Name: tenure, dtype: int64"
      ]
     },
     "execution_count": 18,
     "metadata": {},
     "output_type": "execute_result"
    }
   ],
   "source": [
    "# Tenure de 8 anos, agrupar por promotion_last_5years:\n",
    "df0[df0['tenure'] == 8].groupby('promotion_last_5years')['tenure'].sum()"
   ]
  },
  {
   "cell_type": "code",
   "execution_count": 19,
   "metadata": {},
   "outputs": [
    {
     "data": {
      "text/plain": [
       "promotion_last_5years\n",
       "0    532\n",
       "1    126\n",
       "Name: tenure, dtype: int64"
      ]
     },
     "execution_count": 19,
     "metadata": {},
     "output_type": "execute_result"
    }
   ],
   "source": [
    "# Tenure de 7 anos, agrupar por promotion_last_5years:\n",
    "df0[df0['tenure'] == 7].groupby('promotion_last_5years')['tenure'].sum()"
   ]
  },
  {
   "cell_type": "markdown",
   "metadata": {},
   "source": [
    "**Contexto dos Dados**  \n",
    "Os funcionários com **7, 8 e 10 anos de empresa** apresentam:  \n",
    "- **Baixíssima taxa de promoção nos últimos 5 anos** (ex: apenas 80 promoções em 10 anos de *tenure*).  \n",
    "- **Representam menos de 3% do total de dados** (107 + 94 + 81 = 282 registros).  \n",
    "\n",
    "Isso sugere que:  \n",
    "- São casos atípicos (*outliers*) ou indicam problemas estruturais (e.g., estagnação de carreira).  \n",
    "- Podem ser funcionários em cargos especializados sem necessidade de promoção ou em situações específicas não capturadas nos dados.  \n",
    "\n",
    "**Conclusão**  \n",
    "Não irei remover os outliers ainda: \n",
    "  - A quantidade é pequena (<3%), e modelos de ensemble podem gerenciá-los.  \n",
    "  - Eles podem representar cenários reais de estagnação que impactam a rotatividade.  "
   ]
  },
  {
   "cell_type": "markdown",
   "metadata": {
    "id": "mA7Mz_SnI8km"
   },
   "source": [
    "# Analise"
   ]
  },
  {
   "cell_type": "markdown",
   "metadata": {
    "id": "KDcWrk57kao2"
   },
   "source": [
    "## Etapa 2. Exploração de dados"
   ]
  },
  {
   "cell_type": "markdown",
   "metadata": {},
   "source": [
    "### 6. Análise de variáveis"
   ]
  },
  {
   "cell_type": "code",
   "execution_count": 20,
   "metadata": {},
   "outputs": [
    {
     "data": {
      "text/html": [
       "<div>\n",
       "<style scoped>\n",
       "    .dataframe tbody tr th:only-of-type {\n",
       "        vertical-align: middle;\n",
       "    }\n",
       "\n",
       "    .dataframe tbody tr th {\n",
       "        vertical-align: top;\n",
       "    }\n",
       "\n",
       "    .dataframe thead th {\n",
       "        text-align: right;\n",
       "    }\n",
       "</style>\n",
       "<table border=\"1\" class=\"dataframe\">\n",
       "  <thead>\n",
       "    <tr style=\"text-align: right;\">\n",
       "      <th></th>\n",
       "      <th>satisfaction_level</th>\n",
       "      <th>last_evaluation</th>\n",
       "      <th>number_of_projects</th>\n",
       "      <th>average_monthly_hours</th>\n",
       "      <th>tenure</th>\n",
       "      <th>work_accident</th>\n",
       "      <th>employee_left</th>\n",
       "      <th>promotion_last_5years</th>\n",
       "      <th>department</th>\n",
       "      <th>salary</th>\n",
       "    </tr>\n",
       "  </thead>\n",
       "  <tbody>\n",
       "    <tr>\n",
       "      <th>0</th>\n",
       "      <td>0.38</td>\n",
       "      <td>0.53</td>\n",
       "      <td>2</td>\n",
       "      <td>157</td>\n",
       "      <td>3</td>\n",
       "      <td>0</td>\n",
       "      <td>1</td>\n",
       "      <td>0</td>\n",
       "      <td>sales</td>\n",
       "      <td>low</td>\n",
       "    </tr>\n",
       "    <tr>\n",
       "      <th>1</th>\n",
       "      <td>0.80</td>\n",
       "      <td>0.86</td>\n",
       "      <td>5</td>\n",
       "      <td>262</td>\n",
       "      <td>6</td>\n",
       "      <td>0</td>\n",
       "      <td>1</td>\n",
       "      <td>0</td>\n",
       "      <td>sales</td>\n",
       "      <td>medium</td>\n",
       "    </tr>\n",
       "    <tr>\n",
       "      <th>2</th>\n",
       "      <td>0.11</td>\n",
       "      <td>0.88</td>\n",
       "      <td>7</td>\n",
       "      <td>272</td>\n",
       "      <td>4</td>\n",
       "      <td>0</td>\n",
       "      <td>1</td>\n",
       "      <td>0</td>\n",
       "      <td>sales</td>\n",
       "      <td>medium</td>\n",
       "    </tr>\n",
       "    <tr>\n",
       "      <th>3</th>\n",
       "      <td>0.72</td>\n",
       "      <td>0.87</td>\n",
       "      <td>5</td>\n",
       "      <td>223</td>\n",
       "      <td>5</td>\n",
       "      <td>0</td>\n",
       "      <td>1</td>\n",
       "      <td>0</td>\n",
       "      <td>sales</td>\n",
       "      <td>low</td>\n",
       "    </tr>\n",
       "    <tr>\n",
       "      <th>4</th>\n",
       "      <td>0.37</td>\n",
       "      <td>0.52</td>\n",
       "      <td>2</td>\n",
       "      <td>159</td>\n",
       "      <td>3</td>\n",
       "      <td>0</td>\n",
       "      <td>1</td>\n",
       "      <td>0</td>\n",
       "      <td>sales</td>\n",
       "      <td>low</td>\n",
       "    </tr>\n",
       "  </tbody>\n",
       "</table>\n",
       "</div>"
      ],
      "text/plain": [
       "   satisfaction_level  last_evaluation  number_of_projects  \\\n",
       "0                0.38             0.53                   2   \n",
       "1                0.80             0.86                   5   \n",
       "2                0.11             0.88                   7   \n",
       "3                0.72             0.87                   5   \n",
       "4                0.37             0.52                   2   \n",
       "\n",
       "   average_monthly_hours  tenure  work_accident  employee_left  \\\n",
       "0                    157       3              0              1   \n",
       "1                    262       6              0              1   \n",
       "2                    272       4              0              1   \n",
       "3                    223       5              0              1   \n",
       "4                    159       3              0              1   \n",
       "\n",
       "   promotion_last_5years department  salary  \n",
       "0                      0      sales     low  \n",
       "1                      0      sales  medium  \n",
       "2                      0      sales  medium  \n",
       "3                      0      sales     low  \n",
       "4                      0      sales     low  "
      ]
     },
     "execution_count": 20,
     "metadata": {},
     "output_type": "execute_result"
    }
   ],
   "source": [
    "df0.head()"
   ]
  },
  {
   "cell_type": "markdown",
   "metadata": {},
   "source": [
    "---\n",
    "### Porcentagens de employee_left\n",
    "\n",
    "Primeiro entender  quantos funcionários saíram e qual porcentagem de todos os funcionários esse número representa."
   ]
  },
  {
   "cell_type": "code",
   "execution_count": 21,
   "metadata": {},
   "outputs": [
    {
     "name": "stdout",
     "output_type": "stream",
     "text": [
      "Contagem absoluta:\n",
      "0    10000\n",
      "1     1991\n",
      "Name: employee_left, dtype: int64\n",
      "\n",
      "Porcentagem:\n",
      "0    83.0\n",
      "1    17.0\n",
      "Name: employee_left, dtype: float64 2\n"
     ]
    }
   ],
   "source": [
    "# Get numbers of people who left vs. stayed\n",
    "print(\"Contagem absoluta:\")\n",
    "print(df0['employee_left'].value_counts())\n",
    "\n",
    "# Get percentages of people who left vs. stayed\n",
    "print(\"\\nPorcentagem:\")\n",
    "print(round(df0['employee_left'].value_counts(normalize=True) * 100),2)\n"
   ]
  },
  {
   "cell_type": "code",
   "execution_count": 22,
   "metadata": {},
   "outputs": [
    {
     "data": {
      "image/png": "[encoded data removed]",
      "text/plain": [
       "<Figure size 576x576 with 1 Axes>"
      ]
     },
     "metadata": {},
     "output_type": "display_data"
    }
   ],
   "source": [
    "# Gráfico da distribuição da Variável Target\n",
    "\n",
    "# Definindo cores personalizadas para as fatias\n",
    "colors = ['#2e6f8e', '#bddf26'] \n",
    "\n",
    "# Gráfico de pizza\n",
    "plt.figure(figsize=(8, 8))\n",
    "df0['employee_left'].value_counts().plot(kind='pie', autopct='%1.1f%%', colors=colors)\n",
    "\n",
    "# Adicionando título e legenda\n",
    "plt.title('Distribuição da Variável Target')\n",
    "plt.legend(title='employee_left', loc='upper left')\n",
    "\n",
    "plt.show()"
   ]
  },
  {
   "cell_type": "markdown",
   "metadata": {},
   "source": [
    "Esse é um conjunto de dados desequilibrado, mas não extremamente. "
   ]
  },
  {
   "cell_type": "code",
   "execution_count": 23,
   "metadata": {},
   "outputs": [
    {
     "data": {
      "image/png": "[encoded data removed]",
      "text/plain": [
       "<Figure size 864x432 with 1 Axes>"
      ]
     },
     "metadata": {
      "needs_background": "light"
     },
     "output_type": "display_data"
    }
   ],
   "source": [
    "# Calcular a taxa de saída por departamento\n",
    "exit_rates = df0.groupby('department')['employee_left'].mean().sort_values()\n",
    "\n",
    "# Criar gráfico de barras\n",
    "plt.figure(figsize=(12, 6))\n",
    "sns.barplot(x=exit_rates.index, y=exit_rates.values, palette='viridis')\n",
    "plt.xticks(rotation=45)\n",
    "plt.ylabel('Taxa de Saída (%)')\n",
    "plt.title('Taxa de Saída por Departamento')\n",
    "\n",
    "plt.show()"
   ]
  },
  {
   "cell_type": "markdown",
   "metadata": {},
   "source": [
    "---\n",
    "### Tenure\n",
    "\n",
    "Checando o tempo de funcionarios na companhia em relação a algumas matricas."
   ]
  },
  {
   "cell_type": "markdown",
   "metadata": {},
   "source": [
    "#### vs. Department"
   ]
  },
  {
   "cell_type": "code",
   "execution_count": 24,
   "metadata": {
    "id": "Qf0VbjX8-DBQ"
   },
   "outputs": [
    {
     "data": {
      "image/png": "[encoded data removed]",
      "text/plain": [
       "<Figure size 864x432 with 1 Axes>"
      ]
     },
     "metadata": {
      "needs_background": "light"
     },
     "output_type": "display_data"
    }
   ],
   "source": [
    "# Distribuição de tenure por departamento\n",
    "plt.figure(figsize=(12, 6))\n",
    "sns.boxplot(x='department', y='tenure', data=df0, palette='viridis')\n",
    "plt.xticks(rotation=45)\n",
    "plt.title('Tempo de Permanência por Departamento')\n",
    "plt.show()"
   ]
  },
  {
   "cell_type": "markdown",
   "metadata": {},
   "source": [
    "**Padrão de Outliers em Todos os Departamentos:**  \n",
    "   - O gráfico mostra que cada departamento tem funcionários com tempos de permanência que são considerados outliers (pontos acima dos limites do boxplot).  \n",
    "   - Isso pode indicar que há um pequeno grupo de funcionários que ficam muito mais tempo na empresa do que a maioria, o que pode estar relacionado a cargos de liderança ou funções especializadas.\n",
    "\n",
    "**HR e Support com Padrão Diferente**  \n",
    "   - Comparando com os outros departamentos, HR e Support parecem ter medianas ligeiramente menores e distribuições diferentes. Possíveis razões:  \n",
    "     - Esses departamentos podem ter maior rotatividade de funcionários.    \n",
    "     - O trabalho nessas áreas pode envolver mais posições de entrada (entry-level), o que significa que funcionários tendem a mudar de função ou sair da empresa mais rapidamente."
   ]
  },
  {
   "cell_type": "markdown",
   "metadata": {},
   "source": [
    "#### vs. Satisfaction\n",
    "\n",
    "O gráfico de linha mostra a variação da satisfação ao longo do tempo de permanência."
   ]
  },
  {
   "cell_type": "code",
   "execution_count": 25,
   "metadata": {},
   "outputs": [
    {
     "data": {
      "image/png": "[encoded data removed]",
      "text/plain": [
       "<Figure size 864x360 with 1 Axes>"
      ]
     },
     "metadata": {
      "needs_background": "light"
     },
     "output_type": "display_data"
    }
   ],
   "source": [
    "# Agrupar por tempo de permanência e calcular a média de satisfação\n",
    "df_avg = df0.groupby('tenure')['satisfaction_level'].mean().reset_index()\n",
    "\n",
    "# Criar gráfico de linha\n",
    "plt.figure(figsize=(12, 5))\n",
    "sns.lineplot(x='tenure', y='satisfaction_level', data=df_avg, marker='o', color='g')\n",
    "\n",
    "# Configurações do gráfico\n",
    "plt.title('Média de Satisfação ao Longo do Tempo de Permanência')\n",
    "plt.xlabel('Tempo de Permanência (anos)')\n",
    "plt.ylabel('Nível Médio de Satisfação')\n",
    "plt.xticks(df_avg['tenure'])  # Garantir que os rótulos do eixo X correspondam aos anos disponíveis\n",
    "\n",
    "plt.show()"
   ]
  },
  {
   "cell_type": "markdown",
   "metadata": {},
   "source": [
    "#### vs. Salary\n",
    "\n",
    "Analisando a diferença salarial entre os funcionários com diferentes tempo na empresa."
   ]
  },
  {
   "cell_type": "code",
   "execution_count": 26,
   "metadata": {},
   "outputs": [
    {
     "data": {
      "text/html": [
       "<style type=\"text/css\">\n",
       "#T_6e113_row0_col0 {\n",
       "  background-color: #e1f3dc;\n",
       "  color: #000000;\n",
       "}\n",
       "#T_6e113_row0_col1 {\n",
       "  background-color: #03702e;\n",
       "  color: #f1f1f1;\n",
       "}\n",
       "#T_6e113_row0_col2, #T_6e113_row7_col2 {\n",
       "  background-color: #eff9eb;\n",
       "  color: #000000;\n",
       "}\n",
       "#T_6e113_row1_col0 {\n",
       "  background-color: #e7f6e3;\n",
       "  color: #000000;\n",
       "}\n",
       "#T_6e113_row1_col1 {\n",
       "  background-color: #006428;\n",
       "  color: #f1f1f1;\n",
       "}\n",
       "#T_6e113_row1_col2, #T_6e113_row2_col2 {\n",
       "  background-color: #f3faf0;\n",
       "  color: #000000;\n",
       "}\n",
       "#T_6e113_row2_col0 {\n",
       "  background-color: #ebf7e7;\n",
       "  color: #000000;\n",
       "}\n",
       "#T_6e113_row2_col1 {\n",
       "  background-color: #005e26;\n",
       "  color: #f1f1f1;\n",
       "}\n",
       "#T_6e113_row3_col0, #T_6e113_row3_col2, #T_6e113_row5_col1 {\n",
       "  background-color: #f7fcf5;\n",
       "  color: #000000;\n",
       "}\n",
       "#T_6e113_row3_col1, #T_6e113_row5_col2, #T_6e113_row7_col0 {\n",
       "  background-color: #00441b;\n",
       "  color: #f1f1f1;\n",
       "}\n",
       "#T_6e113_row4_col0 {\n",
       "  background-color: #e5f5e0;\n",
       "  color: #000000;\n",
       "}\n",
       "#T_6e113_row4_col1 {\n",
       "  background-color: #258d47;\n",
       "  color: #f1f1f1;\n",
       "}\n",
       "#T_6e113_row4_col2 {\n",
       "  background-color: #b8e3b2;\n",
       "  color: #000000;\n",
       "}\n",
       "#T_6e113_row5_col0 {\n",
       "  background-color: #4aaf61;\n",
       "  color: #f1f1f1;\n",
       "}\n",
       "#T_6e113_row6_col0 {\n",
       "  background-color: #cbebc5;\n",
       "  color: #000000;\n",
       "}\n",
       "#T_6e113_row6_col1 {\n",
       "  background-color: #60ba6c;\n",
       "  color: #f1f1f1;\n",
       "}\n",
       "#T_6e113_row6_col2 {\n",
       "  background-color: #72c375;\n",
       "  color: #000000;\n",
       "}\n",
       "#T_6e113_row7_col1 {\n",
       "  background-color: #cfecc9;\n",
       "  color: #000000;\n",
       "}\n",
       "</style>\n",
       "<table id=\"T_6e113_\">\n",
       "  <thead>\n",
       "    <tr>\n",
       "      <th class=\"index_name level0\" >salary</th>\n",
       "      <th class=\"col_heading level0 col0\" >high</th>\n",
       "      <th class=\"col_heading level0 col1\" >low</th>\n",
       "      <th class=\"col_heading level0 col2\" >medium</th>\n",
       "    </tr>\n",
       "    <tr>\n",
       "      <th class=\"index_name level0\" >tenure</th>\n",
       "      <th class=\"blank col0\" >&nbsp;</th>\n",
       "      <th class=\"blank col1\" >&nbsp;</th>\n",
       "      <th class=\"blank col2\" >&nbsp;</th>\n",
       "    </tr>\n",
       "  </thead>\n",
       "  <tbody>\n",
       "    <tr>\n",
       "      <th id=\"T_6e113_level0_row0\" class=\"row_heading level0 row0\" >2</th>\n",
       "      <td id=\"T_6e113_row0_col0\" class=\"data row0 col0\" >8.87</td>\n",
       "      <td id=\"T_6e113_row0_col1\" class=\"data row0 col1\" >47.22</td>\n",
       "      <td id=\"T_6e113_row0_col2\" class=\"data row0 col2\" >43.92</td>\n",
       "    </tr>\n",
       "    <tr>\n",
       "      <th id=\"T_6e113_level0_row1\" class=\"row_heading level0 row1\" >3</th>\n",
       "      <td id=\"T_6e113_row1_col0\" class=\"data row1 col0\" >8.07</td>\n",
       "      <td id=\"T_6e113_row1_col1\" class=\"data row1 col1\" >48.54</td>\n",
       "      <td id=\"T_6e113_row1_col2\" class=\"data row1 col2\" >43.39</td>\n",
       "    </tr>\n",
       "    <tr>\n",
       "      <th id=\"T_6e113_level0_row2\" class=\"row_heading level0 row2\" >4</th>\n",
       "      <td id=\"T_6e113_row2_col0\" class=\"data row2 col0\" >7.48</td>\n",
       "      <td id=\"T_6e113_row2_col1\" class=\"data row2 col1\" >49.18</td>\n",
       "      <td id=\"T_6e113_row2_col2\" class=\"data row2 col2\" >43.34</td>\n",
       "    </tr>\n",
       "    <tr>\n",
       "      <th id=\"T_6e113_level0_row3\" class=\"row_heading level0 row3\" >5</th>\n",
       "      <td id=\"T_6e113_row3_col0\" class=\"data row3 col0\" >5.37</td>\n",
       "      <td id=\"T_6e113_row3_col1\" class=\"data row3 col1\" >51.79</td>\n",
       "      <td id=\"T_6e113_row3_col2\" class=\"data row3 col2\" >42.84</td>\n",
       "    </tr>\n",
       "    <tr>\n",
       "      <th id=\"T_6e113_level0_row4\" class=\"row_heading level0 row4\" >6</th>\n",
       "      <td id=\"T_6e113_row4_col0\" class=\"data row4 col0\" >8.49</td>\n",
       "      <td id=\"T_6e113_row4_col1\" class=\"data row4 col1\" >43.36</td>\n",
       "      <td id=\"T_6e113_row4_col2\" class=\"data row4 col2\" >48.15</td>\n",
       "    </tr>\n",
       "    <tr>\n",
       "      <th id=\"T_6e113_level0_row5\" class=\"row_heading level0 row5\" >7</th>\n",
       "      <td id=\"T_6e113_row5_col0\" class=\"data row5 col0\" >20.21</td>\n",
       "      <td id=\"T_6e113_row5_col1\" class=\"data row5 col1\" >19.15</td>\n",
       "      <td id=\"T_6e113_row5_col2\" class=\"data row5 col2\" >60.64</td>\n",
       "    </tr>\n",
       "    <tr>\n",
       "      <th id=\"T_6e113_level0_row6\" class=\"row_heading level0 row6\" >8</th>\n",
       "      <td id=\"T_6e113_row6_col0\" class=\"data row6 col0\" >11.11</td>\n",
       "      <td id=\"T_6e113_row6_col1\" class=\"data row6 col1\" >37.04</td>\n",
       "      <td id=\"T_6e113_row6_col2\" class=\"data row6 col2\" >51.85</td>\n",
       "    </tr>\n",
       "    <tr>\n",
       "      <th id=\"T_6e113_level0_row7\" class=\"row_heading level0 row7\" >10</th>\n",
       "      <td id=\"T_6e113_row7_col0\" class=\"data row7 col0\" >29.91</td>\n",
       "      <td id=\"T_6e113_row7_col1\" class=\"data row7 col1\" >26.17</td>\n",
       "      <td id=\"T_6e113_row7_col2\" class=\"data row7 col2\" >43.93</td>\n",
       "    </tr>\n",
       "  </tbody>\n",
       "</table>\n"
      ],
      "text/plain": [
       "<pandas.io.formats.style.Styler at 0x736b5575a7d0>"
      ]
     },
     "execution_count": 26,
     "metadata": {},
     "output_type": "execute_result"
    }
   ],
   "source": [
    "# Porcentagem de cada categoria salarial por tempo de empresa\n",
    "cross_tab = pd.crosstab(df0['tenure'], df0['salary'], normalize='index') * 100\n",
    "cross_tab = cross_tab.round(2)  # Arredonda os valores\n",
    "cross_tab.style.format(\"{:.2f}\").background_gradient(cmap='Greens')  # Formata para exibição correta"
   ]
  },
  {
   "cell_type": "markdown",
   "metadata": {},
   "source": [
    "- Funcionários com **5 anos** de empresa têm a **média mais baixa de satisfação** (0.55).  \n",
    "- A proporção de salários **baixos** aumenta progressivamente entre 2 e 5 anos.  \n",
    "- Apenas ~5-8% dos funcionários nessa faixa recebem salários altos.  \n",
    "\n",
    "**Correlação:**\n",
    "- Funcionários com **2-5 anos** de empresa:  \n",
    "  - **Salários baixos predominam** (47-52%).  \n",
    "  - **Satisfação cai drasticamente** (de 0.65 para 0.55).  \n",
    "\n",
    "Isso sugere que a **estagnação salarial** é um fator-chave para a insatisfação e possível rotatividade.  "
   ]
  },
  {
   "cell_type": "markdown",
   "metadata": {},
   "source": [
    "---\n",
    "### Department"
   ]
  },
  {
   "cell_type": "markdown",
   "metadata": {},
   "source": [
    "#### vs. Satisfaction\n",
    "\n",
    "O gráfico de linha mostra a variação da satisfação por departamento."
   ]
  },
  {
   "cell_type": "code",
   "execution_count": 27,
   "metadata": {},
   "outputs": [
    {
     "data": {
      "image/png": "[encoded data removed]",
      "text/plain": [
       "<Figure size 1008x432 with 1 Axes>"
      ]
     },
     "metadata": {
      "needs_background": "light"
     },
     "output_type": "display_data"
    }
   ],
   "source": [
    "plt.figure(figsize=(14, 6))\n",
    "\n",
    "# Calcular médias por departamento e ordenar\n",
    "department_satisfaction = df0.groupby('department')['satisfaction_level'].mean().sort_values()\n",
    "\n",
    "# Criar gráfico de linha\n",
    "sns.lineplot(x=department_satisfaction.index, \n",
    "             y=department_satisfaction.values, \n",
    "             marker='o',\n",
    "             markersize=8,\n",
    "             linewidth=2,\n",
    "             color='#2ecc71')\n",
    "\n",
    "# Linha de referência da média global\n",
    "plt.axhline(y=df0['satisfaction_level'].mean(), \n",
    "            color='#e74c3c', \n",
    "            linestyle='--', \n",
    "            label=f'Média Global ({df0[\"satisfaction_level\"].mean():.2f})')\n",
    "\n",
    "# Personalização\n",
    "plt.title('Nível Médio de Satisfação por Departamento (Ordenado)', fontsize=14, pad=20)\n",
    "plt.xlabel('Departamento', fontsize=12)\n",
    "plt.ylabel('Satisfação Média', fontsize=12)\n",
    "plt.xticks(rotation=45, ha='right')\n",
    "plt.ylim(0.5, 0.75)  # Foco na variação relevante\n",
    "plt.grid(axis='y', alpha=0.3)\n",
    "plt.legend()\n",
    "\n",
    "# Adicionar valores nos pontos\n",
    "for x, y in zip(department_satisfaction.index, department_satisfaction.values):\n",
    "    plt.text(x, y+0.005, f'{y:.2f}', ha='center', fontsize=10)\n",
    "\n",
    "plt.tight_layout()\n",
    "plt.show()"
   ]
  },
  {
   "cell_type": "markdown",
   "metadata": {},
   "source": [
    "A satisfação parece relativamente uniforme entre os departamentos."
   ]
  },
  {
   "cell_type": "markdown",
   "metadata": {},
   "source": [
    "#### vs. Salary"
   ]
  },
  {
   "cell_type": "code",
   "execution_count": 28,
   "metadata": {
    "scrolled": true
   },
   "outputs": [
    {
     "data": {
      "text/html": [
       "<style type=\"text/css\">\n",
       "#T_aadff_row0_col0, #T_aadff_row7_col0 {\n",
       "  background-color: #f1faee;\n",
       "  color: #000000;\n",
       "}\n",
       "#T_aadff_row0_col1 {\n",
       "  background-color: #006529;\n",
       "  color: #f1f1f1;\n",
       "}\n",
       "#T_aadff_row0_col2 {\n",
       "  background-color: #3da65a;\n",
       "  color: #f1f1f1;\n",
       "}\n",
       "#T_aadff_row1_col0 {\n",
       "  background-color: #f5fbf2;\n",
       "  color: #000000;\n",
       "}\n",
       "#T_aadff_row1_col1 {\n",
       "  background-color: #1d8640;\n",
       "  color: #f1f1f1;\n",
       "}\n",
       "#T_aadff_row1_col2, #T_aadff_row4_col0, #T_aadff_row9_col1 {\n",
       "  background-color: #00441b;\n",
       "  color: #f1f1f1;\n",
       "}\n",
       "#T_aadff_row2_col0 {\n",
       "  background-color: #dbf1d6;\n",
       "  color: #000000;\n",
       "}\n",
       "#T_aadff_row2_col1 {\n",
       "  background-color: #0a7633;\n",
       "  color: #f1f1f1;\n",
       "}\n",
       "#T_aadff_row2_col2 {\n",
       "  background-color: #90d18d;\n",
       "  color: #000000;\n",
       "}\n",
       "#T_aadff_row3_col0, #T_aadff_row4_col1, #T_aadff_row4_col2 {\n",
       "  background-color: #f7fcf5;\n",
       "  color: #000000;\n",
       "}\n",
       "#T_aadff_row3_col1 {\n",
       "  background-color: #005c25;\n",
       "  color: #f1f1f1;\n",
       "}\n",
       "#T_aadff_row3_col2 {\n",
       "  background-color: #2f974e;\n",
       "  color: #f1f1f1;\n",
       "}\n",
       "#T_aadff_row5_col0 {\n",
       "  background-color: #e5f5e0;\n",
       "  color: #000000;\n",
       "}\n",
       "#T_aadff_row5_col1 {\n",
       "  background-color: #228a44;\n",
       "  color: #f1f1f1;\n",
       "}\n",
       "#T_aadff_row5_col2, #T_aadff_row7_col2 {\n",
       "  background-color: #258d47;\n",
       "  color: #f1f1f1;\n",
       "}\n",
       "#T_aadff_row6_col0 {\n",
       "  background-color: #f0f9ec;\n",
       "  color: #000000;\n",
       "}\n",
       "#T_aadff_row6_col1 {\n",
       "  background-color: #005020;\n",
       "  color: #f1f1f1;\n",
       "}\n",
       "#T_aadff_row6_col2 {\n",
       "  background-color: #84cc83;\n",
       "  color: #000000;\n",
       "}\n",
       "#T_aadff_row7_col1 {\n",
       "  background-color: #067230;\n",
       "  color: #f1f1f1;\n",
       "}\n",
       "#T_aadff_row8_col0 {\n",
       "  background-color: #f4fbf1;\n",
       "  color: #000000;\n",
       "}\n",
       "#T_aadff_row8_col1 {\n",
       "  background-color: #0b7734;\n",
       "  color: #f1f1f1;\n",
       "}\n",
       "#T_aadff_row8_col2 {\n",
       "  background-color: #0c7735;\n",
       "  color: #f1f1f1;\n",
       "}\n",
       "#T_aadff_row9_col0 {\n",
       "  background-color: #f0f9ed;\n",
       "  color: #000000;\n",
       "}\n",
       "#T_aadff_row9_col2 {\n",
       "  background-color: #9cd797;\n",
       "  color: #000000;\n",
       "}\n",
       "</style>\n",
       "<table id=\"T_aadff_\">\n",
       "  <thead>\n",
       "    <tr>\n",
       "      <th class=\"index_name level0\" >salary</th>\n",
       "      <th class=\"col_heading level0 col0\" >high</th>\n",
       "      <th class=\"col_heading level0 col1\" >low</th>\n",
       "      <th class=\"col_heading level0 col2\" >medium</th>\n",
       "    </tr>\n",
       "    <tr>\n",
       "      <th class=\"index_name level0\" >department</th>\n",
       "      <th class=\"blank col0\" >&nbsp;</th>\n",
       "      <th class=\"blank col1\" >&nbsp;</th>\n",
       "      <th class=\"blank col2\" >&nbsp;</th>\n",
       "    </tr>\n",
       "  </thead>\n",
       "  <tbody>\n",
       "    <tr>\n",
       "      <th id=\"T_aadff_level0_row0\" class=\"row_heading level0 row0\" >IT</th>\n",
       "      <td id=\"T_aadff_row0_col0\" class=\"data row0 col0\" >7.27</td>\n",
       "      <td id=\"T_aadff_row0_col1\" class=\"data row0 col1\" >48.77</td>\n",
       "      <td id=\"T_aadff_row0_col2\" class=\"data row0 col2\" >43.95</td>\n",
       "    </tr>\n",
       "    <tr>\n",
       "      <th id=\"T_aadff_level0_row1\" class=\"row_heading level0 row1\" >RandD</th>\n",
       "      <td id=\"T_aadff_row1_col0\" class=\"data row1 col0\" >6.77</td>\n",
       "      <td id=\"T_aadff_row1_col1\" class=\"data row1 col1\" >46.40</td>\n",
       "      <td id=\"T_aadff_row1_col2\" class=\"data row1 col2\" >46.83</td>\n",
       "    </tr>\n",
       "    <tr>\n",
       "      <th id=\"T_aadff_level0_row2\" class=\"row_heading level0 row2\" >accounting</th>\n",
       "      <td id=\"T_aadff_row2_col0\" class=\"data row2 col0\" >10.14</td>\n",
       "      <td id=\"T_aadff_row2_col1\" class=\"data row2 col1\" >47.67</td>\n",
       "      <td id=\"T_aadff_row2_col2\" class=\"data row2 col2\" >42.19</td>\n",
       "    </tr>\n",
       "    <tr>\n",
       "      <th id=\"T_aadff_level0_row3\" class=\"row_heading level0 row3\" >hr</th>\n",
       "      <td id=\"T_aadff_row3_col0\" class=\"data row3 col0\" >6.32</td>\n",
       "      <td id=\"T_aadff_row3_col1\" class=\"data row3 col1\" >49.25</td>\n",
       "      <td id=\"T_aadff_row3_col2\" class=\"data row3 col2\" >44.43</td>\n",
       "    </tr>\n",
       "    <tr>\n",
       "      <th id=\"T_aadff_level0_row4\" class=\"row_heading level0 row4\" >management</th>\n",
       "      <td id=\"T_aadff_row4_col0\" class=\"data row4 col0\" >29.36</td>\n",
       "      <td id=\"T_aadff_row4_col1\" class=\"data row4 col1\" >31.88</td>\n",
       "      <td id=\"T_aadff_row4_col2\" class=\"data row4 col2\" >38.76</td>\n",
       "    </tr>\n",
       "    <tr>\n",
       "      <th id=\"T_aadff_level0_row5\" class=\"row_heading level0 row5\" >marketing</th>\n",
       "      <td id=\"T_aadff_row5_col0\" class=\"data row5 col0\" >9.21</td>\n",
       "      <td id=\"T_aadff_row5_col1\" class=\"data row5 col1\" >46.06</td>\n",
       "      <td id=\"T_aadff_row5_col2\" class=\"data row5 col2\" >44.73</td>\n",
       "    </tr>\n",
       "    <tr>\n",
       "      <th id=\"T_aadff_level0_row6\" class=\"row_heading level0 row6\" >product_mng</th>\n",
       "      <td id=\"T_aadff_row6_col0\" class=\"data row6 col0\" >7.58</td>\n",
       "      <td id=\"T_aadff_row6_col1\" class=\"data row6 col1\" >50.00</td>\n",
       "      <td id=\"T_aadff_row6_col2\" class=\"data row6 col2\" >42.42</td>\n",
       "    </tr>\n",
       "    <tr>\n",
       "      <th id=\"T_aadff_level0_row7\" class=\"row_heading level0 row7\" >sales</th>\n",
       "      <td id=\"T_aadff_row7_col0\" class=\"data row7 col0\" >7.32</td>\n",
       "      <td id=\"T_aadff_row7_col1\" class=\"data row7 col1\" >47.95</td>\n",
       "      <td id=\"T_aadff_row7_col2\" class=\"data row7 col2\" >44.74</td>\n",
       "    </tr>\n",
       "    <tr>\n",
       "      <th id=\"T_aadff_level0_row8\" class=\"row_heading level0 row8\" >support</th>\n",
       "      <td id=\"T_aadff_row8_col0\" class=\"data row8 col0\" >6.92</td>\n",
       "      <td id=\"T_aadff_row8_col1\" class=\"data row8 col1\" >47.61</td>\n",
       "      <td id=\"T_aadff_row8_col2\" class=\"data row8 col2\" >45.47</td>\n",
       "    </tr>\n",
       "    <tr>\n",
       "      <th id=\"T_aadff_level0_row9\" class=\"row_heading level0 row9\" >technical</th>\n",
       "      <td id=\"T_aadff_row9_col0\" class=\"data row9 col0\" >7.40</td>\n",
       "      <td id=\"T_aadff_row9_col1\" class=\"data row9 col1\" >50.71</td>\n",
       "      <td id=\"T_aadff_row9_col2\" class=\"data row9 col2\" >41.89</td>\n",
       "    </tr>\n",
       "  </tbody>\n",
       "</table>\n"
      ],
      "text/plain": [
       "<pandas.io.formats.style.Styler at 0x736b6a561410>"
      ]
     },
     "execution_count": 28,
     "metadata": {},
     "output_type": "execute_result"
    }
   ],
   "source": [
    "# Porcentagem de cada categoria salarial por departamento\n",
    "cross_tab = pd.crosstab(df0['department'], df0['salary'], normalize='index') * 100\n",
    "cross_tab = cross_tab.round(2)  # Arredonda os valores\n",
    "cross_tab.style.format(\"{:.2f}\").background_gradient(cmap='Greens')  # Formata para exibição correta"
   ]
  },
  {
   "cell_type": "markdown",
   "metadata": {},
   "source": [
    "#### vs. Average monthly hours"
   ]
  },
  {
   "cell_type": "code",
   "execution_count": 29,
   "metadata": {},
   "outputs": [
    {
     "name": "stdout",
     "output_type": "stream",
     "text": [
      "  Departamentos  Média de horas mensais\n",
      "0    management                 201.530\n",
      "1         RandD                 201.291\n",
      "2     technical                 201.115\n",
      "3    accounting                 200.878\n",
      "4            IT                 200.638\n",
      "5       support                 200.627\n",
      "6         sales                 200.242\n",
      "7     marketing                 199.487\n",
      "8            hr                 199.371\n",
      "9   product_mng                 198.894\n"
     ]
    }
   ],
   "source": [
    "# Calcular médias e ordenar departamentos\n",
    "resultado = (df0.groupby('department')['average_monthly_hours']\n",
    "    .mean()\n",
    "    .sort_values(ascending=False)\n",
    "    .reset_index()\n",
    "    .round(3)\n",
    ")\n",
    "resultado.columns = ['Departamentos', 'Média de horas mensais']\n",
    "print(resultado)"
   ]
  },
  {
   "cell_type": "markdown",
   "metadata": {},
   "source": [
    "A relativa uniformidade entre as variáveis `average_monthly_hours`, `salary` e `satisfaction_level` sugere que os fatores críticos para a rotatividade vão além das diferenças entre departamentos."
   ]
  },
  {
   "cell_type": "markdown",
   "metadata": {
    "id": "F8HlhjMy9X3A"
   },
   "source": [
    "---\n",
    "### Satisfaction Level "
   ]
  },
  {
   "cell_type": "markdown",
   "metadata": {},
   "source": [
    "#### vs. Average Monthly Hours\n",
    "\n",
    "Identificar se funcionários sobrecarregados têm menor satisfação."
   ]
  },
  {
   "cell_type": "code",
   "execution_count": 30,
   "metadata": {
    "id": "NUyBruMee-EI"
   },
   "outputs": [
    {
     "name": "stdout",
     "output_type": "stream",
     "text": [
      "workload\n",
      "leve        0.59\n",
      "moderada    0.68\n",
      "intensa     0.60\n",
      "Name: satisfaction_level, dtype: float64\n"
     ]
    }
   ],
   "source": [
    "# Criar categoria de carga de trabalho\n",
    "df0['workload'] = pd.cut(df0['average_monthly_hours'], \n",
    "                         bins=[0, 160, 240, 310], \n",
    "                         labels=['leve', 'moderada', 'intensa'])\n",
    "\n",
    "# Média de satisfação por carga de trabalho\n",
    "media_arredondada = round(df0.groupby('workload')['satisfaction_level'].mean(), 2)\n",
    "print(media_arredondada)"
   ]
  },
  {
   "cell_type": "markdown",
   "metadata": {},
   "source": [
    "**Contexto dos Dados:**\n",
    "- Funcionários com carga moderada são os mais satisfeitos  \n",
    "- A satisfação média de quem trabalha muitas horas (0.60) é quase a mesma de quem trabalha pouco (0.59). Isso pode indicar que outros fatores têm mais impacto na satisfação do que o número de horas trabalhadas.  "
   ]
  },
  {
   "cell_type": "markdown",
   "metadata": {},
   "source": [
    "#### vs. Salary\n"
   ]
  },
  {
   "cell_type": "code",
   "execution_count": 31,
   "metadata": {},
   "outputs": [
    {
     "data": {
      "text/plain": [
       "salary\n",
       "high      0.64\n",
       "low       0.62\n",
       "medium    0.63\n",
       "Name: satisfaction_level, dtype: float64"
      ]
     },
     "execution_count": 31,
     "metadata": {},
     "output_type": "execute_result"
    }
   ],
   "source": [
    "# Média de satisfação por nível salarial\n",
    "df0.groupby('salary')['satisfaction_level'].mean().round(2)\n"
   ]
  },
  {
   "cell_type": "markdown",
   "metadata": {},
   "source": [
    "A média pode esconder variações importantes dentro de cada grupo. Esses valores são muito próximos, sugerindo que uma variavel sozinha pode não ser um fator determinante para a satisfação.\n",
    "\n",
    "Um boxplot pode ajudar a visualizar a dispersão dos valores de satisfação para cada categoria de salário:"
   ]
  },
  {
   "cell_type": "code",
   "execution_count": 32,
   "metadata": {},
   "outputs": [
    {
     "data": {
      "image/png": "[encoded data removed]",
      "text/plain": [
       "<Figure size 576x360 with 1 Axes>"
      ]
     },
     "metadata": {
      "needs_background": "light"
     },
     "output_type": "display_data"
    }
   ],
   "source": [
    "plt.figure(figsize=(8, 5))\n",
    "sns.boxplot(x='salary', y='satisfaction_level', data=df0, palette='viridis')\n",
    "\n",
    "# Configurações do gráfico\n",
    "plt.title('Distribuição da Satisfação por Nível Salarial')\n",
    "plt.xlabel('Nível Salarial')\n",
    "plt.ylabel('Nível de Satisfação')\n",
    "\n",
    "plt.show()\n"
   ]
  },
  {
   "cell_type": "markdown",
   "metadata": {},
   "source": [
    "- **Distribuição relativamente estável** – Não há uma tendência clara indicando que funcionários com maior satisfação (próximos de 1.0) tenham uma distribuição salarial diferente daqueles com baixa satisfação (próximos de 0.1).  \n",
    "\n",
    "O salário por si só não parece ser um grande fator determinante para a satisfação dos funcionários. Outros elementos podem ter um impacto maior. Isso sugere que políticas de retenção não devem focar apenas em aumentos salariais, mas também em outros fatores que influenciam o bem-estar dos funcionários."
   ]
  },
  {
   "cell_type": "markdown",
   "metadata": {},
   "source": [
    " ---\n",
    "### Number of Projects "
   ]
  },
  {
   "cell_type": "markdown",
   "metadata": {},
   "source": [
    "#### vs. Last Evaluation\n",
    "\n",
    "Verificar se mais projetos correlacionam-se com avaliações melhores."
   ]
  },
  {
   "cell_type": "code",
   "execution_count": 33,
   "metadata": {
    "id": "3v1uJR5y3MEy"
   },
   "outputs": [
    {
     "name": "stdout",
     "output_type": "stream",
     "text": [
      "   Número de Projetos  Avaliação Média\n",
      "0                   2            0.585\n",
      "1                   3            0.717\n",
      "2                   4            0.736\n",
      "3                   5            0.750\n",
      "4                   6            0.766\n",
      "5                   7            0.864\n"
     ]
    }
   ],
   "source": [
    "# Código ajustado para melhor clareza\n",
    "resultado = (\n",
    "    df0.groupby('number_of_projects')['last_evaluation']\n",
    "    .mean()\n",
    "    .reset_index()\n",
    "    .round(3)\n",
    ")\n",
    "resultado.columns = ['Número de Projetos', 'Avaliação Média']\n",
    "print(resultado)"
   ]
  },
  {
   "cell_type": "markdown",
   "metadata": {},
   "source": [
    "- Há uma **correlação positiva** entre o `number_of_projects` e a `last_evaluation`. Funcionários com mais projetos (7) têm avaliações **82% mais altas** que aqueles com 2 projetos. "
   ]
  },
  {
   "cell_type": "markdown",
   "metadata": {},
   "source": [
    "#### vs. Average monthly hours"
   ]
  },
  {
   "cell_type": "code",
   "execution_count": 34,
   "metadata": {
    "id": "3v1uJR5y3MEy"
   },
   "outputs": [
    {
     "name": "stdout",
     "output_type": "stream",
     "text": [
      "   Número de Projetos  Horas mensais\n",
      "0                   2         260733\n",
      "1                   3         694629\n",
      "2                   4         751270\n",
      "3                   5         466977\n",
      "4                   6         190304\n",
      "5                   7          39965\n"
     ]
    }
   ],
   "source": [
    "resultado = (\n",
    "    df0.groupby('number_of_projects')['average_monthly_hours']\n",
    "    .sum()\n",
    "    .reset_index()\n",
    "    .round(3)\n",
    ")\n",
    "resultado.columns = ['Número de Projetos', 'Horas mensais']\n",
    "print(resultado)"
   ]
  },
  {
   "cell_type": "markdown",
   "metadata": {},
   "source": [
    "- Quanto mais projetos, maior a carga horária individual.\n",
    "\n",
    "- Funcionários com 7 projetos trabalham, em média, 275h/mês (equivalente a ~69h/semana)."
   ]
  },
  {
   "cell_type": "code",
   "execution_count": 35,
   "metadata": {},
   "outputs": [
    {
     "name": "stdout",
     "output_type": "stream",
     "text": [
      "   Número de Projetos  Horas mensais\n",
      "0                   2        164.812\n",
      "1                   3        197.338\n",
      "2                   4        203.872\n",
      "3                   5        209.125\n",
      "4                   6        230.392\n",
      "5                   7        275.621\n"
     ]
    }
   ],
   "source": [
    "resultado = (\n",
    "    df0.groupby('number_of_projects')['average_monthly_hours']\n",
    "    .mean()\n",
    "    .reset_index()\n",
    "    .round(3)\n",
    ")\n",
    "resultado.columns = ['Número de Projetos', 'Horas mensais']\n",
    "print(resultado)"
   ]
  },
  {
   "cell_type": "markdown",
   "metadata": {},
   "source": [
    "- Pico em 3-4 projetos, representam a maior parcela da carga total de trabalho.\n",
    "\n",
    "- Poucos funcionários estão alocados em 6-7 projetos."
   ]
  },
  {
   "cell_type": "markdown",
   "metadata": {},
   "source": [
    "#### Correlação com Satisfação e Rotatividade \n",
    "\n",
    "É provável que a taxa de saída seja maior para quem tem mais projetos.  "
   ]
  },
  {
   "cell_type": "code",
   "execution_count": 36,
   "metadata": {},
   "outputs": [
    {
     "data": {
      "text/plain": [
       "number_of_projects\n",
       "2    0.541719\n",
       "3    0.010795\n",
       "4    0.064315\n",
       "5    0.153605\n",
       "6    0.449153\n",
       "7    1.000000\n",
       "Name: employee_left, dtype: float64"
      ]
     },
     "execution_count": 36,
     "metadata": {},
     "output_type": "execute_result"
    }
   ],
   "source": [
    "df0.groupby('number_of_projects')['employee_left'].mean()  "
   ]
  },
  {
   "cell_type": "markdown",
   "metadata": {},
   "source": [
    "| **Nº de Projetos** | **Taxa de Rotatividade** | **Interpretação** |  \n",
    "|---------------------|---------------------------|-------------------|  \n",
    "| **2**               | 54.2%                    | Funcionários com poucos projetos têm alta probabilidade de sair. |  \n",
    "| **3**               | 1.1%                     | Rotatividade mínima: equilíbrio ideal de carga. |  \n",
    "| **4**               | 6.4%                     | Aumento leve, mas ainda dentro de uma faixa sustentável. |  \n",
    "| **5**               | 15.4%                    | Rotatividade cresce, mas permanece abaixo da média geral (16.6%). |  \n",
    "| **6**               | 44.9%                    | Rotatividade elevada: sinal de sobrecarga ou estresse. |  \n",
    "| **7**               | 100%                     | **Todos os funcionários com 7 projetos deixaram a empresa.** |  "
   ]
  },
  {
   "cell_type": "code",
   "execution_count": 37,
   "metadata": {},
   "outputs": [
    {
     "data": {
      "text/plain": [
       "number_of_projects\n",
       "2    0.499071\n",
       "3    0.689418\n",
       "4    0.694280\n",
       "5    0.671155\n",
       "6    0.314673\n",
       "7    0.116690\n",
       "Name: satisfaction_level, dtype: float64"
      ]
     },
     "execution_count": 37,
     "metadata": {},
     "output_type": "execute_result"
    }
   ],
   "source": [
    "df0.groupby('number_of_projects')['satisfaction_level'].mean()  "
   ]
  },
  {
   "cell_type": "markdown",
   "metadata": {},
   "source": [
    " \n",
    "| **Nº de Projetos** | **Satisfação Média** | **Interpretação**                                                                 |\n",
    "|---------------------|-----------------------|-----------------------------------------------------------------------------------|\n",
    "| **2**               | 0.50                 | **Subutilização:** Funcionários podem sentir falta de desafios ou crescimento.    |\n",
    "| **3**               | 0.69                 | **Ponto ideal:** Equilíbrio entre produtividade e bem-estar.                      |\n",
    "| **4**               | 0.69                 | **Zona de conforto:** Mantém alta satisfação, similar a 3 projetos.               |\n",
    "| **5**               | 0.67                 | **Leve declínio:** Aumento de carga começa a impactar, mas ainda tolerável.       |\n",
    "| **6**               | 0.31                 | **Sobrecarga crítica:** Queda drástica na satisfação.  |\n",
    "| **7**               | 0.12                 | **Insustentável:** Satisfação quase nula. |\n"
   ]
  },
  {
   "cell_type": "markdown",
   "metadata": {},
   "source": [
    "- **Funcionários com carga de trabalho excessiva enfrentam alto risco de saída** – A taxa de desligamento **salta para 44,9%** quando um funcionário tem **6 projetos** e atinge **100% para aqueles com 7 projetos**. Paralelamente, a satisfação despenca drasticamente (**0.31 para 6 projetos e 0.12 para 7 projetos**), evidenciando que sobrecarregar funcionários leva à insatisfação extrema e alta rotatividade.  \n",
    "\n",
    "- **Funcionários com poucos projetos (2) têm alta taxa de saída** – A taxa de saída para funcionários com apenas 2 projetos é **54,2%**, muito maior do que para aqueles com 3, 4 ou 5 projetos. Além disso, a satisfação média desses funcionários é **0.50**, a mais baixa entre os grupos com carga moderada de projetos. Isso sugere que ter poucos projetos pode levar à desmotivação e ao desligamento da empresa.  \n",
    " \n",
    "- **Funcionários com carga de trabalho moderada (3 a 5 projetos) apresentam maior estabilidade** – A taxa de saída é consideravelmente menor, **variando entre 1% e 15%**, e a satisfação média se mantém alta, entre **0.67 e 0.69**. Esses números indicam que essa faixa de carga de trabalho parece ser ideal, equilibrando desafios e bem-estar.  \n",
    "\n",
    "Para reduzir a taxa de saída, a empresa deve evitar **extremos na distribuição de projetos**. Funcionários com poucos projetos podem se sentir desmotivados, enquanto aqueles com excesso de trabalho enfrentam estresse e exaustão. A faixa ideal parece estar entre **3 e 5 projetos**, onde a satisfação é maior e a retenção mais estável.\n"
   ]
  },
  {
   "cell_type": "markdown",
   "metadata": {},
   "source": [
    "#### vs Tenure"
   ]
  },
  {
   "cell_type": "code",
   "execution_count": 38,
   "metadata": {},
   "outputs": [
    {
     "data": {
      "text/html": [
       "<style type=\"text/css\">\n",
       "#T_10677_row0_col0 {\n",
       "  background-color: #e5f5e0;\n",
       "  color: #000000;\n",
       "}\n",
       "#T_10677_row0_col1 {\n",
       "  background-color: #077331;\n",
       "  color: #f1f1f1;\n",
       "}\n",
       "#T_10677_row0_col2 {\n",
       "  background-color: #005321;\n",
       "  color: #f1f1f1;\n",
       "}\n",
       "#T_10677_row0_col3 {\n",
       "  background-color: #c2e7bb;\n",
       "  color: #000000;\n",
       "}\n",
       "#T_10677_row0_col4, #T_10677_row2_col2, #T_10677_row3_col1, #T_10677_row4_col5, #T_10677_row5_col5, #T_10677_row6_col5, #T_10677_row7_col0, #T_10677_row7_col3, #T_10677_row7_col5 {\n",
       "  background-color: #f7fcf5;\n",
       "  color: #000000;\n",
       "}\n",
       "#T_10677_row0_col5, #T_10677_row1_col5 {\n",
       "  background-color: #f6fcf4;\n",
       "  color: #000000;\n",
       "}\n",
       "#T_10677_row1_col0, #T_10677_row2_col4, #T_10677_row2_col5, #T_10677_row3_col3, #T_10677_row7_col1, #T_10677_row7_col2 {\n",
       "  background-color: #00441b;\n",
       "  color: #f1f1f1;\n",
       "}\n",
       "#T_10677_row1_col1 {\n",
       "  background-color: #50b264;\n",
       "  color: #f1f1f1;\n",
       "}\n",
       "#T_10677_row1_col2 {\n",
       "  background-color: #66bd6f;\n",
       "  color: #f1f1f1;\n",
       "}\n",
       "#T_10677_row1_col3 {\n",
       "  background-color: #daf0d4;\n",
       "  color: #000000;\n",
       "}\n",
       "#T_10677_row1_col4 {\n",
       "  background-color: #f4fbf2;\n",
       "  color: #000000;\n",
       "}\n",
       "#T_10677_row2_col0 {\n",
       "  background-color: #ecf8e8;\n",
       "  color: #000000;\n",
       "}\n",
       "#T_10677_row2_col1 {\n",
       "  background-color: #9ed798;\n",
       "  color: #000000;\n",
       "}\n",
       "#T_10677_row2_col3 {\n",
       "  background-color: #b1e0ab;\n",
       "  color: #000000;\n",
       "}\n",
       "#T_10677_row3_col0 {\n",
       "  background-color: #eaf7e6;\n",
       "  color: #000000;\n",
       "}\n",
       "#T_10677_row3_col2 {\n",
       "  background-color: #65bd6f;\n",
       "  color: #f1f1f1;\n",
       "}\n",
       "#T_10677_row3_col4 {\n",
       "  background-color: #3fa85b;\n",
       "  color: #f1f1f1;\n",
       "}\n",
       "#T_10677_row3_col5 {\n",
       "  background-color: #afdfa8;\n",
       "  color: #000000;\n",
       "}\n",
       "#T_10677_row4_col0 {\n",
       "  background-color: #c6e8bf;\n",
       "  color: #000000;\n",
       "}\n",
       "#T_10677_row4_col1 {\n",
       "  background-color: #bce4b5;\n",
       "  color: #000000;\n",
       "}\n",
       "#T_10677_row4_col2, #T_10677_row6_col2 {\n",
       "  background-color: #b2e0ac;\n",
       "  color: #000000;\n",
       "}\n",
       "#T_10677_row4_col3 {\n",
       "  background-color: #2c944c;\n",
       "  color: #f1f1f1;\n",
       "}\n",
       "#T_10677_row4_col4 {\n",
       "  background-color: #48ae60;\n",
       "  color: #f1f1f1;\n",
       "}\n",
       "#T_10677_row5_col0 {\n",
       "  background-color: #cdecc7;\n",
       "  color: #000000;\n",
       "}\n",
       "#T_10677_row5_col1 {\n",
       "  background-color: #4aaf61;\n",
       "  color: #f1f1f1;\n",
       "}\n",
       "#T_10677_row5_col2 {\n",
       "  background-color: #05712f;\n",
       "  color: #f1f1f1;\n",
       "}\n",
       "#T_10677_row5_col3 {\n",
       "  background-color: #9fd899;\n",
       "  color: #000000;\n",
       "}\n",
       "#T_10677_row5_col4 {\n",
       "  background-color: #cbeac4;\n",
       "  color: #000000;\n",
       "}\n",
       "#T_10677_row6_col0, #T_10677_row6_col4 {\n",
       "  background-color: #dcf2d7;\n",
       "  color: #000000;\n",
       "}\n",
       "#T_10677_row6_col1 {\n",
       "  background-color: #0d7836;\n",
       "  color: #f1f1f1;\n",
       "}\n",
       "#T_10677_row6_col3 {\n",
       "  background-color: #94d390;\n",
       "  color: #000000;\n",
       "}\n",
       "#T_10677_row7_col4 {\n",
       "  background-color: #d4eece;\n",
       "  color: #000000;\n",
       "}\n",
       "</style>\n",
       "<table id=\"T_10677_\">\n",
       "  <thead>\n",
       "    <tr>\n",
       "      <th class=\"index_name level0\" >number_of_projects</th>\n",
       "      <th class=\"col_heading level0 col0\" >2</th>\n",
       "      <th class=\"col_heading level0 col1\" >3</th>\n",
       "      <th class=\"col_heading level0 col2\" >4</th>\n",
       "      <th class=\"col_heading level0 col3\" >5</th>\n",
       "      <th class=\"col_heading level0 col4\" >6</th>\n",
       "      <th class=\"col_heading level0 col5\" >7</th>\n",
       "    </tr>\n",
       "    <tr>\n",
       "      <th class=\"index_name level0\" >tenure</th>\n",
       "      <th class=\"blank col0\" >&nbsp;</th>\n",
       "      <th class=\"blank col1\" >&nbsp;</th>\n",
       "      <th class=\"blank col2\" >&nbsp;</th>\n",
       "      <th class=\"blank col3\" >&nbsp;</th>\n",
       "      <th class=\"blank col4\" >&nbsp;</th>\n",
       "      <th class=\"blank col5\" >&nbsp;</th>\n",
       "    </tr>\n",
       "  </thead>\n",
       "  <tbody>\n",
       "    <tr>\n",
       "      <th id=\"T_10677_level0_row0\" class=\"row_heading level0 row0\" >2</th>\n",
       "      <td id=\"T_10677_row0_col0\" class=\"data row0 col0\" >6.87</td>\n",
       "      <td id=\"T_10677_row0_col1\" class=\"data row0 col1\" >38.93</td>\n",
       "      <td id=\"T_10677_row0_col2\" class=\"data row0 col2\" >35.02</td>\n",
       "      <td id=\"T_10677_row0_col3\" class=\"data row0 col3\" >17.22</td>\n",
       "      <td id=\"T_10677_row0_col4\" class=\"data row0 col4\" >1.92</td>\n",
       "      <td id=\"T_10677_row0_col5\" class=\"data row0 col5\" >0.03</td>\n",
       "    </tr>\n",
       "    <tr>\n",
       "      <th id=\"T_10677_level0_row1\" class=\"row_heading level0 row1\" >3</th>\n",
       "      <td id=\"T_10677_row1_col0\" class=\"data row1 col0\" >21.75</td>\n",
       "      <td id=\"T_10677_row1_col1\" class=\"data row1 col1\" >30.39</td>\n",
       "      <td id=\"T_10677_row1_col2\" class=\"data row1 col2\" >30.64</td>\n",
       "      <td id=\"T_10677_row1_col3\" class=\"data row1 col3\" >14.84</td>\n",
       "      <td id=\"T_10677_row1_col4\" class=\"data row1 col4\" >2.33</td>\n",
       "      <td id=\"T_10677_row1_col5\" class=\"data row1 col5\" >0.06</td>\n",
       "    </tr>\n",
       "    <tr>\n",
       "      <th id=\"T_10677_level0_row2\" class=\"row_heading level0 row2\" >4</th>\n",
       "      <td id=\"T_10677_row2_col0\" class=\"data row2 col0\" >5.94</td>\n",
       "      <td id=\"T_10677_row2_col1\" class=\"data row2 col1\" >23.69</td>\n",
       "      <td id=\"T_10677_row2_col2\" class=\"data row2 col2\" >25.09</td>\n",
       "      <td id=\"T_10677_row2_col3\" class=\"data row2 col3\" >18.65</td>\n",
       "      <td id=\"T_10677_row2_col4\" class=\"data row2 col4\" >20.65</td>\n",
       "      <td id=\"T_10677_row2_col5\" class=\"data row2 col5\" >5.99</td>\n",
       "    </tr>\n",
       "    <tr>\n",
       "      <th id=\"T_10677_level0_row3\" class=\"row_heading level0 row3\" >5</th>\n",
       "      <td id=\"T_10677_row3_col0\" class=\"data row3 col0\" >6.21</td>\n",
       "      <td id=\"T_10677_row3_col1\" class=\"data row3 col1\" >11.02</td>\n",
       "      <td id=\"T_10677_row3_col2\" class=\"data row3 col2\" >30.70</td>\n",
       "      <td id=\"T_10677_row3_col3\" class=\"data row3 col3\" >36.25</td>\n",
       "      <td id=\"T_10677_row3_col4\" class=\"data row3 col4\" >13.84</td>\n",
       "      <td id=\"T_10677_row3_col5\" class=\"data row3 col5\" >1.98</td>\n",
       "    </tr>\n",
       "    <tr>\n",
       "      <th id=\"T_10677_level0_row4\" class=\"row_heading level0 row4\" >6</th>\n",
       "      <td id=\"T_10677_row4_col0\" class=\"data row4 col0\" >9.04</td>\n",
       "      <td id=\"T_10677_row4_col1\" class=\"data row4 col1\" >20.48</td>\n",
       "      <td id=\"T_10677_row4_col2\" class=\"data row4 col2\" >28.41</td>\n",
       "      <td id=\"T_10677_row4_col3\" class=\"data row4 col3\" >28.78</td>\n",
       "      <td id=\"T_10677_row4_col4\" class=\"data row4 col4\" >13.28</td>\n",
       "      <td id=\"T_10677_row4_col5\" class=\"data row4 col5\" >0.00</td>\n",
       "    </tr>\n",
       "    <tr>\n",
       "      <th id=\"T_10677_level0_row5\" class=\"row_heading level0 row5\" >7</th>\n",
       "      <td id=\"T_10677_row5_col0\" class=\"data row5 col0\" >8.51</td>\n",
       "      <td id=\"T_10677_row5_col1\" class=\"data row5 col1\" >30.85</td>\n",
       "      <td id=\"T_10677_row5_col2\" class=\"data row5 col2\" >34.04</td>\n",
       "      <td id=\"T_10677_row5_col3\" class=\"data row5 col3\" >20.21</td>\n",
       "      <td id=\"T_10677_row5_col4\" class=\"data row5 col4\" >6.38</td>\n",
       "      <td id=\"T_10677_row5_col5\" class=\"data row5 col5\" >0.00</td>\n",
       "    </tr>\n",
       "    <tr>\n",
       "      <th id=\"T_10677_level0_row6\" class=\"row_heading level0 row6\" >8</th>\n",
       "      <td id=\"T_10677_row6_col0\" class=\"data row6 col0\" >7.41</td>\n",
       "      <td id=\"T_10677_row6_col1\" class=\"data row6 col1\" >38.27</td>\n",
       "      <td id=\"T_10677_row6_col2\" class=\"data row6 col2\" >28.40</td>\n",
       "      <td id=\"T_10677_row6_col3\" class=\"data row6 col3\" >20.99</td>\n",
       "      <td id=\"T_10677_row6_col4\" class=\"data row6 col4\" >4.94</td>\n",
       "      <td id=\"T_10677_row6_col5\" class=\"data row6 col5\" >0.00</td>\n",
       "    </tr>\n",
       "    <tr>\n",
       "      <th id=\"T_10677_level0_row7\" class=\"row_heading level0 row7\" >10</th>\n",
       "      <td id=\"T_10677_row7_col0\" class=\"data row7 col0\" >4.67</td>\n",
       "      <td id=\"T_10677_row7_col1\" class=\"data row7 col1\" >43.93</td>\n",
       "      <td id=\"T_10677_row7_col2\" class=\"data row7 col2\" >35.51</td>\n",
       "      <td id=\"T_10677_row7_col3\" class=\"data row7 col3\" >10.28</td>\n",
       "      <td id=\"T_10677_row7_col4\" class=\"data row7 col4\" >5.61</td>\n",
       "      <td id=\"T_10677_row7_col5\" class=\"data row7 col5\" >0.00</td>\n",
       "    </tr>\n",
       "  </tbody>\n",
       "</table>\n"
      ],
      "text/plain": [
       "<pandas.io.formats.style.Styler at 0x736b531cbb90>"
      ]
     },
     "execution_count": 38,
     "metadata": {},
     "output_type": "execute_result"
    }
   ],
   "source": [
    "cross_tab = pd.crosstab(df0['tenure'], df0['number_of_projects'], normalize='index') * 100\n",
    "cross_tab = cross_tab.round(2)  # Arredonda os valores\n",
    "cross_tab.style.format(\"{:.2f}\").background_gradient(cmap='Greens')  # Formata para exibição correta"
   ]
  },
  {
   "cell_type": "markdown",
   "metadata": {},
   "source": [
    "**Dinâmica de Alocação de Projetos**  \n",
    "\n",
    "- **Funcionários juniores (tenure = 2-3):** Recebem projetos gradualmente, mas a subutilização (2 projetos) já é um risco inicial.  \n",
    "<br>  \n",
    "- **Funcionários intermediários (tenure = 4-5):** São sobrecarregados com mais projetos, levando a picos de insatisfação e rotatividade.  \n",
    "<br>  \n",
    "- **Funcionários seniores (tenure = 6+):** Distribuição mais estável, mas ainda há casos de sobrecarga (5-6 projetos)."
   ]
  },
  {
   "cell_type": "markdown",
   "metadata": {},
   "source": [
    "### Observações:\n",
    "\n",
    "**O que foi observado sobre as relações entre as variáveis?**  \n",
    "A principal relação identificada foi entre o número de projetos e a rotatividade dos funcionários. Funcionários com **2 projetos** apresentaram alta taxa de saída por possível desmotivação, enquanto aqueles com **6 ou mais projetos** tiveram alta saída devido à sobrecarga. Além disso, a satisfação dos funcionários diminui significativamente conforme a carga de trabalho se torna extrema (muito baixa ou muito alta). O salário, por outro lado, não mostrou forte correlação com a satisfação.  \n",
    "\n",
    "**O que foi observado sobre as distribuições nos dados?**  \n",
    "A distribuição de tenure mostrou que a maior parte dos funcionários permanece por **2 a 5 anos**, sendo que a rotatividade ocorre de forma mais acentuada em extremos de carga de trabalho e número de projetos. A satisfação média dos funcionários está relativamente equilibrada entre categorias salariais, e a distribuição de **average_monthly_hours** indica que a maioria tem carga moderada, com poucos casos de sobrecarga extrema.  \n",
    "\n",
    "**Quais recursos forma utilizados essa etapa?**  \n",
    "Utilizei principalmente **estatísticas descritivas, visualizações de dados** (boxplots, tabelas cruzadas) e manipulação de dados com **Pandas e Seaborn**. Além disso, referências sobre boas práticas de EDA ajudaram a direcionar as análises mais relevantes.  \n",
    "\n",
    "**Há considerações éticas nesta etapa?**  \n",
    "Sim, algumas questões éticas incluem:  \n",
    "- **Privacidade dos funcionários**, garantindo que a análise não exponha indivíduos específicos.  \n",
    "- **Viés nos dados**, que pode levar a conclusões erradas se certas variáveis forem interpretadas de forma simplista (por exemplo, assumir que projetos a mais sempre levam ao sucesso sem considerar outros fatores).  \n",
    "- **Uso responsável dos insights**, para evitar decisões que prejudiquem funcionários ao invés de melhorar a gestão.  \n",
    "\n",
    "Essas considerações garantem que as análises sejam utilizadas de forma justa e construtiva."
   ]
  },
  {
   "cell_type": "markdown",
   "metadata": {},
   "source": [
    "### 7. Feature engineering\n",
    "\n",
    "Nesta parte do projeto, projetarei alguns novos recursos para serem usados para modelagem."
   ]
  },
  {
   "cell_type": "code",
   "execution_count": 39,
   "metadata": {},
   "outputs": [],
   "source": [
    "# cópia para preservar o dataframe original\n",
    "df = df0.copy()"
   ]
  },
  {
   "cell_type": "code",
   "execution_count": 40,
   "metadata": {},
   "outputs": [
    {
     "name": "stdout",
     "output_type": "stream",
     "text": [
      "<class 'pandas.core.frame.DataFrame'>\n",
      "Int64Index: 11991 entries, 0 to 11999\n",
      "Data columns (total 11 columns):\n",
      " #   Column                 Non-Null Count  Dtype   \n",
      "---  ------                 --------------  -----   \n",
      " 0   satisfaction_level     11991 non-null  float64 \n",
      " 1   last_evaluation        11991 non-null  float64 \n",
      " 2   number_of_projects     11991 non-null  int64   \n",
      " 3   average_monthly_hours  11991 non-null  int64   \n",
      " 4   tenure                 11991 non-null  int64   \n",
      " 5   work_accident          11991 non-null  int64   \n",
      " 6   employee_left          11991 non-null  int64   \n",
      " 7   promotion_last_5years  11991 non-null  int64   \n",
      " 8   department             11991 non-null  object  \n",
      " 9   salary                 11991 non-null  object  \n",
      " 10  workload               11991 non-null  category\n",
      "dtypes: category(1), float64(2), int64(6), object(2)\n",
      "memory usage: 1.3+ MB\n"
     ]
    }
   ],
   "source": [
    "# info() para facilitar referencias\n",
    "df.info()"
   ]
  },
  {
   "cell_type": "markdown",
   "metadata": {},
   "source": [
    "---\n",
    "\n",
    "#### `workload_risk` \n",
    "\n",
    ">Classificação binária que indica se o funcionário está em zona de risco de carga de trabalho. \n",
    "\n",
    ">O objetivo é identificar funcionários **subutilizados (2 projetos)** ou **sobrecarregados (6-7 projetos)**.  "
   ]
  },
  {
   "cell_type": "code",
   "execution_count": 41,
   "metadata": {},
   "outputs": [
    {
     "data": {
      "text/html": [
       "<style type=\"text/css\">\n",
       "#T_20884_row0_col0, #T_20884_row1_col1 {\n",
       "  background-color: #00441b;\n",
       "  color: #f1f1f1;\n",
       "}\n",
       "#T_20884_row0_col1, #T_20884_row1_col0 {\n",
       "  background-color: #f7fcf5;\n",
       "  color: #000000;\n",
       "}\n",
       "</style>\n",
       "<table id=\"T_20884_\">\n",
       "  <thead>\n",
       "    <tr>\n",
       "      <th class=\"index_name level0\" >employee_left</th>\n",
       "      <th class=\"col_heading level0 col0\" >0</th>\n",
       "      <th class=\"col_heading level0 col1\" >1</th>\n",
       "    </tr>\n",
       "    <tr>\n",
       "      <th class=\"index_name level0\" >workload_risk</th>\n",
       "      <th class=\"blank col0\" >&nbsp;</th>\n",
       "      <th class=\"blank col1\" >&nbsp;</th>\n",
       "    </tr>\n",
       "  </thead>\n",
       "  <tbody>\n",
       "    <tr>\n",
       "      <th id=\"T_20884_level0_row0\" class=\"row_heading level0 row0\" >0</th>\n",
       "      <td id=\"T_20884_row0_col0\" class=\"data row0 col0\" >93.45</td>\n",
       "      <td id=\"T_20884_row0_col1\" class=\"data row0 col1\" >6.55</td>\n",
       "    </tr>\n",
       "    <tr>\n",
       "      <th id=\"T_20884_level0_row1\" class=\"row_heading level0 row1\" >1</th>\n",
       "      <td id=\"T_20884_row1_col0\" class=\"data row1 col0\" >46.22</td>\n",
       "      <td id=\"T_20884_row1_col1\" class=\"data row1 col1\" >53.78</td>\n",
       "    </tr>\n",
       "  </tbody>\n",
       "</table>\n"
      ],
      "text/plain": [
       "<pandas.io.formats.style.Styler at 0x736b530b1850>"
      ]
     },
     "execution_count": 41,
     "metadata": {},
     "output_type": "execute_result"
    }
   ],
   "source": [
    "df['workload_risk'] = df['number_of_projects'].apply(lambda x: 1 if x in [2, 6, 7] else 0) \n",
    "\n",
    "cross_tab = pd.crosstab(df['workload_risk'], df['employee_left'], normalize='index') * 100\n",
    "cross_tab = cross_tab.round(2)  # Arredonda os valores\n",
    "cross_tab.style.format(\"{:.2f}\").background_gradient(cmap='Greens')  # Formata para exibição correta"
   ]
  },
  {
   "cell_type": "markdown",
   "metadata": {},
   "source": [
    "---\n",
    "\n",
    "#### `projects_per_year` \n",
    "\n",
    "> Número médio de projetos por ano na empresa.\n",
    "\n",
    "> Mede a intensidade de trabalho ao longo do tempo (ex: 7 projetos em 2 anos = 3.5 projetos/ano)."
   ]
  },
  {
   "cell_type": "code",
   "execution_count": 42,
   "metadata": {},
   "outputs": [],
   "source": [
    "df['projects_per_year'] = df['number_of_projects'] / df['tenure']  "
   ]
  },
  {
   "cell_type": "markdown",
   "metadata": {},
   "source": [
    "---\n",
    "\n",
    "#### `tenure_promotion_interaction` \n",
    "\n",
    "> Interação entre tempo de empresa e promoções nos últimos 5 anos.\n",
    "\n",
    "> Destaca funcionários com longo tempo na empresa sem promoções (potencial descontentamento)."
   ]
  },
  {
   "cell_type": "code",
   "execution_count": 43,
   "metadata": {},
   "outputs": [],
   "source": [
    "df['tenure_promotion_interaction'] = df['tenure'] * df['promotion_last_5years']  "
   ]
  },
  {
   "cell_type": "markdown",
   "metadata": {},
   "source": [
    "---\n",
    "\n",
    "#### `salary_satisfaction_index` \n",
    "\n",
    "> Cria um índice combinando salary e satisfaction_level. \n",
    "\n",
    "> Avalia se o salário realmente impacta a satisfação e a retenção. "
   ]
  },
  {
   "cell_type": "code",
   "execution_count": 44,
   "metadata": {},
   "outputs": [],
   "source": [
    "salary_map = {'low': 1, 'medium': 2, 'high': 3}\n",
    "df['salary_satisfaction_index'] = df['satisfaction_level'] * df['salary'].map(salary_map)"
   ]
  },
  {
   "cell_type": "markdown",
   "metadata": {},
   "source": [
    "---\n",
    "\n",
    "#### `evaluation_satisfaction_gap` \n",
    "\n",
    "> Diferença entre avaliação de desempenho e satisfação.  \n",
    "\n",
    "> O objetivo é identificar funcionários com alta performance mas baixa satisfação (risco de burnout). "
   ]
  },
  {
   "cell_type": "code",
   "execution_count": 45,
   "metadata": {
    "scrolled": true
   },
   "outputs": [
    {
     "name": "stdout",
     "output_type": "stream",
     "text": [
      "employee_left\n",
      "0    0.048302\n",
      "1    0.281512\n",
      "Name: evaluation_satisfaction_gap, dtype: float64\n"
     ]
    }
   ],
   "source": [
    "df['evaluation_satisfaction_gap'] = df['last_evaluation'] - df['satisfaction_level']  \n",
    "\n",
    "print(df.groupby('employee_left')['evaluation_satisfaction_gap'].mean())"
   ]
  },
  {
   "cell_type": "markdown",
   "metadata": {},
   "source": [
    "---\n",
    "\n",
    "#### `satisfaction_workload` \n",
    "\n",
    "> Interação entre satisfação e carga horária.\n",
    "\n",
    "> O objetivo é identificar funcionários com alta carga e baixa satisfação (risco iminente de saída). "
   ]
  },
  {
   "cell_type": "code",
   "execution_count": 46,
   "metadata": {},
   "outputs": [
    {
     "name": "stdout",
     "output_type": "stream",
     "text": [
      "employee_left\n",
      "0    133.298775\n",
      "1     90.282692\n",
      "Name: satisfaction_workload, dtype: float64\n"
     ]
    }
   ],
   "source": [
    "df['satisfaction_workload'] = df['satisfaction_level'] * df['average_monthly_hours'] \n",
    "\n",
    "print(df.groupby('employee_left')['satisfaction_workload'].mean())"
   ]
  },
  {
   "cell_type": "markdown",
   "metadata": {},
   "source": [
    "---\n",
    "\n",
    "#### `tenure_group` \n",
    "\n",
    "> Categorização do tempo de empresa em grupos de risco. \n",
    "\n",
    "> O objetivo é segmentar funcionários por fase crítica (ex: 2-5 anos = maior rotatividade). "
   ]
  },
  {
   "cell_type": "code",
   "execution_count": 47,
   "metadata": {
    "scrolled": true
   },
   "outputs": [
    {
     "data": {
      "text/html": [
       "<style type=\"text/css\">\n",
       "#T_e389a_row0_col0, #T_e389a_row1_col1 {\n",
       "  background-color: #00441b;\n",
       "  color: #f1f1f1;\n",
       "}\n",
       "#T_e389a_row0_col1, #T_e389a_row1_col0 {\n",
       "  background-color: #f7fcf5;\n",
       "  color: #000000;\n",
       "}\n",
       "#T_e389a_row2_col0 {\n",
       "  background-color: #8dd08a;\n",
       "  color: #000000;\n",
       "}\n",
       "#T_e389a_row2_col1 {\n",
       "  background-color: #58b668;\n",
       "  color: #f1f1f1;\n",
       "}\n",
       "</style>\n",
       "<table id=\"T_e389a_\">\n",
       "  <thead>\n",
       "    <tr>\n",
       "      <th class=\"index_name level0\" >employee_left</th>\n",
       "      <th class=\"col_heading level0 col0\" >0</th>\n",
       "      <th class=\"col_heading level0 col1\" >1</th>\n",
       "    </tr>\n",
       "    <tr>\n",
       "      <th class=\"index_name level0\" >tenure_group</th>\n",
       "      <th class=\"blank col0\" >&nbsp;</th>\n",
       "      <th class=\"blank col1\" >&nbsp;</th>\n",
       "    </tr>\n",
       "  </thead>\n",
       "  <tbody>\n",
       "    <tr>\n",
       "      <th id=\"T_e389a_level0_row0\" class=\"row_heading level0 row0\" >moderate_risk</th>\n",
       "      <td id=\"T_e389a_row0_col0\" class=\"data row0 col0\" >98.93</td>\n",
       "      <td id=\"T_e389a_row0_col1\" class=\"data row0 col1\" >1.07</td>\n",
       "    </tr>\n",
       "    <tr>\n",
       "      <th id=\"T_e389a_level0_row1\" class=\"row_heading level0 row1\" >high_risk</th>\n",
       "      <td id=\"T_e389a_row1_col0\" class=\"data row1 col0\" >77.58</td>\n",
       "      <td id=\"T_e389a_row1_col1\" class=\"data row1 col1\" >22.42</td>\n",
       "    </tr>\n",
       "    <tr>\n",
       "      <th id=\"T_e389a_level0_row2\" class=\"row_heading level0 row2\" >stable</th>\n",
       "      <td id=\"T_e389a_row2_col0\" class=\"data row2 col0\" >86.77</td>\n",
       "      <td id=\"T_e389a_row2_col1\" class=\"data row2 col1\" >13.23</td>\n",
       "    </tr>\n",
       "  </tbody>\n",
       "</table>\n"
      ],
      "text/plain": [
       "<pandas.io.formats.style.Styler at 0x736b5308a950>"
      ]
     },
     "execution_count": 47,
     "metadata": {},
     "output_type": "execute_result"
    }
   ],
   "source": [
    "df['tenure_group'] = pd.cut(df['tenure'], bins=[0, 2, 5, 10], labels=['moderate_risk', 'high_risk', 'stable'])\n",
    "\n",
    "cross_tab = pd.crosstab(df['tenure_group'], df['employee_left'], normalize='index') * 100\n",
    "cross_tab = cross_tab.round(2)  # Arredonda os valores\n",
    "cross_tab.style.format(\"{:.2f}\").background_gradient(cmap='Greens')  # Formata para exibição correta"
   ]
  },
  {
   "cell_type": "markdown",
   "metadata": {},
   "source": [
    "---\n",
    "\n",
    "#### `career_growth` \n",
    "\n",
    "> Mede a progressão do funcionário com base em avaliação de desempenho e número de projetos. \n",
    "\n",
    "> Pode ajudar a prever saída por estagnação ou excesso de demandas. "
   ]
  },
  {
   "cell_type": "code",
   "execution_count": 48,
   "metadata": {
    "scrolled": true
   },
   "outputs": [],
   "source": [
    "df['career_growth'] = df['last_evaluation'] * df['number_of_projects']"
   ]
  },
  {
   "cell_type": "markdown",
   "metadata": {},
   "source": [
    "### 8. Feature selection:"
   ]
  },
  {
   "cell_type": "code",
   "execution_count": 49,
   "metadata": {},
   "outputs": [
    {
     "name": "stdout",
     "output_type": "stream",
     "text": [
      "<class 'pandas.core.frame.DataFrame'>\n",
      "Int64Index: 11991 entries, 0 to 11999\n",
      "Data columns (total 19 columns):\n",
      " #   Column                        Non-Null Count  Dtype   \n",
      "---  ------                        --------------  -----   \n",
      " 0   satisfaction_level            11991 non-null  float64 \n",
      " 1   last_evaluation               11991 non-null  float64 \n",
      " 2   number_of_projects            11991 non-null  int64   \n",
      " 3   average_monthly_hours         11991 non-null  int64   \n",
      " 4   tenure                        11991 non-null  int64   \n",
      " 5   work_accident                 11991 non-null  int64   \n",
      " 6   employee_left                 11991 non-null  int64   \n",
      " 7   promotion_last_5years         11991 non-null  int64   \n",
      " 8   department                    11991 non-null  object  \n",
      " 9   salary                        11991 non-null  object  \n",
      " 10  workload                      11991 non-null  category\n",
      " 11  workload_risk                 11991 non-null  int64   \n",
      " 12  projects_per_year             11991 non-null  float64 \n",
      " 13  tenure_promotion_interaction  11991 non-null  int64   \n",
      " 14  salary_satisfaction_index     11991 non-null  float64 \n",
      " 15  evaluation_satisfaction_gap   11991 non-null  float64 \n",
      " 16  satisfaction_workload         11991 non-null  float64 \n",
      " 17  tenure_group                  11991 non-null  category\n",
      " 18  career_growth                 11991 non-null  float64 \n",
      "dtypes: category(2), float64(7), int64(8), object(2)\n",
      "memory usage: 1.9+ MB\n"
     ]
    }
   ],
   "source": [
    "df.info()"
   ]
  },
  {
   "cell_type": "markdown",
   "metadata": {},
   "source": [
    "A variável `workload` já fez a sua função na análise exploratória de dados, porém agora se tornou redundante. "
   ]
  },
  {
   "cell_type": "code",
   "execution_count": 50,
   "metadata": {},
   "outputs": [],
   "source": [
    "# Remover a coluna `workload`\n",
    "df = df.drop(['workload'], axis=1)"
   ]
  },
  {
   "cell_type": "markdown",
   "metadata": {},
   "source": [
    "A análise exploratória mostrou que `department` não tem relevância significativa para o objetivo do modelo, removê-la pode simplificar o processo e evitar a criação de diversas colunas dummies que não agregariam valor preditivo."
   ]
  },
  {
   "cell_type": "code",
   "execution_count": 51,
   "metadata": {},
   "outputs": [],
   "source": [
    "# Remover a coluna `department` \n",
    "df = df.drop('department', axis=1) "
   ]
  },
  {
   "cell_type": "markdown",
   "metadata": {},
   "source": [
    "### 9. Codificação de variáveis:"
   ]
  },
  {
   "cell_type": "markdown",
   "metadata": {},
   "source": [
    "Estatísticas descritivas para dados categóricos:"
   ]
  },
  {
   "cell_type": "code",
   "execution_count": 52,
   "metadata": {},
   "outputs": [
    {
     "data": {
      "text/html": [
       "<div>\n",
       "<style scoped>\n",
       "    .dataframe tbody tr th:only-of-type {\n",
       "        vertical-align: middle;\n",
       "    }\n",
       "\n",
       "    .dataframe tbody tr th {\n",
       "        vertical-align: top;\n",
       "    }\n",
       "\n",
       "    .dataframe thead th {\n",
       "        text-align: right;\n",
       "    }\n",
       "</style>\n",
       "<table border=\"1\" class=\"dataframe\">\n",
       "  <thead>\n",
       "    <tr style=\"text-align: right;\">\n",
       "      <th></th>\n",
       "      <th>salary</th>\n",
       "    </tr>\n",
       "  </thead>\n",
       "  <tbody>\n",
       "    <tr>\n",
       "      <th>count</th>\n",
       "      <td>11991</td>\n",
       "    </tr>\n",
       "    <tr>\n",
       "      <th>unique</th>\n",
       "      <td>3</td>\n",
       "    </tr>\n",
       "    <tr>\n",
       "      <th>top</th>\n",
       "      <td>low</td>\n",
       "    </tr>\n",
       "    <tr>\n",
       "      <th>freq</th>\n",
       "      <td>5740</td>\n",
       "    </tr>\n",
       "  </tbody>\n",
       "</table>\n",
       "</div>"
      ],
      "text/plain": [
       "       salary\n",
       "count   11991\n",
       "unique      3\n",
       "top       low\n",
       "freq     5740"
      ]
     },
     "execution_count": 52,
     "metadata": {},
     "output_type": "execute_result"
    }
   ],
   "source": [
    "df.describe(include=['object'])"
   ]
  },
  {
   "cell_type": "code",
   "execution_count": 53,
   "metadata": {},
   "outputs": [
    {
     "data": {
      "text/html": [
       "<div>\n",
       "<style scoped>\n",
       "    .dataframe tbody tr th:only-of-type {\n",
       "        vertical-align: middle;\n",
       "    }\n",
       "\n",
       "    .dataframe tbody tr th {\n",
       "        vertical-align: top;\n",
       "    }\n",
       "\n",
       "    .dataframe thead th {\n",
       "        text-align: right;\n",
       "    }\n",
       "</style>\n",
       "<table border=\"1\" class=\"dataframe\">\n",
       "  <thead>\n",
       "    <tr style=\"text-align: right;\">\n",
       "      <th></th>\n",
       "      <th>tenure_group</th>\n",
       "    </tr>\n",
       "  </thead>\n",
       "  <tbody>\n",
       "    <tr>\n",
       "      <th>count</th>\n",
       "      <td>11991</td>\n",
       "    </tr>\n",
       "    <tr>\n",
       "      <th>unique</th>\n",
       "      <td>3</td>\n",
       "    </tr>\n",
       "    <tr>\n",
       "      <th>top</th>\n",
       "      <td>high_risk</td>\n",
       "    </tr>\n",
       "    <tr>\n",
       "      <th>freq</th>\n",
       "      <td>8257</td>\n",
       "    </tr>\n",
       "  </tbody>\n",
       "</table>\n",
       "</div>"
      ],
      "text/plain": [
       "       tenure_group\n",
       "count         11991\n",
       "unique            3\n",
       "top       high_risk\n",
       "freq           8257"
      ]
     },
     "execution_count": 53,
     "metadata": {},
     "output_type": "execute_result"
    }
   ],
   "source": [
    "df.describe(include=['category'])"
   ]
  },
  {
   "cell_type": "code",
   "execution_count": 54,
   "metadata": {},
   "outputs": [
    {
     "data": {
      "text/html": [
       "<div>\n",
       "<style scoped>\n",
       "    .dataframe tbody tr th:only-of-type {\n",
       "        vertical-align: middle;\n",
       "    }\n",
       "\n",
       "    .dataframe tbody tr th {\n",
       "        vertical-align: top;\n",
       "    }\n",
       "\n",
       "    .dataframe thead th {\n",
       "        text-align: right;\n",
       "    }\n",
       "</style>\n",
       "<table border=\"1\" class=\"dataframe\">\n",
       "  <thead>\n",
       "    <tr style=\"text-align: right;\">\n",
       "      <th></th>\n",
       "      <th>satisfaction_level</th>\n",
       "      <th>last_evaluation</th>\n",
       "      <th>number_of_projects</th>\n",
       "      <th>average_monthly_hours</th>\n",
       "      <th>tenure</th>\n",
       "      <th>work_accident</th>\n",
       "      <th>employee_left</th>\n",
       "      <th>promotion_last_5years</th>\n",
       "      <th>workload_risk</th>\n",
       "      <th>projects_per_year</th>\n",
       "      <th>tenure_promotion_interaction</th>\n",
       "      <th>salary_satisfaction_index</th>\n",
       "      <th>evaluation_satisfaction_gap</th>\n",
       "      <th>satisfaction_workload</th>\n",
       "      <th>career_growth</th>\n",
       "      <th>salary_low</th>\n",
       "      <th>salary_medium</th>\n",
       "      <th>tenure_group_high_risk</th>\n",
       "      <th>tenure_group_stable</th>\n",
       "    </tr>\n",
       "  </thead>\n",
       "  <tbody>\n",
       "    <tr>\n",
       "      <th>0</th>\n",
       "      <td>0.38</td>\n",
       "      <td>0.53</td>\n",
       "      <td>2</td>\n",
       "      <td>157</td>\n",
       "      <td>3</td>\n",
       "      <td>0</td>\n",
       "      <td>1</td>\n",
       "      <td>0</td>\n",
       "      <td>1</td>\n",
       "      <td>0.666667</td>\n",
       "      <td>0</td>\n",
       "      <td>0.38</td>\n",
       "      <td>0.15</td>\n",
       "      <td>59.66</td>\n",
       "      <td>1.06</td>\n",
       "      <td>1</td>\n",
       "      <td>0</td>\n",
       "      <td>1</td>\n",
       "      <td>0</td>\n",
       "    </tr>\n",
       "    <tr>\n",
       "      <th>1</th>\n",
       "      <td>0.80</td>\n",
       "      <td>0.86</td>\n",
       "      <td>5</td>\n",
       "      <td>262</td>\n",
       "      <td>6</td>\n",
       "      <td>0</td>\n",
       "      <td>1</td>\n",
       "      <td>0</td>\n",
       "      <td>0</td>\n",
       "      <td>0.833333</td>\n",
       "      <td>0</td>\n",
       "      <td>1.60</td>\n",
       "      <td>0.06</td>\n",
       "      <td>209.60</td>\n",
       "      <td>4.30</td>\n",
       "      <td>0</td>\n",
       "      <td>1</td>\n",
       "      <td>0</td>\n",
       "      <td>1</td>\n",
       "    </tr>\n",
       "    <tr>\n",
       "      <th>2</th>\n",
       "      <td>0.11</td>\n",
       "      <td>0.88</td>\n",
       "      <td>7</td>\n",
       "      <td>272</td>\n",
       "      <td>4</td>\n",
       "      <td>0</td>\n",
       "      <td>1</td>\n",
       "      <td>0</td>\n",
       "      <td>1</td>\n",
       "      <td>1.750000</td>\n",
       "      <td>0</td>\n",
       "      <td>0.22</td>\n",
       "      <td>0.77</td>\n",
       "      <td>29.92</td>\n",
       "      <td>6.16</td>\n",
       "      <td>0</td>\n",
       "      <td>1</td>\n",
       "      <td>1</td>\n",
       "      <td>0</td>\n",
       "    </tr>\n",
       "    <tr>\n",
       "      <th>3</th>\n",
       "      <td>0.72</td>\n",
       "      <td>0.87</td>\n",
       "      <td>5</td>\n",
       "      <td>223</td>\n",
       "      <td>5</td>\n",
       "      <td>0</td>\n",
       "      <td>1</td>\n",
       "      <td>0</td>\n",
       "      <td>0</td>\n",
       "      <td>1.000000</td>\n",
       "      <td>0</td>\n",
       "      <td>0.72</td>\n",
       "      <td>0.15</td>\n",
       "      <td>160.56</td>\n",
       "      <td>4.35</td>\n",
       "      <td>1</td>\n",
       "      <td>0</td>\n",
       "      <td>1</td>\n",
       "      <td>0</td>\n",
       "    </tr>\n",
       "    <tr>\n",
       "      <th>4</th>\n",
       "      <td>0.37</td>\n",
       "      <td>0.52</td>\n",
       "      <td>2</td>\n",
       "      <td>159</td>\n",
       "      <td>3</td>\n",
       "      <td>0</td>\n",
       "      <td>1</td>\n",
       "      <td>0</td>\n",
       "      <td>1</td>\n",
       "      <td>0.666667</td>\n",
       "      <td>0</td>\n",
       "      <td>0.37</td>\n",
       "      <td>0.15</td>\n",
       "      <td>58.83</td>\n",
       "      <td>1.04</td>\n",
       "      <td>1</td>\n",
       "      <td>0</td>\n",
       "      <td>1</td>\n",
       "      <td>0</td>\n",
       "    </tr>\n",
       "  </tbody>\n",
       "</table>\n",
       "</div>"
      ],
      "text/plain": [
       "   satisfaction_level  last_evaluation  number_of_projects  \\\n",
       "0                0.38             0.53                   2   \n",
       "1                0.80             0.86                   5   \n",
       "2                0.11             0.88                   7   \n",
       "3                0.72             0.87                   5   \n",
       "4                0.37             0.52                   2   \n",
       "\n",
       "   average_monthly_hours  tenure  work_accident  employee_left  \\\n",
       "0                    157       3              0              1   \n",
       "1                    262       6              0              1   \n",
       "2                    272       4              0              1   \n",
       "3                    223       5              0              1   \n",
       "4                    159       3              0              1   \n",
       "\n",
       "   promotion_last_5years  workload_risk  projects_per_year  \\\n",
       "0                      0              1           0.666667   \n",
       "1                      0              0           0.833333   \n",
       "2                      0              1           1.750000   \n",
       "3                      0              0           1.000000   \n",
       "4                      0              1           0.666667   \n",
       "\n",
       "   tenure_promotion_interaction  salary_satisfaction_index  \\\n",
       "0                             0                       0.38   \n",
       "1                             0                       1.60   \n",
       "2                             0                       0.22   \n",
       "3                             0                       0.72   \n",
       "4                             0                       0.37   \n",
       "\n",
       "   evaluation_satisfaction_gap  satisfaction_workload  career_growth  \\\n",
       "0                         0.15                  59.66           1.06   \n",
       "1                         0.06                 209.60           4.30   \n",
       "2                         0.77                  29.92           6.16   \n",
       "3                         0.15                 160.56           4.35   \n",
       "4                         0.15                  58.83           1.04   \n",
       "\n",
       "   salary_low  salary_medium  tenure_group_high_risk  tenure_group_stable  \n",
       "0           1              0                       1                    0  \n",
       "1           0              1                       0                    1  \n",
       "2           0              1                       1                    0  \n",
       "3           1              0                       1                    0  \n",
       "4           1              0                       1                    0  "
      ]
     },
     "execution_count": 54,
     "metadata": {},
     "output_type": "execute_result"
    }
   ],
   "source": [
    "# Converter variáveis categóricas restantes em dummies\n",
    "df = pd.get_dummies(df, columns=['salary', 'tenure_group'], drop_first=True)\n",
    "\n",
    "# Visualizar as novas colunas\n",
    "df.head()"
   ]
  },
  {
   "cell_type": "code",
   "execution_count": 55,
   "metadata": {},
   "outputs": [
    {
     "name": "stdout",
     "output_type": "stream",
     "text": [
      "<class 'pandas.core.frame.DataFrame'>\n",
      "Int64Index: 11991 entries, 0 to 11999\n",
      "Data columns (total 19 columns):\n",
      " #   Column                        Non-Null Count  Dtype  \n",
      "---  ------                        --------------  -----  \n",
      " 0   satisfaction_level            11991 non-null  float64\n",
      " 1   last_evaluation               11991 non-null  float64\n",
      " 2   number_of_projects            11991 non-null  int64  \n",
      " 3   average_monthly_hours         11991 non-null  int64  \n",
      " 4   tenure                        11991 non-null  int64  \n",
      " 5   work_accident                 11991 non-null  int64  \n",
      " 6   employee_left                 11991 non-null  int64  \n",
      " 7   promotion_last_5years         11991 non-null  int64  \n",
      " 8   workload_risk                 11991 non-null  int64  \n",
      " 9   projects_per_year             11991 non-null  float64\n",
      " 10  tenure_promotion_interaction  11991 non-null  int64  \n",
      " 11  salary_satisfaction_index     11991 non-null  float64\n",
      " 12  evaluation_satisfaction_gap   11991 non-null  float64\n",
      " 13  satisfaction_workload         11991 non-null  float64\n",
      " 14  career_growth                 11991 non-null  float64\n",
      " 15  salary_low                    11991 non-null  uint8  \n",
      " 16  salary_medium                 11991 non-null  uint8  \n",
      " 17  tenure_group_high_risk        11991 non-null  uint8  \n",
      " 18  tenure_group_stable           11991 non-null  uint8  \n",
      "dtypes: float64(7), int64(8), uint8(4)\n",
      "memory usage: 1.8 MB\n"
     ]
    }
   ],
   "source": [
    "df.info()"
   ]
  },
  {
   "cell_type": "markdown",
   "metadata": {
    "id": "Lca9c8XON8lc"
   },
   "source": [
    "# Construção"
   ]
  },
  {
   "cell_type": "markdown",
   "metadata": {
    "id": "ZDG9v-NCS69j"
   },
   "source": [
    "## Etapa 3. Construção do modelo\n",
    "- Ajustar um modelo que preveja a variável de resultado usando as variáveis independentes.\n",
    "- Verificar as suposições do modelo.\n",
    "- Avaliar o modelo."
   ]
  },
  {
   "cell_type": "markdown",
   "metadata": {
    "id": "OrW2oXy4OfD1"
   },
   "source": [
    "---\n",
    "\n",
    "### 1. Dividir os dados:\n",
    "\n",
    "Com 11.991 amostras, vou dividir os dados 80/20 em um conjunto de treinamento provisório e um conjunto de teste. Depois dividirei o conjunto de treinamento provisório em 75/25 em um conjunto de treinamento e um conjunto de validação, produzindo uma proporção final de 60/20/20 para conjuntos de treinamento/validação/teste.\n",
    "\n",
    "- 60% para treino oferece dados suficientes para os modelos aprenderem os padrões.\n",
    "- 20% para validação permite uma boa avaliação durante o tuning de hiperparâmetros.\n",
    "- 20% para para avaliação final.\n",
    "\n",
    "**Aspectos do código:**\n",
    "- Uso do `stratify` em ambos os splits, garantindo a mesma proporção da variável target em todos os conjuntos.\n",
    "- Definição de `random_state` para reprodutibilidade."
   ]
  },
  {
   "cell_type": "code",
   "execution_count": 56,
   "metadata": {
    "id": "UePZZyi_Okdz"
   },
   "outputs": [],
   "source": [
    "# Definir df_subset_X que isole os recursos \n",
    "df_subset_X = df.drop(columns=['employee_left'])\n",
    "\n",
    "# Definir df_subset_y que isole a variável alvo\n",
    "df_subset_y = df['employee_left']"
   ]
  },
  {
   "cell_type": "code",
   "execution_count": 57,
   "metadata": {},
   "outputs": [],
   "source": [
    "# Dividir em conjuntos de treinamento e teste.\n",
    "X_train, X_test, y_train, y_test = train_test_split(\n",
    "    df_subset_X, \n",
    "    df_subset_y,\n",
    "    stratify=df_subset_y,  # Garante a mesma proporção de classes\n",
    "    test_size=0.20, \n",
    "    random_state=42\n",
    ")\n",
    "\n",
    "# Dividir em conjuntos de treinamento e validação.\n",
    "X_tr, X_val, y_tr, y_val = train_test_split(\n",
    "    X_train, \n",
    "    y_train,\n",
    "    stratify=y_train,\n",
    "    test_size = 0.25, \n",
    "    random_state=42)"
   ]
  },
  {
   "cell_type": "code",
   "execution_count": 58,
   "metadata": {},
   "outputs": [
    {
     "name": "stdout",
     "output_type": "stream",
     "text": [
      "Proporções do target:\n",
      "Training: 0.166\n",
      "Validation: 0.166\n",
      "Test: 0.166\n"
     ]
    }
   ],
   "source": [
    "print(\"Proporções do target:\")\n",
    "print(f\"Training: {y_tr.mean():.3f}\")\n",
    "print(f\"Validation: {y_val.mean():.3f}\")\n",
    "print(f\"Test: {y_test.mean():.3f}\")"
   ]
  },
  {
   "cell_type": "code",
   "execution_count": 59,
   "metadata": {},
   "outputs": [
    {
     "name": "stdout",
     "output_type": "stream",
     "text": [
      "Número total de amostras no dataset original: 11991\n",
      "\n",
      "--- Divisão Treino/Teste ---\n",
      "Treino (X_train): 9592 amostras\n",
      "Teste (X_test): 2399 amostras\n",
      "\n",
      "--- Subdivisão Treino/Validação ---\n",
      "Treino Final (X_tr): 7194 amostras\n",
      "Validação (X_val): 2398 amostras\n",
      "\n",
      "Proporção do target (churn):\n",
      "- Treino Final (y_tr):\n",
      "0    0.833889\n",
      "1    0.166111\n",
      "Name: employee_left, dtype: float64\n",
      "\n",
      "- Validação (y_val):\n",
      "0    0.834028\n",
      "1    0.165972\n",
      "Name: employee_left, dtype: float64\n",
      "\n",
      "- Teste (y_test):\n",
      "0    0.834098\n",
      "1    0.165902\n",
      "Name: employee_left, dtype: float64\n"
     ]
    }
   ],
   "source": [
    "print(f\"Número total de amostras no dataset original: {len(df)}\")\n",
    "\n",
    "# Verificar treino, validação e teste\n",
    "print(\"\\n--- Divisão Treino/Teste ---\")\n",
    "print(f\"Treino (X_train): {X_train.shape[0]} amostras\")\n",
    "print(f\"Teste (X_test): {X_test.shape[0]} amostras\")\n",
    "\n",
    "print(\"\\n--- Subdivisão Treino/Validação ---\")\n",
    "print(f\"Treino Final (X_tr): {X_tr.shape[0]} amostras\")\n",
    "print(f\"Validação (X_val): {X_val.shape[0]} amostras\")\n",
    "\n",
    "# Verificar proporção da variável target\n",
    "print(\"\\nProporção do target (churn):\")\n",
    "print(\"- Treino Final (y_tr):\")\n",
    "print(y_tr.value_counts(normalize=True))\n",
    "print(\"\\n- Validação (y_val):\")\n",
    "print(y_val.value_counts(normalize=True))\n",
    "print(\"\\n- Teste (y_test):\")\n",
    "print(y_test.value_counts(normalize=True))"
   ]
  },
  {
   "cell_type": "markdown",
   "metadata": {},
   "source": [
    "---\n",
    "\n",
    "### 2. Modelagem:"
   ]
  },
  {
   "cell_type": "markdown",
   "metadata": {},
   "source": [
    "#### Random forest\n",
    "\n",
    "Começarei usando o GridSearchCV para ajustar o modelo.\n",
    "\n",
    "- Instanciarei o classificador da Random forest `rf`.\n",
    "- Criarei um dicionário cv_params com hiperparâmetros e seus valores correspondentes.\n",
    "- Defina uma lista de pontuação de métricas de pontuação para o GridSearch capturar.\n",
    "- Instanciarei o objeto GridSearchCV rf_cv. \n"
   ]
  },
  {
   "cell_type": "markdown",
   "metadata": {},
   "source": [
    "Por motivos de eficiencia estarei colcando os melhores parametros diretamente, porém esses foram o que usei na GridSearchCV:\n",
    "\n",
    "cv_params = {\n",
    "    'n_estimators': [100, 200, 300],           \n",
    "    'max_depth': [10, 20, 30, None],          \n",
    "    'min_samples_split': [2, 5, 10],           \n",
    "    'min_samples_leaf': [1, 2, 4],             \n",
    "    'max_features': ['sqrt', 'log2'],          \n",
    "    'max_samples': [0.7, 0.8, 0.9]         \n",
    "}\n",
    "\n",
    "*Optei por essa grade, pois um número de combinações gerenciável para rodar num PC pessoal.*"
   ]
  },
  {
   "cell_type": "code",
   "execution_count": 60,
   "metadata": {},
   "outputs": [],
   "source": [
    "# 1. Criar o modelo Random Forest\n",
    "rf = RandomForestClassifier(class_weight='balanced', random_state=42)\n",
    "\n",
    "# 2. Criar um dicionário de hiperparâmetros para o Grid Search\n",
    "cv_params = {\n",
    " 'max_depth': [10],           # Profundidade máxima das árvoreso\n",
    " 'max_features': ['sqrt'],    # Estratégia para escolher os recursos em cada split\n",
    " 'max_samples': [0.8],        # Fração de amostras usadas para treinar cada árvore (bootstrap)\n",
    " 'min_samples_leaf': [1],     # Mínimo de amostras em uma folha\n",
    " 'min_samples_split': [5],    # Mínimo de amostras para dividir um nó\n",
    " 'n_estimators': [200]        # Número de árvores na floresta\n",
    "}\n",
    "\n",
    "# 3. Definir métricas\n",
    "scoring = {\n",
    "    'accuracy': 'accuracy',\n",
    "    'precision': 'precision',\n",
    "    'recall': 'recall',\n",
    "    'f1': 'f1'\n",
    "}\n",
    "\n",
    "# 4. Criar o GridSearchCV com a divisão customizada\n",
    "rf_cv = GridSearchCV(\n",
    "    rf, \n",
    "    cv_params, \n",
    "    scoring=scoring, \n",
    "    cv=StratifiedKFold(n_splits=5, shuffle=True, random_state=42),\n",
    "    refit='recall',  # Certifique-se de que essa métrica está no scoring\n",
    "    n_jobs=-1,       # Usa todos os núcleos da CPU\n",
    "    verbose=1        # Exibe progresso detalhado\n",
    ")"
   ]
  },
  {
   "cell_type": "code",
   "execution_count": 61,
   "metadata": {},
   "outputs": [
    {
     "name": "stdout",
     "output_type": "stream",
     "text": [
      "Fitting 5 folds for each of 1 candidates, totalling 5 fits\n"
     ]
    },
    {
     "name": "stderr",
     "output_type": "stream",
     "text": [
      "[Parallel(n_jobs=-1)]: Using backend LokyBackend with 32 concurrent workers.\n",
      "[Parallel(n_jobs=-1)]: Done   2 out of   5 | elapsed:    7.5s remaining:   11.2s\n",
      "[Parallel(n_jobs=-1)]: Done   5 out of   5 | elapsed:    7.7s finished\n"
     ]
    },
    {
     "name": "stdout",
     "output_type": "stream",
     "text": [
      "CPU times: user 1.17 s, sys: 350 ms, total: 1.52 s\n",
      "Wall time: 8.77 s\n"
     ]
    },
    {
     "data": {
      "text/plain": [
       "GridSearchCV(cv=StratifiedKFold(n_splits=5, random_state=42, shuffle=True),\n",
       "             error_score=nan,\n",
       "             estimator=RandomForestClassifier(bootstrap=True, ccp_alpha=0.0,\n",
       "                                              class_weight='balanced',\n",
       "                                              criterion='gini', max_depth=None,\n",
       "                                              max_features='auto',\n",
       "                                              max_leaf_nodes=None,\n",
       "                                              max_samples=None,\n",
       "                                              min_impurity_decrease=0.0,\n",
       "                                              min_impurity_split=None,\n",
       "                                              min_samples_leaf=1,\n",
       "                                              min_samples_split...\n",
       "                                              verbose=0, warm_start=False),\n",
       "             iid='deprecated', n_jobs=-1,\n",
       "             param_grid={'max_depth': [10], 'max_features': ['sqrt'],\n",
       "                         'max_samples': [0.8], 'min_samples_leaf': [1],\n",
       "                         'min_samples_split': [5], 'n_estimators': [200]},\n",
       "             pre_dispatch='2*n_jobs', refit='recall', return_train_score=False,\n",
       "             scoring={'accuracy': 'accuracy', 'f1': 'f1',\n",
       "                      'precision': 'precision', 'recall': 'recall'},\n",
       "             verbose=1)"
      ]
     },
     "execution_count": 61,
     "metadata": {},
     "output_type": "execute_result"
    }
   ],
   "source": [
    "%%time\n",
    "\n",
    "# Fit the model.\n",
    "rf_cv.fit(X_tr, y_tr)"
   ]
  },
  {
   "cell_type": "code",
   "execution_count": 62,
   "metadata": {},
   "outputs": [
    {
     "data": {
      "text/plain": [
       "0.902928870292887"
      ]
     },
     "execution_count": 62,
     "metadata": {},
     "output_type": "execute_result"
    }
   ],
   "source": [
    "# Examine best score\n",
    "rf_cv.best_score_"
   ]
  },
  {
   "cell_type": "code",
   "execution_count": 63,
   "metadata": {},
   "outputs": [
    {
     "data": {
      "text/plain": [
       "{'max_depth': 10,\n",
       " 'max_features': 'sqrt',\n",
       " 'max_samples': 0.8,\n",
       " 'min_samples_leaf': 1,\n",
       " 'min_samples_split': 5,\n",
       " 'n_estimators': 200}"
      ]
     },
     "execution_count": 63,
     "metadata": {},
     "output_type": "execute_result"
    }
   ],
   "source": [
    "# Examine best hyperparameter combo\n",
    "rf_cv.best_params_"
   ]
  },
  {
   "cell_type": "markdown",
   "metadata": {},
   "source": [
    "{'max_depth': 10,\n",
    " 'max_features': 'sqrt',\n",
    " 'max_samples': 0.8,\n",
    " 'min_samples_leaf': 1,\n",
    " 'min_samples_split': 5,\n",
    " 'n_estimators': 200}"
   ]
  },
  {
   "cell_type": "code",
   "execution_count": 64,
   "metadata": {},
   "outputs": [],
   "source": [
    "def make_results(model_name:str, model_object, metric:str):\n",
    "    '''\n",
    "    Arguments:\n",
    "        model_name (string): what you want the model to be called in the output table\n",
    "        model_object: a fit GridSearchCV object\n",
    "        metric (string): precision, recall, f1, or accuracy\n",
    "\n",
    "    Returns a pandas df with the F1, recall, precision, and accuracy scores\n",
    "    for the model with the best mean 'metric' score across all validation folds.\n",
    "    '''\n",
    "\n",
    "    # Create dictionary that maps input metric to actual metric name in GridSearchCV\n",
    "    metric_dict = {'precision': 'mean_test_precision',\n",
    "                   'recall': 'mean_test_recall',\n",
    "                   'f1': 'mean_test_f1',\n",
    "                   'accuracy': 'mean_test_accuracy',\n",
    "                   }\n",
    "\n",
    "    # Get all the results from the CV and put them in a df\n",
    "    cv_results = pd.DataFrame(model_object.cv_results_)\n",
    "\n",
    "    \n",
    "    # Isolate the row of the df with the max(metric) score\n",
    "    best_estimator_results = cv_results.iloc[cv_results[metric_dict[metric]].idxmax(), :]\n",
    "\n",
    "    # Extract accuracy, precision, recall, and f1 score from that row\n",
    "    f1 = best_estimator_results.mean_test_f1\n",
    "    recall = best_estimator_results.mean_test_recall\n",
    "    precision = best_estimator_results.mean_test_precision\n",
    "    accuracy = best_estimator_results.mean_test_accuracy\n",
    "\n",
    "    # Create table of results\n",
    "    table = pd.DataFrame({'model': [model_name],\n",
    "                          'precision': [precision],\n",
    "                          'recall': [recall],\n",
    "                          'F1': [f1],\n",
    "                          'accuracy': [accuracy],\n",
    "                          },\n",
    "                         )\n",
    "\n",
    "    return table"
   ]
  },
  {
   "cell_type": "code",
   "execution_count": 65,
   "metadata": {},
   "outputs": [
    {
     "data": {
      "text/html": [
       "<div>\n",
       "<style scoped>\n",
       "    .dataframe tbody tr th:only-of-type {\n",
       "        vertical-align: middle;\n",
       "    }\n",
       "\n",
       "    .dataframe tbody tr th {\n",
       "        vertical-align: top;\n",
       "    }\n",
       "\n",
       "    .dataframe thead th {\n",
       "        text-align: right;\n",
       "    }\n",
       "</style>\n",
       "<table border=\"1\" class=\"dataframe\">\n",
       "  <thead>\n",
       "    <tr style=\"text-align: right;\">\n",
       "      <th></th>\n",
       "      <th>model</th>\n",
       "      <th>precision</th>\n",
       "      <th>recall</th>\n",
       "      <th>F1</th>\n",
       "      <th>accuracy</th>\n",
       "    </tr>\n",
       "  </thead>\n",
       "  <tbody>\n",
       "    <tr>\n",
       "      <th>0</th>\n",
       "      <td>Random Forest CV</td>\n",
       "      <td>0.985469</td>\n",
       "      <td>0.902929</td>\n",
       "      <td>0.942327</td>\n",
       "      <td>0.981651</td>\n",
       "    </tr>\n",
       "  </tbody>\n",
       "</table>\n",
       "</div>"
      ],
      "text/plain": [
       "              model  precision    recall        F1  accuracy\n",
       "0  Random Forest CV   0.985469  0.902929  0.942327  0.981651"
      ]
     },
     "execution_count": 65,
     "metadata": {},
     "output_type": "execute_result"
    }
   ],
   "source": [
    "rf_cv_results = make_results('Random Forest CV', rf_cv, 'recall')\n",
    "\n",
    "rf_cv_results"
   ]
  },
  {
   "cell_type": "markdown",
   "metadata": {},
   "source": [
    "**Importância das Features:**\n",
    "    \n",
    "Confirmando se as features criadas (ex: workload_risk, evaluation_satisfaction_gap) foram relevantes."
   ]
  },
  {
   "cell_type": "code",
   "execution_count": 66,
   "metadata": {},
   "outputs": [
    {
     "name": "stdout",
     "output_type": "stream",
     "text": [
      "Features mais importantes:\n",
      " satisfaction_level             0.143339\n",
      "career_growth                  0.134413\n",
      "tenure                         0.131024\n",
      "workload_risk                  0.115922\n",
      "satisfaction_workload          0.113435\n",
      "evaluation_satisfaction_gap    0.064569\n",
      "projects_per_year              0.063230\n",
      "average_monthly_hours          0.059741\n",
      "last_evaluation                0.056137\n",
      "salary_satisfaction_index      0.047707\n",
      "dtype: float64\n"
     ]
    }
   ],
   "source": [
    "importances = rf_cv.best_estimator_.feature_importances_  \n",
    "features = pd.Series(importances, index=X_tr.columns).sort_values(ascending=False)  \n",
    "print(\"Features mais importantes:\\n\", features.head(10))  "
   ]
  },
  {
   "cell_type": "markdown",
   "metadata": {},
   "source": [
    "#### XGBoost\n",
    "\n",
    "Começarei usando o GridSearchCV para ajustar o modelo.\n",
    "\n",
    "- Instanciarei o classificador do XGBoost `xgb` e definir objective='binary:logistic'.\n",
    "- Criarei um dicionário cv_params com hiperparâmetros e seus valores correspondentes.\n",
    "- Definirei uma lista de pontuação de métricas de pontuação para o GridSearch capturar.\n",
    "- Instanciarei o objeto GridSearchCV xgb_cv. "
   ]
  },
  {
   "cell_type": "markdown",
   "metadata": {},
   "source": [
    "Por motivos de eficiencia estarei colcando os melhores parametros diretamente, porém esses foram o que usei na GridSearchCV:\n",
    "\n",
    "cv_params = {\n",
    "    'n_estimators': [100, 200, 300],          \n",
    "    'max_depth': [3, 6, 10, 15],              \n",
    "    'learning_rate': [0.01, 0.05, 0.1],      \n",
    "    'subsample': [0.7, 0.8, 1.0],             \n",
    "    'colsample_bytree': [0.7, 0.8, 1.0],      \n",
    "    'gamma': [0, 0.5, 1]                     \n",
    "}"
   ]
  },
  {
   "cell_type": "code",
   "execution_count": 67,
   "metadata": {},
   "outputs": [],
   "source": [
    "# 1. Instantiate the XGBoost classifier\n",
    "xgb = XGBClassifier(objective='binary:logistic', scale_pos_weight=5, random_state=42)\n",
    "\n",
    "# 2. Create a dictionary of hyperparameters to tune\n",
    "cv_params = {\n",
    " 'colsample_bytree': [1.0],\n",
    " 'gamma': [0],\n",
    " 'learning_rate': [0.1],\n",
    " 'max_depth': [3],\n",
    " 'n_estimators': [300],\n",
    " 'subsample': [1.0]                    \n",
    "}\n",
    "\n",
    "# 3. Definir métricas\n",
    "scoring = {\n",
    "    'accuracy': 'accuracy',\n",
    "    'precision': 'precision',\n",
    "    'recall': 'recall',\n",
    "    'f1': 'f1'\n",
    "}\n",
    "\n",
    "# 4. Instantiate the GridSearchCV object\n",
    "xgb_cv = GridSearchCV(\n",
    "    xgb, \n",
    "    cv_params, \n",
    "    scoring=scoring, \n",
    "    cv=StratifiedKFold(n_splits=5, shuffle=True, random_state=42),\n",
    "    refit='recall',  # Certifique-se de que essa métrica está no scoring\n",
    "    n_jobs=-1,       # Usa todos os núcleos da CPU\n",
    "    verbose=1        # Exibe progresso detalhado\n",
    ")"
   ]
  },
  {
   "cell_type": "code",
   "execution_count": 68,
   "metadata": {},
   "outputs": [
    {
     "name": "stdout",
     "output_type": "stream",
     "text": [
      "Fitting 5 folds for each of 1 candidates, totalling 5 fits\n"
     ]
    },
    {
     "name": "stderr",
     "output_type": "stream",
     "text": [
      "[Parallel(n_jobs=-1)]: Using backend LokyBackend with 32 concurrent workers.\n",
      "[Parallel(n_jobs=-1)]: Done   2 out of   5 | elapsed:    4.8s remaining:    7.2s\n",
      "[Parallel(n_jobs=-1)]: Done   5 out of   5 | elapsed:    5.1s finished\n"
     ]
    },
    {
     "name": "stdout",
     "output_type": "stream",
     "text": [
      "CPU times: user 35min 48s, sys: 2.47 s, total: 35min 51s\n",
      "Wall time: 18min 1s\n"
     ]
    },
    {
     "data": {
      "text/plain": [
       "GridSearchCV(cv=StratifiedKFold(n_splits=5, random_state=42, shuffle=True),\n",
       "             error_score=nan,\n",
       "             estimator=XGBClassifier(base_score=None, booster=None,\n",
       "                                     callbacks=None, colsample_bylevel=None,\n",
       "                                     colsample_bynode=None,\n",
       "                                     colsample_bytree=None,\n",
       "                                     early_stopping_rounds=None,\n",
       "                                     enable_categorical=False, eval_metric=None,\n",
       "                                     gamma=None, gpu_id=None, grow_policy=None,\n",
       "                                     importance_type=N...\n",
       "                                     predictor=None, random_state=42,\n",
       "                                     reg_alpha=None, ...),\n",
       "             iid='deprecated', n_jobs=-1,\n",
       "             param_grid={'colsample_bytree': [1.0], 'gamma': [0],\n",
       "                         'learning_rate': [0.1], 'max_depth': [3],\n",
       "                         'n_estimators': [300], 'subsample': [1.0]},\n",
       "             pre_dispatch='2*n_jobs', refit='recall', return_train_score=False,\n",
       "             scoring={'accuracy': 'accuracy', 'f1': 'f1',\n",
       "                      'precision': 'precision', 'recall': 'recall'},\n",
       "             verbose=1)"
      ]
     },
     "execution_count": 68,
     "metadata": {},
     "output_type": "execute_result"
    }
   ],
   "source": [
    "%%time\n",
    "\n",
    "# fit the GridSearch model to training data\n",
    "xgb_cv.fit(X_tr, y_tr)"
   ]
  },
  {
   "cell_type": "code",
   "execution_count": 69,
   "metadata": {},
   "outputs": [
    {
     "data": {
      "text/plain": [
       "0.9263598326359832"
      ]
     },
     "execution_count": 69,
     "metadata": {},
     "output_type": "execute_result"
    }
   ],
   "source": [
    "# Examine best score\n",
    "xgb_cv.best_score_"
   ]
  },
  {
   "cell_type": "code",
   "execution_count": 70,
   "metadata": {},
   "outputs": [
    {
     "data": {
      "text/plain": [
       "{'colsample_bytree': 1.0,\n",
       " 'gamma': 0,\n",
       " 'learning_rate': 0.1,\n",
       " 'max_depth': 3,\n",
       " 'n_estimators': 300,\n",
       " 'subsample': 1.0}"
      ]
     },
     "execution_count": 70,
     "metadata": {},
     "output_type": "execute_result"
    }
   ],
   "source": [
    "# Examine best parameters\n",
    "xgb_cv.best_params_"
   ]
  },
  {
   "cell_type": "markdown",
   "metadata": {},
   "source": [
    "{'colsample_bytree': 1.0,\n",
    " 'gamma': 0,\n",
    " 'learning_rate': 0.1,\n",
    " 'max_depth': 3,\n",
    " 'n_estimators': 300,\n",
    " 'subsample': 1.0}"
   ]
  },
  {
   "cell_type": "code",
   "execution_count": 71,
   "metadata": {},
   "outputs": [
    {
     "data": {
      "text/html": [
       "<div>\n",
       "<style scoped>\n",
       "    .dataframe tbody tr th:only-of-type {\n",
       "        vertical-align: middle;\n",
       "    }\n",
       "\n",
       "    .dataframe tbody tr th {\n",
       "        vertical-align: top;\n",
       "    }\n",
       "\n",
       "    .dataframe thead th {\n",
       "        text-align: right;\n",
       "    }\n",
       "</style>\n",
       "<table border=\"1\" class=\"dataframe\">\n",
       "  <thead>\n",
       "    <tr style=\"text-align: right;\">\n",
       "      <th></th>\n",
       "      <th>model</th>\n",
       "      <th>precision</th>\n",
       "      <th>recall</th>\n",
       "      <th>F1</th>\n",
       "      <th>accuracy</th>\n",
       "    </tr>\n",
       "  </thead>\n",
       "  <tbody>\n",
       "    <tr>\n",
       "      <th>0</th>\n",
       "      <td>Random Forest CV</td>\n",
       "      <td>0.985469</td>\n",
       "      <td>0.902929</td>\n",
       "      <td>0.942327</td>\n",
       "      <td>0.981651</td>\n",
       "    </tr>\n",
       "    <tr>\n",
       "      <th>0</th>\n",
       "      <td>XGBoost CV</td>\n",
       "      <td>0.913999</td>\n",
       "      <td>0.926360</td>\n",
       "      <td>0.919885</td>\n",
       "      <td>0.973172</td>\n",
       "    </tr>\n",
       "  </tbody>\n",
       "</table>\n",
       "</div>"
      ],
      "text/plain": [
       "              model  precision    recall        F1  accuracy\n",
       "0  Random Forest CV   0.985469  0.902929  0.942327  0.981651\n",
       "0        XGBoost CV   0.913999  0.926360  0.919885  0.973172"
      ]
     },
     "execution_count": 71,
     "metadata": {},
     "output_type": "execute_result"
    }
   ],
   "source": [
    "# Call 'make_results()' on the GridSearch object\n",
    "xgb_cv_results = make_results('XGBoost CV', xgb_cv, 'recall')\n",
    "\n",
    "results = pd.concat([rf_cv_results, xgb_cv_results], axis=0)\n",
    "\n",
    "results"
   ]
  },
  {
   "cell_type": "markdown",
   "metadata": {},
   "source": [
    "**Importância das Features:**\n",
    "    \n",
    "Checando as features criadas."
   ]
  },
  {
   "cell_type": "code",
   "execution_count": 72,
   "metadata": {},
   "outputs": [
    {
     "name": "stdout",
     "output_type": "stream",
     "text": [
      "Features mais importantes:\n",
      " workload_risk                  0.668782\n",
      "tenure                         0.084493\n",
      "tenure_group_high_risk         0.061144\n",
      "satisfaction_workload          0.034641\n",
      "satisfaction_level             0.032222\n",
      "career_growth                  0.026465\n",
      "evaluation_satisfaction_gap    0.019054\n",
      "projects_per_year              0.018113\n",
      "work_accident                  0.012459\n",
      "average_monthly_hours          0.010120\n",
      "dtype: float32\n"
     ]
    }
   ],
   "source": [
    "importances = xgb_cv.best_estimator_.feature_importances_  \n",
    "features = pd.Series(importances, index=X_tr.columns).sort_values(ascending=False)  \n",
    "print(\"Features mais importantes:\\n\", features.head(10))  "
   ]
  },
  {
   "cell_type": "markdown",
   "metadata": {},
   "source": [
    "#### Prever com base nos dados de validação "
   ]
  },
  {
   "cell_type": "code",
   "execution_count": 73,
   "metadata": {},
   "outputs": [],
   "source": [
    "# Use o modelo random forest para fazer previsões nos dados de validação\n",
    "rf_val_preds = rf_cv.best_estimator_.predict(X_val)"
   ]
  },
  {
   "cell_type": "code",
   "execution_count": 74,
   "metadata": {},
   "outputs": [],
   "source": [
    "def get_test_scores(model_name:str, preds, y_test_data):\n",
    "    '''\n",
    "    Generate a table of test scores.\n",
    "\n",
    "    In:\n",
    "        model_name (string): Your choice: how the model will be named in the output table\n",
    "        preds: numpy array of test predictions\n",
    "        y_test_data: numpy array of y_test data\n",
    "\n",
    "    Out:\n",
    "        table: a pandas df of precision, recall, f1, and accuracy scores for your model\n",
    "    '''\n",
    "    accuracy = metrics.accuracy_score(y_test_data, preds)\n",
    "    precision = metrics.precision_score(y_test_data, preds)\n",
    "    recall = metrics.recall_score(y_test_data, preds)\n",
    "    f1 = metrics.f1_score(y_test_data, preds)\n",
    "\n",
    "    table = pd.DataFrame({'model': [model_name],\n",
    "                          'precision': [precision],\n",
    "                          'recall': [recall],\n",
    "                          'F1': [f1],\n",
    "                          'accuracy': [accuracy]\n",
    "                          })\n",
    "\n",
    "    return table"
   ]
  },
  {
   "cell_type": "code",
   "execution_count": 75,
   "metadata": {},
   "outputs": [
    {
     "data": {
      "text/html": [
       "<div>\n",
       "<style scoped>\n",
       "    .dataframe tbody tr th:only-of-type {\n",
       "        vertical-align: middle;\n",
       "    }\n",
       "\n",
       "    .dataframe tbody tr th {\n",
       "        vertical-align: top;\n",
       "    }\n",
       "\n",
       "    .dataframe thead th {\n",
       "        text-align: right;\n",
       "    }\n",
       "</style>\n",
       "<table border=\"1\" class=\"dataframe\">\n",
       "  <thead>\n",
       "    <tr style=\"text-align: right;\">\n",
       "      <th></th>\n",
       "      <th>model</th>\n",
       "      <th>precision</th>\n",
       "      <th>recall</th>\n",
       "      <th>F1</th>\n",
       "      <th>accuracy</th>\n",
       "    </tr>\n",
       "  </thead>\n",
       "  <tbody>\n",
       "    <tr>\n",
       "      <th>0</th>\n",
       "      <td>Random Forest CV</td>\n",
       "      <td>0.985469</td>\n",
       "      <td>0.902929</td>\n",
       "      <td>0.942327</td>\n",
       "      <td>0.981651</td>\n",
       "    </tr>\n",
       "    <tr>\n",
       "      <th>0</th>\n",
       "      <td>XGBoost CV</td>\n",
       "      <td>0.913999</td>\n",
       "      <td>0.926360</td>\n",
       "      <td>0.919885</td>\n",
       "      <td>0.973172</td>\n",
       "    </tr>\n",
       "    <tr>\n",
       "      <th>0</th>\n",
       "      <td>Random Forest VAL</td>\n",
       "      <td>0.973118</td>\n",
       "      <td>0.909548</td>\n",
       "      <td>0.940260</td>\n",
       "      <td>0.980817</td>\n",
       "    </tr>\n",
       "  </tbody>\n",
       "</table>\n",
       "</div>"
      ],
      "text/plain": [
       "               model  precision    recall        F1  accuracy\n",
       "0   Random Forest CV   0.985469  0.902929  0.942327  0.981651\n",
       "0         XGBoost CV   0.913999  0.926360  0.919885  0.973172\n",
       "0  Random Forest VAL   0.973118  0.909548  0.940260  0.980817"
      ]
     },
     "execution_count": 75,
     "metadata": {},
     "output_type": "execute_result"
    }
   ],
   "source": [
    "# Get validation scores for RF model\n",
    "rf_val_scores = get_test_scores('Random Forest VAL', rf_val_preds, y_val)\n",
    "\n",
    "# Append to the results table\n",
    "results = pd.concat([results, rf_val_scores], axis=0)\n",
    "results"
   ]
  },
  {
   "cell_type": "code",
   "execution_count": 76,
   "metadata": {},
   "outputs": [],
   "source": [
    "# Use o modelo XGBoost para fazer previsões nos dados de validação\n",
    "xgb_val_preds = xgb_cv.best_estimator_.predict(X_val)"
   ]
  },
  {
   "cell_type": "code",
   "execution_count": 77,
   "metadata": {},
   "outputs": [
    {
     "data": {
      "text/html": [
       "<div>\n",
       "<style scoped>\n",
       "    .dataframe tbody tr th:only-of-type {\n",
       "        vertical-align: middle;\n",
       "    }\n",
       "\n",
       "    .dataframe tbody tr th {\n",
       "        vertical-align: top;\n",
       "    }\n",
       "\n",
       "    .dataframe thead th {\n",
       "        text-align: right;\n",
       "    }\n",
       "</style>\n",
       "<table border=\"1\" class=\"dataframe\">\n",
       "  <thead>\n",
       "    <tr style=\"text-align: right;\">\n",
       "      <th></th>\n",
       "      <th>model</th>\n",
       "      <th>precision</th>\n",
       "      <th>recall</th>\n",
       "      <th>F1</th>\n",
       "      <th>accuracy</th>\n",
       "    </tr>\n",
       "  </thead>\n",
       "  <tbody>\n",
       "    <tr>\n",
       "      <th>0</th>\n",
       "      <td>Random Forest CV</td>\n",
       "      <td>0.985469</td>\n",
       "      <td>0.902929</td>\n",
       "      <td>0.942327</td>\n",
       "      <td>0.981651</td>\n",
       "    </tr>\n",
       "    <tr>\n",
       "      <th>0</th>\n",
       "      <td>XGBoost CV</td>\n",
       "      <td>0.913999</td>\n",
       "      <td>0.926360</td>\n",
       "      <td>0.919885</td>\n",
       "      <td>0.973172</td>\n",
       "    </tr>\n",
       "    <tr>\n",
       "      <th>0</th>\n",
       "      <td>Random Forest VAL</td>\n",
       "      <td>0.973118</td>\n",
       "      <td>0.909548</td>\n",
       "      <td>0.940260</td>\n",
       "      <td>0.980817</td>\n",
       "    </tr>\n",
       "    <tr>\n",
       "      <th>0</th>\n",
       "      <td>XGBoost VAL</td>\n",
       "      <td>0.916870</td>\n",
       "      <td>0.942211</td>\n",
       "      <td>0.929368</td>\n",
       "      <td>0.976230</td>\n",
       "    </tr>\n",
       "  </tbody>\n",
       "</table>\n",
       "</div>"
      ],
      "text/plain": [
       "               model  precision    recall        F1  accuracy\n",
       "0   Random Forest CV   0.985469  0.902929  0.942327  0.981651\n",
       "0         XGBoost CV   0.913999  0.926360  0.919885  0.973172\n",
       "0  Random Forest VAL   0.973118  0.909548  0.940260  0.980817\n",
       "0        XGBoost VAL   0.916870  0.942211  0.929368  0.976230"
      ]
     },
     "execution_count": 77,
     "metadata": {},
     "output_type": "execute_result"
    }
   ],
   "source": [
    "# Get validation scores for XGBoost model\n",
    "xgb_val_scores = get_test_scores('XGBoost VAL', xgb_val_preds, y_val)\n",
    "\n",
    "# Append to the results table\n",
    "results = pd.concat([results, xgb_val_scores], axis=0)\n",
    "results"
   ]
  },
  {
   "cell_type": "markdown",
   "metadata": {},
   "source": [
    "### Observações:\n",
    "\n",
    "Priorizei o `recall` para o contexto da Salifort Motors:\n",
    " \n",
    "O Recall mede a capacidade do modelo de **identificar corretamente funcionários que deixarão a empresa**.  \n",
    "- **Custo de um falso negativo (FN):**  \n",
    "  Se o modelo falhar em prever a saída de um funcionário (**FN**), a Salifort perderá a oportunidade de intervir, arcando com custos de:  \n",
    "  - Recrutamento de substitutos.  \n",
    "  - Treinamento e integração.  \n",
    "  - Perda de produtividade durante a transição. \n",
    "  \n",
    "<blank>\n",
    "    \n",
    "- **Custo de um falso positivo (FP):**  \n",
    "  Se o modelo prever que um funcionário sairá, mas ele permanecer (**FP**), o custo é menor:  \n",
    "  - Ações de retenção (ex: feedback, ajuste de carga de trabalho) são investimentos em um funcionário que já está na empresa.  "
   ]
  },
  {
   "cell_type": "markdown",
   "metadata": {
    "id": "moS7voiMOW67"
   },
   "source": [
    "**Quais variáveis independentes você escolheu para o modelo e por quê?**  \n",
    "   - **workload_risk**: para identificar funcionários subutilizados (2 projetos) ou sobrecarregados (6 ou mais).  \n",
    "   - **projects_per_year**: mede a pressão de projetos ao longo do tempo de empresa.  \n",
    "   - **tenure_promotion_interaction**: destaca funcionários com muito tempo de casa sem promoção.  \n",
    "   - **salary_satisfaction_index**: combina salário e satisfação, trazendo granularidade ao impacto da remuneração.  \n",
    "   - **evaluation_satisfaction_gap**: expõe desalinhamentos entre alto desempenho e baixa satisfação.  \n",
    "   - **satisfaction_workload**: relaciona satisfação com carga horária, útil para detectar riscos de burnout.  \n",
    "   - **career_growth**: reflete potencial de crescimento (número de projetos × avaliação).  \n",
    "   - **tenure_group**: agrupa funcionários pelo tempo na empresa (curto, médio, longo).  \n",
    "   Além dessas features criadas, mantivemos as variáveis originais mais relevantes (por exemplo, `satisfaction_level`, `average_monthly_hours`, etc.), removendo `department` após a EDA indicar baixa relevância.  \n",
    "\n",
    "**As suposições foram atendidas?**  \n",
    "   Modelos como **Random Forest** e **XGBoost** não exigem suposições fortes de distribuição (ao contrário de modelos lineares). As principais preocupações eram:  \n",
    "   - **Dados sem grandes inconsistências** (valores ausentes, outliers extremos).  \n",
    "   - **Balanceamento** (ou compensação via `class_weight` e `scale_pos_weight`).  \n",
    "   Ambas foram tratadas. Logo, podemos dizer que as suposições necessárias para esses modelos foram atendidas.  \n",
    "\n",
    "**Quão bem o modelo se ajusta aos dados?**  \n",
    "   Pelas métricas de validação, ambos os modelos atingiram **alta precisão e recall**. O **Random Forest** ficou com recall em torno de 90% e o **XGBoost** chegou a ~92–94% de recall, mantendo boa precisão e acurácia acima de 97%. Isso indica **bom ajuste** aos dados de treinamento e validação. Ainda assim, é essencial confirmar com o **conjunto de teste** para garantir que não haja overfitting.  \n",
    "\n",
    "**Você pode melhorá-lo? Há algo que você mudaria no modelo?**  \n",
    "   - **Testar mais combinações de hiperparâmetros** ou usar **RandomizedSearchCV** com uma grade maior, se o tempo de processamento permitir.  \n",
    "   - **Aplicar early stopping** no XGBoost para reduzir possíveis overfits e otimizar o número de iterações.  \n",
    "   - **Analisar feature importance** em maior detalhe, possivelmente removendo variáveis redundantes.  \n",
    "   - **Verificar métricas adicionais**, como a curva ROC ou a curva de precisão-recall, para confirmar a qualidade do modelo em diferentes thresholds.  \n",
    "\n",
    "**Quais recursos forma utilizados para concluir esta etapa?**  \n",
    "   - **Documentação do Scikit-Learn** (para RandomForest e GridSearchCV):  \n",
    "     [https://scikit-learn.org/stable/](https://scikit-learn.org/stable/)  \n",
    "   - **Documentação do XGBoost** (parâmetros e métodos de treino):  \n",
    "     [https://xgboost.readthedocs.io/en/stable/](https://xgboost.readthedocs.io/en/stable/)  \n",
    "   - **Documentação do Pandas** (para manipulação de dados):  \n",
    "     [https://pandas.pydata.org/docs/](https://pandas.pydata.org/docs/)  \n",
    "   - **Documentação do NumPy** (para arrays e funções matemáticas):  \n",
    "     [https://numpy.org/doc/](https://numpy.org/doc/)  \n",
    "   - **Documentação do Matplotlib/Seaborn** (para visualizações):  \n",
    "     [https://matplotlib.org/stable/](https://matplotlib.org/stable/)  \n",
    "     [https://seaborn.pydata.org/](https://seaborn.pydata.org/)  \n",
    "\n",
    "**Você tem alguma consideração ética nesta fase?**  \n",
    "   Sim. Estamos lidando com **dados de funcionários**, portanto:  \n",
    "   - **Privacidade**: Devemos proteger informações sensíveis e não expor dados individuais.  \n",
    "   - **Transparência**: Se o modelo for usado para ações de retenção, é importante comunicar aos funcionários a existência de análises preditivas.  \n",
    "   - **Viés**: Verificar se o modelo não está aprendendo padrões discriminatórios (por exemplo, contra certos grupos).  \n",
    "   - **Uso responsável**: Garantir que as predições não resultem em “rotular” funcionários injustamente, prejudicando promoções ou oportunidades."
   ]
  },
  {
   "cell_type": "markdown",
   "metadata": {
    "id": "401PgchTPr4E"
   },
   "source": [
    "# Execução"
   ]
  },
  {
   "cell_type": "markdown",
   "metadata": {
    "id": "6pBUk35yTDaL"
   },
   "source": [
    "## Etapa 4. Resultados e avaliação\n",
    "- Interpretar o modelo\n",
    "- Avaliar o desempenho do modelo usando métricas\n",
    "- Preparar resultados, visualizações e etapas acionáveis para compartilhar com as partes interessadas"
   ]
  },
  {
   "cell_type": "markdown",
   "metadata": {},
   "source": [
    "---\n",
    "\n",
    "### 1. Usando o modelo escolhido para fazer previsões nos dados de teste"
   ]
  },
  {
   "cell_type": "code",
   "execution_count": 78,
   "metadata": {},
   "outputs": [],
   "source": [
    "# Use o modelo XGBoost para fazer previsões nos dados de teste\n",
    "xgb_test_preds = xgb_cv.best_estimator_.predict(X_test)"
   ]
  },
  {
   "cell_type": "code",
   "execution_count": 79,
   "metadata": {},
   "outputs": [
    {
     "data": {
      "text/html": [
       "<div>\n",
       "<style scoped>\n",
       "    .dataframe tbody tr th:only-of-type {\n",
       "        vertical-align: middle;\n",
       "    }\n",
       "\n",
       "    .dataframe tbody tr th {\n",
       "        vertical-align: top;\n",
       "    }\n",
       "\n",
       "    .dataframe thead th {\n",
       "        text-align: right;\n",
       "    }\n",
       "</style>\n",
       "<table border=\"1\" class=\"dataframe\">\n",
       "  <thead>\n",
       "    <tr style=\"text-align: right;\">\n",
       "      <th></th>\n",
       "      <th>model</th>\n",
       "      <th>precision</th>\n",
       "      <th>recall</th>\n",
       "      <th>F1</th>\n",
       "      <th>accuracy</th>\n",
       "    </tr>\n",
       "  </thead>\n",
       "  <tbody>\n",
       "    <tr>\n",
       "      <th>0</th>\n",
       "      <td>Random Forest CV</td>\n",
       "      <td>0.985469</td>\n",
       "      <td>0.902929</td>\n",
       "      <td>0.942327</td>\n",
       "      <td>0.981651</td>\n",
       "    </tr>\n",
       "    <tr>\n",
       "      <th>0</th>\n",
       "      <td>XGBoost CV</td>\n",
       "      <td>0.913999</td>\n",
       "      <td>0.926360</td>\n",
       "      <td>0.919885</td>\n",
       "      <td>0.973172</td>\n",
       "    </tr>\n",
       "    <tr>\n",
       "      <th>0</th>\n",
       "      <td>Random Forest VAL</td>\n",
       "      <td>0.973118</td>\n",
       "      <td>0.909548</td>\n",
       "      <td>0.940260</td>\n",
       "      <td>0.980817</td>\n",
       "    </tr>\n",
       "    <tr>\n",
       "      <th>0</th>\n",
       "      <td>XGBoost VAL</td>\n",
       "      <td>0.916870</td>\n",
       "      <td>0.942211</td>\n",
       "      <td>0.929368</td>\n",
       "      <td>0.976230</td>\n",
       "    </tr>\n",
       "    <tr>\n",
       "      <th>0</th>\n",
       "      <td>XGB test</td>\n",
       "      <td>0.896635</td>\n",
       "      <td>0.937186</td>\n",
       "      <td>0.916462</td>\n",
       "      <td>0.971655</td>\n",
       "    </tr>\n",
       "  </tbody>\n",
       "</table>\n",
       "</div>"
      ],
      "text/plain": [
       "               model  precision    recall        F1  accuracy\n",
       "0   Random Forest CV   0.985469  0.902929  0.942327  0.981651\n",
       "0         XGBoost CV   0.913999  0.926360  0.919885  0.973172\n",
       "0  Random Forest VAL   0.973118  0.909548  0.940260  0.980817\n",
       "0        XGBoost VAL   0.916870  0.942211  0.929368  0.976230\n",
       "0           XGB test   0.896635  0.937186  0.916462  0.971655"
      ]
     },
     "execution_count": 79,
     "metadata": {},
     "output_type": "execute_result"
    }
   ],
   "source": [
    "# Get test scores for XGBoost model\n",
    "xgb_test_scores = get_test_scores('XGB test', xgb_test_preds, y_test)\n",
    "\n",
    "# Append to the results table\n",
    "results = pd.concat([results, xgb_test_scores], axis=0)\n",
    "results"
   ]
  },
  {
   "cell_type": "markdown",
   "metadata": {},
   "source": [
    "---\n",
    "\n",
    "### 2. Confusion matrix"
   ]
  },
  {
   "cell_type": "code",
   "execution_count": 80,
   "metadata": {},
   "outputs": [],
   "source": [
    "# Construct the confusion matrix for your predicted and test values.\n",
    "def conf_matrix_plot(model, x_data, y_data):\n",
    "    '''\n",
    "    Aceita um modelo, dados X (teste/validação) e y (teste/validação).\n",
    "    Plota a matriz de confusão para as previsões em y.\n",
    "    ''' \n",
    "    xgb_test_preds = xgb_cv.predict(x_data)\n",
    "    cm = metrics.confusion_matrix(y_data, xgb_test_preds, labels=xgb_cv.classes_)\n",
    "    disp = metrics.ConfusionMatrixDisplay(confusion_matrix=cm, display_labels=['ficar', 'sair'])\n",
    "    \n",
    "# Plotar dentro da função\n",
    "    disp.plot(values_format='') # `values_format=''` suppresses scientific notation\n",
    "    plt.show()"
   ]
  },
  {
   "cell_type": "code",
   "execution_count": 81,
   "metadata": {},
   "outputs": [
    {
     "data": {
      "image/png": "[encoded data removed]",
      "text/plain": [
       "<Figure size 432x288 with 2 Axes>"
      ]
     },
     "metadata": {
      "needs_background": "light"
     },
     "output_type": "display_data"
    }
   ],
   "source": [
    "# Chame a função, e ela já plotará a matriz\n",
    "conf_matrix_plot(xgb_cv, X_test, y_test)"
   ]
  },
  {
   "cell_type": "markdown",
   "metadata": {},
   "source": [
    "---\n",
    "\n",
    "### 3. Feature importance"
   ]
  },
  {
   "cell_type": "code",
   "execution_count": 82,
   "metadata": {},
   "outputs": [
    {
     "data": {
      "text/plain": [
       "<Figure size 432x288 with 0 Axes>"
      ]
     },
     "metadata": {},
     "output_type": "display_data"
    },
    {
     "data": {
      "image/png": "[encoded data removed]",
      "text/plain": [
       "<Figure size 432x288 with 1 Axes>"
      ]
     },
     "metadata": {
      "needs_background": "light"
     },
     "output_type": "display_data"
    }
   ],
   "source": [
    "# Cria uma nova figura\n",
    "plt.figure()\n",
    "\n",
    "# Plota a importância\n",
    "plot_importance(xgb_cv.best_estimator_)\n",
    "plt.show()\n",
    "\n",
    "# Fecha a figura explicitamente (opcional, mas útil em loops)\n",
    "plt.close()"
   ]
  },
  {
   "cell_type": "markdown",
   "metadata": {
    "id": "GXrsxT498Z7h"
   },
   "source": [
    "### Resumo dos resultados do modelo"
   ]
  },
  {
   "cell_type": "markdown",
   "metadata": {},
   "source": [
    "**Desempenho Geral do Modelo (XGBoost no Conjunto de Teste):**\n",
    "\n",
    "| Métrica      | Valor   | Interpretação                                                                 |\n",
    "|--------------|---------|-------------------------------------------------------------------------------|\n",
    "| **Recall**   | 93.72%  | O modelo detecta **93.7% dos funcionários que realmente saem**, minimizando custos de rotatividade não prevista. |\n",
    "| **Precisão** | 89.66%  | Apenas **10.3% das previsões de saída são falsos positivos**, indicando eficiência em ações de retenção. |\n",
    "| **F1-Score** | 91.65%  | Equilíbrado entre precisão e recall, adequado para o objetivo do negócio. |\n",
    "| **Acurácia** | 97.17%  | Alta, mas influenciada pelo desbalanceamento das classes (83% \"ficar\"). |\n",
    "\n",
    "---\n",
    "\n",
    "**Matriz de Confusão (Teste):**\n",
    "\n",
    "|                     | **Previsto: Ficar** | **Previsto: Sair** |\n",
    "|---------------------|---------------------|--------------------|\n",
    "| **Real: Ficar**     | TN = 373            | FP = 25            |\n",
    "| **Real: Sair**      | FN = 43             | TP = 1958          |\n",
    "\n",
    "---\n",
    "\n",
    "**Pontos Fortes:**\n",
    "- **Alto Recall (93.7%):** Ideal para a Salifort, que prioriza evitar saídas não detectadas.  \n",
    "- **Features Interpretáveis:** Permitem ações diretas (ex: ajustar carga de trabalho).  \n",
    "- **Consistência:** Métricas similares em treino/validação/teste indicam **baixo overfitting**."
   ]
  },
  {
   "cell_type": "markdown",
   "metadata": {
    "id": "9MOMqelNLn2v"
   },
   "source": [
    "### Conclusão, recomendações e próximas etapas\n",
    "\n",
    "**Conclusão Geral do Projeto**\n",
    "\n",
    "O projeto de análise de dados sobre rotatividade de funcionários na Salifort Motors demonstrou que **o número de projetos** (tanto em excesso quanto em escassez) é um dos principais fatores de risco. Outras variáveis, como **nível de satisfação**, **carga horária** e **tempo de empresa sem promoções**, também influenciam fortemente a decisão do funcionário de permanecer ou sair. Após a criação de novas features e a comparação de diferentes algoritmos (Random Forest e XGBoost), o **XGBoost** obteve os melhores resultados, com elevada **revocação** (acima de 90%) e **precisão** igualmente alta, garantindo que a empresa possa identificar a maior parte dos funcionários em risco de saída, sem gerar muitos falsos alarmes.\n",
    "\n",
    "**Recomendações**  \n",
    "\n",
    "1. **Gerenciar a Alocação de Projetos**  \n",
    "   - Evitar sobrecarregar funcionários com muitos projetos (6 ou mais) e subutilizar aqueles com apenas 2 projetos.  \n",
    "   - Monitorar a métrica *workload_risk* regularmente para redistribuir tarefas e equilibrar a carga de trabalho.\n",
    "\n",
    "2. **Focar em Satisfação e Crescimento**  \n",
    "   - A satisfação (satisfaction_level) se correlaciona fortemente com a permanência. Investir em planos de carreira, feedbacks constantes e oportunidades de desenvolvimento.  \n",
    "   - Criar políticas que incentivem **promoções internas** ou novos desafios profissionais para evitar estagnação, especialmente para funcionários de média/longa permanência.\n",
    "\n",
    "3. **Usar o Modelo de Forma Proativa**  \n",
    "   - Implementar o **XGBoost** em ambiente de produção para detectar funcionários em risco, permitindo que o RH atue antecipadamente.  \n",
    "\n",
    "4. **Melhorar a Coleta de Dados**  \n",
    "   - Incluir variáveis adicionais (por exemplo: avaliações de liderança, dados de clima organizacional) para enriquecer a análise.  \n",
    "   - Garantir a **qualidade** e **atualização** dos dados para que o modelo continue relevante.\n",
    "\n",
    "5. **Monitorar Possíveis Vieses**  \n",
    "   - Verificar se o modelo não cria discriminações indiretas (por exemplo, contra grupos específicos).  \n",
    "   - Garantir transparência e privacidade dos funcionários ao utilizar o sistema de predição.\n",
    "\n",
    "**Próximas Etapas**  \n",
    "\n",
    "1. **Validação em Produção**  \n",
    "   - Aplicar o modelo em dados reais em tempo quase real e monitorar métricas de precisão, recall e F1.  \n",
    "   - Verificar se as **ações de retenção** propostas realmente reduzem o turnover.\n",
    "\n",
    "2. **Refinamento Contínuo do Modelo**  \n",
    "   - Usar técnicas como **early stopping** e **randomized search** para encontrar configurações ainda mais otimizadas do XGBoost.  \n",
    "   - Explorar **SHAP values** para entender detalhadamente como cada feature impacta as previsões.\n",
    "\n",
    "3. **Integração com Processos de RH**  \n",
    "   - Criar um **dashboard** que permita ao RH e gestores acompanhar em tempo real as métricas de risco de saída.  \n",
    "   - Desenvolver **protocolos de ação** quando um funcionário for classificado como alto risco (por exemplo, conversas individuais, planos de desenvolvimento).\n",
    "\n",
    "4. **Expansão dos Dados**  \n",
    "   - Avaliar a incorporação de dados externos, como benchmarks de mercado e pesquisas de satisfação anônimas, para ter uma visão ainda mais completa.\n",
    "\n",
    "Com essa estrutura, a Salifort Motors pode utilizar o modelo de forma assertiva, **reduzindo custos de rotatividade**, mantendo profissionais engajados e criando um ambiente de trabalho mais saudável e produtivo."
   ]
  }
 ],
 "metadata": {
  "colab": {
   "provenance": []
  },
  "gpuClass": "standard",
  "kernelspec": {
   "display_name": "Python [conda env:base] *",
   "language": "python",
   "name": "conda-base-py"
  },
  "language_info": {
   "codemirror_mode": {
    "name": "ipython",
    "version": 3
   },
   "file_extension": ".py",
   "mimetype": "text/x-python",
   "name": "python",
   "nbconvert_exporter": "python",
   "pygments_lexer": "ipython3",
   "version": "3.12.7"
  }
 },
 "nbformat": 4,
 "nbformat_minor": 4
}
