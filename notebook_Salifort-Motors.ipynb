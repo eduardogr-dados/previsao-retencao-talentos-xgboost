{
 "cells": [
  {
   "cell_type": "markdown",
   "metadata": {
    "id": "ysS5rgTMWpwL"
   },
   "source": [
    "# **Previsão de Rotatividade de Funcionários usando XGBoost na Salifort Motors**"
   ]
  },
  {
   "cell_type": "markdown",
   "metadata": {
    "id": "psz51YkZVwtN"
   },
   "source": [
    "## **Planejamento**"
   ]
  },
  {
   "cell_type": "markdown",
   "metadata": {
    "id": "lnRdR6eacUkK"
   },
   "source": [
    "### Informações sobre o conjunto de dados\n",
    "\n",
    "O conjunto de dados deste projeto contém 15.000 linhas e 10 colunas para as variáveis listadas abaixo. Para obter mais informações sobre os dados, consulte a fonte em [Kaggle](https://www.kaggle.com/datasets/mfaisalqureshi/hr-analytics-and-job-prediction?select=HR_comma_sep.csv)."
   ]
  },
  {
   "cell_type": "markdown",
   "metadata": {},
   "source": [
| Variable                | Description                                         |
|-------------------------|-----------------------------------------------------|
| satisfaction_level      | Employee-reported job satisfaction level [0-1]      |
| last_evaluation         | Score of employee's last performance review [0-1]   |
| number_project          | Number of projects employee contributes to          |
| average_monthly_hours   | Average number of hours employee worked per month   |
| time_spend_company      | How long the employee has been with the company (years) |
| Work_accident           | Whether or not the employee experienced an accident while at work |
| left                    | Whether or not the employee left the company       |
| promotion_last_5years   | Whether or not the employee was promoted in the last 5 years |
| Department              | The employee's department                           |
| salary                  | The employee's salary (U.S. dollars)                |
   ]
  },
  {
   "cell_type": "markdown",
   "metadata": {
    "id": "EAfj2mxlHyO3"
   },
   "source": [
    "### Objetivo  \n",
    "\n",
    "Desenvolver um modelo preditivo para estimar a probabilidade de um funcionário deixar a empresa, considerando variáveis como departamento, número de projetos, média de horas mensais, entre outros.  "
   ]
  },
  {
   "cell_type": "markdown",
   "metadata": {
    "id": "Dfnvw1HZsfbd"
   },
   "source": [
    "## Etapa 1. Importação\n",
    "\n",
    "* Importar pacotes\n",
    "* Carregar conjunto de dados"
   ]
  },
  {
   "cell_type": "markdown",
   "metadata": {
    "id": "51UAXIOLC_8P"
   },
   "source": [
    "### 1. Importar pacotes"
   ]
  },
  {
   "cell_type": "code",
   "execution_count": 7,
   "metadata": {
    "id": "hVWGpX9As4e1"
   },
   "outputs": [
    {
     "name": "stdout",
     "output_type": "stream",
     "text": [
      "Requirement already satisfied: xgboost in c:\\users\\cliente\\anaconda3\\lib\\site-packages (2.1.4)\n",
      "Requirement already satisfied: numpy in c:\\users\\cliente\\anaconda3\\lib\\site-packages (from xgboost) (1.26.4)\n",
      "Requirement already satisfied: scipy in c:\\users\\cliente\\anaconda3\\lib\\site-packages (from xgboost) (1.13.1)\n"
     ]
    }
   ],
   "source": [
    "# ======================================\n",
    "# Importações de pacotes operacionais padrão\n",
    "# ======================================\n",
    "import numpy as np\n",
    "import pandas as pd\n",
    "import pickle  # Para salvar modelos treinados\n",
    "\n",
    "# ======================================\n",
    "# Importações de pacotes de visualização\n",
    "# ======================================\n",
    "import matplotlib.pyplot as plt\n",
    "import seaborn as sns\n",
    "\n",
    "# Configuração do pandas para mostrar todas as colunas\n",
    "pd.set_option('display.max_columns', None)\n",
    "\n",
    "# Future warning off\n",
    "import warnings\n",
    "warnings.simplefilter(action='ignore', category=FutureWarning)\n",
    "\n",
    "# ======================================\n",
    "# Instalação de Dependências (Opcional)\n",
    "# ======================================\n",
    "!pip install xgboost\n",
    "\n",
    "# ======================================\n",
    "# Pacotes para Modelagem de Dados\n",
    "# ======================================\n",
    "\n",
    "# --- Pré-processamento e Validação ---\n",
    "from sklearn.model_selection import (\n",
    "    train_test_split,\n",
    "    GridSearchCV,\n",
    "    StratifiedKFold\n",
    ")\n",
    "\n",
    "# --- Métricas de Avaliação ---\n",
    "from sklearn import metrics\n",
    "\n",
    "# --- Algoritmos de Machine Learning ---\n",
    "# Modelos Ensemble\n",
    "from sklearn.ensemble import RandomForestClassifier\n",
    "\n",
    "# XGBoost (Extreme Gradient Boosting)\n",
    "from xgboost import XGBClassifier, plot_importance"
   ]
  },
  {
   "cell_type": "markdown",
   "metadata": {
    "id": "zM2P9yLWDIjN"
   },
   "source": [
    "### 2. Carregar conjunto de dados\n",
    "\n",
    "Leia o conjunto de dados chamado **`HR_capstone_dataset.csv`.** "
   ]
  },
  {
   "cell_type": "code",
   "execution_count": 9,
   "metadata": {
    "editable": true,
    "id": "Bs0cJR5BDPgQ",
    "slideshow": {
     "slide_type": ""
    },
    "tags": []
   },
   "outputs": [
    {
     "data": {
      "text/html": [
       "<div>\n",
       "<style scoped>\n",
       "    .dataframe tbody tr th:only-of-type {\n",
       "        vertical-align: middle;\n",
       "    }\n",
       "\n",
       "    .dataframe tbody tr th {\n",
       "        vertical-align: top;\n",
       "    }\n",
       "\n",
       "    .dataframe thead th {\n",
       "        text-align: right;\n",
       "    }\n",
       "</style>\n",
       "<table border=\"1\" class=\"dataframe\">\n",
       "  <thead>\n",
       "    <tr style=\"text-align: right;\">\n",
       "      <th></th>\n",
       "      <th>satisfaction_level</th>\n",
       "      <th>last_evaluation</th>\n",
       "      <th>number_project</th>\n",
       "      <th>average_montly_hours</th>\n",
       "      <th>time_spend_company</th>\n",
       "      <th>Work_accident</th>\n",
       "      <th>left</th>\n",
       "      <th>promotion_last_5years</th>\n",
       "      <th>Department</th>\n",
       "      <th>salary</th>\n",
       "    </tr>\n",
       "  </thead>\n",
       "  <tbody>\n",
       "    <tr>\n",
       "      <th>0</th>\n",
       "      <td>0.38</td>\n",
       "      <td>0.53</td>\n",
       "      <td>2</td>\n",
       "      <td>157</td>\n",
       "      <td>3</td>\n",
       "      <td>0</td>\n",
       "      <td>1</td>\n",
       "      <td>0</td>\n",
       "      <td>sales</td>\n",
       "      <td>low</td>\n",
       "    </tr>\n",
       "    <tr>\n",
       "      <th>1</th>\n",
       "      <td>0.80</td>\n",
       "      <td>0.86</td>\n",
       "      <td>5</td>\n",
       "      <td>262</td>\n",
       "      <td>6</td>\n",
       "      <td>0</td>\n",
       "      <td>1</td>\n",
       "      <td>0</td>\n",
       "      <td>sales</td>\n",
       "      <td>medium</td>\n",
       "    </tr>\n",
       "    <tr>\n",
       "      <th>2</th>\n",
       "      <td>0.11</td>\n",
       "      <td>0.88</td>\n",
       "      <td>7</td>\n",
       "      <td>272</td>\n",
       "      <td>4</td>\n",
       "      <td>0</td>\n",
       "      <td>1</td>\n",
       "      <td>0</td>\n",
       "      <td>sales</td>\n",
       "      <td>medium</td>\n",
       "    </tr>\n",
       "    <tr>\n",
       "      <th>3</th>\n",
       "      <td>0.72</td>\n",
       "      <td>0.87</td>\n",
       "      <td>5</td>\n",
       "      <td>223</td>\n",
       "      <td>5</td>\n",
       "      <td>0</td>\n",
       "      <td>1</td>\n",
       "      <td>0</td>\n",
       "      <td>sales</td>\n",
       "      <td>low</td>\n",
       "    </tr>\n",
       "    <tr>\n",
       "      <th>4</th>\n",
       "      <td>0.37</td>\n",
       "      <td>0.52</td>\n",
       "      <td>2</td>\n",
       "      <td>159</td>\n",
       "      <td>3</td>\n",
       "      <td>0</td>\n",
       "      <td>1</td>\n",
       "      <td>0</td>\n",
       "      <td>sales</td>\n",
       "      <td>low</td>\n",
       "    </tr>\n",
       "  </tbody>\n",
       "</table>\n",
       "</div>"
      ],
      "text/plain": [
       "   satisfaction_level  last_evaluation  number_project  average_montly_hours  \\\n",
       "0                0.38             0.53               2                   157   \n",
       "1                0.80             0.86               5                   262   \n",
       "2                0.11             0.88               7                   272   \n",
       "3                0.72             0.87               5                   223   \n",
       "4                0.37             0.52               2                   159   \n",
       "\n",
       "   time_spend_company  Work_accident  left  promotion_last_5years Department  \\\n",
       "0                   3              0     1                      0      sales   \n",
       "1                   6              0     1                      0      sales   \n",
       "2                   4              0     1                      0      sales   \n",
       "3                   5              0     1                      0      sales   \n",
       "4                   3              0     1                      0      sales   \n",
       "\n",
       "   salary  \n",
       "0     low  \n",
       "1  medium  \n",
       "2  medium  \n",
       "3     low  \n",
       "4     low  "
      ]
     },
     "execution_count": 9,
     "metadata": {},
     "output_type": "execute_result"
    }
   ],
   "source": [
    "# Carregar o conjunto de dados em um dataframe\n",
    "df0 = pd.read_csv(\"D:/#1 Ofice Work/#2 Certificados/Certificado Profissional Google Advanced Data Analytics/#7 Conclusão do curso/# Projeto final/Postar no Github/HR_capstone_dataset.csv\")\n",
    "\n",
    "# Exibir as primeiras linhas do dataframe\n",
    "df0.head()"
   ]
  },
  {
   "cell_type": "markdown",
   "metadata": {
    "id": "wF_LLorPs5G_"
   },
   "source": [
    "## Etapa 2. Exploração de dados (EDA inicial e limpeza de dados)\n",
    "\n",
    "- Entendendo as variáveis\n",
    "- Limpando o conjunto de dados (dados ausentes, dados redundantes, outliers)"
   ]
  },
  {
   "cell_type": "markdown",
   "metadata": {
    "id": "3LF6h1v9FYz2"
   },
   "source": [
    "### 1. Reunir informações sobre os dados"
   ]
  },
  {
   "cell_type": "code",
   "execution_count": 12,
   "metadata": {
    "id": "6XbfdPoKurMf"
   },
   "outputs": [
    {
     "name": "stdout",
     "output_type": "stream",
     "text": [
      "<class 'pandas.core.frame.DataFrame'>\n",
      "RangeIndex: 14999 entries, 0 to 14998\n",
      "Data columns (total 10 columns):\n",
      " #   Column                 Non-Null Count  Dtype  \n",
      "---  ------                 --------------  -----  \n",
      " 0   satisfaction_level     14999 non-null  float64\n",
      " 1   last_evaluation        14999 non-null  float64\n",
      " 2   number_project         14999 non-null  int64  \n",
      " 3   average_montly_hours   14999 non-null  int64  \n",
      " 4   time_spend_company     14999 non-null  int64  \n",
      " 5   Work_accident          14999 non-null  int64  \n",
      " 6   left                   14999 non-null  int64  \n",
      " 7   promotion_last_5years  14999 non-null  int64  \n",
      " 8   Department             14999 non-null  object \n",
      " 9   salary                 14999 non-null  object \n",
      "dtypes: float64(2), int64(6), object(2)\n",
      "memory usage: 1.1+ MB\n"
     ]
    }
   ],
   "source": [
    "# Informações básicas\n",
    "df0.info()"
   ]
  },
  {
   "cell_type": "code",
   "execution_count": 13,
   "metadata": {
    "id": "_5VRL-kzE8y1"
   },
   "outputs": [
    {
     "data": {
      "text/html": [
       "<div>\n",
       "<style scoped>\n",
       "    .dataframe tbody tr th:only-of-type {\n",
       "        vertical-align: middle;\n",
       "    }\n",
       "\n",
       "    .dataframe tbody tr th {\n",
       "        vertical-align: top;\n",
       "    }\n",
       "\n",
       "    .dataframe thead th {\n",
       "        text-align: right;\n",
       "    }\n",
       "</style>\n",
       "<table border=\"1\" class=\"dataframe\">\n",
       "  <thead>\n",
       "    <tr style=\"text-align: right;\">\n",
       "      <th></th>\n",
       "      <th>satisfaction_level</th>\n",
       "      <th>last_evaluation</th>\n",
       "      <th>number_project</th>\n",
       "      <th>average_montly_hours</th>\n",
       "      <th>time_spend_company</th>\n",
       "      <th>Work_accident</th>\n",
       "      <th>left</th>\n",
       "      <th>promotion_last_5years</th>\n",
       "    </tr>\n",
       "  </thead>\n",
       "  <tbody>\n",
       "    <tr>\n",
       "      <th>count</th>\n",
       "      <td>14999.000000</td>\n",
       "      <td>14999.000000</td>\n",
       "      <td>14999.000000</td>\n",
       "      <td>14999.000000</td>\n",
       "      <td>14999.000000</td>\n",
       "      <td>14999.000000</td>\n",
       "      <td>14999.000000</td>\n",
       "      <td>14999.000000</td>\n",
       "    </tr>\n",
       "    <tr>\n",
       "      <th>mean</th>\n",
       "      <td>0.612834</td>\n",
       "      <td>0.716102</td>\n",
       "      <td>3.803054</td>\n",
       "      <td>201.050337</td>\n",
       "      <td>3.498233</td>\n",
       "      <td>0.144610</td>\n",
       "      <td>0.238083</td>\n",
       "      <td>0.021268</td>\n",
       "    </tr>\n",
       "    <tr>\n",
       "      <th>std</th>\n",
       "      <td>0.248631</td>\n",
       "      <td>0.171169</td>\n",
       "      <td>1.232592</td>\n",
       "      <td>49.943099</td>\n",
       "      <td>1.460136</td>\n",
       "      <td>0.351719</td>\n",
       "      <td>0.425924</td>\n",
       "      <td>0.144281</td>\n",
       "    </tr>\n",
       "    <tr>\n",
       "      <th>min</th>\n",
       "      <td>0.090000</td>\n",
       "      <td>0.360000</td>\n",
       "      <td>2.000000</td>\n",
       "      <td>96.000000</td>\n",
       "      <td>2.000000</td>\n",
       "      <td>0.000000</td>\n",
       "      <td>0.000000</td>\n",
       "      <td>0.000000</td>\n",
       "    </tr>\n",
       "    <tr>\n",
       "      <th>25%</th>\n",
       "      <td>0.440000</td>\n",
       "      <td>0.560000</td>\n",
       "      <td>3.000000</td>\n",
       "      <td>156.000000</td>\n",
       "      <td>3.000000</td>\n",
       "      <td>0.000000</td>\n",
       "      <td>0.000000</td>\n",
       "      <td>0.000000</td>\n",
       "    </tr>\n",
       "    <tr>\n",
       "      <th>50%</th>\n",
       "      <td>0.640000</td>\n",
       "      <td>0.720000</td>\n",
       "      <td>4.000000</td>\n",
       "      <td>200.000000</td>\n",
       "      <td>3.000000</td>\n",
       "      <td>0.000000</td>\n",
       "      <td>0.000000</td>\n",
       "      <td>0.000000</td>\n",
       "    </tr>\n",
       "    <tr>\n",
       "      <th>75%</th>\n",
       "      <td>0.820000</td>\n",
       "      <td>0.870000</td>\n",
       "      <td>5.000000</td>\n",
       "      <td>245.000000</td>\n",
       "      <td>4.000000</td>\n",
       "      <td>0.000000</td>\n",
       "      <td>0.000000</td>\n",
       "      <td>0.000000</td>\n",
       "    </tr>\n",
       "    <tr>\n",
       "      <th>max</th>\n",
       "      <td>1.000000</td>\n",
       "      <td>1.000000</td>\n",
       "      <td>7.000000</td>\n",
       "      <td>310.000000</td>\n",
       "      <td>10.000000</td>\n",
       "      <td>1.000000</td>\n",
       "      <td>1.000000</td>\n",
       "      <td>1.000000</td>\n",
       "    </tr>\n",
       "  </tbody>\n",
       "</table>\n",
       "</div>"
      ],
      "text/plain": [
       "       satisfaction_level  last_evaluation  number_project  \\\n",
       "count        14999.000000     14999.000000    14999.000000   \n",
       "mean             0.612834         0.716102        3.803054   \n",
       "std              0.248631         0.171169        1.232592   \n",
       "min              0.090000         0.360000        2.000000   \n",
       "25%              0.440000         0.560000        3.000000   \n",
       "50%              0.640000         0.720000        4.000000   \n",
       "75%              0.820000         0.870000        5.000000   \n",
       "max              1.000000         1.000000        7.000000   \n",
       "\n",
       "       average_montly_hours  time_spend_company  Work_accident          left  \\\n",
       "count          14999.000000        14999.000000   14999.000000  14999.000000   \n",
       "mean             201.050337            3.498233       0.144610      0.238083   \n",
       "std               49.943099            1.460136       0.351719      0.425924   \n",
       "min               96.000000            2.000000       0.000000      0.000000   \n",
       "25%              156.000000            3.000000       0.000000      0.000000   \n",
       "50%              200.000000            3.000000       0.000000      0.000000   \n",
       "75%              245.000000            4.000000       0.000000      0.000000   \n",
       "max              310.000000           10.000000       1.000000      1.000000   \n",
       "\n",
       "       promotion_last_5years  \n",
       "count           14999.000000  \n",
       "mean                0.021268  \n",
       "std                 0.144281  \n",
       "min                 0.000000  \n",
       "25%                 0.000000  \n",
       "50%                 0.000000  \n",
       "75%                 0.000000  \n",
       "max                 1.000000  "
      ]
     },
     "execution_count": 13,
     "metadata": {},
     "output_type": "execute_result"
    }
   ],
   "source": [
    "# Estatísticas descritivas para dados numéricos\n",
    "df0.describe()"
   ]
  },
  {
   "cell_type": "code",
   "execution_count": 14,
   "metadata": {},
   "outputs": [
    {
     "data": {
      "text/html": [
       "<div>\n",
       "<style scoped>\n",
       "    .dataframe tbody tr th:only-of-type {\n",
       "        vertical-align: middle;\n",
       "    }\n",
       "\n",
       "    .dataframe tbody tr th {\n",
       "        vertical-align: top;\n",
       "    }\n",
       "\n",
       "    .dataframe thead th {\n",
       "        text-align: right;\n",
       "    }\n",
       "</style>\n",
       "<table border=\"1\" class=\"dataframe\">\n",
       "  <thead>\n",
       "    <tr style=\"text-align: right;\">\n",
       "      <th></th>\n",
       "      <th>Department</th>\n",
       "      <th>salary</th>\n",
       "    </tr>\n",
       "  </thead>\n",
       "  <tbody>\n",
       "    <tr>\n",
       "      <th>count</th>\n",
       "      <td>14999</td>\n",
       "      <td>14999</td>\n",
       "    </tr>\n",
       "    <tr>\n",
       "      <th>unique</th>\n",
       "      <td>10</td>\n",
       "      <td>3</td>\n",
       "    </tr>\n",
       "    <tr>\n",
       "      <th>top</th>\n",
       "      <td>sales</td>\n",
       "      <td>low</td>\n",
       "    </tr>\n",
       "    <tr>\n",
       "      <th>freq</th>\n",
       "      <td>4140</td>\n",
       "      <td>7316</td>\n",
       "    </tr>\n",
       "  </tbody>\n",
       "</table>\n",
       "</div>"
      ],
      "text/plain": [
       "       Department salary\n",
       "count       14999  14999\n",
       "unique         10      3\n",
       "top         sales    low\n",
       "freq         4140   7316"
      ]
     },
     "execution_count": 14,
     "metadata": {},
     "output_type": "execute_result"
    }
   ],
   "source": [
    "# Estatísticas descritivas para dados categóricos\n",
    "df0.describe(include=['object'])"
   ]
  },
  {
   "cell_type": "markdown",
   "metadata": {
    "id": "QR7eFNU0FklJ"
   },
   "source": [
    "### 2. Renomear colunas"
   ]
  },
  {
   "cell_type": "markdown",
   "metadata": {
    "id": "_TtE0JLPJyLF"
   },
   "source": [
    "Renomeando as colunas conforme necessário, padronizando os nomes no formato snake_case, corrigindo erros de ortografia e tornando-os mais concisos quando aplicável."
   ]
  },
  {
   "cell_type": "code",
   "execution_count": 17,
   "metadata": {
    "id": "kEn21u2bqrEI"
   },
   "outputs": [
    {
     "data": {
      "text/plain": [
       "Index(['satisfaction_level', 'last_evaluation', 'number_project',\n",
       "       'average_montly_hours', 'time_spend_company', 'Work_accident', 'left',\n",
       "       'promotion_last_5years', 'Department', 'salary'],\n",
       "      dtype='object')"
      ]
     },
     "execution_count": 17,
     "metadata": {},
     "output_type": "execute_result"
    }
   ],
   "source": [
    "# Exibir todos os nomes de colunas\n",
    "df0.columns"
   ]
  },
  {
   "cell_type": "code",
   "execution_count": 18,
   "metadata": {
    "id": "npUQA8jMFJQD"
   },
   "outputs": [
    {
     "name": "stdout",
     "output_type": "stream",
     "text": [
      "Colunas atualizadas:\n",
      "['satisfaction_level', 'last_evaluation', 'number_of_projects', 'average_monthly_hours', 'tenure', 'work_accident', 'employee_left', 'promotion_last_5years', 'department', 'salary']\n"
     ]
    }
   ],
   "source": [
    "# Renomeando as colunas\n",
    "df0 = df0.rename(columns={\n",
    "    'number_project': 'number_of_projects',\n",
    "    'time_spend_company': 'tenure',\n",
    "    'left': 'employee_left',\n",
    "    'Department': 'department',\n",
    "    'Work_accident': 'work_accident',\n",
    "    'average_montly_hours':'average_monthly_hours'\n",
    "})\n",
    "\n",
    "# Exibindo os nomes atualizados das colunas\n",
    "print(\"Colunas atualizadas:\")\n",
    "print(df0.columns.tolist())"
   ]
  },
  {
   "cell_type": "markdown",
   "metadata": {},
   "source": [
    "**Explicação das mudanças:**  \n",
    "- **`number_of_projects`:** Adiciona preposição para clareza.  \n",
    "- **`tenure`:** Substitui \"time_spend_company\" por um termo conciso que indica tempo de permanência na empresa.  \n",
    "- **`employee_left`:** Torna explícito que a coluna se refere ao status de saída do funcionário.  \n",
    "- **`department` e `work_accident`:** Colocando o texto em caixa baixa.  \n",
    "- **`average_monthly_hours`:** Corrigindo erros ortográficos. "
   ]
  },
  {
   "cell_type": "markdown",
   "metadata": {
    "id": "e-G2QlQxBq__"
   },
   "source": [
    "### 3. Valores ausentes"
   ]
  },
  {
   "cell_type": "markdown",
   "metadata": {
    "id": "GeiUUqeaBt-I"
   },
   "source": [
    "Verificando se há valores ausentes nos dados."
   ]
  },
  {
   "cell_type": "code",
   "execution_count": 22,
   "metadata": {
    "id": "EN9MvN0GByVV"
   },
   "outputs": [
    {
     "name": "stdout",
     "output_type": "stream",
     "text": [
      "satisfaction_level       0\n",
      "last_evaluation          0\n",
      "number_of_projects       0\n",
      "average_monthly_hours    0\n",
      "tenure                   0\n",
      "work_accident            0\n",
      "employee_left            0\n",
      "promotion_last_5years    0\n",
      "department               0\n",
      "salary                   0\n",
      "dtype: int64\n",
      "\n",
      "Total de valores nulos no DataFrame: 0\n"
     ]
    }
   ],
   "source": [
    "# Contar valores nulos em cada coluna\n",
    "null_count_per_column = df0.isnull().sum()\n",
    "\n",
    "# Contar o total de valores nulos em todo o DataFrame\n",
    "total_null_count = df0.isnull().sum().sum()\n",
    "\n",
    "print(null_count_per_column)\n",
    "print()\n",
    "print(\"Total de valores nulos no DataFrame:\", total_null_count)"
   ]
  },
  {
   "cell_type": "markdown",
   "metadata": {
    "id": "hBvrijItKQI9"
   },
   "source": [
    "### 4. Verificar duplicatas"
   ]
  },
  {
   "cell_type": "markdown",
   "metadata": {
    "id": "Q7ystBsdsGaL"
   },
   "source": [
    "Verificando se há entradas duplicadas nos dados."
   ]
  },
  {
   "cell_type": "code",
   "execution_count": 25,
   "metadata": {
    "id": "CFFLc5AOZ7-x"
   },
   "outputs": [
    {
     "name": "stdout",
     "output_type": "stream",
     "text": [
      "Número de linhas com dados duplicadas: 5346\n"
     ]
    }
   ],
   "source": [
    "# Checando por duplicatas\n",
    "colunas_avaliacao = ['satisfaction_level', 'last_evaluation', 'number_of_projects', \n",
    "                     'average_monthly_hours', 'tenure', 'work_accident', \n",
    "                     'employee_left', 'promotion_last_5years', 'department', 'salary']\n",
    "\n",
    "duplicates = df0[df0.duplicated(subset=colunas_avaliacao, keep=False)]\n",
    "\n",
    "print(f\"Número de linhas com dados duplicadas: {len(duplicates)}\")"
   ]
  },
  {
   "cell_type": "code",
   "execution_count": 26,
   "metadata": {},
   "outputs": [
    {
     "data": {
      "text/html": [
       "<div>\n",
       "<style scoped>\n",
       "    .dataframe tbody tr th:only-of-type {\n",
       "        vertical-align: middle;\n",
       "    }\n",
       "\n",
       "    .dataframe tbody tr th {\n",
       "        vertical-align: top;\n",
       "    }\n",
       "\n",
       "    .dataframe thead th {\n",
       "        text-align: right;\n",
       "    }\n",
       "</style>\n",
       "<table border=\"1\" class=\"dataframe\">\n",
       "  <thead>\n",
       "    <tr style=\"text-align: right;\">\n",
       "      <th></th>\n",
       "      <th>satisfaction_level</th>\n",
       "      <th>last_evaluation</th>\n",
       "      <th>number_of_projects</th>\n",
       "      <th>average_monthly_hours</th>\n",
       "      <th>tenure</th>\n",
       "      <th>work_accident</th>\n",
       "      <th>employee_left</th>\n",
       "      <th>promotion_last_5years</th>\n",
       "      <th>department</th>\n",
       "      <th>salary</th>\n",
       "    </tr>\n",
       "  </thead>\n",
       "  <tbody>\n",
       "    <tr>\n",
       "      <th>30</th>\n",
       "      <td>0.09</td>\n",
       "      <td>0.62</td>\n",
       "      <td>6</td>\n",
       "      <td>294</td>\n",
       "      <td>4</td>\n",
       "      <td>0</td>\n",
       "      <td>1</td>\n",
       "      <td>0</td>\n",
       "      <td>accounting</td>\n",
       "      <td>low</td>\n",
       "    </tr>\n",
       "    <tr>\n",
       "      <th>12030</th>\n",
       "      <td>0.09</td>\n",
       "      <td>0.62</td>\n",
       "      <td>6</td>\n",
       "      <td>294</td>\n",
       "      <td>4</td>\n",
       "      <td>0</td>\n",
       "      <td>1</td>\n",
       "      <td>0</td>\n",
       "      <td>accounting</td>\n",
       "      <td>low</td>\n",
       "    </tr>\n",
       "    <tr>\n",
       "      <th>14241</th>\n",
       "      <td>0.09</td>\n",
       "      <td>0.62</td>\n",
       "      <td>6</td>\n",
       "      <td>294</td>\n",
       "      <td>4</td>\n",
       "      <td>0</td>\n",
       "      <td>1</td>\n",
       "      <td>0</td>\n",
       "      <td>accounting</td>\n",
       "      <td>low</td>\n",
       "    </tr>\n",
       "    <tr>\n",
       "      <th>71</th>\n",
       "      <td>0.09</td>\n",
       "      <td>0.77</td>\n",
       "      <td>5</td>\n",
       "      <td>275</td>\n",
       "      <td>4</td>\n",
       "      <td>0</td>\n",
       "      <td>1</td>\n",
       "      <td>0</td>\n",
       "      <td>product_mng</td>\n",
       "      <td>medium</td>\n",
       "    </tr>\n",
       "    <tr>\n",
       "      <th>12071</th>\n",
       "      <td>0.09</td>\n",
       "      <td>0.77</td>\n",
       "      <td>5</td>\n",
       "      <td>275</td>\n",
       "      <td>4</td>\n",
       "      <td>0</td>\n",
       "      <td>1</td>\n",
       "      <td>0</td>\n",
       "      <td>product_mng</td>\n",
       "      <td>medium</td>\n",
       "    </tr>\n",
       "    <tr>\n",
       "      <th>14282</th>\n",
       "      <td>0.09</td>\n",
       "      <td>0.77</td>\n",
       "      <td>5</td>\n",
       "      <td>275</td>\n",
       "      <td>4</td>\n",
       "      <td>0</td>\n",
       "      <td>1</td>\n",
       "      <td>0</td>\n",
       "      <td>product_mng</td>\n",
       "      <td>medium</td>\n",
       "    </tr>\n",
       "    <tr>\n",
       "      <th>652</th>\n",
       "      <td>0.09</td>\n",
       "      <td>0.77</td>\n",
       "      <td>6</td>\n",
       "      <td>290</td>\n",
       "      <td>4</td>\n",
       "      <td>0</td>\n",
       "      <td>1</td>\n",
       "      <td>0</td>\n",
       "      <td>technical</td>\n",
       "      <td>medium</td>\n",
       "    </tr>\n",
       "    <tr>\n",
       "      <th>12652</th>\n",
       "      <td>0.09</td>\n",
       "      <td>0.77</td>\n",
       "      <td>6</td>\n",
       "      <td>290</td>\n",
       "      <td>4</td>\n",
       "      <td>0</td>\n",
       "      <td>1</td>\n",
       "      <td>0</td>\n",
       "      <td>technical</td>\n",
       "      <td>medium</td>\n",
       "    </tr>\n",
       "    <tr>\n",
       "      <th>14863</th>\n",
       "      <td>0.09</td>\n",
       "      <td>0.77</td>\n",
       "      <td>6</td>\n",
       "      <td>290</td>\n",
       "      <td>4</td>\n",
       "      <td>0</td>\n",
       "      <td>1</td>\n",
       "      <td>0</td>\n",
       "      <td>technical</td>\n",
       "      <td>medium</td>\n",
       "    </tr>\n",
       "    <tr>\n",
       "      <th>278</th>\n",
       "      <td>0.09</td>\n",
       "      <td>0.78</td>\n",
       "      <td>6</td>\n",
       "      <td>254</td>\n",
       "      <td>4</td>\n",
       "      <td>0</td>\n",
       "      <td>1</td>\n",
       "      <td>0</td>\n",
       "      <td>support</td>\n",
       "      <td>low</td>\n",
       "    </tr>\n",
       "  </tbody>\n",
       "</table>\n",
       "</div>"
      ],
      "text/plain": [
       "       satisfaction_level  last_evaluation  number_of_projects  \\\n",
       "30                   0.09             0.62                   6   \n",
       "12030                0.09             0.62                   6   \n",
       "14241                0.09             0.62                   6   \n",
       "71                   0.09             0.77                   5   \n",
       "12071                0.09             0.77                   5   \n",
       "14282                0.09             0.77                   5   \n",
       "652                  0.09             0.77                   6   \n",
       "12652                0.09             0.77                   6   \n",
       "14863                0.09             0.77                   6   \n",
       "278                  0.09             0.78                   6   \n",
       "\n",
       "       average_monthly_hours  tenure  work_accident  employee_left  \\\n",
       "30                       294       4              0              1   \n",
       "12030                    294       4              0              1   \n",
       "14241                    294       4              0              1   \n",
       "71                       275       4              0              1   \n",
       "12071                    275       4              0              1   \n",
       "14282                    275       4              0              1   \n",
       "652                      290       4              0              1   \n",
       "12652                    290       4              0              1   \n",
       "14863                    290       4              0              1   \n",
       "278                      254       4              0              1   \n",
       "\n",
       "       promotion_last_5years   department  salary  \n",
       "30                         0   accounting     low  \n",
       "12030                      0   accounting     low  \n",
       "14241                      0   accounting     low  \n",
       "71                         0  product_mng  medium  \n",
       "12071                      0  product_mng  medium  \n",
       "14282                      0  product_mng  medium  \n",
       "652                        0    technical  medium  \n",
       "12652                      0    technical  medium  \n",
       "14863                      0    technical  medium  \n",
       "278                        0      support     low  "
      ]
     },
     "execution_count": 26,
     "metadata": {},
     "output_type": "execute_result"
    }
   ],
   "source": [
    "# Inspecionar algumas linhas\n",
    "duplicates_sorted = duplicates.sort_values(by=colunas_avaliacao)\n",
    "duplicates_sorted.head(10)"
   ]
  },
  {
   "cell_type": "code",
   "execution_count": 27,
   "metadata": {
    "id": "wCr34Rppdjay"
   },
   "outputs": [],
   "source": [
    "# Eliminando as duplicatas e salvando o dataframe resultante\n",
    "df0 = df0.drop_duplicates(subset=colunas_avaliacao, keep='first')"
   ]
  },
  {
   "cell_type": "code",
   "execution_count": 28,
   "metadata": {},
   "outputs": [
    {
     "name": "stdout",
     "output_type": "stream",
     "text": [
      "Número de linhas com dados duplicadas: 0\n"
     ]
    }
   ],
   "source": [
    "# Verificação de duplicatas\n",
    "colunas_avaliacao = ['satisfaction_level', 'last_evaluation', 'number_of_projects', \n",
    "                     'average_monthly_hours', 'tenure', 'work_accident', \n",
    "                     'employee_left', 'promotion_last_5years', 'department', 'salary']\n",
    "\n",
    "duplicates = df0[df0.duplicated(subset=colunas_avaliacao, keep=False)]\n",
    "\n",
    "print(f\"Número de linhas com dados duplicadas: {len(duplicates)}\")"
   ]
  },
  {
   "cell_type": "markdown",
   "metadata": {
    "id": "4knHIoTIFu83"
   },
   "source": [
    "### 5. Verificar outliers"
   ]
  },
  {
   "cell_type": "markdown",
   "metadata": {
    "id": "EaVx2fk8GC_m"
   },
   "source": [
    "Verificando se há valores discrepantes nos dados."
   ]
  },
  {
   "cell_type": "code",
   "execution_count": 31,
   "metadata": {},
   "outputs": [
    {
     "data": {
      "text/html": [
       "<div>\n",
       "<style scoped>\n",
       "    .dataframe tbody tr th:only-of-type {\n",
       "        vertical-align: middle;\n",
       "    }\n",
       "\n",
       "    .dataframe tbody tr th {\n",
       "        vertical-align: top;\n",
       "    }\n",
       "\n",
       "    .dataframe thead th {\n",
       "        text-align: right;\n",
       "    }\n",
       "</style>\n",
       "<table border=\"1\" class=\"dataframe\">\n",
       "  <thead>\n",
       "    <tr style=\"text-align: right;\">\n",
       "      <th></th>\n",
       "      <th>satisfaction_level</th>\n",
       "      <th>last_evaluation</th>\n",
       "      <th>number_of_projects</th>\n",
       "      <th>average_monthly_hours</th>\n",
       "      <th>tenure</th>\n",
       "      <th>work_accident</th>\n",
       "      <th>employee_left</th>\n",
       "      <th>promotion_last_5years</th>\n",
       "    </tr>\n",
       "  </thead>\n",
       "  <tbody>\n",
       "    <tr>\n",
       "      <th>count</th>\n",
       "      <td>11991.000000</td>\n",
       "      <td>11991.000000</td>\n",
       "      <td>11991.000000</td>\n",
       "      <td>11991.000000</td>\n",
       "      <td>11991.000000</td>\n",
       "      <td>11991.000000</td>\n",
       "      <td>11991.000000</td>\n",
       "      <td>11991.000000</td>\n",
       "    </tr>\n",
       "    <tr>\n",
       "      <th>mean</th>\n",
       "      <td>0.629658</td>\n",
       "      <td>0.716683</td>\n",
       "      <td>3.802852</td>\n",
       "      <td>200.473522</td>\n",
       "      <td>3.364857</td>\n",
       "      <td>0.154282</td>\n",
       "      <td>0.166041</td>\n",
       "      <td>0.016929</td>\n",
       "    </tr>\n",
       "    <tr>\n",
       "      <th>std</th>\n",
       "      <td>0.241070</td>\n",
       "      <td>0.168343</td>\n",
       "      <td>1.163238</td>\n",
       "      <td>48.727813</td>\n",
       "      <td>1.330240</td>\n",
       "      <td>0.361234</td>\n",
       "      <td>0.372133</td>\n",
       "      <td>0.129012</td>\n",
       "    </tr>\n",
       "    <tr>\n",
       "      <th>min</th>\n",
       "      <td>0.090000</td>\n",
       "      <td>0.360000</td>\n",
       "      <td>2.000000</td>\n",
       "      <td>96.000000</td>\n",
       "      <td>2.000000</td>\n",
       "      <td>0.000000</td>\n",
       "      <td>0.000000</td>\n",
       "      <td>0.000000</td>\n",
       "    </tr>\n",
       "    <tr>\n",
       "      <th>25%</th>\n",
       "      <td>0.480000</td>\n",
       "      <td>0.570000</td>\n",
       "      <td>3.000000</td>\n",
       "      <td>157.000000</td>\n",
       "      <td>3.000000</td>\n",
       "      <td>0.000000</td>\n",
       "      <td>0.000000</td>\n",
       "      <td>0.000000</td>\n",
       "    </tr>\n",
       "    <tr>\n",
       "      <th>50%</th>\n",
       "      <td>0.660000</td>\n",
       "      <td>0.720000</td>\n",
       "      <td>4.000000</td>\n",
       "      <td>200.000000</td>\n",
       "      <td>3.000000</td>\n",
       "      <td>0.000000</td>\n",
       "      <td>0.000000</td>\n",
       "      <td>0.000000</td>\n",
       "    </tr>\n",
       "    <tr>\n",
       "      <th>75%</th>\n",
       "      <td>0.820000</td>\n",
       "      <td>0.860000</td>\n",
       "      <td>5.000000</td>\n",
       "      <td>243.000000</td>\n",
       "      <td>4.000000</td>\n",
       "      <td>0.000000</td>\n",
       "      <td>0.000000</td>\n",
       "      <td>0.000000</td>\n",
       "    </tr>\n",
       "    <tr>\n",
       "      <th>max</th>\n",
       "      <td>1.000000</td>\n",
       "      <td>1.000000</td>\n",
       "      <td>7.000000</td>\n",
       "      <td>310.000000</td>\n",
       "      <td>10.000000</td>\n",
       "      <td>1.000000</td>\n",
       "      <td>1.000000</td>\n",
       "      <td>1.000000</td>\n",
       "    </tr>\n",
       "  </tbody>\n",
       "</table>\n",
       "</div>"
      ],
      "text/plain": [
       "       satisfaction_level  last_evaluation  number_of_projects  \\\n",
       "count        11991.000000     11991.000000        11991.000000   \n",
       "mean             0.629658         0.716683            3.802852   \n",
       "std              0.241070         0.168343            1.163238   \n",
       "min              0.090000         0.360000            2.000000   \n",
       "25%              0.480000         0.570000            3.000000   \n",
       "50%              0.660000         0.720000            4.000000   \n",
       "75%              0.820000         0.860000            5.000000   \n",
       "max              1.000000         1.000000            7.000000   \n",
       "\n",
       "       average_monthly_hours        tenure  work_accident  employee_left  \\\n",
       "count           11991.000000  11991.000000   11991.000000   11991.000000   \n",
       "mean              200.473522      3.364857       0.154282       0.166041   \n",
       "std                48.727813      1.330240       0.361234       0.372133   \n",
       "min                96.000000      2.000000       0.000000       0.000000   \n",
       "25%               157.000000      3.000000       0.000000       0.000000   \n",
       "50%               200.000000      3.000000       0.000000       0.000000   \n",
       "75%               243.000000      4.000000       0.000000       0.000000   \n",
       "max               310.000000     10.000000       1.000000       1.000000   \n",
       "\n",
       "       promotion_last_5years  \n",
       "count           11991.000000  \n",
       "mean                0.016929  \n",
       "std                 0.129012  \n",
       "min                 0.000000  \n",
       "25%                 0.000000  \n",
       "50%                 0.000000  \n",
       "75%                 0.000000  \n",
       "max                 1.000000  "
      ]
     },
     "execution_count": 31,
     "metadata": {},
     "output_type": "execute_result"
    }
   ],
   "source": [
    "# Estatísticas descritivas para dados numéricos\n",
    "df0.describe()"
   ]
  },
  {
   "cell_type": "markdown",
   "metadata": {},
   "source": [
    "**Colunas com Potenciais Outliers**  \n",
    "- **`average_monthly_hours` (média de horas mensais):**  \n",
    "  - **Mínimo:** 96 horas (~24 horas/semana)  \n",
    "  - **Máximo:** 310 horas (~77 horas/semana)  \n",
    "  - **Análise:** Valores extremamente baixos e altos em comparação à média (200,47 horas).  \n",
    "  - **Ação ideal:** Verificar se:  \n",
    "    - Funcionários com 96 horas estão em regime de meio período (não declarado nos dados).  \n",
    "    - Funcionários com 310 horas representam sobrecarga extrema ou erro de registro.  \n",
    "\n",
    "- **`tenure` (tempo na empresa):**  \n",
    "  - **Máximo:** 10 anos  \n",
    "  - **Média:** 3,36 anos | **75%:** 4 anos  \n",
    "  - **Análise:** Funcionários com 10 anos são raros (apenas 25% ultrapassam 4 anos).  \n",
    "  - **Ação ideal:** Validar se esses casos são reais (e.g., funcionários seniores).  \n",
    "\n",
    "\n",
    "**Colunas Sem Outliers Evidentes**  \n",
    "- **`satisfaction_level` (nível de satisfação):**  \n",
    "  - Variação entre 0,09 e 1,0, mas distribuída de forma plausível (média 0,63).  \n",
    "\n",
    "- **`number_of_projects` (número de projetos):**  \n",
    "  - Intervalo de 2 a 7 projetos, com mediana em 4. Valores condizem com cargas de trabalho típicas.  \n",
    "\n",
    "- **Variáveis Binárias (`work_accident`, `employee_left`, `promotion_last_5years`):**  \n",
    "  - Todas variam entre 0 e 1, conforme esperado.  \n",
    "\n",
    "---\n",
    "\n",
    "**Considerações Gerais**  \n",
    "  - Plotar histogramas ou boxplots para `average_monthly_hours` e `tenure` para visualizar distribuição.  \n",
    "  - Cruzar `average_monthly_hours` com `employee_left` para ver se horas extremas correlacionam-se com rotatividade.  "
   ]
  },
  {
   "cell_type": "code",
   "execution_count": 33,
   "metadata": {
    "id": "pilaGYgh4LHM"
   },
   "outputs": [
    {
     "data": {
      "image/png": "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",
      "text/plain": [
       "<Figure size 500x100 with 1 Axes>"
      ]
     },
     "metadata": {},
     "output_type": "display_data"
    }
   ],
   "source": [
    "# Create a boxplot to visualize distribution of `tenure` and detect any outliers\n",
    "plt.figure(figsize=(5,1))\n",
    "sns.boxplot(x=df0['tenure'], fliersize=1)\n",
    "plt.title('Tempo de permanência na empresa em anos');"
   ]
  },
  {
   "cell_type": "code",
   "execution_count": 34,
   "metadata": {},
   "outputs": [
    {
     "data": {
      "image/png": "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",
      "text/plain": [
       "<Figure size 500x100 with 1 Axes>"
      ]
     },
     "metadata": {},
     "output_type": "display_data"
    }
   ],
   "source": [
    "# Create a boxplot to visualize distribution of `average_monthly_hours`\n",
    "plt.figure(figsize=(5,1))\n",
    "sns.boxplot(x=df0['average_monthly_hours'], fliersize=1)\n",
    "plt.title('Número médio de horas trabalhadas pelo funcionário por mês');"
   ]
  },
  {
   "cell_type": "code",
   "execution_count": 35,
   "metadata": {},
   "outputs": [
    {
     "name": "stdout",
     "output_type": "stream",
     "text": [
      "Contagem absoluta:\n",
      "tenure\n",
      "3     5190\n",
      "2     2910\n",
      "4     2005\n",
      "5     1062\n",
      "6      542\n",
      "10     107\n",
      "7       94\n",
      "8       81\n",
      "Name: count, dtype: int64\n",
      "\n",
      "Porcentagem:\n",
      "tenure\n",
      "3     43.282462\n",
      "2     24.268201\n",
      "4     16.720874\n",
      "5      8.856642\n",
      "6      4.520057\n",
      "10     0.892336\n",
      "7      0.783921\n",
      "8      0.675507\n",
      "Name: proportion, dtype: float64\n"
     ]
    }
   ],
   "source": [
    "# Determine the number of rows containing outliers\n",
    "print(\"Contagem absoluta:\")\n",
    "print(df0['tenure'].value_counts())\n",
    "print(\"\\nPorcentagem:\")\n",
    "print(df0['tenure'].value_counts(normalize=True) * 100)"
   ]
  },
  {
   "cell_type": "markdown",
   "metadata": {},
   "source": [
    "---\n",
    "#### Filtrar o DataFrame para tenure"
   ]
  },
  {
   "cell_type": "code",
   "execution_count": 37,
   "metadata": {},
   "outputs": [
    {
     "data": {
      "text/plain": [
       "promotion_last_5years\n",
       "0    990\n",
       "1     80\n",
       "Name: tenure, dtype: int64"
      ]
     },
     "execution_count": 37,
     "metadata": {},
     "output_type": "execute_result"
    }
   ],
   "source": [
    "# Tenure de 10 anos, agrupar por promotion_last_5years:\n",
    "df0[df0['tenure'] == 10].groupby('promotion_last_5years')['tenure'].sum()"
   ]
  },
  {
   "cell_type": "code",
   "execution_count": 38,
   "metadata": {},
   "outputs": [
    {
     "data": {
      "text/plain": [
       "promotion_last_5years\n",
       "0    608\n",
       "1     40\n",
       "Name: tenure, dtype: int64"
      ]
     },
     "execution_count": 38,
     "metadata": {},
     "output_type": "execute_result"
    }
   ],
   "source": [
    "# Tenure de 8 anos, agrupar por promotion_last_5years:\n",
    "df0[df0['tenure'] == 8].groupby('promotion_last_5years')['tenure'].sum()"
   ]
  },
  {
   "cell_type": "code",
   "execution_count": 39,
   "metadata": {},
   "outputs": [
    {
     "data": {
      "text/plain": [
       "promotion_last_5years\n",
       "0    532\n",
       "1    126\n",
       "Name: tenure, dtype: int64"
      ]
     },
     "execution_count": 39,
     "metadata": {},
     "output_type": "execute_result"
    }
   ],
   "source": [
    "# Tenure de 7 anos, agrupar por promotion_last_5years:\n",
    "df0[df0['tenure'] == 7].groupby('promotion_last_5years')['tenure'].sum()"
   ]
  },
  {
   "cell_type": "markdown",
   "metadata": {},
   "source": [
    "**Contexto dos Dados**  \n",
    "Os funcionários com **7, 8 e 10 anos de empresa** apresentam:  \n",
    "- **Baixíssima taxa de promoção nos últimos 5 anos** (ex: apenas 80 promoções em 10 anos de *tenure*).  \n",
    "- **Representam menos de 3% do total de dados** (107 + 94 + 81 = 282 registros).  \n",
    "\n",
    "Isso sugere que:  \n",
    "- São casos atípicos (*outliers*) ou indicam problemas estruturais (e.g., estagnação de carreira).  \n",
    "- Podem ser funcionários em cargos especializados sem necessidade de promoção ou em situações específicas não capturadas nos dados.  \n",
    "\n",
    "**Conclusão**  \n",
    "Não irei remover os outliers ainda: \n",
    "  - A quantidade é pequena (<3%), e modelos de ensemble podem gerenciá-los.  \n",
    "  - Eles podem representar cenários reais de estagnação que impactam a rotatividade.  "
   ]
  },
  {
   "cell_type": "markdown",
   "metadata": {
    "id": "mA7Mz_SnI8km"
   },
   "source": [
    "# Analise"
   ]
  },
  {
   "cell_type": "markdown",
   "metadata": {
    "id": "KDcWrk57kao2"
   },
   "source": [
    "## Etapa 2. Exploração de dados"
   ]
  },
  {
   "cell_type": "markdown",
   "metadata": {},
   "source": [
    "### 6. Análise de variáveis"
   ]
  },
  {
   "cell_type": "code",
   "execution_count": 44,
   "metadata": {},
   "outputs": [
    {
     "data": {
      "text/html": [
       "<div>\n",
       "<style scoped>\n",
       "    .dataframe tbody tr th:only-of-type {\n",
       "        vertical-align: middle;\n",
       "    }\n",
       "\n",
       "    .dataframe tbody tr th {\n",
       "        vertical-align: top;\n",
       "    }\n",
       "\n",
       "    .dataframe thead th {\n",
       "        text-align: right;\n",
       "    }\n",
       "</style>\n",
       "<table border=\"1\" class=\"dataframe\">\n",
       "  <thead>\n",
       "    <tr style=\"text-align: right;\">\n",
       "      <th></th>\n",
       "      <th>satisfaction_level</th>\n",
       "      <th>last_evaluation</th>\n",
       "      <th>number_of_projects</th>\n",
       "      <th>average_monthly_hours</th>\n",
       "      <th>tenure</th>\n",
       "      <th>work_accident</th>\n",
       "      <th>employee_left</th>\n",
       "      <th>promotion_last_5years</th>\n",
       "      <th>department</th>\n",
       "      <th>salary</th>\n",
       "    </tr>\n",
       "  </thead>\n",
       "  <tbody>\n",
       "    <tr>\n",
       "      <th>0</th>\n",
       "      <td>0.38</td>\n",
       "      <td>0.53</td>\n",
       "      <td>2</td>\n",
       "      <td>157</td>\n",
       "      <td>3</td>\n",
       "      <td>0</td>\n",
       "      <td>1</td>\n",
       "      <td>0</td>\n",
       "      <td>sales</td>\n",
       "      <td>low</td>\n",
       "    </tr>\n",
       "    <tr>\n",
       "      <th>1</th>\n",
       "      <td>0.80</td>\n",
       "      <td>0.86</td>\n",
       "      <td>5</td>\n",
       "      <td>262</td>\n",
       "      <td>6</td>\n",
       "      <td>0</td>\n",
       "      <td>1</td>\n",
       "      <td>0</td>\n",
       "      <td>sales</td>\n",
       "      <td>medium</td>\n",
       "    </tr>\n",
       "    <tr>\n",
       "      <th>2</th>\n",
       "      <td>0.11</td>\n",
       "      <td>0.88</td>\n",
       "      <td>7</td>\n",
       "      <td>272</td>\n",
       "      <td>4</td>\n",
       "      <td>0</td>\n",
       "      <td>1</td>\n",
       "      <td>0</td>\n",
       "      <td>sales</td>\n",
       "      <td>medium</td>\n",
       "    </tr>\n",
       "    <tr>\n",
       "      <th>3</th>\n",
       "      <td>0.72</td>\n",
       "      <td>0.87</td>\n",
       "      <td>5</td>\n",
       "      <td>223</td>\n",
       "      <td>5</td>\n",
       "      <td>0</td>\n",
       "      <td>1</td>\n",
       "      <td>0</td>\n",
       "      <td>sales</td>\n",
       "      <td>low</td>\n",
       "    </tr>\n",
       "    <tr>\n",
       "      <th>4</th>\n",
       "      <td>0.37</td>\n",
       "      <td>0.52</td>\n",
       "      <td>2</td>\n",
       "      <td>159</td>\n",
       "      <td>3</td>\n",
       "      <td>0</td>\n",
       "      <td>1</td>\n",
       "      <td>0</td>\n",
       "      <td>sales</td>\n",
       "      <td>low</td>\n",
       "    </tr>\n",
       "  </tbody>\n",
       "</table>\n",
       "</div>"
      ],
      "text/plain": [
       "   satisfaction_level  last_evaluation  number_of_projects  \\\n",
       "0                0.38             0.53                   2   \n",
       "1                0.80             0.86                   5   \n",
       "2                0.11             0.88                   7   \n",
       "3                0.72             0.87                   5   \n",
       "4                0.37             0.52                   2   \n",
       "\n",
       "   average_monthly_hours  tenure  work_accident  employee_left  \\\n",
       "0                    157       3              0              1   \n",
       "1                    262       6              0              1   \n",
       "2                    272       4              0              1   \n",
       "3                    223       5              0              1   \n",
       "4                    159       3              0              1   \n",
       "\n",
       "   promotion_last_5years department  salary  \n",
       "0                      0      sales     low  \n",
       "1                      0      sales  medium  \n",
       "2                      0      sales  medium  \n",
       "3                      0      sales     low  \n",
       "4                      0      sales     low  "
      ]
     },
     "execution_count": 44,
     "metadata": {},
     "output_type": "execute_result"
    }
   ],
   "source": [
    "df0.head()"
   ]
  },
  {
   "cell_type": "markdown",
   "metadata": {},
   "source": [
    "---\n",
    "### Porcentagens de employee_left\n",
    "\n",
    "Primeiro entender  quantos funcionários saíram e qual porcentagem de todos os funcionários esse número representa."
   ]
  },
  {
   "cell_type": "code",
   "execution_count": 46,
   "metadata": {},
   "outputs": [
    {
     "name": "stdout",
     "output_type": "stream",
     "text": [
      "Contagem absoluta:\n",
      "employee_left\n",
      "0    10000\n",
      "1     1991\n",
      "Name: count, dtype: int64\n",
      "\n",
      "Porcentagem:\n",
      "employee_left\n",
      "0    83.0\n",
      "1    17.0\n",
      "Name: proportion, dtype: float64 2\n"
     ]
    }
   ],
   "source": [
    "# Get numbers of people who left vs. stayed\n",
    "print(\"Contagem absoluta:\")\n",
    "print(df0['employee_left'].value_counts())\n",
    "\n",
    "# Get percentages of people who left vs. stayed\n",
    "print(\"\\nPorcentagem:\")\n",
    "print(round(df0['employee_left'].value_counts(normalize=True) * 100),2)\n"
   ]
  },
  {
   "cell_type": "code",
   "execution_count": 47,
   "metadata": {},
   "outputs": [
    {
     "data": {
      "image/png": "iVBORw0KGgoAAAANSUhEUgAAAo8AAAKRCAYAAAA1TEOQAAAAOXRFWHRTb2Z0d2FyZQBNYXRwbG90bGliIHZlcnNpb24zLjkuMiwgaHR0cHM6Ly9tYXRwbG90bGliLm9yZy8hTgPZAAAACXBIWXMAAA9hAAAPYQGoP6dpAABrbUlEQVR4nO3dd3hUZeL28fvMpDfSSKOE3jsoRRFUBBEL9q6rWFh7W93f61rXXddeWNu6Arrqyq5UUZGOVOkgVUoglEBCCJBeZs77h5I10iYhyTPl+7muXJAzZ2buSb3zPOecx7Jt2xYAAADgAYfpAAAAAPAdlEcAAAB4jPIIAAAAj1EeAQAA4DHKIwAAADxGeQQAAIDHKI8AAADwGOURAAAAHqM8AgAAwGOURwDwc+vWrVNkZKTeeOMN01EA+AHKI1BLxo4dK8uyKt/CwsKUkpKic889Vy+++KKys7OPuc+zzz4ry7Kq9TxFRUV69tlnNXfu3Grd73jP1axZM1188cXVepxT+d3vfqdmzZrV6L7XXnutoqOjdc899ygrK0tJSUnKzMys1XzHM3fuXFmWVe2P6fG89dZbsixL06ZNO+E+H374oSzL0oQJE077+aSfP4+/+93vjntbfn6+rrzySt1zzz16+OGHa+X5TmbgwIEaOHDgCW//7ffJid5q+jVUlz7//HO9+eabpmMAxlEegVo2ZswYLV68WDNmzNA777yjbt266aWXXlL79u01c+bMKvvecccdWrx4cbUev6ioSM8991y1i05NnqsmnnrqKU2cOLHa99u8ebNmzZqlzz77TLt371aLFi104YUXqmnTpnWQsu7cdNNNCg0N1ejRo0+4z5gxY9SwYUNdcskltfKcEydO1FNPPXXc2+644w716tVLL7/8cq081+kaNmyYFi9eXOVNkq666qoq22ryNVTXKI/Az4JMBwD8TadOndSrV6/K96+88ko9/PDDOvvss3XFFVdoy5YtSk5OliQ1btxYjRs3rtM8RUVFioiIqJfnkqSWLVvW6H5t27bVgQMHJEmXXnppbUaqVwkJCbrssss0adIk5ebmKiEhocrtmzZt0uLFi/Xoo48qODj4tJ6ruLhY4eHh6t69+wn3GTdu3Gk9R21r2LChGjZseMz25ORk9enT57Qf3+VyqaKiQqGhoaf9WACOj5FHoB40bdpUr732mvLz8/XBBx9Ubj/eVPLs2bM1cOBAJSQkKDw8XE2bNtWVV16poqIi7dixo/IX73PPPVc5xXd0yvLo461cuVJXXXWV4uLiKsvcyabIJ06cqC5duigsLEwtWrTQ22+/XeX2o1ONO3bsqLL9eNO9x5u2drvdGjVqlLp166bw8HDFxsaqT58+mjJlSuU+48aN0+DBg5Wamqrw8HC1b99ef/zjH1VYWHhM3ilTpqhv376KiIhQdHS0LrjgAo9HVTdt2qQLL7xQERERSkxM1MiRI5Wfn3/MfjNmzNBll12mxo0bKywsTK1atdLdd99dWXBPZsSIESorK9Pnn39+zG1jxoyRJN1+++2Sfv489u7dW/Hx8YqJiVGPHj300UcfybbtKvc7eojBhAkT1L17d4WFhem5556rvO3X09YlJSV69NFH1a1bNzVo0EDx8fHq27evJk+eXOUxu3fvrv79+x+T0eVyqVGjRrriiisqt5WVlemFF15Qu3btFBoaqoYNG+q2225TTk7OKT8e1ZWTk6N77rlHHTp0UFRUlJKSknTeeedp/vz5VfbbsWOHLMvSyy+/rBdeeEHNmzdXaGio5syZI0maPHmyunTpotDQULVo0UJvvfXWcb8PbNvWu+++W/n1GRcXp6uuukrbt2+v3GfgwIH6+uuvtXPnzirT60AgYuQRqCcXXXSRnE6nvv/++xPus2PHDg0bNkz9+/fX6NGjFRsbqz179mjatGkqKytTamqqpk2bpgsvvFAjRozQHXfcIUnHjORcccUVuu666zRy5Mjjlq9fW716tR566CE9++yzSklJ0WeffaYHH3xQZWVleuyxx07/hevnQvnpp59qxIgRev755xUSEqKVK1dWKaNbtmzRRRddpIceekiRkZHatGmTXnrpJS1dulSzZ8+u3O/zzz/XjTfeqMGDB+vf//63SktL9fLLL2vgwIGaNWuWzj777BPm2L9/vwYMGKDg4GC9++67Sk5O1meffab77rvvmH23bdumvn376o477lCDBg20Y8cOvf766zr77LP1448/nnTUcNCgQUpPT9fo0aN1//33V253uVz617/+pT59+qhDhw6Sfv6c33333ZXT80uWLNH999+vPXv26Omnn67yuCtXrtTGjRv1pz/9Sc2bN1dkZORxn7+kpETZ2dl66KGH1LRpU5WXl2vmzJm64oorNGbMGN1yyy2SpNtuu00PPvigtmzZotatW1fef/r06dq7d69uu+02ST+X/8suu0zz58/X448/rn79+mnnzp165plnNHDgQC1fvlzh4eEn/HhU18GDByVJzzzzjFJSUlRQUKCJEydWfo5/e0zl22+/rTZt2ujVV19VTEyMWrdurWnTpumKK67QOeeco3HjxqmiokKvvvqq9u/ff8zz3X333Ro7dqweeOABvfTSSzp48KCef/559evXT2vWrFFycrLeffdd3XXXXdq2bZtXTqkD9coGUCvGjBljS7KXLVt2wn2Sk5Pt9u3bV77/zDPP2L/+Nvzyyy9tSfbq1atP+Bg5OTm2JPuZZ5455rajj/f000+f8LZfS09Pty3LOub5LrjgAjsmJsYuLCys8toyMjKq7Ddnzhxbkj1nzpzKbbfeequdnp5e+f73339vS7KffPLJE76m33K73XZ5ebk9b948W5K9Zs0a27Zt2+Vy2WlpaXbnzp1tl8tVuX9+fr6dlJRk9+vX76SP+8QTT5zw9f72dRwvz86dO21J9uTJk0/5Go5+vFeuXFm57auvvrIl2R9++OFx7+Nyuezy8nL7+eeftxMSEmy32115W3p6uu10Ou3Nmzcfc7/09HT71ltvPWWm22+/3e7evXvl+wcOHLBDQkLs//f//l+V/a655ho7OTnZLi8vt23btv/973/bkuzx48dX2W/ZsmW2JPvdd9+t3DZgwAB7wIABp8zya5Lse++994S3V1RU2OXl5fb5559vX3755ZXbMzIybEl2y5Yt7bKysir3OeOMM+wmTZrYpaWlldvy8/PthISEKt8HixcvtiXZr732WpX779q1yw4PD7cff/zxym3Dhg2r8rUNBCqmrYF6ZP9mKvK3unXrppCQEN111136+OOPq0ybVceVV17p8b4dO3ZU165dq2y74YYbdOTIEa1cubJGz/9r3377rSTp3nvvPel+27dv1w033KCUlBQ5nU4FBwdrwIABkqSNGzdK+vmkmr179+rmm2+Ww/G/H19RUVG68sortWTJEhUVFZ3wOebMmXPC1/tb2dnZGjlypJo0aaKgoCAFBwcrPT29Sp6Tue222+RwOKqcODNmzBhFRkbq2muvrdw2e/ZsDRo0SA0aNKh83U8//bRyc3OPOUO/S5cuatOmzSmfW5KmTp2qwYMHKzk5WREREQoLC9PHH39cJXtCQoIuueQSffzxx3K73ZKkvLw8TZ48WbfccouCgoIqHys2NlaXXHKJKioqKt+6deumlJSUWjlL/bfef/999ejRQ2FhYZUf/1mzZh33Y3/ppZdWGQkuLCzU8uXLNXz4cIWEhFRuj4qKOuYkpalTp8qyLN10001VXltKSoq6du1aJ68N8HWUR6CeFBYWKjc3V2lpaSfcp2XLlpo5c6aSkpJ07733qmXLlmrZsqXeeuutaj1Xamqqx/umpKSccFtubm61nvd4cnJy5HQ6j/s8RxUUFKh///764Ycf9MILL2ju3LlatmxZ5aVsiouLq+Q53utLS0uT2+1WXl7eCZ8nNzf3pK/3KLfbrcGDB2vChAl6/PHHNWvWLC1dulRLliypkudk0tPTdf755+vzzz9XaWmpDhw4oKlTp+rqq69WdHS0JGnp0qUaPHiwpJ8v37Nw4UItW7ZMTz755HGfx9PP65QpU3TJJZcoJSVFn376qZYuXarVq1frjjvuUElJSZV9b7/9du3Zs0czZsyQpMpDAX59DOX+/ft16NAhhYSEKDg4uMrbvn37PDoOtDpef/11/f73v1fv3r01fvx4LVmyRMuWLdOFF1543I/9bz8ueXl5sm278sS0X/vttv3791fu+9vXtmTJklp/bYA/4JhHoJ58/fXXcrlcJ70GniT1799f/fv3l8vl0vLlyzVq1Cg99NBDSk5O1nXXXefRc1XnQP59+/adcNvRM4XDwsIkSaWlpVX28+QXa8OGDeVyubRv374Tlp/Zs2dr7969mjt3buVooyQdOnSoyn5H82RlZR3zGHv37pXD4VBcXNwJsyQkJJz09R61bt06rVmzRmPHjtWtt95auX3r1q0nfOzjGTFihGbMmKHJkydr7969Kisr04gRIypv/+KLLxQcHKypU6dWfowladKkScd9PE8/rx9//LFatmypTz75pMr2I0eOHLPvkCFDlJaWpjFjxmjIkCEaM2aMevfuXXlMpiQlJiYqISHhhNeuPFqGa8unn36qgQMH6r333quy/XgnNknHflzi4uJkWdZxj2/87ec6MTFRlmVp/vz5xz1Dm7O2gWMx8gjUg8zMTD322GNq0KCB7r77bo/u43Q61bt3b73zzjuSVDmFfPSXmSejX55Yv3691qxZU2Xb559/rujoaPXo0UOSKs+eXrt2bZX9fn229IkMHTpUko4pAr929Jf/b39R//rMdOnny/k0atRIn3/+eZVDAAoLCzV+/PjKM7BP5Nxzzz3h661JnlMZPny4EhISNHr0aI0ZM0Zt2rSpckKPZVkKCgqS0+ms3FZcXKx//etf1Xqe37Jtu8pjSj8X7uN9vpxOp26++WZNmjRJ8+fP1/LlyyvPBD/q4osvVm5urlwul3r16nXMW9u2bU8r729ZlnXMx37t2rUen1EfGRmpXr16adKkSSorK6vcXlBQoKlTp1bZ9+KLL5Zt29qzZ89xX1vnzp0r9w0NDa217zvAlzHyCNSydevWVR43lZ2drfnz52vMmDFyOp2aOHHica9xd9T777+v2bNna9iwYWratKlKSkoqj5kbNGiQpJ9HedLT0zV58mSdf/75io+PV2JiYo1X5EhLS9Oll16qZ599Vqmpqfr00081Y8YMvfTSS5VF7IwzzlDbtm312GOPqaKiQnFxcZo4caIWLFhwysfv37+/br75Zr3wwgvav3+/Lr74YoWGhmrVqlWKiIjQ/fffr379+ikuLk4jR47UM888o+DgYH322WfHlDyHw6GXX35ZN954oy6++GLdfffdKi0t1SuvvKJDhw7pb3/720mzPPTQQxo9erSGDRumF154ofJs602bNlXZr127dmrZsqX++Mc/yrZtxcfH66uvvqqc2vVUaGiobrzxRo0aNUq2bR+Tb9iwYXr99dd1ww036K677lJubq5effXV0x7tuvjiizVx4kSNHDlSV199tXbt2qXnn39eaWlp2rJlyzH733777XrppZd0ww03KDw8vMoxmZJ03XXX6bPPPtNFF12kBx98UGeeeaaCg4O1e/duzZkzR5dddpkuv/zy08r82/x//vOf9cwzz2jAgAHavHmznn/+eTVv3lwVFRUePcbzzz+vYcOGaciQIXrwwQflcrn0yiuvKCoqqvJsbkk666yzdNddd+m2227T8uXLdc455ygyMlJZWVlasGCBOnfurN///veSpM6dO2vChAl677331LNnTzkcjirXdAUChrlzdQD/cvSM5KNvISEhdlJSkj1gwAD7r3/9q52dnX3MfX57BvTixYvtyy+/3E5PT7dDQ0PthIQEe8CAAfaUKVOq3G/mzJl29+7d7dDQUFtS5Zm2Rx8vJyfnlM9l2z+fpTts2DD7yy+/tDt27GiHhITYzZo1s19//fVj7v/TTz/ZgwcPtmNiYuyGDRva999/v/3111+f8mxr2/75LOI33njD7tSpU+XHp2/fvvZXX31Vuc+iRYvsvn372hEREXbDhg3tO+64w165cqUtyR4zZkyVx5s0aZLdu3dvOywszI6MjLTPP/98e+HChcdkPp4NGzbYF1xwgR0WFmbHx8fbI0aMsCdPnnzM6zi6X3R0tB0XF2dfffXVdmZm5gnPdD+RNWvW2JJsp9Np792795jbR48ebbdt29YODQ21W7RoYb/44ov2Rx99dMzZ7Uc/V8dzvLOt//a3v9nNmjWzQ0ND7fbt29sffvjhcb8GjurXr58tyb7xxhuPe3t5ebn96quv2l27drXDwsLsqKgou127dvbdd99tb9mypXK/2jjburS01H7sscfsRo0a2WFhYXaPHj3sSZMmHfO1dfRs61deeeW4jztx4kS7c+fOdkhIiN20aVP7b3/7m/3AAw/YcXFxx+w7evRou3fv3nZkZKQdHh5ut2zZ0r7lllvs5cuXV+5z8OBB+6qrrrJjY2Nty7JO+LEE/J1l26c4/RMAatHBgwfVr18/LVq0SPHx8abjIICUl5erW7duatSokaZPn246DuCzmLYGUG8mTZqk6Oho5eXl6fvvv9fw4cNNR4IfGzFihC644AKlpqZq3759ev/997Vx48ZqX70AQFWURwD15sEHH9S+ffvUtWtXnXXWWabjwM/l5+frscceU05OjoKDg9WjRw998803lccPA6gZpq0BAADgMS7VAwAAAI9RHgEAAOAxyiMAAAA8RnkEAACAxyiPAAAA8BjlEQAAAB6jPAIAAMBjlEcAAAB4jPIIAAAAj1EeAQAA4DGvXdva7XarrKzMdAycQnBwsJxOp+kYAACgnnhleSwrK1NGRobcbrfpKPBAbGysUlJSZFmW6SgAAKCOeV15tG1bWVlZcjqdatKkiRwOZta9lW3bKioqUnZ2tiQpNTXVcCIAAFDXvK48VlRUqKioSGlpaYqIiDAdB6cQHh4uScrOzlZSUhJT2AAA+DmvG9ZzuVySpJCQEMNJ4KmjJb+8vNxwEgAAUNe8rjwexfFzvoPPFQAAgcNryyMAAAC8D+XRQ82aNdObb75pOobH5s6dK8uydOjQIY/vU1RUpCuvvFIxMTHVvi8AAAgMlEdU+vjjjzV//nwtWrRIWVlZysvLk2VZWr16teloAADAS1AeUWnbtm1q3769OnXqxHUbAQDAcflcebRtWy+//LJatGih8PBwde3aVV9++aWk/03Vfvfdd+revbvCw8N13nnnKTs7W99++63at2+vmJgYXX/99SoqKqp8zIEDB+q+++7Tfffdp9jYWCUkJOhPf/qTbNs+YY7MzExddtllioqKUkxMjK655hrt379fkrRjxw45HA4tX768yn1GjRql9PT0ysfdsGGDLrroIkVFRSk5OVk333yzDhw44NFrrYlFixbpnHPOUXh4uJo0aaIHHnhAhYWFlR+D1157Td9//70sy9LAgQPVvHlzSVL37t0rtwEAgMDmc+XxT3/6k8aMGaP33ntP69ev18MPP6ybbrpJ8+bNq9zn2Wef1d///nctWrRIu3bt0jXXXKM333xTn3/+ub7++mvNmDFDo0aNqvK4H3/8sYKCgvTDDz/o7bff1htvvKF//vOfx81g27aGDx+ugwcPat68eZoxY4a2bduma6+9VtLPx0cOGjRIY8aMqXK/MWPG6He/+50sy1JWVpYGDBigbt26afny5Zo2bZr279+va665plqv1VM//vijhgwZoiuuuEJr167VuHHjtGDBAt13332SpAkTJujOO+9U3759lZWVpQkTJmjp0qWSpJkzZ1ZuAwAAAc72MsXFxfaGDRvs4uLiY24rKCiww8LC7EWLFlXZPmLECPv666+358yZY0uyZ86cWXnbiy++aEuyt23bVrnt7rvvtocMGVL5/oABA+z27dvbbre7ctsTTzxht2/fvvL99PR0+4033rBt27anT59uO51OOzMzs/L29evX25LspUuX2rZt2+PGjbPj4uLskpIS27Zte/Xq1bZlWXZGRoZt27b91FNP2YMHD67yOnbt2mVLsjdv3nzK13oqRz8WeXl5tm3b9s0332zfddddVfaZP3++7XA4Kj/WDz74oD1gwIDK2zMyMmxJ9qpVq076XCf7nAEAAP/iUyOPGzZsUElJiS644AJFRUVVvn3yySfatm1b5X5dunSp/H9ycrIiIiLUokWLKtuOLql3VJ8+faoc49e3b19t2bKl8qLlv7Zx40Y1adJETZo0qdzWoUMHxcbGauPGjZKk4cOHKygoSBMnTpQkjR49Wueee66aNWsmSVqxYoXmzJlT5XW0a9dO0s/HHnr6Wj21YsUKjR07tspjDRkyRG63WxkZGdV+PAAAEJi8bnnCk3G73ZKkr7/+Wo0aNapyW2hoaGWpCg4OrtxuWVaV949uO/pYNWHb9nFPJvn19pCQEN18880aM2aMrrjiCn3++edVLvXjdrt1ySWX6KWXXjrmcVJTU7Vu3TpJJ36t1eV2u3X33XfrgQceOOa2pk2bVvvxAABAYPKp8tihQweFhoYqMzNTAwYMOOb2mozIHbVkyZJj3m/duvVx12ru0KGDMjMztWvXrsrRxw0bNujw4cNq37595X533HGHOnXqpHfffVfl5eW64oorKm/r0aOHxo8fr2bNmiko6NhPw6lea3X16NFD69evV6tWrTy+z9ElIo83+goAAAKTT5XH6OhoPfbYY3r44Yfldrt19tln68iRI1q0aJGioqKUnp5e48fetWuXHnnkEd19991auXKlRo0apddee+24+w4aNEhdunTRjTfeqDfffFMVFRW65557NGDAAPXq1atyv/bt26tPnz564okndPvttys8PLzytnvvvVcffvihrr/+ev3hD39QYmKitm7dqi+++EIffvjhKV/rrbfeWq3X98QTT6hPnz669957deeddyoyMlIbN2487slDRyUlJSk8PFzTpk1T48aNFRYWpgYNGlTreQEAgH/xqWMeJenPf/6znn76ab344otq3769hgwZoq+++qrysjI1dcstt6i4uFhnnnmm7r33Xt1///266667jruvZVmaNGmS4uLidM4552jQoEFq0aKFxo0bd8y+I0aMUFlZmW6//fYq29PS0rRw4UK5XC4NGTJEnTp10oMPPqgGDRrI4XDU+mvt0qWL5s2bpy1btqh///7q3r27nnrqKaWmpp7wPkFBQXr77bf1wQcfKC0tTZdddlm1nxcAAPgXy7ZPcjFDA0pKSpSRkaHmzZsrLCysXp5z4MCB6tatW50sP/iXv/xFX3zxhX788cdaf2xvYeJzBgAAzPC5kUdfUVBQoGXLlmnUqFHHPUkFAADAF1Ee68h9992ns88+WwMGDDhmyro2jBw5sspld379NnLkyFp/PgAAAIlpa5+VnZ2tI0eOHPe2mJgYJSUl1VsWPmcAAAQOnzrbGv+TlJRUrwURAABAYtoaAAAA1UB5BAAAgMcojwAAAPAY5REAAAAeozwCAADAY5RHAAAAeIxL9fxK14feqNfnW/PmwzW637vvvqtXXnlFWVlZ6tixo958803179+/ltMBAAAci5FHHzNu3Dg99NBDevLJJ7Vq1Sr1799fQ4cOVWZmpuloAAAgAFAefczrr7+uESNG6I477lD79u315ptvqkmTJnrvvfdMRwMAAAGA8uhDysrKtGLFCg0ePLjK9sGDB2vRokWGUgEAgEBCefQhBw4ckMvlUnJycpXtycnJ2rdvn6FUAAAgkFAefZBlWVXet237mG0AAAB1gfLoQxITE+V0Oo8ZZczOzj5mNBIAAKAuUB59SEhIiHr27KkZM2ZU2T5jxgz169fPUCoAABBIuM6jj3nkkUd08803q1evXurbt6/+8Y9/KDMzUyNHjjQdDQAABADKo4+59tprlZubq+eff15ZWVnq1KmTvvnmG6Wnp5uOBgAAAoBl27ZtOsSvlZSUKCMjQ82bN1dYWJjpOPAAnzMAAAIHxzwCAADAY5RHAAAAeIzyCAAAAI9RHgEAAOAxyiMAAAA8RnkEAACAxyiPAAAA8BjlEQAAAB6jPAIAAMBjlEcAAAB4jLWtf2X2jrb1+nznNdtc7ft8//33euWVV7RixQplZWVp4sSJGj58eO2HAwAAOA5GHn1MYWGhunbtqr///e+mowAAgADEyKOPGTp0qIYOHWo6BgAACFCMPAIAAMBjlEcAAAB4jGlrAJBk27YKS8uUX1yqotJylVW4VF7hUrnr53/Lfnkrd7lVXlGhcpdbLpdbDoclp8OhIIdDTqdDzqPvOx1yWD//PyTIqciwEEWFhf7yb4hCg/nxC8A38dMLgF+ybVu5+UXKPlyg/YcKtP9Qvg7kF+lwYbEOF5XocGGJDhWV6EhRifKLS1VYUia3bddbvmCnU1FhIYoKD1FkWKiiQkMUHRGqxOhIJcZEqmGDX/6N+fnfhOgIOR1MFgEwj/IIwCeVV7iUeeCQdmbnac/BI9p/KF/7DxUo+3C+sg8VKvtIgSpcbtMxT6jc5VJeYbHyCos92t9hWYqLCldidKSSYqPUKKGBmiY2UOPEWDVNjFXjhAYKDnLWcWoAoDz6nIKCAm3durXy/YyMDK1evVrx8fFq2rSpwWRA7bNtW/sPFWhH9kHtzPm5KO7IztPOnDxl5R2Ry11/I4WmuX8ZSc3NL9LmvTnH3O6wLCXHRqlJYqyaJDZQk8RYNW0Yp9apiWqS2ECWZRlIDcAfUR59zPLly3XuuedWvv/II49Ikm699VaNHTvWUCrg9JWUVeinvTnatCdbm3b//O+2fbkqKaswHc0nuG1bWXn5ysrL19Itu6rcFhEarFYpiWqdlqg2v7y1Tmuo6PBQQ2kB+DLLtuvxIB8PlJSUKCMjQ82bN1dYWJjpOPAAnzNU15GiEm3ak6NNu7O1cXe2Nu3J1s7svIAaSfQGaXExap2WqPaNk9SlWao6p6coJoLvYQAnx8gjgDqXmXNIq7bv0aqMvVq1fY92ZOeZjgRJe/OOaG/eEc1bv12SZFlS86R4dWmWqq7N09S1WapaJMcz5Q2gCsojgFrlcru1aXe2Vm3fq1UZe7Q6Y68OHCkyHQsesG1p+/6D2r7/oCb9sF6SFB0eqi7pqerSLFXdW6SpW/M0LjMEBDh+AgA4bT/tzdGiTTu1ePNOrd2RpaLSctORUEvyi0u1cNMOLdy0Q5IUGuxUl2Zp6t26ic5s3USd0lO4hBAQYCiPAKrtUGGxFm/aWVkYc44Umo6EelJa7tKyLbu07JeTcqLDQtWrdWP1a5uufu3S1Tgx1mxAAHXOa8ujl53Hg5Pgc+X/Klxurd2ZpUWbdmrRph3auCu7Xi+oDe+VX1KqOT9u05wft0mSmibG6uwOzXRu51bq2bIRo5KAH/K6s63Ly8u1detWpaWlqUGDBqbjwAO5ubnKzs5WmzZt5HRykWJ/UVpeocWbd2rWmq2au36bjhSVmo4EH9MgIkz9OzTXuZ1bql+7ZooIDTYdCUAt8LryaNu2MjMzVV5errS0NDn4q9Vr2batoqIiZWdnKzY2VqmpqaYj4TQVlZZp/oYMzVq7VfM3ZHDsImpNaLBTvds01bmdW2lgpxaKj4owHQlADXldeZSksrIyZWRkyO323qXF8D+xsbFKSUnhch4+6khRieat265Za7dq0eYdKi13mY4EP+ewLHVrnqahPdpqcPc2io0MNx0JQDV4ZXmUJLfbrbKyMtMxcArBwcFMVfugsooKzVu3XV8t26iFm3Z49RrQ8G9BTofOatdMF/Vsp4GdWiosxGsPxQfwC68tjwBq39odWZqydIO+W72ZYxjhdSJDQ3Rel5Ya1qu9zmzdhJNtAC9FeQT83N6DRzR1+UZNXbZRO3NY2QW+oWFMpIZ0b6vLendQm7SGpuMA+BXKI+CHSssrNH3VT5q0dL1WbNstvsvhy7qkp+rqszprcLe2TGsDXoDyCPiRHdl5+u/CtZqybD3T0vA7MRGhurhXe13dr4tapCSYjgMELMoj4ONcbrfm/LhN4xas0dJfVv0A/F2PFo10Vb/OuqBba4UEMRoJ1CfKI+CjDhYUacLidfrvwrXadyjfdBzAiNjIMA3v3VE3nNNdybHRpuMAAYHyCPiYLXsP6JM5KzRt1WaVVXBNRkD6+ZI/g7u10a3n9lS7xkmm4wB+jfII+IgV23ZrzKzlmr8hw3QUwKud2bqJbj23p87u0Nx0FMAvUR4BL2bbtub8uE1jZi3X2p1ZpuMAPqVVaoJuHthTw3q2U3AQixkAtYXyCHih8gqXpi7fqI9nr1BG9kHTcQCf1jAmUtf376br+ndTZFiI6TiAz6M8Al6kqLRc/124Rp/OW6XswwWm4wB+pUFEmG45t6eup0QCp4XyCHiB0vIKjVuwRmNmLdfBgiLTcQC/FhsZplsG9tT153RTRCglEqguyiNgULnLpQmL1+nDGT8o53Ch6ThAQImN/N9IJCUS8BzlETDA5Xbrq2Ub9cF3S7T34BHTcYCAFhcZrlvO7anr+ndTRGiw6TiA16M8AvXI7bY1bdVmvT9tiXbm5JmOA+BX4qLCNXJIH13Vr4uCnA7TcQCvRXkE6snCjTv0xpT52pJ1wHQUACfRLClOD13SX+d2bmk6CuCVKI9AHdu+L1evTvpeCzftMB0FQDX0atlYjw4/Rx2aJJuOAngVyiNQRw4VFuvdbxdr/KIfVeF2m44DoAYsSxrao50euPgspcbFmI4DeAXKI1DLyl0ujZu/Rh9MX6IjRaWm4wCoBaHBTl3fv7vuuOBMRYeHmo4DGEV5BGrR3HXb9Prk+ZwMA/ip+KgIPXJpf11yZgfTUQBjKI9ALdiZk6cXv5yjxZt3mo4CoB70atlY/+/q89QyJcF0FKDeUR6B01Be4dLoWcv00cylKi13mY4DoB4FOR26aUB33T2kL9eHREChPAI1tGLbbv153CxlZB80HQWAQSmx0frD5QM0qGtr01GAekF5BKrpUGGxXp88X1OWrRffPQCO6t+huf54xUA1Tow1HQWoU5RHoBqmLF2v1yfPV15hsekoALxQaLBTdw/po9+d10tOB6vUwD9RHgEPZOYc0vP/mallW3aZjgLAB3RokqTnrh+sNmkNTUcBah3lETgJ27Y1bsEavfHVfJWUVZiOA8CHBDkdumPQmbpj8JkKdjpNxwFqDeUROIF9efl65t/TteSnTNNRAPiwtmkN9ecbh6htI0Yh4R8oj8BxTP5hvV6ZOE/5JawQA+D0BTuduntIb90+6AyOhYTPozwCv5KbX6g/j5ulOeu2mY4CwA91bJqsv9x4oZonx5uOAtQY5RH4xcw1W/TCf2ZxJjWAOhUWEqQ/DB+gq/p1MR0FqBHKIwJeUWmZ/vLf2Zq6fKPpKAACyAVdW+vpawcpJiLMdBSgWiiPCGib9+ToD2O/1s6cPNNRAASgtLgYvXjLUHVrnmY6CuAxyiMC1n8WrNGrk+exJjUAo5wOSyMv7Ks7Bp0ph8MyHQc4JcojAk5BSame+2KGpq/eYjoKAFTq1aqx/nrTUCXHRpmOApwU5REBZX3mPj3+8TfanXvYdBQAOEZsZJieu36wBnZqaToKcEKURwSMz+at1BtTFqjcxTQ1AO9lWdIdg87UPUP7MY0Nr0R5hN8rLCnTU59/p1lrt5qOAgAeO6tdM/3tlqGcjQ2vQ3mEX8vMOaQHP5qs7fsOmo4CANXWOKGB3hhxidqksbQhvAflEX5r0aadeuKTr3WkiCUGAfiusJAgPXvtBRras53pKIAkyiP81Mezl+utqQvkcvPlDcA/3DSghx6+tL+CnKyNDbMoj/ArpeUVevaLGfpmxSbTUQCg1vVq1Viv/G6Y4qMiTEdBAKM8wm/sy8vXw6OnaMOubNNRAKDOpMXFaNRdl6lVaqLpKAhQlEf4hVXb9+iR0VN1sKDIdBQAqHPRYaF65bZh6ts23XQUBCDKI3zetys26el/T1dZBddvBBA4ghwOPXn1ebqib2fTURBgKI/waR/NWKpR3ywUX8UAAtXt55+hBy4+S5bFBcVRPyiP8EkVLrf++uUsjV+8znQUADBucLc2euHGIQoNDjIdBQGA8gifU1Rarj+MnaoFG3eYjgIAXqNb81S9OeIyxUWFm44CP0d5hE/JzS/S/f+YpPW79puOAgBep0liA71z9+VKbxhnOgr8GOURPmPXgUP6/fsTtOvAYdNRAMBrxUdF6L2Rl6td4yTTUeCnKI/wCRt3Z+ue9ydyKR4A8EB0eKj+ftdwdWueZjoK/BDlEV5vTcZe3fvBJOWXsEY1AHgqLCRIr992ic5q38x0FPgZyiO82tItu/TgPyerqLTcdBQA8DnBTqdevPlCXdCtjeko8COUR3itBRsy9MiYr1RazsW/AaCmnA5LT10zSJf36WQ6CvwE5RFeaeaaLfrjJ9+q3EVxBIDTZVnSI5eeo1vO7Wk6CvwA5RFeZ+ryjXr68+/kcvOlCQC16e4hvXXP0H6mY8DHcSl6eJUvF63VX/47W27+pgGAWvfBdz/IkqXfD+1rOgp8GOURXuPf81frb+PnmI4BAH7t/e+WyOl06K7BvU1HgY9ymA4ASNL4xT/qpQkURwCoD+98s0gfzVxqOgZ8FOURxk1dvlEv/GeWmKkGgPrz9tSF+nj2ctMx4IMojzBq+uqf9PTn33GMIwAY8PqU+fp07krTMeBjKI8wZu66bfq/f33LWdUAYNArk+bp3/NXm44BH0J5hBGLNu3UH8Z+rQqX23QUAAh4fxs/R/9ZuMZ0DPgIyiPq3fKtu/XwR1NUVsEFwAHAW7z45Rx9t2qz6RjwAZRH1Ku1O7J0/4eTVFJeYToKAOBX3LatJz/9Tj/8lGk6Crwc5RH1Zkd2nu7/cJKKSstNRwEAHEe5y6WHP/pKG3ftNx0FXozyiHqRm1+oez6YoEOFJaajAABOorC0TPd8MEmZOYdMR4GXojyizhWVluneDyZpT+4R01EAAB44WFCk378/QQeOFJqOAi9EeUSdqnC59eiYqdq4O9t0FABANezOPax7PpiogpJS01HgZSiPqFPPfTFDizbtNB0DAFADm/fk6MF/TlFZBSc54n8oj6gzf/96oaYs22A6BgDgNCzfultPfTbddAx4Ecoj6sR/F67VhzOWmo4BAKgF01Zt1vvTFpuOAS9BeUStW7hxh14cP9t0DABALXr/uyWavvon0zHgBSiPqFU7svP0xCffsF41APgZ25ae+uw7rc/cZzoKDKM8otbkF5fqwX9OVn4xZ+YBgD8qKa/Qgx9NUfbhAtNRYBDlEbXC7bb1x0++0Y7sPNNRAAB1KOdwoR7852SVlHEGdqCiPKJWvDV1vhZs3GE6BgCgHmzYla2nPp8m2+YQpUBEecRpm7p8o8bOXmE6BgCgHk1fvUXvfssZ2IGI8ojTsi5zn54fN8N0DACAAf+Y/oNmr91qOgbqGeURNXbgSKEe/ugrlZa7TEcBABjy1OffaWcOx7sHEsojasTldusPY7/mjDsACHAFJWV6ZPRXKi4rNx0F9YTyiBp555tFWrl9j+kYAAAvsDUrV8+Pm2k6BuoJ5RHVtnDjDo2etcx0DACAF/lmxSaNW7DGdAzUA8ojqmX/oQI9+ek0cXUGAMBvvTppnjbs2m86BuoY5REec7ndeuKTr5VXWGw6CgDAC5VVuPSHsV+z0pifozzCY3//epFWbd9rOgYAwIvtzj2sp/893XQM1CHKIzyyYEOGxszmOEcAwKnNXrtV/+H4R79FecQp7T+Urz999h3HOQIAPPba5O+Vsf+g6RioA5RHnJRt2/p/n07jOEcAQLWUlFfo//71rcpdLCThbyiPOKlP563S8q27TccAAPigjbuz9e43rH/tbyiPOKFt+3I16usFpmMAAHzY2NnLtWIbgxD+hPLoBd599101b95cYWFh6tmzp+bPn286kspdLj356TTWrQYAnBa3betPn37H5Xv8COXRsHHjxumhhx7Sk08+qVWrVql///4aOnSoMjMzjeb64LsftHF3ttEMAAD/sDfviP765WzTMVBLLNvmHFqTevfurR49eui9996r3Na+fXsNHz5cL774opFMa3dk6Xdvj5PLzZcGAKD2/O3moRras53pGDhNjDwaVFZWphUrVmjw4MFVtg8ePFiLFi0ykqm4rFx/+uw7iiMAoNb95cvZyjlcYDoGThPl0aADBw7I5XIpOTm5yvbk5GTt27fPSKY3pszXzpw8I88NAPBv+cWlenH8HNMxcJooj17Asqwq79u2fcy2+vDDT5n6z0JWBAAA1J1Za7dq5potpmPgNFAeDUpMTJTT6TxmlDE7O/uY0ci6VlpeoRf+M4tVZAAAde7F8bN1pKjEdAzUEOXRoJCQEPXs2VMzZsyosn3GjBnq169fvWb5x/QflHngUL0+JwAgMB04UqTXJn9vOgZqiPJo2COPPKJ//vOfGj16tDZu3KiHH35YmZmZGjlyZL1l2JJ1QGNnL6+35wMAYNIP6/XDT2YvS4eaCTIdINBde+21ys3N1fPPP6+srCx16tRJ33zzjdLT0+vl+W3b1p/HzVSFy10vzwcAwFHPj5upL5+4WeEhwaajoBq4zmOA+8+CNfoLF24FABhyy7k99ehl55iOgWpg2jqAZR8u0NtTF5qOAQAIYJ/NW6n1mWYuT4eaoTwGsJcmzFF+CWuNAgDMcblt/fXLOWIi1HdQHgPU3HXbNHPNVtMxAADQusx9mrx0g+kY8BDlMQCVllfopQlzTccAAKDSW18tUH4xs2G+gPIYgMbOXq69B4+YjgEAQKWDBUV6f9oS0zHgAcpjgNmXl6/Rs5aZjgEAwDG+mL9a2/blmo6BU6A8BpjXp3yvkrIK0zEAADhGhdutlzmsyutRHgPIyu179N2qn0zHAADghJb8lKmZa7aYjoGToDwGCNu29erEeaZjAABwSq9NYpbMm1EeA8TU5Ru1ftd+0zEAADilvXlH9PGc5aZj4AQojwGguKyclWQAAD7l49krlFdQbDoGjoPyGAA+nr1C2YcLTMcAAMBjhaVl+ueMH0zHwHFQHv1cXkGxPpmzwnQMAACq7T8L13JdYi9EefRzo2ctU2FpmekYAABUW1mFS+9+u8h0DPwG5dGPZR8u0LgFq03HAACgxr5evklb9h4wHQO/Qnn0Yx9O/0Gl5S7TMQAAqDG3bevtrxeYjoFfoTz6qd25hzVhyTrTMQAAOG3fr8/Qyu17TMfALyiPfur9aYtV4XKbjgEAQK1466v5piPgF5RHP7RtX66+Xr7JdAwAAGrN6owsfb9+u+kYEOXRL7377SK5bdt0DAAAatWH05eajgBRHv3Oxt3ZmrV2q+kYAADUurU7s/TDT5mmYwQ8yqOf+WjGUjHoCADwVx/OYPTRNMqjH9mRnceoIwDAry3bskurM/aajhHQKI9+ZOzs5RzrCADwex9OZ81rkyiPfmL/oQJNXbbRdAwAAOrcgo07tHHXftMxAhbl0U/8a+4KlbtYTQYAEBj+wbGPxlAe/cDhwhKNX/yj6RgAANSbOT9u1dYs1rw2gfLoB/49f7WKSstNxwAAoN7YtjRm1nLTMQIS5dHHFZeV64v5q03HAACg3n236icdOFJoOkbAoTz6uAmL1ymvsNh0DAAA6l25y6X/LlxrOkbAoTz6MNu2GXUEAAS0/y5aq7KKCtMxAgrl0Yct3LhDmQcOmY4BAIAxuflFmrZys+kYAYXy6MO+WLDGdAQAAIz77PvVpiMEFMqjj9p14JAWbtxhOgYAAMZt2p2tldt2m44RMCiPPuo/C9eyFCEAAL/47PtVpiMEDMqjDyopq9CkH9aZjgEAgNeY8+M27T14xHSMgEB59EHfrNioI0WlpmMAAOA1XG5b4zgXoF5QHn0QJ8oAAHCsKUs3qNzlMh3D71Eefcyq7Xu0eU+O6RgAAHidgwVF+n59hukYfo/y6GPGL/7RdAQAALzWxCWcE1DXKI8+pKi0TDPXbDUdAwAAr7Vo0w5lHy4wHcOvUR59yPTVW1RcVm46BgAAXsvltjVl6QbTMfwa5dGHTFm63nQEAAC83uQf1svmWsh1hvLoI3bnHtbK7XtMxwAAwOtlHjikFdv4nVlXKI8+4qulG8QfUQAAeIYTZ+oO5dEH2Latr5Zz/AYAAJ6auWaL8otZUKMuUB59wPKtu7UnlyWXAADwVEl5hWas2WI6hl+iPPqAKcsYdQQAoLq+W7nZdAS/RHn0ciVlFZrJX04AAFTbsq27lJtfaDqG36E8erkFGzNUVMq1HQEAqC6X29Z3q34yHcPvUB69HKOOAADU3DSmrmtdkOkAOLGyigoWeK9lttul/Uu+U97mlaooPKLgyBjFdThDSWdeIMv6+W+pfUum6fBPq1WWf0gOp1PhSY2V0u8iRaSke/QchzavUua0fymmRSc1u+T2yu15m1Zo38Kv5S4vVVzH3krrf2nlbWVHDmr7xA/U+rqH5QwNq90XDQABbO3OLO3Ly1dKXLTpKH6D8ujFFm3aqcLSMtMx/Er28tnK/XGxmgy+XmEJKSrav0u7Z3whZ0i4ErufI0kKjW2otIFXKKRBguyKcuWsmqftEz9Qu1v/n4Iiok76+GVHDiprwRRFprWosr2iuEC7Z45Tk8HXKyQmQRlT/qmoxq0U07yDJGnP7C+VetYwiiMA1DLblmas2aKbB/YwHcVvMG3txWasZsq6thVl7VRMi46Kad5BITHxim3dVVFN26goe1flPnHteiq6aRuFNkhQWEKK0vpfJndZiYoP7D3pY9tutzKnfabk3kMU0iChym1lh3PlDA1XbJvuikhpqqjGrVRycJ+kn0ckLadTDVp1qf0XDADQjNUc91ibKI9eqrzCpXnrt5uO4Xci05qrYNcWleZlS5KKc/aoaG+Gopu1P+7+bleFDq5bLEdImMIbpp30sff/MF1BEZGK79TnmNtCYhvKXVGm4uzdqigpVPH+TIUnpqmipFD7l0xT2sArTv/FAQCOa+3OLO0/lG86ht9g2tpLLfkpkyvj14GGvc6Tq6xYmz95SXJYkttWSr+himtbdTrjyPb1ypz2L7nLyxUUGa0Wl49UUPiJp6wL92Yob8MPan3Do8e9PSgsQk0uuF67pn8ud0W5Ytv3UnR6O+2a8YUSu/ZX2ZGD2vHVaNlul5J7D1Fs6661+roBIJDZ9s8noN44gKnr2kB59FJMWdeNwz+t1qFNK9X0wpsUmpCskpy92vv9JAVFNlB8hzMq94tq0kqtb3hUFcWFOrhuiXZ++4laX/uggiKOPeDaVVaizO8+U6PzrzlpwWzQqkuVqemC3VtVciBLjQZeoU0f/1VNL7xJQZEx2vrFm4pq1OK4zwUAqJl567dTHmsJ5dELVbjcmrtum+kYfilrwVdq2Os8xbbtLkkKT0xTWX6ecpbPqlIeHcGhCo1tqNDYhopMbaZNY/+qg+t/UNIZg455zLLDuSo/clA7pnz0v422LUla+/ZjanvLHxUam1jlPu6KCu2ZM15Nhtyo0kMHZLvdimrcStLPJ+wU7ctUTIuOtf3yASBgrdi2R4UlZYoMCzEdxedRHr3Qqu17dLioxHQMv+SuKJNlWVW2WZYl+5eyd2K23K6K494SGpekNjf+ocq2fYu/lbusVGkDhis4OvaY+2Qvna7o9HaKSGqs4uzdktv1v2dyu2Tbbo9eDwDAMxUutxZv3qlBXVubjuLzKI9eaMHGHaYj+K2Y5h2VvWymgqPjFJaQouLs3cpZNU/xHc6UJLnLS7V/6UzFtOio4MgYVZQUKXftQpUXHFZs626Vj5P53ecKjopR6lkXyxEUrLDE1CrP4wwNl6RjtktSSe4+Hfpptdrc+PPxkaHxSZLl0MF1SxQUGaPSvGxFJDepo48AAASu79dnUB5rAeXRCy3atMN0BL+VNvBy7V/8rfbMGa+KonwFRzVQQqe+Suo9+OcdLIdK87K18+tlcpUUyhkWqYjkJmp51X0KS0ipfJzy/LxjRjA9Ydu2ds/6j9LOuUyO4FBJkiMoRE0uuE575k6Q7apQ2sArFBwVWxsvFwDwKws2Zsi27Rr9/Mb/WPap5+tQj7IPF+iCZz40HQMAAL/02SPXq1PTlFPviBPiOo9eZiFT1gAA1Jn5LPt72iiPXobyCABA3fl+AwtwnC7Koxdxud1a8lOm6RgAAPitjbuzdeBIoekYPo3y6EXW7MhiVRkAAOqQbXNi6umiPHqRRUxZAwBQ55Zt2W06gk+jPHqRhfwlBABAnVu+lfJ4OiiPXiK/uFSbdueYjgEAgN/bm3dEe3IPm47hsyiPXmJ1xl65ueQmAAD1gtHHmqM8eomV2/aYjgAAQMCgPNYc5dFLrNxOeQQAoL5QHmuO8ugFSssrtD5zv+kYAAAEjL15R7Sb4x5rhPLoBX7cuU/lLpfpGAAABBRGH2uG8ugFmLIGAKD+Ld+6y3QEn0R59AIrtvGXDwAA9W11xl7TEXwS5dEwl9uttTuyTMcAACDg7DpwWIcLS0zH8DmUR8M278lRUWm56RgAAASk9bs4YbW6KI+Grdu5z3QEAAAC1vpMfg9XF+XRMP7iAQDAHC6VV32UR8M2UB4BADBm3S5GHquL8mhQSVmFtu87aDoGAAABK+dwobIPF5iO4VMojwb9tDdHFW636RgAAAQ0pq6rh/Jo0Kbd2aYjAAAQ8DhppnoojwZt2kN5BADAtHWMPFYL5dGgTbtzTEcAACDg/bSX38fVQXk0pMLl1tZ9B0zHAAAg4OXmF7HSTDVQHg3ZmZOn0nKX6RgAAEDSNgZ0PEZ5NCRjP5foAQDAW2zj0nkeozwasiM7z3QEAADwi+37c01H8BmUR0MYeQQAwHuwaIfnKI+GMPIIAID32LaPkUdPUR4N2Ul5BADAa+QcKdSRIs649gTl0YADRwqVX1JqOgYAAPiV7RxS5hHKowFMWQMA4H22M3XtEcqjAZwsAwCA99l14LDpCD6B8mgAI48AAHifvQePmI7gEyiPBuzMoTwCAOBtKI+eoTwasC8v33QEAADwG1l5lEdPUB4N2H+Y8ggAgLc5kF+osooK0zG8HuWxnhWVlutIEZfpAQDA29i2tPcgAzynQnmsZ/sP8UUJAIC3Yur61CiP9Wwf5REAAK/FSTOnRnmsZ5wsAwCA96I8nhrlsZ4xbQ0AgPeiPJ4a5bGe7TtUYDoCAAA4gdz8QtMRvB7lsZ4x8ggAgPfKKyg2HcHrUR7rWfZhRh4BAPBWlMdTozzWs0OFfFECAOCt8vg9fUqUx3p2uJALhAMA4K0qXG4dKSoxHcOrUR7rUVFpmcpdLtMxAADASTD6eHKUx3p0mL9kAADwehz3eHKUx3p0uJDyCACAt6M8nlyNyuN5552nQ4cOHbP9yJEjOu+88043k99i5BEAAO+XV1BkOoJXq1F5nDt3rsrKyo7ZXlJSovnz5592KH9FeQQAwPsx8nhyQdXZee3atZX/37Bhg/bt21f5vsvl0rRp09SoUaPaS+dnmLYGAMD75ZdwZZSTqVZ57NatmyzLkmVZx52eDg8P16hRo2otnL/h1H8AALxfSVmF6QherVrlMSMjQ7Ztq0WLFlq6dKkaNmxYeVtISIiSkpLkdDprPaS/OFJMeQQAwNsVl5WbjuDVqlUe09PTJUlut7tOwvi7knKu8QgAgLejPJ5ctcrjr/3000+aO3eusrOzjymTTz/99GkH80dl5QyDAwDg7Zi2PrkalccPP/xQv//975WYmKiUlBRZllV5m2VZlMcTKK3gixEAAG/HyOPJ1ag8vvDCC/rLX/6iJ554orbz+LUypq0BAPB6jDyeXI2u85iXl6err766trP4vbIKyiMAAN6OkceTq1F5vPrqqzV9+vTazuL3mLYGAMD7lZRTHk+mRtPWrVq10lNPPaUlS5aoc+fOCg4OrnL7Aw88UCvh/A3T1gAAeD9GHk/Osm3bru6dmjdvfuIHtCxt3779tEL5qxtf/7fWZe479Y4AAMCY2MgwzfvL703H8Fo1GnnMyMio7RwBoYxpawAAvJ67+uNqAaVGxzyiZsoruLg6AADezubX9UnVaOTx9ttvP+nto0ePrlEYAAAA0xh5PLkalce8vLwq75eXl2vdunU6dOiQzjvvvFoJ5o8cDuvUOwEAAKMojydXo/I4ceLEY7a53W7dc889atGixWmH8ldOyiPgd85o49aNF42WLY5pBvyF04qQdJ/pGF6r1o55dDgcevjhh/XGG2/U1kP6nV8v4wjAPyz7yaGC/EGmYwCoRZacpiN4tVo9YWbbtm2q4IziE2LkEfBPb49PV5AVZzoGgNpiUR5PpkbT1o888kiV923bVlZWlr7++mvdeuuttRLMHzksTm4H/FH2IUubtw9Ry+ZfmI4CoBZYXIzmpGpUHletWlXlfYfDoYYNG+q111475ZnYgczBtDXgt96bEqu3Hmylcm01HQXAabIYeTypGpXHOXPm1HaOgMDZ1oD/ctnS1wsHaPBZlEfA1zHyeHKn9dHJycnRggULtHDhQuXk5NRWJr/FMY+Af/t2WbBcpWebjgHgtFEeT6ZGH53CwkLdfvvtSk1N1TnnnKP+/fsrLS1NI0aMUFFRUW1n9BtOB1+MgL/7YHJHOaxw0zEAnAaLcxROqkYfnUceeUTz5s3TV199pUOHDunQoUOaPHmy5s2bp0cffbS2M/qNsJAaHSUAwIds2Wtpf/YQ0zEAnAaHFWY6glerUXkcP368PvroIw0dOlQxMTGKiYnRRRddpA8//FBffvllbWf0G1FhoaYjAKgHb49PUZCVajoGgBoKdsSYjuDValQei4qKlJycfMz2pKQkpq1PIiI02HQEAPWgoERa+uMFpmMAqKEgyuNJ1ag89u3bV88884xKSkoqtxUXF+u5555T3759ay2cv4kMDTEdAUA9+dfMCDndXU3HAFADlMeTq9FBeG+++aaGDh2qxo0bq2vXrrIsS6tXr1ZoaKimT59e2xn9RgTlEQgon03vresuXCfJZToKgGoIdjQwHcGr1ag8du7cWVu2bNGnn36qTZs2ybZtXXfddbrxxhsVHs5ZhicSGUZ5BALJD5scuvSs8xURzR/VgC9h5PHkalQeX3zxRSUnJ+vOO++ssn306NHKycnRE088USvh/E0kxzwCAWfUhBb6f79rIJd92HQUAB6iPJ5cjY55/OCDD9SuXbtjtnfs2FHvv//+aYfyV0xbA4FnX560dcdQ0zEAVAPl8eRqVB737dun1NRjL0PRsGFDZWVlnXYof8W0NRCY3p3SQMFWS9MxAHiIYx5PrkblsUmTJlq4cOEx2xcuXKi0tLTTDuWvKI9AYKpwWfpm0QDTMQB4KMjJyOPJ1OiYxzvuuEMPPfSQysvLdd5550mSZs2apccff5wVZk4iPpKTiYBA9c0PIRrU8yxZIcf+4Q3AuzBtfXI1Ko+PP/64Dh48qHvuuUdlZWWSpLCwMD3xxBP6v//7v1oN6E8SYiJNRwBg0D+mdNLvr14ht11y6p0BGMMKMydn2bZt1/TOBQUF2rhxo8LDw9W6dWuFhrL83qmc+Ye3VVrONd+AQPWnm7KUkDjZdAwAJ3FO0xUKckSZjuG1anTM41FRUVE644wz1KlTJ4qjhxKiGH0EAtmbX6YqyEoxHQPACVgKojiewmmVR1RfQkyE6QgADCookZatG2w6BoAToDieGuWxniVGM/IIBLpPZkTIabPuNeCNgrhMzylRHutZfDQjjwCkL6afKclpOgaA3whxJpiO4PUoj/UskWlrAJIWbXSquOA80zEA/EZ4UBPTEbwe5bGeMW0N4KhRE1rIaXFJEMCbhAU1Nh3B61Ee61ki13oE8Iusg5a27WTda8CbhAcz8ngqlMd6lhIXbToCAC/yzuRYBVstTMcA8AumrU+N8ljPGsVzFheA/6lwWfpu8UDTMQD8gmnrU6M81rMGkWGKCgsxHQOAF/lqSYjs8n6mYwABz6EQhTqTTcfwepRHA9LiOUAeQFX/mNJZDrFSF2BSWFAjWZZlOobXozwawNQ1gN/atMvSgdwhpmMAAS0smClrT1AeDWiUQHkEcKw3x6cqyGLKDDCFk2U8Q3k0oGnDWNMRAHih/CJLK9az7jVgCuXRM5RHAyiPAE5k7PRIOe3OpmMAAYkzrT1DeTSgSWKs6QgAvNgXM/qIH89A/WPk0TP8dDIgNS5awU6n6RgAvNSiDU6VFLLuNVDfWF3GM5RHA5wOh5olxZmOAcCLjRrfSk6LFamA+hLkiFWQI8p0DJ9AeTSkdVqi6QgAvNjeg1JGJuteA/UlnOMdPUZ5NKRVaoLpCAC83DuT4hVsNTcdAwgIkcGtTEfwGZRHQ1qnMvII4OTKXNKMJeeajgEEhOjQDqYj+AzKoyFMWwPwxOTFIVJ5X9MxAL8XHdLRdASfQXk0JDUuRtFhrGML4NT+ObWLLIWYjgH4MYeiQxh59BTl0aCWHPcIwAPrd1o6ePBC0zEAvxUR3FxOR4TpGD6D8mhQG6auAXjozS/TFGQlmY4B+CVGHauH8mgQJ80A8NSRImnVRta9BupCdEgn0xF8CuXRIE6aAVAdo6dFKcjmoH6gtkWH8n1VHZRHg9o1TpLTYZmOAcCHjJvVT/zoBmqTpeiQ9qZD+BR+AhkUHhKsVkxdA6iGBeucKi3i2o9AbYkISmdZwmqiPBrWJT3VdAQAPmbUBNa9BmpLdCjHO1YX5dGwLs1STEcA4GP2HLC0YxeX7gFqAxcHrz7Ko2GMPAKoib9PjlewlW46BuDzKI/VR3k0LD0pTjERrDQDoHrKyi3NWnae6RiAj7NY07oGKI+GWZalTk2ZugZQfRMXhEoVfUzHAHxWeFBTBTk4fri6KI9egKlrADX1EeteAzXGlHXNUB69QJdmlEcANbNuh0N5eaw8A9REbNgZpiP4JMqjF+icniKHxcXCAdTMW182UpDV0HQMwOfEh/czHcEnUR69QExEmNo24gc/gJo5VGhpzaYhpmMAPiXM2UgRwc1Mx/BJlEcv0btNE9MRAPiwj6ZFKkicNQp4Ki68r+kIPovy6CXObN3UdAQAPsy2LX056yxJHAIDeCI+jCnrmqI8eokeLRsp2Ok0HQOAD5v3o1NlrHsNeMBi5PE0UB69RHhIMEsVAjht70xsLacVZToG4NWiQtopxBlvOobPojx6EaauAZyuzBxLmXuGmo4BeLX4MEYdTwfl0Yv0aUt5BHD63p4Yr2CLnyfAicSFn2U6gk+jPHqRTk1TFBnKShEATk9ZuaU5y883HQPwSg6FKDa0l+kYPo3y6EWCnA71aNnIdAwAfmD8/FBZFWeajgF4nQZhPeR0hJmO4dMoj16mb9t00xEA+InR33STpWDTMQCvEsclek4b5dHLDOjUwnQEAH5i7XaHDuWx8syvrf2hSE+O2KNrem/T+c1/0oLpBcfss3Nrqf50xx5d2mWrLu60Rfddnqn9e8pP+rgFR1x666n9uvrMbbqw7RbdNmiHfpjzv8eeOemIruu3XcO7bdUHf82pct99u8t1y7kZKsx31c6LxEnFc4me0xZkOgCqapzQQK1SE7Q1K9d0FAB+4K3xjfX8nYmqsA+YjuIViotttWwfqguvjtGzv8865va9O8v04NW7NPSaBrr14QRFRjuUubVMIaEnvvh6eZmtx2/erdiEID3zbpoapgQpO6tCEZE/j88cPujSa3/cr8dfTVFqk2A9OWKPuvYJV5/zfr6k0pt/2q87n0hUZDTX+q1rQY5YRYd0Mh3D51EevdC5nVpSHgHUirwC6cfNQ9S+zWemo3iF3gMj1Xtg5C/vHVseP3o1V70HRuru/2tYuS2t6clPZJz238M6csitt79MU1DwzyUzufH/DhfIyixTZLRD514cLUnq1idcO7eUqc950qzJRxQcbKn/hdGn+crgibiw3rIsJl1PFx9BLzSgU0vTEQD4kQ+/jVKQ2puO4fXcbls/zClQ4+YheuKW3bqy1zbdOzzzuFPbv7ZoZoE6dA/T209n68pe2zRiyA599k6uXC5bktSoeYhKS2xtWV+iI4dc2ry2VC3aherIIZfGvpGr+59Lqo+XB0kJ4f1NR/ALlEcv1KlpshrGRJ56RwDwgG1bGj+Hda9P5VCuS8WFtr54/6DOGBCplz5ppLOHROnZkXu1ZknRCe+XlVmu778tkMtt68UxjXTjffH67z/z9Nk7ByVJ0Q2ceuLVZL306D7dOzxTF1wRrTMGROqDv+Zo+K2x2rerXHcP26kRQ3Zo3jf59fVyA46lYDWMuMB0DL/AtLUXsixL53RsofGLfzQdBYCfmLsmSBf1Gajg8Dmmo3gtt/vnf/tdEKWrRsRJklp1CNP6FcX66vPD6ton4oT3i0t06pG/JsvptNSmc5hy97v0n38c1C0PJEiSzh4SrbOH/G9qevWSImVsLtX9zyXploEZevKtVMU3DNK9l2eqy5nhikvk13Ntiw/vq2BnrOkYfoGRRy81kLOuAdSydya1kcNiVuNEGsQ55QyS0ltVPcaxaasQZe898dnWCUlBatw8RE6nVeU+B3NcKi+zj9m/rNStt57K1kN/SdaeHeVyuaSufSLUpGWIGjcP1sbVJbX3olApKYJlO2sL5dFL9W7TVOEhXJ8NQO3Zud/S7r38Aj2R4BBLbbuEadf2sirbd2eUKbnRiX8ed+wVrj07yuR221Xuk5DkVHDIsYcKfDrqoM4cEKk2ncLkdttyVfzvfhXl/xsBRe2xFKzEiEGmY/gNyqOXCg0OUr92XDAcQO0aNSFRwVYT0zGMKS50a+uGEm3d8PPo3r5d5dq6oaTyOo7X3hWnuV/n6+t/H9KeHWWa9HGeFs8q1KU3xVY+xt8eydI/X/7ftRovvbGBjhxy6Z3ncrRre5mWzC7Q5+8c1GU3x+q3dvxUqrlf5+t3j/w8nd20ZYgsh/TNuMNaMrtAmdvK1LZLaN19AAJUfPjZCnbGmI7hNyzbto8dU4dX+HbFJv3xX9+ajgHAz1x9Ton69RhrOoYRq5cU6dHrdx+zffCVMXri1RRJ0rf/Oax/v3dQOVkVatIiRLc+lKCzBkdV7vvIdbuU3Di4cn9JWr+yWO/9OUdbN5QqMSVIQ6+J0XUj46tMZdu2rQev3qXrfx+vvuf/7/EWzyrQ209nq7zM1m2PJmrYdQ3q4qUHtA6JLysl6jLTMfwG5dGLFZeV69w/faDispOvbAAA1fXm/StkO5eZjgHUOYcVqrObLFKQI+rUO8MjTFt7sfCQYJ3bmWs+Aqh9Y7/pLosLbiAAxIf3pzjWMsqjlxvao63pCAD80OptDh0+NNh0DKDOJUdcZDqC36E8erl+7ZopLjLcdAwAfujt8U0UZCWYjgHUGYcVpsSIc03H8DuURy8X5HRoUNfWpmMA8EO5+ZbWbbnQdAygziSED5DTcfyLu6PmKI8+4KKeTF0DqBv/+DpKQWpnOgZQJ5Ijua5pXaA8+oDuLRopNS761DsCQDXZtqVJc88W617D3zitCCWEDzQdwy9RHn2AZVka0p3RRwB1Y9bqIJWXDDAdA6hVCeED5XRwzkBdoDz6iIvPaG86AgA/9u7EtnJYHBsG/5EcdbHpCH6L8ugjWqcmqnN6yql3BIAa2LHf0p4sTp6Bfwh1piiRKes6Q3n0IVf27Ww6AgA/9vb4JAVbjU3HAE5bWvQ1siyn6Rh+i/LoQy7s0VZRYSGmYwDwUyXl0vyVg0zHAE6LpWClRV1tOoZfozz6kPCQYF3Uk0tqAKg74+aFyXL1NB0DqLGGEecrNCjJdAy/Rnn0MUxdA6hrn3zbk3Wv4bMaRV9vOoLfozz6mHaNk9SxSbLpGAD82MqtDuUfZt1r+J6I4JaKC+9jOobfozz6oCv7MfoIoG69Nb6pgqx40zGAamkUfZ3pCAGB8uiDhvZoq8hQTpwBUHcOHJE2bOXSPfAdTitCqVGXm44RECiPPigiNERDWe8aQB37x9QYBYmfNfANSZHDFORgKd/6QHn0Udf372Y6AgA/57KlKd+fbToG4JHG0TeYjhAwKI8+qlVqovq1SzcdA4Cfm7EyWBWsew0vFxPSVdGhHUzHCBiURx9280CuxQag7r03uZ0cVrjpGMAJNYph1LE+UR59WL926WqVmmA6BgA/tz3LUta+oaZjAMcV7IhVUgRfn/WJ8ujjGH0EUB/eGp+kYKuR6RjAMVKjrpDTEWo6RkChPPq4YT3bKTEmwnQMAH6uuExauJp1r+FdLAWpESfK1DvKo48LDnLqmrO6mo4BIAD8e064HO4epmMAlZIjL1F4cBPTMQIO5dEPXHNWV4UFsw4tgLrHutfwFpacahY70nSMgER59ANxUeEa1qu96RgAAsCKLU4VHGH6GuYlRQ5VRHAz0zECEuXRT/zuvF5yOizTMQAEgLfGN1OQFWc6BgKaQ80a3GM6RMCiPPqJpg1jNaQ7y4gBqHs5h6WN21j3GuYkRQxRZEhL0zECFuXRj9x5wZlyWIw+Aqh7H3zVQEFqbToGApKlZrG/Nx0ioFEe/UiLlAQN6trKdAwAAcBlS1MXnGM6BgJQw4hBigphps0kyqOfuXNwbzH4CKA+fLc8WK5SCiTqF8c6mkd59DNt0hrq/C6MPgKoH+9Pbs+616g3CeHnKjq0g+kYAY/y6IdGXtiX0UcA9WLrXkv79nPyDOpH81hGHb0B5dEPtU5N1AVd25iOASBAvD0hScFWmukY8HPxYWcrJrSL6RgQ5dFvjbywD2deA6gXhSWWFq+9wHQM+LnmsfeajoBfUB79VMuUBF3Us53pGAACxGezwuVwdzcdA34qLqyPGoSxrrq3oDz6sfuG9VNosNN0DAAB4tNpZ7DuNepEs9j7TEfAr1Ae/VhqXIyu789IAID6sewnhwryWfcatSshfKDiws4wHQO/Qnn0c3dccKZiI8NMxwAQIN4en86616g1loLUKu5x0zHwG5RHPxcdHqo7L+htOgaAAJF9yNLm7UNMx4CfSIu+hjWsvRDlMQBce3ZXNU5oYDoGgADx3pRYBYvFCnB6gqxoNY+933QMHAflMQAEBzl137CzTMcAECBctvT1wgGmY8DHpcferRBnvOkYOA7KY4C4sHsbdWyabDoGgADx7bJguUrPNh0DPiosqJGaxNxqOgZOgPIYICzL0qOXnWM6BoAA8sHkjqx7jRppGfuoHFaI6Rg4AcpjAOnZsrEGd2ttOgaAALFlr6X92Zw8g+qJDT1DyVHDTMfASVAeA8xjwwcqIjTYdAwAAeLt8SkKslJNx4CPsORUm4Q/mY6BU6A8Bpjk2CjdNZhL9wCoHwUl0tIfWfcankmLvk5RISyt6+0ojwHopoE91CKFM9gA1I9/zYyQ093VdAx4uWBHnFrEPmg6BjxAeQxAwU6n/u/K80zHABBAPpveW5LTdAx4sRZxDyvYyTWJfQHlMUCd2bqJhvZoazoGgADxwyaHivLPNx0DXio6pKPSoq42HQMeojwGsEcvO0eRoVwKAUD9GDWhhZwWI0v4LUtt4p+SZdVPJfn+++91ySWXKC0tTZZladKkSfXyvP6E8hjAGjaI0sgL+5iOASBA7MuTtu4YajoGvEzj6BvVIKx7vT1fYWGhunbtqr///e/19pz+xrJt2zYdAuZUuNy6/rXP9NPeA6ajAAgAQU5bbz4wU+X2NtNR4AXCgpqod9oUOR0RRp7fsixNnDhRw4cPN/L8voqRxwAX5HTouesHK8jBlwKAulfhsvTNIta9hiRZap/4V2PFETVHY4A6NEnWref1NB0DQID45ocQ2WVnmY4BwxpF36C4sDNNx0ANUB4hSRp5YR+u/Qig3vxjSic5rDDTMWBIWFBjtYp7zHQM1BDlEZKkkKAgPXfdYDkdlukoAALApt2WcnJY9zowWWqf8Bemq30Y5RGVujRL1U0DepiOASBAvPllqoKsFNMxUM8aRV+vuHCu9OHLKI+o4t6L+qlZUpzpGAACQEGJtGzdYNMxUI/CghqrpeHp6oKCAq1evVqrV6+WJGVkZGj16tXKzMw0msuXcKkeHGN1xl7d9vZ/5OZLA0A9ePvBxXJZa0zHQJ2z1D15rPFRx7lz5+rcc889Zvutt96qsWPH1n8gH0R5xHG9MnGuPp23ynQMAAGgX3uXrh4yWpLLdBTUoUbR16ltwnOmY6AWMG2N47p/2NlqmZJgOgaAALBoo1PFBeeZjoE6FBbUSC3jHjcdA7WE8ojjCgsJ0ku3XKTQYKfpKAACwM/rXseYjoE6Yaldwl8U5Ig0HQS1hPKIE2qdlqiHLulvOgaAAJB10NK2nax77Y/Soq5RfHhf0zFQiyiPOKkbzumu/h2am44BIAC8MzlWwVYL0zFQiyKCW6hV/BOmY6CWUR5xSs/fMFiJMVzMFUDdqnBZ+m7xQNMxUEscVrg6NXyb6Wo/RHnEKcVHReiFGy+UxeIzAOrYV0tCZJf3Mx0DtaBtwrOKCmltOgbqAOURHunbNl23DOxpOgaAAPCPKZ3lUKjpGDgNaVHXKDVquOkYqCOUR3js/ovPUocmSaZjAPBzm3ZZOpDLute+Kjqko9okPGU6BuoQ5REeC3Y69fKtwxQdzogAgLr15vhUBVnJpmOgmoIcMerU8C05rBDTUVCHKI+oliaJsXrhxiEc/wigTuUXWVqxnnWvfU37xBcVHtzEdAzUMcojqm1gp5a684LepmMA8HNjp0fKaXc2HQMeahpzuxpGDDIdA/WA8oga+f2FfXVWu2amYwDwc1/M6CN+VXm/BqE91SLuUdMxUE/4jkSNOByWXrx5qBolsJwYgLqzaINTJYWse+3Ngh0J6tTwDTmsINNRUE8oj6ixBpFheu22SxQWzA8MAHVn1PhWclrRpmPguBzq2PA1hQZxclMgoTzitLRvnKQnr2ZUAEDd2XtQyshk3Wtv1Dz2PtatDkCUR5y2S8/sqGvO6mI6BgA/9s6keAVbzU3HwK/Eh/dXswb3mI4BAyiPqBWPXzFQvVo1Nh0DgJ8qc0kzlpxrOgZ+ERncSh0TX5fFddsCEuURtSLY6dTrt12i9IZxpqMA8FOTF4dI5UyRmhbibKiuyR8q2MkJk4GK8oha0yAyTH+/a7hiI8NMRwHgp/45tYsssXqJKU4rQl2TPlBYUJrpKDCI8oha1bRhrN64/RIFO52mowDwQ+t3Wjp48ELTMQKSJac6NnxT0aEdTUeBYZRH1LoeLRvrmetYZQBA3XjzyzQFWUmmYwScNglPKzFigOkY8AKUR9SJS87ooLsGs4QhgNp3pEhatZF1r+tT05g71Sj6OtMx4CUoj6gz917UT0N7tDUdA4AfGj0tSk67k+kYASEpcphasvQgfoXyiDr1/A2D1a05B1YDqH3/mdVX/BqrWw1Ce6lD4t+4JA+q4LsOdSokKEij7rxMrVMTTUcB4GcWrHOqtIhrP9aViKDm6pL0jhwWZ7ejKsoj6lxMRJjeG3m5Gic0MB0FgJ8ZNYF1r+tCsCPhl2s5xpqOAi9EeUS9aNggSh/8/go1jIk0HQWAH9lzwNKOXVy6pzY5rHB1TX5f4cFNTEeBl6I8ot40TozVeyOvUExEqOkoAPzI3yfHK9hKNx3DTzjUseFrigntYjoIvBjlEfWqdVqi/n7ncIWFBJmOAsBPlJVbmrXsPNMx/IBD7RNfVMOI800HgZejPKLedW2eptdvYxUaALVn4oJQqaKP6Rg+zKH2iX9VatRw00HgAyiPMOKs9s30l5uGyMHlHwDUko9Y97qGHGqX8IJSoy43HQQ+gvIIY4Z0b6unrx0k+iOA2rBuh0N5eaw8Uz2W2iX8WWnRV5oOAh9CeYRRl/fppKevoUACqB1vfdlIQVZD0zF8xNHieJXpIPAxlEcYd0XfznqKAgmgFhwqtLRm0xDTMXyApbYJzyst+mrTQeCDKI/wClf27awnrzqfAgngtH00LVJB6mA6hhez1DbhOTWKvsZ0EPgoyiO8xtVndWEEEsBps21LX846SxI/TI5lqW3Cs2oUfa3pIPBhlEd4lSv7dtaz1w3mLGwAp2Xej06Vse71b1hqE/+0GkVfZzoIfBzlEV5neO+Oev6GwXI6KJAAau6dia3ltKJMx/AabeKfUuOYG0zHgB+gPMIrXXJGB71481AuJA6gxjJzLGXuGWo6hldoE/+0GsfcaDoG/ATlEV5rSPe2GnXXZYoIDTYdBYCPentivIKtpqZjGGPJqbbxz1IcUasoj/Bqfdum6x/3XKW4yHDTUQD4oLJyS3OWB+ZazQ4rXJ2SRqlRzPWmo8DPUB7h9Tqnp2jMA9coJTbadBQAPmj8/FBZFWeajlGvgh3x6p7ysRpGBGZxRt2iPMInNE+O1ycPXasWyfGmowDwQaO/6SZLgXEITHhQU/VM/UINQruajgI/RXmEz0iOjdbYB65Vl/RU01EA+Ji12x06lOf/K8/EhHRRz9RxighONx0FfozyCJ/SIDJMH9xzpfq14wcjgOp5a3xjBVmJpmPUmcTwc9U95ROFOJmhQd2iPMLnRIQG6+07L9PlfTqZjgLAh+QVSD9u9s/Rx0bR16lz0jtyOji5EHXPsm3bNh0CqKmPZy/Xm18tkJsvYwAesCxbbz/4vSq00XSUWmKpRezDahZ7t+kgCCCMPMKn3XpeL71++yUKDwmMA+EBnB7btjR+jn+se20pWB0SX6I4ot5RHuHzzu3cUmMfuEbJsSxDBuDU5q4JUnnxQNMxTovTilLX5H8oJeoy01EQgCiP8AvtGifps4evV8emyaajAPAB70xqI4cVaTpGjYQ6k9Uz9TPFh/czHQUBivIIv9GwQZRG33eNBndrbToKAC+3c7+l3Xt9b93r2NAz1Ct1vKJC2pmOggBGeYRfCQsJ0su3DtNdg3vL8v1DmgDUoVETEhVsNTEdw2NNY25Xt5SxCg1qaDoKAhxnW8NvzV23TX/67DvlF5eajgLAS119Ton69RhrOsZJOa0otU98UUmRg01HASRRHuHndh84pEfGTNXmPTmmowDwUm/ev0K2c5npGMcVGdxGnZNGKSK4mekoQCWmreHXGifG6pMHr9OlZ3YwHQWAlxr7TXdZCjId4xjJkZeqV+p/KI7wOow8ImB8uWitXpowV2UVLtNRAHiZ536XqZjYb0zHkPTz9Rtbx/8/NY65wXQU4LgojwgoG3bt16NjpmrvwSOmowDwIgnRtp6940tV2LlGc4Q609Q56S3FhHYxmgM4GaatEVA6NEnWF4/eqP4dmpuOAsCL5OZbWrflQqMZ4sPO1plpEyiO8HqMPCIg2batz+at0ltTFzCNDUDS0XWv56lCm+r7mdWswT1qHnufLIsxHXg/yiMC2k97c/THT77Vtn1mp6oAeIfzu1Xo4oEfSaqfX43Bjlh1SHxZCRED6uX5gNrAnzgIaG3SGurfj96g6/p3Mx0FgBeYtTpI5SX1U+QSIwapd6OvKY7wOYw8Ar9YsCFDT30+XQcLikxHAWBQs2RbD9/wL7ntuvlZEORooDbxTyol6rI6eXygrjHyCPzi7A7N9eUTN3MyDRDgduy3tCerbk6eSQgfoN5pX1Ec4dMYeQSO44v5q/XGV/NVUlZhOgoAA8KCpVfvm6pye3etPJ7TilLr+P9TWvRVtfJ4gEmUR+AEdh84pOfGzdTSLbtMRwFgwLUDStSn+9jTfpy4sLPUPvEvCgtKPf1QgBegPAKnMH7xj3p98vcqKCkzHQVAPXvz/mWynStqdF+nFaFW8U+oUfR1tZwKMIvyCHhg/6ECvfDfmfp+fYbpKADqUY9Wbt1y8WjZqt4hLLFhZ6p9wosKD25cR8kAcyiPQDV8s2KTXp4wV3mFxaajAKgnf74tU1ENPFv32mGFq2Xco2ocfZMsy6rjZIAZlEegmg4WFOlv4+fou1U/mY4CoB4kxkjPjPiPKuyDJ92vQWgvtU/8qyKC0+spGWAG5RGoofkbMvTShDnadeCw6SgA6tjvLzmiNi0/P+5tIY5EtYz/g1IiL2O0EQGB8gichrKKCo2dvUIfzVzKZX0AP+a0pDcfnKMKba7cZsmpRtE3qkXcAwpyRBtMB9QvyiNQC7LyjuiVifM0a+1W01EA1JELepTronM+kvTzFHXbhKcVFdLWcCqg/lEegVq0ePNOvTR+rjKyT35sFADf9MrdWerS5GylRF1qOgpgDOURqGXlLpc+nbtS/5j+g4pKy03HAVALQoKcunlgD91xwZmKCA0xHQcwivII1JHswwV655tF+mrZBrncfJsBvmpQ11Z6+NJz1DihgekogFegPAJ1bGvWAb09daHmrd9uOgqAaujYNFkPX9JfZ7RuYjoK4FUoj0A9Wbltt96YskBrd2aZjgLgJFqkxOu+i87S+V1amY4CeCXKI1DPZq7ZorenLtTOnDzTUQD8SlpcjEZe2EcXn9FeTofDdBzAa1EeAQMqXG5NXLJO73+3WAeOFJmOAwS0uKhw3XnBmbrmrK4KDnKajgN4PcojYFBxWbn+s2CNxs5eoYMFlEigPkWFhejmgT11y7k9OIMaqAbKI+AFisvK9d+FazV29nLl5lMigboUHR6q6/t3040Duis2Mtx0HMDnUB4BL1JSVqEvF63Vx3NWKPtwgek4gF9JiI7QTQN66NqzuyoyjJFGoKYoj4AXKq9wadIP6zVm9jLtyT1iOg7g01LjovW783rp8j6dFBocZDoO4PMoj4AXq3C59e3KTfpkzgr9tPeA6TiAT2mWFKfbzz9DF/Vqp2AnJ8IAtYXyCPiIH37K1GfzVmn+hgy5+bYFTqhrs1TdNLCHBnVpLYfDMh0H8DuUR8DHZOYc0mffr9KUpetZOxv4RbDTqSHd2+iGc7qpY9MU03EAv0Z5BHzUkaISTVyyTl/MX6O9eRwXicDUsEGkru7XRVf166KE6AjTcYCAQHkEfJzL7dbstVv1xfw1Wr5tt+k4QL3o1jxV1/XvrkFdW3E8I1DPKI+AH9mZk6eJS9ZpytINXC8SficyNERDurfR1Wd1UYcmyabjAAGL8gj4oQqXW/PWb9fEJeu0aNMOudx8m8M3WZbUs0VjDe/dUYO6tVZ4SLDpSEDAozwCfm7/oXxN+mG9Ji1Zz7GR8BkpsdG65MwOGn5mBzVOjDUdB8CvUB6BAOF221q6JVPfrtysWWu3Kr+41HQkoIrQYKfO7dRKl/XuqD5tmnKZHcBLUR6BAFRe4dLCTTs0beVmzV23XcVlXPIHZgQ7nerTtqkGd2utczu3UnR4qOlIAE6B8ggEuOKycs1bt13TVm3Wwo07VFbhMh0Jfi7I6VDftum6oGtrndu5pWIiwkxHAlANlEcAlfKLSzV77VbNWrtVP/yUqZLyCtOR4CeCnA71adNUF3Rro/MojIBPozwCOK6Ssgr9sCVT36/fru/XZyj7cIHpSPAxDSLC1Ldtus7u0EwDOragMAJ+gvIIwCMbd+3XvF+K5Ibd+8VPDhxP20YN1b9Dc53dvpm6NEuV0+EwHQlALaM8Aqi2nMMFmr8hQ0t+ytSyLbt1sIALkgeqyNAQ9W7bVP3bN9PZHZorqUGU6UgA6hjlEcBp25p1QMu27tbSLbu0YutuHS4qMR0JdSQyNETdmqepZ6tG6tWysTo0TWZ5QCDAUB4B1Cq329bmvTlatmWXlm7ZpVXb96igpMx0LNRQdHiourdIU6+WjdWzVWO1b5zEVDQQ4CiPAOqU221r+/5crcvcr3U79+nHzH3auveAKtxu09FwHE0SG6hT0xR1Tk9Rj5aN1TatIRfrBlAF5RFAvSspq9CmPdn6cec+rdu5T+sy92l37mHTsQJOaly02jVOUocmyerYJFmdmqaoQSRnRAM4OcojAK9wpKhEW7MOaOu+XG3NytW2fbnalpWrvMJi09F8XlRYiJonx6t5crxapiSobaOGat84SbGR4aajAfBBlEcAXi03v0hbsw5o2y+lckf2Qe06cFg5Rwq4XNBvJERHqHlyvFr8qig2T47nDGgAtYryCMAnlZRVaM/Bw9p14JD25B5RVt4vbwfztTfviPIK/GvE0mFZSoyJVGpctFLiopUaF1P5/7T4GKXGxbAuNIB6QXkE4JfKKip0ML9YBwuKlJtfpIP5Rf/7f0FR5W2HCotVVFqu4tLyej+JJyosRLGR4b+8hVX+Py7qf+/HRYUrOTZaybFRXBIHgFegPALAL8orXCoqLVdRWZmKS8tVVFZe+W9JWblsW7JtW7Z+869t/3zbL48TGhyksOCgn/8N+dX/f3n/5/8HK8jJJW8A+B7KIwAAADzGn70AAADwGOURAAAAHqM8AgAAwGOURwAAAHiM8ggAAACPUR4BAADgMcojAAAAPEZ5BAAAgMcojwAAAPAY5REAAAAeozwCAADAY5RHAAAAeIzyCAAAAI9RHgEAAOAxyiMAAAA8RnkEAACAxyiPAAAA8BjlEQAAAB6jPAIAAMBjlEcAAAB4jPIIAAAAj1EeAQAA4DHKIwAAADxGeQQAAIDHKI8AAADwGOURAAAAHqM8AgAAwGOURwAAAHiM8ggAAACPUR4BAADgMcojAAAAPEZ5BAAAgMcojwAAAPAY5REAAAAeozwCAADAY5RHAAAAeIzyCAAAAI9RHgEAAOAxyiMAAAA8RnkEAACAxyiPAAAA8BjlEQAAAB6jPAIAAMBjlEcAAAB4jPIIAAAAj1EeAQAA4DHKIwAAADxGeQQAAIDHKI8AAADwGOURAAAAHqM8AgAAwGOURwAAAHiM8ggAAACPUR4BAADgMcojAAAAPEZ5BAAAgMcojwAAAPAY5REAAAAeozwCAADAY5RHAAAAeIzyCAAAAI9RHgEAAOAxyiMAAAA8RnkEAACAxyiPAAAA8BjlEQAAAB6jPAIAAMBjlEcAAAB4jPIIAAAAj1EeAQAA4LH/D7Ieg+6JoqLhAAAAAElFTkSuQmCC",
      "text/plain": [
       "<Figure size 800x800 with 1 Axes>"
      ]
     },
     "metadata": {},
     "output_type": "display_data"
    }
   ],
   "source": [
    "# Gráfico da distribuição da Variável Target\n",
    "\n",
    "# Definindo cores personalizadas para as fatias\n",
    "colors = ['#2e6f8e', '#bddf26'] \n",
    "\n",
    "# Gráfico de pizza\n",
    "plt.figure(figsize=(8, 8))\n",
    "df0['employee_left'].value_counts().plot(kind='pie', autopct='%1.1f%%', colors=colors)\n",
    "\n",
    "# Adicionando título e legenda\n",
    "plt.title('Distribuição da Variável Target')\n",
    "plt.legend(title='employee_left', loc='upper left')\n",
    "\n",
    "plt.show()"
   ]
  },
  {
   "cell_type": "markdown",
   "metadata": {},
   "source": [
    "Esse é um conjunto de dados desequilibrado, mas não extremamente. "
   ]
  },
  {
   "cell_type": "code",
   "execution_count": 49,
   "metadata": {},
   "outputs": [
    {
     "data": {
      "image/png": "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",
      "text/plain": [
       "<Figure size 1200x600 with 1 Axes>"
      ]
     },
     "metadata": {},
     "output_type": "display_data"
    }
   ],
   "source": [
    "# Calcular a taxa de saída por departamento\n",
    "exit_rates = df0.groupby('department')['employee_left'].mean().sort_values()\n",
    "\n",
    "# Criar gráfico de barras\n",
    "plt.figure(figsize=(12, 6))\n",
    "sns.barplot(x=exit_rates.index, y=exit_rates.values, palette='viridis')\n",
    "plt.xticks(rotation=45)\n",
    "plt.ylabel('Taxa de Saída (%)')\n",
    "plt.title('Taxa de Saída por Departamento')\n",
    "\n",
    "plt.show()"
   ]
  },
  {
   "cell_type": "markdown",
   "metadata": {},
   "source": [
    "---\n",
    "### Tenure\n",
    "\n",
    "Checando o tempo de funcionarios na companhia em relação a algumas matricas."
   ]
  },
  {
   "cell_type": "markdown",
   "metadata": {},
   "source": [
    "#### vs. Department"
   ]
  },
  {
   "cell_type": "code",
   "execution_count": 52,
   "metadata": {
    "id": "Qf0VbjX8-DBQ"
   },
   "outputs": [
    {
     "data": {
      "image/png": "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",
      "text/plain": [
       "<Figure size 1200x600 with 1 Axes>"
      ]
     },
     "metadata": {},
     "output_type": "display_data"
    }
   ],
   "source": [
    "# Distribuição de tenure por departamento\n",
    "plt.figure(figsize=(12, 6))\n",
    "sns.boxplot(x='department', y='tenure', data=df0, palette='viridis')\n",
    "plt.xticks(rotation=45)\n",
    "plt.title('Tempo de Permanência por Departamento')\n",
    "plt.show()"
   ]
  },
  {
   "cell_type": "markdown",
   "metadata": {},
   "source": [
    "**Padrão de Outliers em Todos os Departamentos:**  \n",
    "   - O gráfico mostra que cada departamento tem funcionários com tempos de permanência que são considerados outliers (pontos acima dos limites do boxplot).  \n",
    "   - Isso pode indicar que há um pequeno grupo de funcionários que ficam muito mais tempo na empresa do que a maioria, o que pode estar relacionado a cargos de liderança ou funções especializadas.\n",
    "\n",
    "**HR e Support com Padrão Diferente**  \n",
    "   - Comparando com os outros departamentos, HR e Support parecem ter medianas ligeiramente menores e distribuições diferentes. Possíveis razões:  \n",
    "     - Esses departamentos podem ter maior rotatividade de funcionários.    \n",
    "     - O trabalho nessas áreas pode envolver mais posições de entrada (entry-level), o que significa que funcionários tendem a mudar de função ou sair da empresa mais rapidamente."
   ]
  },
  {
   "cell_type": "markdown",
   "metadata": {},
   "source": [
    "#### vs. Satisfaction\n",
    "\n",
    "O gráfico de linha mostra a variação da satisfação ao longo do tempo de permanência."
   ]
  },
  {
   "cell_type": "code",
   "execution_count": 55,
   "metadata": {},
   "outputs": [
    {
     "data": {
      "image/png": "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",
      "text/plain": [
       "<Figure size 1200x500 with 1 Axes>"
      ]
     },
     "metadata": {},
     "output_type": "display_data"
    }
   ],
   "source": [
    "# Agrupar por tempo de permanência e calcular a média de satisfação\n",
    "df_avg = df0.groupby('tenure')['satisfaction_level'].mean().reset_index()\n",
    "\n",
    "# Criar gráfico de linha\n",
    "plt.figure(figsize=(12, 5))\n",
    "sns.lineplot(x='tenure', y='satisfaction_level', data=df_avg, marker='o', color='g')\n",
    "\n",
    "# Configurações do gráfico\n",
    "plt.title('Média de Satisfação ao Longo do Tempo de Permanência')\n",
    "plt.xlabel('Tempo de Permanência (anos)')\n",
    "plt.ylabel('Nível Médio de Satisfação')\n",
    "plt.xticks(df_avg['tenure'])  # Garantir que os rótulos do eixo X correspondam aos anos disponíveis\n",
    "\n",
    "plt.show()"
   ]
  },
  {
   "cell_type": "markdown",
   "metadata": {},
   "source": [
    "#### vs. Salary\n",
    "\n",
    "Analisando a diferença salarial entre os funcionários com diferentes tempo na empresa."
   ]
  },
  {
   "cell_type": "code",
   "execution_count": 57,
   "metadata": {},
   "outputs": [
    {
     "data": {
      "text/html": [
       "<style type=\"text/css\">\n",
       "#T_c635b_row0_col0 {\n",
       "  background-color: #e1f3dc;\n",
       "  color: #000000;\n",
       "}\n",
       "#T_c635b_row0_col1 {\n",
       "  background-color: #03702e;\n",
       "  color: #f1f1f1;\n",
       "}\n",
       "#T_c635b_row0_col2, #T_c635b_row7_col2 {\n",
       "  background-color: #eff9eb;\n",
       "  color: #000000;\n",
       "}\n",
       "#T_c635b_row1_col0 {\n",
       "  background-color: #e7f6e3;\n",
       "  color: #000000;\n",
       "}\n",
       "#T_c635b_row1_col1 {\n",
       "  background-color: #006428;\n",
       "  color: #f1f1f1;\n",
       "}\n",
       "#T_c635b_row1_col2, #T_c635b_row2_col2 {\n",
       "  background-color: #f3faf0;\n",
       "  color: #000000;\n",
       "}\n",
       "#T_c635b_row2_col0 {\n",
       "  background-color: #ebf7e7;\n",
       "  color: #000000;\n",
       "}\n",
       "#T_c635b_row2_col1 {\n",
       "  background-color: #005e26;\n",
       "  color: #f1f1f1;\n",
       "}\n",
       "#T_c635b_row3_col0, #T_c635b_row3_col2, #T_c635b_row5_col1 {\n",
       "  background-color: #f7fcf5;\n",
       "  color: #000000;\n",
       "}\n",
       "#T_c635b_row3_col1, #T_c635b_row5_col2, #T_c635b_row7_col0 {\n",
       "  background-color: #00441b;\n",
       "  color: #f1f1f1;\n",
       "}\n",
       "#T_c635b_row4_col0 {\n",
       "  background-color: #e5f5e0;\n",
       "  color: #000000;\n",
       "}\n",
       "#T_c635b_row4_col1 {\n",
       "  background-color: #258d47;\n",
       "  color: #f1f1f1;\n",
       "}\n",
       "#T_c635b_row4_col2 {\n",
       "  background-color: #b8e3b2;\n",
       "  color: #000000;\n",
       "}\n",
       "#T_c635b_row5_col0 {\n",
       "  background-color: #4aaf61;\n",
       "  color: #f1f1f1;\n",
       "}\n",
       "#T_c635b_row6_col0 {\n",
       "  background-color: #cbebc5;\n",
       "  color: #000000;\n",
       "}\n",
       "#T_c635b_row6_col1 {\n",
       "  background-color: #60ba6c;\n",
       "  color: #f1f1f1;\n",
       "}\n",
       "#T_c635b_row6_col2 {\n",
       "  background-color: #72c375;\n",
       "  color: #000000;\n",
       "}\n",
       "#T_c635b_row7_col1 {\n",
       "  background-color: #cfecc9;\n",
       "  color: #000000;\n",
       "}\n",
       "</style>\n",
       "<table id=\"T_c635b\">\n",
       "  <thead>\n",
       "    <tr>\n",
       "      <th class=\"index_name level0\" >salary</th>\n",
       "      <th id=\"T_c635b_level0_col0\" class=\"col_heading level0 col0\" >high</th>\n",
       "      <th id=\"T_c635b_level0_col1\" class=\"col_heading level0 col1\" >low</th>\n",
       "      <th id=\"T_c635b_level0_col2\" class=\"col_heading level0 col2\" >medium</th>\n",
       "    </tr>\n",
       "    <tr>\n",
       "      <th class=\"index_name level0\" >tenure</th>\n",
       "      <th class=\"blank col0\" >&nbsp;</th>\n",
       "      <th class=\"blank col1\" >&nbsp;</th>\n",
       "      <th class=\"blank col2\" >&nbsp;</th>\n",
       "    </tr>\n",
       "  </thead>\n",
       "  <tbody>\n",
       "    <tr>\n",
       "      <th id=\"T_c635b_level0_row0\" class=\"row_heading level0 row0\" >2</th>\n",
       "      <td id=\"T_c635b_row0_col0\" class=\"data row0 col0\" >8.87</td>\n",
       "      <td id=\"T_c635b_row0_col1\" class=\"data row0 col1\" >47.22</td>\n",
       "      <td id=\"T_c635b_row0_col2\" class=\"data row0 col2\" >43.92</td>\n",
       "    </tr>\n",
       "    <tr>\n",
       "      <th id=\"T_c635b_level0_row1\" class=\"row_heading level0 row1\" >3</th>\n",
       "      <td id=\"T_c635b_row1_col0\" class=\"data row1 col0\" >8.07</td>\n",
       "      <td id=\"T_c635b_row1_col1\" class=\"data row1 col1\" >48.54</td>\n",
       "      <td id=\"T_c635b_row1_col2\" class=\"data row1 col2\" >43.39</td>\n",
       "    </tr>\n",
       "    <tr>\n",
       "      <th id=\"T_c635b_level0_row2\" class=\"row_heading level0 row2\" >4</th>\n",
       "      <td id=\"T_c635b_row2_col0\" class=\"data row2 col0\" >7.48</td>\n",
       "      <td id=\"T_c635b_row2_col1\" class=\"data row2 col1\" >49.18</td>\n",
       "      <td id=\"T_c635b_row2_col2\" class=\"data row2 col2\" >43.34</td>\n",
       "    </tr>\n",
       "    <tr>\n",
       "      <th id=\"T_c635b_level0_row3\" class=\"row_heading level0 row3\" >5</th>\n",
       "      <td id=\"T_c635b_row3_col0\" class=\"data row3 col0\" >5.37</td>\n",
       "      <td id=\"T_c635b_row3_col1\" class=\"data row3 col1\" >51.79</td>\n",
       "      <td id=\"T_c635b_row3_col2\" class=\"data row3 col2\" >42.84</td>\n",
       "    </tr>\n",
       "    <tr>\n",
       "      <th id=\"T_c635b_level0_row4\" class=\"row_heading level0 row4\" >6</th>\n",
       "      <td id=\"T_c635b_row4_col0\" class=\"data row4 col0\" >8.49</td>\n",
       "      <td id=\"T_c635b_row4_col1\" class=\"data row4 col1\" >43.36</td>\n",
       "      <td id=\"T_c635b_row4_col2\" class=\"data row4 col2\" >48.15</td>\n",
       "    </tr>\n",
       "    <tr>\n",
       "      <th id=\"T_c635b_level0_row5\" class=\"row_heading level0 row5\" >7</th>\n",
       "      <td id=\"T_c635b_row5_col0\" class=\"data row5 col0\" >20.21</td>\n",
       "      <td id=\"T_c635b_row5_col1\" class=\"data row5 col1\" >19.15</td>\n",
       "      <td id=\"T_c635b_row5_col2\" class=\"data row5 col2\" >60.64</td>\n",
       "    </tr>\n",
       "    <tr>\n",
       "      <th id=\"T_c635b_level0_row6\" class=\"row_heading level0 row6\" >8</th>\n",
       "      <td id=\"T_c635b_row6_col0\" class=\"data row6 col0\" >11.11</td>\n",
       "      <td id=\"T_c635b_row6_col1\" class=\"data row6 col1\" >37.04</td>\n",
       "      <td id=\"T_c635b_row6_col2\" class=\"data row6 col2\" >51.85</td>\n",
       "    </tr>\n",
       "    <tr>\n",
       "      <th id=\"T_c635b_level0_row7\" class=\"row_heading level0 row7\" >10</th>\n",
       "      <td id=\"T_c635b_row7_col0\" class=\"data row7 col0\" >29.91</td>\n",
       "      <td id=\"T_c635b_row7_col1\" class=\"data row7 col1\" >26.17</td>\n",
       "      <td id=\"T_c635b_row7_col2\" class=\"data row7 col2\" >43.93</td>\n",
       "    </tr>\n",
       "  </tbody>\n",
       "</table>\n"
      ],
      "text/plain": [
       "<pandas.io.formats.style.Styler at 0x26a2254b440>"
      ]
     },
     "execution_count": 57,
     "metadata": {},
     "output_type": "execute_result"
    }
   ],
   "source": [
    "# Porcentagem de cada categoria salarial por tempo de empresa\n",
    "cross_tab = pd.crosstab(df0['tenure'], df0['salary'], normalize='index') * 100\n",
    "cross_tab = cross_tab.round(2)  # Arredonda os valores\n",
    "cross_tab.style.format(\"{:.2f}\").background_gradient(cmap='Greens')  # Formata para exibição correta"
   ]
  },
  {
   "cell_type": "markdown",
   "metadata": {},
   "source": [
    "- Funcionários com **5 anos** de empresa têm a **média mais baixa de satisfação** (0.55).  \n",
    "- A proporção de salários **baixos** aumenta progressivamente entre 2 e 5 anos.  \n",
    "- Apenas ~5-8% dos funcionários nessa faixa recebem salários altos.  \n",
    "\n",
    "**Correlação:**\n",
    "- Funcionários com **2-5 anos** de empresa:  \n",
    "  - **Salários baixos predominam** (47-52%).  \n",
    "  - **Satisfação cai drasticamente** (de 0.65 para 0.55).  \n",
    "\n",
    "Isso sugere que a **estagnação salarial** é um fator-chave para a insatisfação e possível rotatividade.  "
   ]
  },
  {
   "cell_type": "markdown",
   "metadata": {},
   "source": [
    "---\n",
    "### Department"
   ]
  },
  {
   "cell_type": "markdown",
   "metadata": {},
   "source": [
    "#### vs. Satisfaction\n",
    "\n",
    "O gráfico de linha mostra a variação da satisfação por departamento."
   ]
  },
  {
   "cell_type": "code",
   "execution_count": 61,
   "metadata": {},
   "outputs": [
    {
     "data": {
      "image/png": "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",
      "text/plain": [
       "<Figure size 1400x600 with 1 Axes>"
      ]
     },
     "metadata": {},
     "output_type": "display_data"
    }
   ],
   "source": [
    "plt.figure(figsize=(14, 6))\n",
    "\n",
    "# Calcular médias por departamento e ordenar\n",
    "department_satisfaction = df0.groupby('department')['satisfaction_level'].mean().sort_values()\n",
    "\n",
    "# Criar gráfico de linha\n",
    "sns.lineplot(x=department_satisfaction.index, \n",
    "             y=department_satisfaction.values, \n",
    "             marker='o',\n",
    "             markersize=8,\n",
    "             linewidth=2,\n",
    "             color='#2ecc71')\n",
    "\n",
    "# Linha de referência da média global\n",
    "plt.axhline(y=df0['satisfaction_level'].mean(), \n",
    "            color='#e74c3c', \n",
    "            linestyle='--', \n",
    "            label=f'Média Global ({df0[\"satisfaction_level\"].mean():.2f})')\n",
    "\n",
    "# Personalização\n",
    "plt.title('Nível Médio de Satisfação por Departamento (Ordenado)', fontsize=14, pad=20)\n",
    "plt.xlabel('Departamento', fontsize=12)\n",
    "plt.ylabel('Satisfação Média', fontsize=12)\n",
    "plt.xticks(rotation=45, ha='right')\n",
    "plt.ylim(0.5, 0.75)  # Foco na variação relevante\n",
    "plt.grid(axis='y', alpha=0.3)\n",
    "plt.legend()\n",
    "\n",
    "# Adicionar valores nos pontos\n",
    "for x, y in zip(department_satisfaction.index, department_satisfaction.values):\n",
    "    plt.text(x, y+0.005, f'{y:.2f}', ha='center', fontsize=10)\n",
    "\n",
    "plt.tight_layout()\n",
    "plt.show()"
   ]
  },
  {
   "cell_type": "markdown",
   "metadata": {},
   "source": [
    "A satisfação parece relativamente uniforme entre os departamentos."
   ]
  },
  {
   "cell_type": "markdown",
   "metadata": {},
   "source": [
    "#### vs. Salary"
   ]
  },
  {
   "cell_type": "code",
   "execution_count": 64,
   "metadata": {
    "scrolled": true
   },
   "outputs": [
    {
     "data": {
      "text/html": [
       "<style type=\"text/css\">\n",
       "#T_5bbaf_row0_col0, #T_5bbaf_row7_col0 {\n",
       "  background-color: #f1faee;\n",
       "  color: #000000;\n",
       "}\n",
       "#T_5bbaf_row0_col1 {\n",
       "  background-color: #006529;\n",
       "  color: #f1f1f1;\n",
       "}\n",
       "#T_5bbaf_row0_col2 {\n",
       "  background-color: #3da65a;\n",
       "  color: #f1f1f1;\n",
       "}\n",
       "#T_5bbaf_row1_col0 {\n",
       "  background-color: #f5fbf2;\n",
       "  color: #000000;\n",
       "}\n",
       "#T_5bbaf_row1_col1 {\n",
       "  background-color: #1d8640;\n",
       "  color: #f1f1f1;\n",
       "}\n",
       "#T_5bbaf_row1_col2, #T_5bbaf_row4_col0, #T_5bbaf_row9_col1 {\n",
       "  background-color: #00441b;\n",
       "  color: #f1f1f1;\n",
       "}\n",
       "#T_5bbaf_row2_col0 {\n",
       "  background-color: #dbf1d6;\n",
       "  color: #000000;\n",
       "}\n",
       "#T_5bbaf_row2_col1 {\n",
       "  background-color: #0a7633;\n",
       "  color: #f1f1f1;\n",
       "}\n",
       "#T_5bbaf_row2_col2 {\n",
       "  background-color: #90d18d;\n",
       "  color: #000000;\n",
       "}\n",
       "#T_5bbaf_row3_col0, #T_5bbaf_row4_col1, #T_5bbaf_row4_col2 {\n",
       "  background-color: #f7fcf5;\n",
       "  color: #000000;\n",
       "}\n",
       "#T_5bbaf_row3_col1 {\n",
       "  background-color: #005c25;\n",
       "  color: #f1f1f1;\n",
       "}\n",
       "#T_5bbaf_row3_col2 {\n",
       "  background-color: #2f974e;\n",
       "  color: #f1f1f1;\n",
       "}\n",
       "#T_5bbaf_row5_col0 {\n",
       "  background-color: #e5f5e0;\n",
       "  color: #000000;\n",
       "}\n",
       "#T_5bbaf_row5_col1 {\n",
       "  background-color: #228a44;\n",
       "  color: #f1f1f1;\n",
       "}\n",
       "#T_5bbaf_row5_col2, #T_5bbaf_row7_col2 {\n",
       "  background-color: #258d47;\n",
       "  color: #f1f1f1;\n",
       "}\n",
       "#T_5bbaf_row6_col0 {\n",
       "  background-color: #f0f9ec;\n",
       "  color: #000000;\n",
       "}\n",
       "#T_5bbaf_row6_col1 {\n",
       "  background-color: #005020;\n",
       "  color: #f1f1f1;\n",
       "}\n",
       "#T_5bbaf_row6_col2 {\n",
       "  background-color: #84cc83;\n",
       "  color: #000000;\n",
       "}\n",
       "#T_5bbaf_row7_col1 {\n",
       "  background-color: #067230;\n",
       "  color: #f1f1f1;\n",
       "}\n",
       "#T_5bbaf_row8_col0 {\n",
       "  background-color: #f4fbf1;\n",
       "  color: #000000;\n",
       "}\n",
       "#T_5bbaf_row8_col1 {\n",
       "  background-color: #0b7734;\n",
       "  color: #f1f1f1;\n",
       "}\n",
       "#T_5bbaf_row8_col2 {\n",
       "  background-color: #0c7735;\n",
       "  color: #f1f1f1;\n",
       "}\n",
       "#T_5bbaf_row9_col0 {\n",
       "  background-color: #f0f9ed;\n",
       "  color: #000000;\n",
       "}\n",
       "#T_5bbaf_row9_col2 {\n",
       "  background-color: #9cd797;\n",
       "  color: #000000;\n",
       "}\n",
       "</style>\n",
       "<table id=\"T_5bbaf\">\n",
       "  <thead>\n",
       "    <tr>\n",
       "      <th class=\"index_name level0\" >salary</th>\n",
       "      <th id=\"T_5bbaf_level0_col0\" class=\"col_heading level0 col0\" >high</th>\n",
       "      <th id=\"T_5bbaf_level0_col1\" class=\"col_heading level0 col1\" >low</th>\n",
       "      <th id=\"T_5bbaf_level0_col2\" class=\"col_heading level0 col2\" >medium</th>\n",
       "    </tr>\n",
       "    <tr>\n",
       "      <th class=\"index_name level0\" >department</th>\n",
       "      <th class=\"blank col0\" >&nbsp;</th>\n",
       "      <th class=\"blank col1\" >&nbsp;</th>\n",
       "      <th class=\"blank col2\" >&nbsp;</th>\n",
       "    </tr>\n",
       "  </thead>\n",
       "  <tbody>\n",
       "    <tr>\n",
       "      <th id=\"T_5bbaf_level0_row0\" class=\"row_heading level0 row0\" >IT</th>\n",
       "      <td id=\"T_5bbaf_row0_col0\" class=\"data row0 col0\" >7.27</td>\n",
       "      <td id=\"T_5bbaf_row0_col1\" class=\"data row0 col1\" >48.77</td>\n",
       "      <td id=\"T_5bbaf_row0_col2\" class=\"data row0 col2\" >43.95</td>\n",
       "    </tr>\n",
       "    <tr>\n",
       "      <th id=\"T_5bbaf_level0_row1\" class=\"row_heading level0 row1\" >RandD</th>\n",
       "      <td id=\"T_5bbaf_row1_col0\" class=\"data row1 col0\" >6.77</td>\n",
       "      <td id=\"T_5bbaf_row1_col1\" class=\"data row1 col1\" >46.40</td>\n",
       "      <td id=\"T_5bbaf_row1_col2\" class=\"data row1 col2\" >46.83</td>\n",
       "    </tr>\n",
       "    <tr>\n",
       "      <th id=\"T_5bbaf_level0_row2\" class=\"row_heading level0 row2\" >accounting</th>\n",
       "      <td id=\"T_5bbaf_row2_col0\" class=\"data row2 col0\" >10.14</td>\n",
       "      <td id=\"T_5bbaf_row2_col1\" class=\"data row2 col1\" >47.67</td>\n",
       "      <td id=\"T_5bbaf_row2_col2\" class=\"data row2 col2\" >42.19</td>\n",
       "    </tr>\n",
       "    <tr>\n",
       "      <th id=\"T_5bbaf_level0_row3\" class=\"row_heading level0 row3\" >hr</th>\n",
       "      <td id=\"T_5bbaf_row3_col0\" class=\"data row3 col0\" >6.32</td>\n",
       "      <td id=\"T_5bbaf_row3_col1\" class=\"data row3 col1\" >49.25</td>\n",
       "      <td id=\"T_5bbaf_row3_col2\" class=\"data row3 col2\" >44.43</td>\n",
       "    </tr>\n",
       "    <tr>\n",
       "      <th id=\"T_5bbaf_level0_row4\" class=\"row_heading level0 row4\" >management</th>\n",
       "      <td id=\"T_5bbaf_row4_col0\" class=\"data row4 col0\" >29.36</td>\n",
       "      <td id=\"T_5bbaf_row4_col1\" class=\"data row4 col1\" >31.88</td>\n",
       "      <td id=\"T_5bbaf_row4_col2\" class=\"data row4 col2\" >38.76</td>\n",
       "    </tr>\n",
       "    <tr>\n",
       "      <th id=\"T_5bbaf_level0_row5\" class=\"row_heading level0 row5\" >marketing</th>\n",
       "      <td id=\"T_5bbaf_row5_col0\" class=\"data row5 col0\" >9.21</td>\n",
       "      <td id=\"T_5bbaf_row5_col1\" class=\"data row5 col1\" >46.06</td>\n",
       "      <td id=\"T_5bbaf_row5_col2\" class=\"data row5 col2\" >44.73</td>\n",
       "    </tr>\n",
       "    <tr>\n",
       "      <th id=\"T_5bbaf_level0_row6\" class=\"row_heading level0 row6\" >product_mng</th>\n",
       "      <td id=\"T_5bbaf_row6_col0\" class=\"data row6 col0\" >7.58</td>\n",
       "      <td id=\"T_5bbaf_row6_col1\" class=\"data row6 col1\" >50.00</td>\n",
       "      <td id=\"T_5bbaf_row6_col2\" class=\"data row6 col2\" >42.42</td>\n",
       "    </tr>\n",
       "    <tr>\n",
       "      <th id=\"T_5bbaf_level0_row7\" class=\"row_heading level0 row7\" >sales</th>\n",
       "      <td id=\"T_5bbaf_row7_col0\" class=\"data row7 col0\" >7.32</td>\n",
       "      <td id=\"T_5bbaf_row7_col1\" class=\"data row7 col1\" >47.95</td>\n",
       "      <td id=\"T_5bbaf_row7_col2\" class=\"data row7 col2\" >44.74</td>\n",
       "    </tr>\n",
       "    <tr>\n",
       "      <th id=\"T_5bbaf_level0_row8\" class=\"row_heading level0 row8\" >support</th>\n",
       "      <td id=\"T_5bbaf_row8_col0\" class=\"data row8 col0\" >6.92</td>\n",
       "      <td id=\"T_5bbaf_row8_col1\" class=\"data row8 col1\" >47.61</td>\n",
       "      <td id=\"T_5bbaf_row8_col2\" class=\"data row8 col2\" >45.47</td>\n",
       "    </tr>\n",
       "    <tr>\n",
       "      <th id=\"T_5bbaf_level0_row9\" class=\"row_heading level0 row9\" >technical</th>\n",
       "      <td id=\"T_5bbaf_row9_col0\" class=\"data row9 col0\" >7.40</td>\n",
       "      <td id=\"T_5bbaf_row9_col1\" class=\"data row9 col1\" >50.71</td>\n",
       "      <td id=\"T_5bbaf_row9_col2\" class=\"data row9 col2\" >41.89</td>\n",
       "    </tr>\n",
       "  </tbody>\n",
       "</table>\n"
      ],
      "text/plain": [
       "<pandas.io.formats.style.Styler at 0x26a240fc290>"
      ]
     },
     "execution_count": 64,
     "metadata": {},
     "output_type": "execute_result"
    }
   ],
   "source": [
    "# Porcentagem de cada categoria salarial por departamento\n",
    "cross_tab = pd.crosstab(df0['department'], df0['salary'], normalize='index') * 100\n",
    "cross_tab = cross_tab.round(2)  # Arredonda os valores\n",
    "cross_tab.style.format(\"{:.2f}\").background_gradient(cmap='Greens')  # Formata para exibição correta"
   ]
  },
  {
   "cell_type": "markdown",
   "metadata": {},
   "source": [
    "#### vs. Average monthly hours"
   ]
  },
  {
   "cell_type": "code",
   "execution_count": 66,
   "metadata": {},
   "outputs": [
    {
     "name": "stdout",
     "output_type": "stream",
     "text": [
      "  Departamentos  Média de horas mensais\n",
      "0    management                 201.530\n",
      "1         RandD                 201.291\n",
      "2     technical                 201.115\n",
      "3    accounting                 200.878\n",
      "4            IT                 200.638\n",
      "5       support                 200.627\n",
      "6         sales                 200.242\n",
      "7     marketing                 199.487\n",
      "8            hr                 199.371\n",
      "9   product_mng                 198.894\n"
     ]
    }
   ],
   "source": [
    "# Calcular médias e ordenar departamentos\n",
    "resultado = (df0.groupby('department')['average_monthly_hours']\n",
    "    .mean()\n",
    "    .sort_values(ascending=False)\n",
    "    .reset_index()\n",
    "    .round(3)\n",
    ")\n",
    "resultado.columns = ['Departamentos', 'Média de horas mensais']\n",
    "print(resultado)"
   ]
  },
  {
   "cell_type": "markdown",
   "metadata": {},
   "source": [
    "A relativa uniformidade entre as variáveis `average_monthly_hours`, `salary` e `satisfaction_level` sugere que os fatores críticos para a rotatividade vão além das diferenças entre departamentos."
   ]
  },
  {
   "cell_type": "markdown",
   "metadata": {
    "id": "F8HlhjMy9X3A"
   },
   "source": [
    "---\n",
    "### Satisfaction Level "
   ]
  },
  {
   "cell_type": "markdown",
   "metadata": {},
   "source": [
    "#### vs. Average Monthly Hours\n",
    "\n",
    "Identificar se funcionários sobrecarregados têm menor satisfação."
   ]
  },
  {
   "cell_type": "code",
   "execution_count": 70,
   "metadata": {
    "id": "NUyBruMee-EI"
   },
   "outputs": [
    {
     "name": "stdout",
     "output_type": "stream",
     "text": [
      "workload\n",
      "leve        0.59\n",
      "moderada    0.68\n",
      "intensa     0.60\n",
      "Name: satisfaction_level, dtype: float64\n"
     ]
    }
   ],
   "source": [
    "# Criar categoria de carga de trabalho\n",
    "df0['workload'] = pd.cut(df0['average_monthly_hours'], \n",
    "                         bins=[0, 160, 240, 310], \n",
    "                         labels=['leve', 'moderada', 'intensa'])\n",
    "\n",
    "# Média de satisfação por carga de trabalho\n",
    "media_arredondada = round(df0.groupby('workload')['satisfaction_level'].mean(), 2)\n",
    "print(media_arredondada)"
   ]
  },
  {
   "cell_type": "markdown",
   "metadata": {},
   "source": [
    "**Contexto dos Dados:**\n",
    "- Funcionários com carga moderada são os mais satisfeitos  \n",
    "- A satisfação média de quem trabalha muitas horas (0.60) é quase a mesma de quem trabalha pouco (0.59). Isso pode indicar que outros fatores têm mais impacto na satisfação do que o número de horas trabalhadas.  "
   ]
  },
  {
   "cell_type": "markdown",
   "metadata": {},
   "source": [
    "#### vs. Salary\n"
   ]
  },
  {
   "cell_type": "code",
   "execution_count": 73,
   "metadata": {},
   "outputs": [
    {
     "data": {
      "text/plain": [
       "salary\n",
       "high      0.64\n",
       "low       0.62\n",
       "medium    0.63\n",
       "Name: satisfaction_level, dtype: float64"
      ]
     },
     "execution_count": 73,
     "metadata": {},
     "output_type": "execute_result"
    }
   ],
   "source": [
    "# Média de satisfação por nível salarial\n",
    "df0.groupby('salary')['satisfaction_level'].mean().round(2)\n"
   ]
  },
  {
   "cell_type": "markdown",
   "metadata": {},
   "source": [
    "A média pode esconder variações importantes dentro de cada grupo. Esses valores são muito próximos, sugerindo que uma variavel sozinha pode não ser um fator determinante para a satisfação.\n",
    "\n",
    "Um boxplot pode ajudar a visualizar a dispersão dos valores de satisfação para cada categoria de salário:"
   ]
  },
  {
   "cell_type": "code",
   "execution_count": 75,
   "metadata": {},
   "outputs": [
    {
     "data": {
      "image/png": "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",
      "text/plain": [
       "<Figure size 800x500 with 1 Axes>"
      ]
     },
     "metadata": {},
     "output_type": "display_data"
    }
   ],
   "source": [
    "plt.figure(figsize=(8, 5))\n",
    "sns.boxplot(x='salary', y='satisfaction_level', data=df0, palette='viridis')\n",
    "\n",
    "# Configurações do gráfico\n",
    "plt.title('Distribuição da Satisfação por Nível Salarial')\n",
    "plt.xlabel('Nível Salarial')\n",
    "plt.ylabel('Nível de Satisfação')\n",
    "\n",
    "plt.show()\n"
   ]
  },
  {
   "cell_type": "markdown",
   "metadata": {},
   "source": [
    "- **Distribuição relativamente estável** – Não há uma tendência clara indicando que funcionários com maior satisfação (próximos de 1.0) tenham uma distribuição salarial diferente daqueles com baixa satisfação (próximos de 0.1).  \n",
    "\n",
    "O salário por si só não parece ser um grande fator determinante para a satisfação dos funcionários. Outros elementos podem ter um impacto maior. Isso sugere que políticas de retenção não devem focar apenas em aumentos salariais, mas também em outros fatores que influenciam o bem-estar dos funcionários."
   ]
  },
  {
   "cell_type": "markdown",
   "metadata": {},
   "source": [
    " ---\n",
    "### Number of Projects "
   ]
  },
  {
   "cell_type": "markdown",
   "metadata": {},
   "source": [
    "#### vs. Last Evaluation\n",
    "\n",
    "Verificar se mais projetos correlacionam-se com avaliações melhores."
   ]
  },
  {
   "cell_type": "code",
   "execution_count": 79,
   "metadata": {
    "id": "3v1uJR5y3MEy"
   },
   "outputs": [
    {
     "name": "stdout",
     "output_type": "stream",
     "text": [
      "   Número de Projetos  Avaliação Média\n",
      "0                   2            0.585\n",
      "1                   3            0.717\n",
      "2                   4            0.736\n",
      "3                   5            0.750\n",
      "4                   6            0.766\n",
      "5                   7            0.864\n"
     ]
    }
   ],
   "source": [
    "# Código ajustado para melhor clareza\n",
    "resultado = (\n",
    "    df0.groupby('number_of_projects')['last_evaluation']\n",
    "    .mean()\n",
    "    .reset_index()\n",
    "    .round(3)\n",
    ")\n",
    "resultado.columns = ['Número de Projetos', 'Avaliação Média']\n",
    "print(resultado)"
   ]
  },
  {
   "cell_type": "markdown",
   "metadata": {},
   "source": [
    "- Há uma **correlação positiva** entre o `number_of_projects` e a `last_evaluation`. Funcionários com mais projetos (7) têm avaliações **82% mais altas** que aqueles com 2 projetos. "
   ]
  },
  {
   "cell_type": "markdown",
   "metadata": {},
   "source": [
    "#### vs. Average monthly hours"
   ]
  },
  {
   "cell_type": "code",
   "execution_count": 82,
   "metadata": {
    "id": "3v1uJR5y3MEy"
   },
   "outputs": [
    {
     "name": "stdout",
     "output_type": "stream",
     "text": [
      "   Número de Projetos  Horas mensais\n",
      "0                   2         260733\n",
      "1                   3         694629\n",
      "2                   4         751270\n",
      "3                   5         466977\n",
      "4                   6         190304\n",
      "5                   7          39965\n"
     ]
    }
   ],
   "source": [
    "resultado = (\n",
    "    df0.groupby('number_of_projects')['average_monthly_hours']\n",
    "    .sum()\n",
    "    .reset_index()\n",
    "    .round(3)\n",
    ")\n",
    "resultado.columns = ['Número de Projetos', 'Horas mensais']\n",
    "print(resultado)"
   ]
  },
  {
   "cell_type": "markdown",
   "metadata": {},
   "source": [
    "- Quanto mais projetos, maior a carga horária individual.\n",
    "\n",
    "- Funcionários com 7 projetos trabalham, em média, 275h/mês (equivalente a ~69h/semana)."
   ]
  },
  {
   "cell_type": "code",
   "execution_count": 84,
   "metadata": {},
   "outputs": [
    {
     "name": "stdout",
     "output_type": "stream",
     "text": [
      "   Número de Projetos  Horas mensais\n",
      "0                   2        164.812\n",
      "1                   3        197.338\n",
      "2                   4        203.872\n",
      "3                   5        209.125\n",
      "4                   6        230.392\n",
      "5                   7        275.621\n"
     ]
    }
   ],
   "source": [
    "resultado = (\n",
    "    df0.groupby('number_of_projects')['average_monthly_hours']\n",
    "    .mean()\n",
    "    .reset_index()\n",
    "    .round(3)\n",
    ")\n",
    "resultado.columns = ['Número de Projetos', 'Horas mensais']\n",
    "print(resultado)"
   ]
  },
  {
   "cell_type": "markdown",
   "metadata": {},
   "source": [
    "- Pico em 3-4 projetos, representam a maior parcela da carga total de trabalho.\n",
    "\n",
    "- Poucos funcionários estão alocados em 6-7 projetos."
   ]
  },
  {
   "cell_type": "markdown",
   "metadata": {},
   "source": [
    "#### Correlação com Satisfação e Rotatividade \n",
    "\n",
    "É provável que a taxa de saída seja maior para quem tem mais projetos.  "
   ]
  },
  {
   "cell_type": "code",
   "execution_count": 87,
   "metadata": {},
   "outputs": [
    {
     "data": {
      "text/plain": [
       "number_of_projects\n",
       "2    0.541719\n",
       "3    0.010795\n",
       "4    0.064315\n",
       "5    0.153605\n",
       "6    0.449153\n",
       "7    1.000000\n",
       "Name: employee_left, dtype: float64"
      ]
     },
     "execution_count": 87,
     "metadata": {},
     "output_type": "execute_result"
    }
   ],
   "source": [
    "df0.groupby('number_of_projects')['employee_left'].mean()  "
   ]
  },
  {
   "cell_type": "markdown",
   "metadata": {},
   "source": [
    "| **Nº de Projetos** | **Taxa de Rotatividade** | **Interpretação** |  \n",
    "|---------------------|---------------------------|-------------------|  \n",
    "| **2**               | 54.2%                    | Funcionários com poucos projetos têm alta probabilidade de sair. |  \n",
    "| **3**               | 1.1%                     | Rotatividade mínima: equilíbrio ideal de carga. |  \n",
    "| **4**               | 6.4%                     | Aumento leve, mas ainda dentro de uma faixa sustentável. |  \n",
    "| **5**               | 15.4%                    | Rotatividade cresce, mas permanece abaixo da média geral (16.6%). |  \n",
    "| **6**               | 44.9%                    | Rotatividade elevada: sinal de sobrecarga ou estresse. |  \n",
    "| **7**               | 100%                     | **Todos os funcionários com 7 projetos deixaram a empresa.** |  "
   ]
  },
  {
   "cell_type": "code",
   "execution_count": 89,
   "metadata": {},
   "outputs": [
    {
     "data": {
      "text/plain": [
       "number_of_projects\n",
       "2    0.499071\n",
       "3    0.689418\n",
       "4    0.694280\n",
       "5    0.671155\n",
       "6    0.314673\n",
       "7    0.116690\n",
       "Name: satisfaction_level, dtype: float64"
      ]
     },
     "execution_count": 89,
     "metadata": {},
     "output_type": "execute_result"
    }
   ],
   "source": [
    "df0.groupby('number_of_projects')['satisfaction_level'].mean()  "
   ]
  },
  {
   "cell_type": "markdown",
   "metadata": {},
   "source": [
    " \n",
    "| **Nº de Projetos** | **Satisfação Média** | **Interpretação**                                                                 |\n",
    "|---------------------|-----------------------|-----------------------------------------------------------------------------------|\n",
    "| **2**               | 0.50                 | **Subutilização:** Funcionários podem sentir falta de desafios ou crescimento.    |\n",
    "| **3**               | 0.69                 | **Ponto ideal:** Equilíbrio entre produtividade e bem-estar.                      |\n",
    "| **4**               | 0.69                 | **Zona de conforto:** Mantém alta satisfação, similar a 3 projetos.               |\n",
    "| **5**               | 0.67                 | **Leve declínio:** Aumento de carga começa a impactar, mas ainda tolerável.       |\n",
    "| **6**               | 0.31                 | **Sobrecarga crítica:** Queda drástica na satisfação.  |\n",
    "| **7**               | 0.12                 | **Insustentável:** Satisfação quase nula. |\n"
   ]
  },
  {
   "cell_type": "markdown",
   "metadata": {},
   "source": [
    "- **Funcionários com carga de trabalho excessiva enfrentam alto risco de saída** – A taxa de desligamento **salta para 44,9%** quando um funcionário tem **6 projetos** e atinge **100% para aqueles com 7 projetos**. Paralelamente, a satisfação despenca drasticamente (**0.31 para 6 projetos e 0.12 para 7 projetos**), evidenciando que sobrecarregar funcionários leva à insatisfação extrema e alta rotatividade.  \n",
    "\n",
    "- **Funcionários com poucos projetos (2) têm alta taxa de saída** – A taxa de saída para funcionários com apenas 2 projetos é **54,2%**, muito maior do que para aqueles com 3, 4 ou 5 projetos. Além disso, a satisfação média desses funcionários é **0.50**, a mais baixa entre os grupos com carga moderada de projetos. Isso sugere que ter poucos projetos pode levar à desmotivação e ao desligamento da empresa.  \n",
    " \n",
    "- **Funcionários com carga de trabalho moderada (3 a 5 projetos) apresentam maior estabilidade** – A taxa de saída é consideravelmente menor, **variando entre 1% e 15%**, e a satisfação média se mantém alta, entre **0.67 e 0.69**. Esses números indicam que essa faixa de carga de trabalho parece ser ideal, equilibrando desafios e bem-estar.  \n",
    "\n",
    "Para reduzir a taxa de saída, a empresa deve evitar **extremos na distribuição de projetos**. Funcionários com poucos projetos podem se sentir desmotivados, enquanto aqueles com excesso de trabalho enfrentam estresse e exaustão. A faixa ideal parece estar entre **3 e 5 projetos**, onde a satisfação é maior e a retenção mais estável.\n"
   ]
  },
  {
   "cell_type": "markdown",
   "metadata": {},
   "source": [
    "#### vs Tenure"
   ]
  },
  {
   "cell_type": "code",
   "execution_count": 93,
   "metadata": {},
   "outputs": [
    {
     "data": {
      "text/html": [
       "<style type=\"text/css\">\n",
       "#T_252f2_row0_col0 {\n",
       "  background-color: #e5f5e0;\n",
       "  color: #000000;\n",
       "}\n",
       "#T_252f2_row0_col1 {\n",
       "  background-color: #077331;\n",
       "  color: #f1f1f1;\n",
       "}\n",
       "#T_252f2_row0_col2 {\n",
       "  background-color: #005321;\n",
       "  color: #f1f1f1;\n",
       "}\n",
       "#T_252f2_row0_col3 {\n",
       "  background-color: #c2e7bb;\n",
       "  color: #000000;\n",
       "}\n",
       "#T_252f2_row0_col4, #T_252f2_row2_col2, #T_252f2_row3_col1, #T_252f2_row4_col5, #T_252f2_row5_col5, #T_252f2_row6_col5, #T_252f2_row7_col0, #T_252f2_row7_col3, #T_252f2_row7_col5 {\n",
       "  background-color: #f7fcf5;\n",
       "  color: #000000;\n",
       "}\n",
       "#T_252f2_row0_col5, #T_252f2_row1_col5 {\n",
       "  background-color: #f6fcf4;\n",
       "  color: #000000;\n",
       "}\n",
       "#T_252f2_row1_col0, #T_252f2_row2_col4, #T_252f2_row2_col5, #T_252f2_row3_col3, #T_252f2_row7_col1, #T_252f2_row7_col2 {\n",
       "  background-color: #00441b;\n",
       "  color: #f1f1f1;\n",
       "}\n",
       "#T_252f2_row1_col1 {\n",
       "  background-color: #50b264;\n",
       "  color: #f1f1f1;\n",
       "}\n",
       "#T_252f2_row1_col2 {\n",
       "  background-color: #66bd6f;\n",
       "  color: #f1f1f1;\n",
       "}\n",
       "#T_252f2_row1_col3 {\n",
       "  background-color: #daf0d4;\n",
       "  color: #000000;\n",
       "}\n",
       "#T_252f2_row1_col4 {\n",
       "  background-color: #f4fbf2;\n",
       "  color: #000000;\n",
       "}\n",
       "#T_252f2_row2_col0 {\n",
       "  background-color: #ecf8e8;\n",
       "  color: #000000;\n",
       "}\n",
       "#T_252f2_row2_col1 {\n",
       "  background-color: #9ed798;\n",
       "  color: #000000;\n",
       "}\n",
       "#T_252f2_row2_col3 {\n",
       "  background-color: #b1e0ab;\n",
       "  color: #000000;\n",
       "}\n",
       "#T_252f2_row3_col0 {\n",
       "  background-color: #eaf7e6;\n",
       "  color: #000000;\n",
       "}\n",
       "#T_252f2_row3_col2 {\n",
       "  background-color: #65bd6f;\n",
       "  color: #f1f1f1;\n",
       "}\n",
       "#T_252f2_row3_col4 {\n",
       "  background-color: #3fa85b;\n",
       "  color: #f1f1f1;\n",
       "}\n",
       "#T_252f2_row3_col5 {\n",
       "  background-color: #afdfa8;\n",
       "  color: #000000;\n",
       "}\n",
       "#T_252f2_row4_col0 {\n",
       "  background-color: #c6e8bf;\n",
       "  color: #000000;\n",
       "}\n",
       "#T_252f2_row4_col1 {\n",
       "  background-color: #bce4b5;\n",
       "  color: #000000;\n",
       "}\n",
       "#T_252f2_row4_col2, #T_252f2_row6_col2 {\n",
       "  background-color: #b2e0ac;\n",
       "  color: #000000;\n",
       "}\n",
       "#T_252f2_row4_col3 {\n",
       "  background-color: #2c944c;\n",
       "  color: #f1f1f1;\n",
       "}\n",
       "#T_252f2_row4_col4 {\n",
       "  background-color: #48ae60;\n",
       "  color: #f1f1f1;\n",
       "}\n",
       "#T_252f2_row5_col0 {\n",
       "  background-color: #cdecc7;\n",
       "  color: #000000;\n",
       "}\n",
       "#T_252f2_row5_col1 {\n",
       "  background-color: #4aaf61;\n",
       "  color: #f1f1f1;\n",
       "}\n",
       "#T_252f2_row5_col2 {\n",
       "  background-color: #05712f;\n",
       "  color: #f1f1f1;\n",
       "}\n",
       "#T_252f2_row5_col3 {\n",
       "  background-color: #9fd899;\n",
       "  color: #000000;\n",
       "}\n",
       "#T_252f2_row5_col4 {\n",
       "  background-color: #cbeac4;\n",
       "  color: #000000;\n",
       "}\n",
       "#T_252f2_row6_col0, #T_252f2_row6_col4 {\n",
       "  background-color: #dcf2d7;\n",
       "  color: #000000;\n",
       "}\n",
       "#T_252f2_row6_col1 {\n",
       "  background-color: #0d7836;\n",
       "  color: #f1f1f1;\n",
       "}\n",
       "#T_252f2_row6_col3 {\n",
       "  background-color: #94d390;\n",
       "  color: #000000;\n",
       "}\n",
       "#T_252f2_row7_col4 {\n",
       "  background-color: #d4eece;\n",
       "  color: #000000;\n",
       "}\n",
       "</style>\n",
       "<table id=\"T_252f2\">\n",
       "  <thead>\n",
       "    <tr>\n",
       "      <th class=\"index_name level0\" >number_of_projects</th>\n",
       "      <th id=\"T_252f2_level0_col0\" class=\"col_heading level0 col0\" >2</th>\n",
       "      <th id=\"T_252f2_level0_col1\" class=\"col_heading level0 col1\" >3</th>\n",
       "      <th id=\"T_252f2_level0_col2\" class=\"col_heading level0 col2\" >4</th>\n",
       "      <th id=\"T_252f2_level0_col3\" class=\"col_heading level0 col3\" >5</th>\n",
       "      <th id=\"T_252f2_level0_col4\" class=\"col_heading level0 col4\" >6</th>\n",
       "      <th id=\"T_252f2_level0_col5\" class=\"col_heading level0 col5\" >7</th>\n",
       "    </tr>\n",
       "    <tr>\n",
       "      <th class=\"index_name level0\" >tenure</th>\n",
       "      <th class=\"blank col0\" >&nbsp;</th>\n",
       "      <th class=\"blank col1\" >&nbsp;</th>\n",
       "      <th class=\"blank col2\" >&nbsp;</th>\n",
       "      <th class=\"blank col3\" >&nbsp;</th>\n",
       "      <th class=\"blank col4\" >&nbsp;</th>\n",
       "      <th class=\"blank col5\" >&nbsp;</th>\n",
       "    </tr>\n",
       "  </thead>\n",
       "  <tbody>\n",
       "    <tr>\n",
       "      <th id=\"T_252f2_level0_row0\" class=\"row_heading level0 row0\" >2</th>\n",
       "      <td id=\"T_252f2_row0_col0\" class=\"data row0 col0\" >6.87</td>\n",
       "      <td id=\"T_252f2_row0_col1\" class=\"data row0 col1\" >38.93</td>\n",
       "      <td id=\"T_252f2_row0_col2\" class=\"data row0 col2\" >35.02</td>\n",
       "      <td id=\"T_252f2_row0_col3\" class=\"data row0 col3\" >17.22</td>\n",
       "      <td id=\"T_252f2_row0_col4\" class=\"data row0 col4\" >1.92</td>\n",
       "      <td id=\"T_252f2_row0_col5\" class=\"data row0 col5\" >0.03</td>\n",
       "    </tr>\n",
       "    <tr>\n",
       "      <th id=\"T_252f2_level0_row1\" class=\"row_heading level0 row1\" >3</th>\n",
       "      <td id=\"T_252f2_row1_col0\" class=\"data row1 col0\" >21.75</td>\n",
       "      <td id=\"T_252f2_row1_col1\" class=\"data row1 col1\" >30.39</td>\n",
       "      <td id=\"T_252f2_row1_col2\" class=\"data row1 col2\" >30.64</td>\n",
       "      <td id=\"T_252f2_row1_col3\" class=\"data row1 col3\" >14.84</td>\n",
       "      <td id=\"T_252f2_row1_col4\" class=\"data row1 col4\" >2.33</td>\n",
       "      <td id=\"T_252f2_row1_col5\" class=\"data row1 col5\" >0.06</td>\n",
       "    </tr>\n",
       "    <tr>\n",
       "      <th id=\"T_252f2_level0_row2\" class=\"row_heading level0 row2\" >4</th>\n",
       "      <td id=\"T_252f2_row2_col0\" class=\"data row2 col0\" >5.94</td>\n",
       "      <td id=\"T_252f2_row2_col1\" class=\"data row2 col1\" >23.69</td>\n",
       "      <td id=\"T_252f2_row2_col2\" class=\"data row2 col2\" >25.09</td>\n",
       "      <td id=\"T_252f2_row2_col3\" class=\"data row2 col3\" >18.65</td>\n",
       "      <td id=\"T_252f2_row2_col4\" class=\"data row2 col4\" >20.65</td>\n",
       "      <td id=\"T_252f2_row2_col5\" class=\"data row2 col5\" >5.99</td>\n",
       "    </tr>\n",
       "    <tr>\n",
       "      <th id=\"T_252f2_level0_row3\" class=\"row_heading level0 row3\" >5</th>\n",
       "      <td id=\"T_252f2_row3_col0\" class=\"data row3 col0\" >6.21</td>\n",
       "      <td id=\"T_252f2_row3_col1\" class=\"data row3 col1\" >11.02</td>\n",
       "      <td id=\"T_252f2_row3_col2\" class=\"data row3 col2\" >30.70</td>\n",
       "      <td id=\"T_252f2_row3_col3\" class=\"data row3 col3\" >36.25</td>\n",
       "      <td id=\"T_252f2_row3_col4\" class=\"data row3 col4\" >13.84</td>\n",
       "      <td id=\"T_252f2_row3_col5\" class=\"data row3 col5\" >1.98</td>\n",
       "    </tr>\n",
       "    <tr>\n",
       "      <th id=\"T_252f2_level0_row4\" class=\"row_heading level0 row4\" >6</th>\n",
       "      <td id=\"T_252f2_row4_col0\" class=\"data row4 col0\" >9.04</td>\n",
       "      <td id=\"T_252f2_row4_col1\" class=\"data row4 col1\" >20.48</td>\n",
       "      <td id=\"T_252f2_row4_col2\" class=\"data row4 col2\" >28.41</td>\n",
       "      <td id=\"T_252f2_row4_col3\" class=\"data row4 col3\" >28.78</td>\n",
       "      <td id=\"T_252f2_row4_col4\" class=\"data row4 col4\" >13.28</td>\n",
       "      <td id=\"T_252f2_row4_col5\" class=\"data row4 col5\" >0.00</td>\n",
       "    </tr>\n",
       "    <tr>\n",
       "      <th id=\"T_252f2_level0_row5\" class=\"row_heading level0 row5\" >7</th>\n",
       "      <td id=\"T_252f2_row5_col0\" class=\"data row5 col0\" >8.51</td>\n",
       "      <td id=\"T_252f2_row5_col1\" class=\"data row5 col1\" >30.85</td>\n",
       "      <td id=\"T_252f2_row5_col2\" class=\"data row5 col2\" >34.04</td>\n",
       "      <td id=\"T_252f2_row5_col3\" class=\"data row5 col3\" >20.21</td>\n",
       "      <td id=\"T_252f2_row5_col4\" class=\"data row5 col4\" >6.38</td>\n",
       "      <td id=\"T_252f2_row5_col5\" class=\"data row5 col5\" >0.00</td>\n",
       "    </tr>\n",
       "    <tr>\n",
       "      <th id=\"T_252f2_level0_row6\" class=\"row_heading level0 row6\" >8</th>\n",
       "      <td id=\"T_252f2_row6_col0\" class=\"data row6 col0\" >7.41</td>\n",
       "      <td id=\"T_252f2_row6_col1\" class=\"data row6 col1\" >38.27</td>\n",
       "      <td id=\"T_252f2_row6_col2\" class=\"data row6 col2\" >28.40</td>\n",
       "      <td id=\"T_252f2_row6_col3\" class=\"data row6 col3\" >20.99</td>\n",
       "      <td id=\"T_252f2_row6_col4\" class=\"data row6 col4\" >4.94</td>\n",
       "      <td id=\"T_252f2_row6_col5\" class=\"data row6 col5\" >0.00</td>\n",
       "    </tr>\n",
       "    <tr>\n",
       "      <th id=\"T_252f2_level0_row7\" class=\"row_heading level0 row7\" >10</th>\n",
       "      <td id=\"T_252f2_row7_col0\" class=\"data row7 col0\" >4.67</td>\n",
       "      <td id=\"T_252f2_row7_col1\" class=\"data row7 col1\" >43.93</td>\n",
       "      <td id=\"T_252f2_row7_col2\" class=\"data row7 col2\" >35.51</td>\n",
       "      <td id=\"T_252f2_row7_col3\" class=\"data row7 col3\" >10.28</td>\n",
       "      <td id=\"T_252f2_row7_col4\" class=\"data row7 col4\" >5.61</td>\n",
       "      <td id=\"T_252f2_row7_col5\" class=\"data row7 col5\" >0.00</td>\n",
       "    </tr>\n",
       "  </tbody>\n",
       "</table>\n"
      ],
      "text/plain": [
       "<pandas.io.formats.style.Styler at 0x26a246c2030>"
      ]
     },
     "execution_count": 93,
     "metadata": {},
     "output_type": "execute_result"
    }
   ],
   "source": [
    "cross_tab = pd.crosstab(df0['tenure'], df0['number_of_projects'], normalize='index') * 100\n",
    "cross_tab = cross_tab.round(2)  # Arredonda os valores\n",
    "cross_tab.style.format(\"{:.2f}\").background_gradient(cmap='Greens')  # Formata para exibição correta"
   ]
  },
  {
   "cell_type": "markdown",
   "metadata": {},
   "source": [
    "**Dinâmica de Alocação de Projetos**  \n",
    "\n",
    "- **Funcionários juniores (tenure = 2-3):** Recebem projetos gradualmente, mas a subutilização (2 projetos) já é um risco inicial.  \n",
    "<br>  \n",
    "- **Funcionários intermediários (tenure = 4-5):** São sobrecarregados com mais projetos, levando a picos de insatisfação e rotatividade.  \n",
    "<br>  \n",
    "- **Funcionários seniores (tenure = 6+):** Distribuição mais estável, mas ainda há casos de sobrecarga (5-6 projetos)."
   ]
  },
  {
   "cell_type": "markdown",
   "metadata": {},
   "source": [
    "### Observações:\n",
    "\n",
    "**O que foi observado sobre as relações entre as variáveis?**  \n",
    "A principal relação identificada foi entre o número de projetos e a rotatividade dos funcionários. Funcionários com **2 projetos** apresentaram alta taxa de saída por possível desmotivação, enquanto aqueles com **6 ou mais projetos** tiveram alta saída devido à sobrecarga. Além disso, a satisfação dos funcionários diminui significativamente conforme a carga de trabalho se torna extrema (muito baixa ou muito alta). O salário, por outro lado, não mostrou forte correlação com a satisfação.  \n",
    "\n",
    "**O que foi observado sobre as distribuições nos dados?**  \n",
    "A distribuição de tenure mostrou que a maior parte dos funcionários permanece por **2 a 5 anos**, sendo que a rotatividade ocorre de forma mais acentuada em extremos de carga de trabalho e número de projetos. A satisfação média dos funcionários está relativamente equilibrada entre categorias salariais, e a distribuição de **average_monthly_hours** indica que a maioria tem carga moderada, com poucos casos de sobrecarga extrema.  \n",
    "\n",
    "**Quais recursos forma utilizados essa etapa?**  \n",
    "Utilizei principalmente **estatísticas descritivas, visualizações de dados** (boxplots, tabelas cruzadas) e manipulação de dados com **Pandas e Seaborn**. Além disso, referências sobre boas práticas de EDA ajudaram a direcionar as análises mais relevantes.  \n",
    "\n",
    "**Há considerações éticas nesta etapa?**  \n",
    "Sim, algumas questões éticas incluem:  \n",
    "- **Privacidade dos funcionários**, garantindo que a análise não exponha indivíduos específicos.  \n",
    "- **Viés nos dados**, que pode levar a conclusões erradas se certas variáveis forem interpretadas de forma simplista (por exemplo, assumir que projetos a mais sempre levam ao sucesso sem considerar outros fatores).  \n",
    "- **Uso responsável dos insights**, para evitar decisões que prejudiquem funcionários ao invés de melhorar a gestão.  \n",
    "\n",
    "Essas considerações garantem que as análises sejam utilizadas de forma justa e construtiva."
   ]
  },
  {
   "cell_type": "markdown",
   "metadata": {},
   "source": [
    "### 7. Feature engineering\n",
    "\n",
    "Nesta parte do projeto, projetarei alguns novos recursos para serem usados para modelagem."
   ]
  },
  {
   "cell_type": "code",
   "execution_count": 97,
   "metadata": {},
   "outputs": [],
   "source": [
    "# cópia para preservar o dataframe original\n",
    "df = df0.copy()"
   ]
  },
  {
   "cell_type": "code",
   "execution_count": 98,
   "metadata": {},
   "outputs": [
    {
     "name": "stdout",
     "output_type": "stream",
     "text": [
      "<class 'pandas.core.frame.DataFrame'>\n",
      "Index: 11991 entries, 0 to 11999\n",
      "Data columns (total 11 columns):\n",
      " #   Column                 Non-Null Count  Dtype   \n",
      "---  ------                 --------------  -----   \n",
      " 0   satisfaction_level     11991 non-null  float64 \n",
      " 1   last_evaluation        11991 non-null  float64 \n",
      " 2   number_of_projects     11991 non-null  int64   \n",
      " 3   average_monthly_hours  11991 non-null  int64   \n",
      " 4   tenure                 11991 non-null  int64   \n",
      " 5   work_accident          11991 non-null  int64   \n",
      " 6   employee_left          11991 non-null  int64   \n",
      " 7   promotion_last_5years  11991 non-null  int64   \n",
      " 8   department             11991 non-null  object  \n",
      " 9   salary                 11991 non-null  object  \n",
      " 10  workload               11991 non-null  category\n",
      "dtypes: category(1), float64(2), int64(6), object(2)\n",
      "memory usage: 1.0+ MB\n"
     ]
    }
   ],
   "source": [
    "# info() para facilitar referencias\n",
    "df.info()"
   ]
  },
  {
   "cell_type": "markdown",
   "metadata": {},
   "source": [
    "---\n",
    "\n",
    "#### `workload_risk` \n",
    "\n",
    ">Classificação binária que indica se o funcionário está em zona de risco de carga de trabalho. \n",
    "\n",
    ">O objetivo é identificar funcionários **subutilizados (2 projetos)** ou **sobrecarregados (6-7 projetos)**.  "
   ]
  },
  {
   "cell_type": "code",
   "execution_count": 100,
   "metadata": {},
   "outputs": [
    {
     "data": {
      "text/html": [
       "<style type=\"text/css\">\n",
       "#T_eb08c_row0_col0, #T_eb08c_row1_col1 {\n",
       "  background-color: #00441b;\n",
       "  color: #f1f1f1;\n",
       "}\n",
       "#T_eb08c_row0_col1, #T_eb08c_row1_col0 {\n",
       "  background-color: #f7fcf5;\n",
       "  color: #000000;\n",
       "}\n",
       "</style>\n",
       "<table id=\"T_eb08c\">\n",
       "  <thead>\n",
       "    <tr>\n",
       "      <th class=\"index_name level0\" >employee_left</th>\n",
       "      <th id=\"T_eb08c_level0_col0\" class=\"col_heading level0 col0\" >0</th>\n",
       "      <th id=\"T_eb08c_level0_col1\" class=\"col_heading level0 col1\" >1</th>\n",
       "    </tr>\n",
       "    <tr>\n",
       "      <th class=\"index_name level0\" >workload_risk</th>\n",
       "      <th class=\"blank col0\" >&nbsp;</th>\n",
       "      <th class=\"blank col1\" >&nbsp;</th>\n",
       "    </tr>\n",
       "  </thead>\n",
       "  <tbody>\n",
       "    <tr>\n",
       "      <th id=\"T_eb08c_level0_row0\" class=\"row_heading level0 row0\" >0</th>\n",
       "      <td id=\"T_eb08c_row0_col0\" class=\"data row0 col0\" >93.45</td>\n",
       "      <td id=\"T_eb08c_row0_col1\" class=\"data row0 col1\" >6.55</td>\n",
       "    </tr>\n",
       "    <tr>\n",
       "      <th id=\"T_eb08c_level0_row1\" class=\"row_heading level0 row1\" >1</th>\n",
       "      <td id=\"T_eb08c_row1_col0\" class=\"data row1 col0\" >46.22</td>\n",
       "      <td id=\"T_eb08c_row1_col1\" class=\"data row1 col1\" >53.78</td>\n",
       "    </tr>\n",
       "  </tbody>\n",
       "</table>\n"
      ],
      "text/plain": [
       "<pandas.io.formats.style.Styler at 0x26a246fe720>"
      ]
     },
     "execution_count": 100,
     "metadata": {},
     "output_type": "execute_result"
    }
   ],
   "source": [
    "df['workload_risk'] = df['number_of_projects'].apply(lambda x: 1 if x in [2, 6, 7] else 0) \n",
    "\n",
    "cross_tab = pd.crosstab(df['workload_risk'], df['employee_left'], normalize='index') * 100\n",
    "cross_tab = cross_tab.round(2)  # Arredonda os valores\n",
    "cross_tab.style.format(\"{:.2f}\").background_gradient(cmap='Greens')  # Formata para exibição correta"
   ]
  },
  {
   "cell_type": "markdown",
   "metadata": {},
   "source": [
    "---\n",
    "\n",
    "#### `projects_per_year` \n",
    "\n",
    "> Número médio de projetos por ano na empresa.\n",
    "\n",
    "> Mede a intensidade de trabalho ao longo do tempo (ex: 7 projetos em 2 anos = 3.5 projetos/ano)."
   ]
  },
  {
   "cell_type": "code",
   "execution_count": 102,
   "metadata": {},
   "outputs": [],
   "source": [
    "df['projects_per_year'] = df['number_of_projects'] / df['tenure']  "
   ]
  },
  {
   "cell_type": "markdown",
   "metadata": {},
   "source": [
    "---\n",
    "\n",
    "#### `tenure_promotion_interaction` \n",
    "\n",
    "> Interação entre tempo de empresa e promoções nos últimos 5 anos.\n",
    "\n",
    "> Destaca funcionários com longo tempo na empresa sem promoções (potencial descontentamento)."
   ]
  },
  {
   "cell_type": "code",
   "execution_count": 104,
   "metadata": {},
   "outputs": [],
   "source": [
    "df['tenure_promotion_interaction'] = df['tenure'] * df['promotion_last_5years']  "
   ]
  },
  {
   "cell_type": "markdown",
   "metadata": {},
   "source": [
    "---\n",
    "\n",
    "#### `salary_satisfaction_index` \n",
    "\n",
    "> Cria um índice combinando salary e satisfaction_level. \n",
    "\n",
    "> Avalia se o salário realmente impacta a satisfação e a retenção. "
   ]
  },
  {
   "cell_type": "code",
   "execution_count": 106,
   "metadata": {},
   "outputs": [],
   "source": [
    "salary_map = {'low': 1, 'medium': 2, 'high': 3}\n",
    "df['salary_satisfaction_index'] = df['satisfaction_level'] * df['salary'].map(salary_map)"
   ]
  },
  {
   "cell_type": "markdown",
   "metadata": {},
   "source": [
    "---\n",
    "\n",
    "#### `evaluation_satisfaction_gap` \n",
    "\n",
    "> Diferença entre avaliação de desempenho e satisfação.  \n",
    "\n",
    "> O objetivo é identificar funcionários com alta performance mas baixa satisfação (risco de burnout). "
   ]
  },
  {
   "cell_type": "code",
   "execution_count": 108,
   "metadata": {
    "scrolled": true
   },
   "outputs": [
    {
     "name": "stdout",
     "output_type": "stream",
     "text": [
      "employee_left\n",
      "0    0.048302\n",
      "1    0.281512\n",
      "Name: evaluation_satisfaction_gap, dtype: float64\n"
     ]
    }
   ],
   "source": [
    "df['evaluation_satisfaction_gap'] = df['last_evaluation'] - df['satisfaction_level']  \n",
    "\n",
    "print(df.groupby('employee_left')['evaluation_satisfaction_gap'].mean())"
   ]
  },
  {
   "cell_type": "markdown",
   "metadata": {},
   "source": [
    "---\n",
    "\n",
    "#### `satisfaction_workload` \n",
    "\n",
    "> Interação entre satisfação e carga horária.\n",
    "\n",
    "> O objetivo é identificar funcionários com alta carga e baixa satisfação (risco iminente de saída). "
   ]
  },
  {
   "cell_type": "code",
   "execution_count": 110,
   "metadata": {},
   "outputs": [
    {
     "name": "stdout",
     "output_type": "stream",
     "text": [
      "employee_left\n",
      "0    133.298775\n",
      "1     90.282692\n",
      "Name: satisfaction_workload, dtype: float64\n"
     ]
    }
   ],
   "source": [
    "df['satisfaction_workload'] = df['satisfaction_level'] * df['average_monthly_hours'] \n",
    "\n",
    "print(df.groupby('employee_left')['satisfaction_workload'].mean())"
   ]
  },
  {
   "cell_type": "markdown",
   "metadata": {},
   "source": [
    "---\n",
    "\n",
    "#### `tenure_group` \n",
    "\n",
    "> Categorização do tempo de empresa em grupos de risco. \n",
    "\n",
    "> O objetivo é segmentar funcionários por fase crítica (ex: 2-5 anos = maior rotatividade). "
   ]
  },
  {
   "cell_type": "code",
   "execution_count": 112,
   "metadata": {
    "scrolled": true
   },
   "outputs": [
    {
     "data": {
      "text/html": [
       "<style type=\"text/css\">\n",
       "#T_f0711_row0_col0, #T_f0711_row1_col1 {\n",
       "  background-color: #00441b;\n",
       "  color: #f1f1f1;\n",
       "}\n",
       "#T_f0711_row0_col1, #T_f0711_row1_col0 {\n",
       "  background-color: #f7fcf5;\n",
       "  color: #000000;\n",
       "}\n",
       "#T_f0711_row2_col0 {\n",
       "  background-color: #8dd08a;\n",
       "  color: #000000;\n",
       "}\n",
       "#T_f0711_row2_col1 {\n",
       "  background-color: #58b668;\n",
       "  color: #f1f1f1;\n",
       "}\n",
       "</style>\n",
       "<table id=\"T_f0711\">\n",
       "  <thead>\n",
       "    <tr>\n",
       "      <th class=\"index_name level0\" >employee_left</th>\n",
       "      <th id=\"T_f0711_level0_col0\" class=\"col_heading level0 col0\" >0</th>\n",
       "      <th id=\"T_f0711_level0_col1\" class=\"col_heading level0 col1\" >1</th>\n",
       "    </tr>\n",
       "    <tr>\n",
       "      <th class=\"index_name level0\" >tenure_group</th>\n",
       "      <th class=\"blank col0\" >&nbsp;</th>\n",
       "      <th class=\"blank col1\" >&nbsp;</th>\n",
       "    </tr>\n",
       "  </thead>\n",
       "  <tbody>\n",
       "    <tr>\n",
       "      <th id=\"T_f0711_level0_row0\" class=\"row_heading level0 row0\" >moderate_risk</th>\n",
       "      <td id=\"T_f0711_row0_col0\" class=\"data row0 col0\" >98.93</td>\n",
       "      <td id=\"T_f0711_row0_col1\" class=\"data row0 col1\" >1.07</td>\n",
       "    </tr>\n",
       "    <tr>\n",
       "      <th id=\"T_f0711_level0_row1\" class=\"row_heading level0 row1\" >high_risk</th>\n",
       "      <td id=\"T_f0711_row1_col0\" class=\"data row1 col0\" >77.58</td>\n",
       "      <td id=\"T_f0711_row1_col1\" class=\"data row1 col1\" >22.42</td>\n",
       "    </tr>\n",
       "    <tr>\n",
       "      <th id=\"T_f0711_level0_row2\" class=\"row_heading level0 row2\" >stable</th>\n",
       "      <td id=\"T_f0711_row2_col0\" class=\"data row2 col0\" >86.77</td>\n",
       "      <td id=\"T_f0711_row2_col1\" class=\"data row2 col1\" >13.23</td>\n",
       "    </tr>\n",
       "  </tbody>\n",
       "</table>\n"
      ],
      "text/plain": [
       "<pandas.io.formats.style.Styler at 0x26a23e14aa0>"
      ]
     },
     "execution_count": 112,
     "metadata": {},
     "output_type": "execute_result"
    }
   ],
   "source": [
    "df['tenure_group'] = pd.cut(df['tenure'], bins=[0, 2, 5, 10], labels=['moderate_risk', 'high_risk', 'stable'])\n",
    "\n",
    "cross_tab = pd.crosstab(df['tenure_group'], df['employee_left'], normalize='index') * 100\n",
    "cross_tab = cross_tab.round(2)  # Arredonda os valores\n",
    "cross_tab.style.format(\"{:.2f}\").background_gradient(cmap='Greens')  # Formata para exibição correta"
   ]
  },
  {
   "cell_type": "markdown",
   "metadata": {},
   "source": [
    "---\n",
    "\n",
    "#### `career_growth` \n",
    "\n",
    "> Mede a progressão do funcionário com base em avaliação de desempenho e número de projetos. \n",
    "\n",
    "> Pode ajudar a prever saída por estagnação ou excesso de demandas. "
   ]
  },
  {
   "cell_type": "code",
   "execution_count": 114,
   "metadata": {
    "scrolled": true
   },
   "outputs": [],
   "source": [
    "df['career_growth'] = df['last_evaluation'] * df['number_of_projects']"
   ]
  },
  {
   "cell_type": "markdown",
   "metadata": {},
   "source": [
    "### 8. Feature selection:"
   ]
  },
  {
   "cell_type": "code",
   "execution_count": 116,
   "metadata": {},
   "outputs": [
    {
     "name": "stdout",
     "output_type": "stream",
     "text": [
      "<class 'pandas.core.frame.DataFrame'>\n",
      "Index: 11991 entries, 0 to 11999\n",
      "Data columns (total 19 columns):\n",
      " #   Column                        Non-Null Count  Dtype   \n",
      "---  ------                        --------------  -----   \n",
      " 0   satisfaction_level            11991 non-null  float64 \n",
      " 1   last_evaluation               11991 non-null  float64 \n",
      " 2   number_of_projects            11991 non-null  int64   \n",
      " 3   average_monthly_hours         11991 non-null  int64   \n",
      " 4   tenure                        11991 non-null  int64   \n",
      " 5   work_accident                 11991 non-null  int64   \n",
      " 6   employee_left                 11991 non-null  int64   \n",
      " 7   promotion_last_5years         11991 non-null  int64   \n",
      " 8   department                    11991 non-null  object  \n",
      " 9   salary                        11991 non-null  object  \n",
      " 10  workload                      11991 non-null  category\n",
      " 11  workload_risk                 11991 non-null  int64   \n",
      " 12  projects_per_year             11991 non-null  float64 \n",
      " 13  tenure_promotion_interaction  11991 non-null  int64   \n",
      " 14  salary_satisfaction_index     11991 non-null  float64 \n",
      " 15  evaluation_satisfaction_gap   11991 non-null  float64 \n",
      " 16  satisfaction_workload         11991 non-null  float64 \n",
      " 17  tenure_group                  11991 non-null  category\n",
      " 18  career_growth                 11991 non-null  float64 \n",
      "dtypes: category(2), float64(7), int64(8), object(2)\n",
      "memory usage: 1.7+ MB\n"
     ]
    }
   ],
   "source": [
    "df.info()"
   ]
  },
  {
   "cell_type": "markdown",
   "metadata": {},
   "source": [
    "A variável `workload` já fez a sua função na análise exploratória de dados, porém agora se tornou redundante. "
   ]
  },
  {
   "cell_type": "code",
   "execution_count": 118,
   "metadata": {},
   "outputs": [],
   "source": [
    "# Remover a coluna `workload`\n",
    "df = df.drop(['workload'], axis=1)"
   ]
  },
  {
   "cell_type": "markdown",
   "metadata": {},
   "source": [
    "A análise exploratória mostrou que `department` não tem relevância significativa para o objetivo do modelo, removê-la pode simplificar o processo e evitar a criação de diversas colunas dummies que não agregariam valor preditivo."
   ]
  },
  {
   "cell_type": "code",
   "execution_count": 120,
   "metadata": {},
   "outputs": [],
   "source": [
    "# Remover a coluna `department` \n",
    "df = df.drop('department', axis=1) "
   ]
  },
  {
   "cell_type": "markdown",
   "metadata": {},
   "source": [
    "### 9. Codificação de variáveis:"
   ]
  },
  {
   "cell_type": "markdown",
   "metadata": {},
   "source": [
    "Estatísticas descritivas para dados categóricos:"
   ]
  },
  {
   "cell_type": "code",
   "execution_count": 123,
   "metadata": {},
   "outputs": [
    {
     "data": {
      "text/html": [
       "<div>\n",
       "<style scoped>\n",
       "    .dataframe tbody tr th:only-of-type {\n",
       "        vertical-align: middle;\n",
       "    }\n",
       "\n",
       "    .dataframe tbody tr th {\n",
       "        vertical-align: top;\n",
       "    }\n",
       "\n",
       "    .dataframe thead th {\n",
       "        text-align: right;\n",
       "    }\n",
       "</style>\n",
       "<table border=\"1\" class=\"dataframe\">\n",
       "  <thead>\n",
       "    <tr style=\"text-align: right;\">\n",
       "      <th></th>\n",
       "      <th>salary</th>\n",
       "    </tr>\n",
       "  </thead>\n",
       "  <tbody>\n",
       "    <tr>\n",
       "      <th>count</th>\n",
       "      <td>11991</td>\n",
       "    </tr>\n",
       "    <tr>\n",
       "      <th>unique</th>\n",
       "      <td>3</td>\n",
       "    </tr>\n",
       "    <tr>\n",
       "      <th>top</th>\n",
       "      <td>low</td>\n",
       "    </tr>\n",
       "    <tr>\n",
       "      <th>freq</th>\n",
       "      <td>5740</td>\n",
       "    </tr>\n",
       "  </tbody>\n",
       "</table>\n",
       "</div>"
      ],
      "text/plain": [
       "       salary\n",
       "count   11991\n",
       "unique      3\n",
       "top       low\n",
       "freq     5740"
      ]
     },
     "execution_count": 123,
     "metadata": {},
     "output_type": "execute_result"
    }
   ],
   "source": [
    "df.describe(include=['object'])"
   ]
  },
  {
   "cell_type": "code",
   "execution_count": 124,
   "metadata": {},
   "outputs": [
    {
     "data": {
      "text/html": [
       "<div>\n",
       "<style scoped>\n",
       "    .dataframe tbody tr th:only-of-type {\n",
       "        vertical-align: middle;\n",
       "    }\n",
       "\n",
       "    .dataframe tbody tr th {\n",
       "        vertical-align: top;\n",
       "    }\n",
       "\n",
       "    .dataframe thead th {\n",
       "        text-align: right;\n",
       "    }\n",
       "</style>\n",
       "<table border=\"1\" class=\"dataframe\">\n",
       "  <thead>\n",
       "    <tr style=\"text-align: right;\">\n",
       "      <th></th>\n",
       "      <th>tenure_group</th>\n",
       "    </tr>\n",
       "  </thead>\n",
       "  <tbody>\n",
       "    <tr>\n",
       "      <th>count</th>\n",
       "      <td>11991</td>\n",
       "    </tr>\n",
       "    <tr>\n",
       "      <th>unique</th>\n",
       "      <td>3</td>\n",
       "    </tr>\n",
       "    <tr>\n",
       "      <th>top</th>\n",
       "      <td>high_risk</td>\n",
       "    </tr>\n",
       "    <tr>\n",
       "      <th>freq</th>\n",
       "      <td>8257</td>\n",
       "    </tr>\n",
       "  </tbody>\n",
       "</table>\n",
       "</div>"
      ],
      "text/plain": [
       "       tenure_group\n",
       "count         11991\n",
       "unique            3\n",
       "top       high_risk\n",
       "freq           8257"
      ]
     },
     "execution_count": 124,
     "metadata": {},
     "output_type": "execute_result"
    }
   ],
   "source": [
    "df.describe(include=['category'])"
   ]
  },
  {
   "cell_type": "code",
   "execution_count": 125,
   "metadata": {},
   "outputs": [
    {
     "data": {
      "text/html": [
       "<div>\n",
       "<style scoped>\n",
       "    .dataframe tbody tr th:only-of-type {\n",
       "        vertical-align: middle;\n",
       "    }\n",
       "\n",
       "    .dataframe tbody tr th {\n",
       "        vertical-align: top;\n",
       "    }\n",
       "\n",
       "    .dataframe thead th {\n",
       "        text-align: right;\n",
       "    }\n",
       "</style>\n",
       "<table border=\"1\" class=\"dataframe\">\n",
       "  <thead>\n",
       "    <tr style=\"text-align: right;\">\n",
       "      <th></th>\n",
       "      <th>satisfaction_level</th>\n",
       "      <th>last_evaluation</th>\n",
       "      <th>number_of_projects</th>\n",
       "      <th>average_monthly_hours</th>\n",
       "      <th>tenure</th>\n",
       "      <th>work_accident</th>\n",
       "      <th>employee_left</th>\n",
       "      <th>promotion_last_5years</th>\n",
       "      <th>workload_risk</th>\n",
       "      <th>projects_per_year</th>\n",
       "      <th>tenure_promotion_interaction</th>\n",
       "      <th>salary_satisfaction_index</th>\n",
       "      <th>evaluation_satisfaction_gap</th>\n",
       "      <th>satisfaction_workload</th>\n",
       "      <th>career_growth</th>\n",
       "      <th>salary_low</th>\n",
       "      <th>salary_medium</th>\n",
       "      <th>tenure_group_high_risk</th>\n",
       "      <th>tenure_group_stable</th>\n",
       "    </tr>\n",
       "  </thead>\n",
       "  <tbody>\n",
       "    <tr>\n",
       "      <th>0</th>\n",
       "      <td>0.38</td>\n",
       "      <td>0.53</td>\n",
       "      <td>2</td>\n",
       "      <td>157</td>\n",
       "      <td>3</td>\n",
       "      <td>0</td>\n",
       "      <td>1</td>\n",
       "      <td>0</td>\n",
       "      <td>1</td>\n",
       "      <td>0.666667</td>\n",
       "      <td>0</td>\n",
       "      <td>0.38</td>\n",
       "      <td>0.15</td>\n",
       "      <td>59.66</td>\n",
       "      <td>1.06</td>\n",
       "      <td>True</td>\n",
       "      <td>False</td>\n",
       "      <td>True</td>\n",
       "      <td>False</td>\n",
       "    </tr>\n",
       "    <tr>\n",
       "      <th>1</th>\n",
       "      <td>0.80</td>\n",
       "      <td>0.86</td>\n",
       "      <td>5</td>\n",
       "      <td>262</td>\n",
       "      <td>6</td>\n",
       "      <td>0</td>\n",
       "      <td>1</td>\n",
       "      <td>0</td>\n",
       "      <td>0</td>\n",
       "      <td>0.833333</td>\n",
       "      <td>0</td>\n",
       "      <td>1.60</td>\n",
       "      <td>0.06</td>\n",
       "      <td>209.60</td>\n",
       "      <td>4.30</td>\n",
       "      <td>False</td>\n",
       "      <td>True</td>\n",
       "      <td>False</td>\n",
       "      <td>True</td>\n",
       "    </tr>\n",
       "    <tr>\n",
       "      <th>2</th>\n",
       "      <td>0.11</td>\n",
       "      <td>0.88</td>\n",
       "      <td>7</td>\n",
       "      <td>272</td>\n",
       "      <td>4</td>\n",
       "      <td>0</td>\n",
       "      <td>1</td>\n",
       "      <td>0</td>\n",
       "      <td>1</td>\n",
       "      <td>1.750000</td>\n",
       "      <td>0</td>\n",
       "      <td>0.22</td>\n",
       "      <td>0.77</td>\n",
       "      <td>29.92</td>\n",
       "      <td>6.16</td>\n",
       "      <td>False</td>\n",
       "      <td>True</td>\n",
       "      <td>True</td>\n",
       "      <td>False</td>\n",
       "    </tr>\n",
       "    <tr>\n",
       "      <th>3</th>\n",
       "      <td>0.72</td>\n",
       "      <td>0.87</td>\n",
       "      <td>5</td>\n",
       "      <td>223</td>\n",
       "      <td>5</td>\n",
       "      <td>0</td>\n",
       "      <td>1</td>\n",
       "      <td>0</td>\n",
       "      <td>0</td>\n",
       "      <td>1.000000</td>\n",
       "      <td>0</td>\n",
       "      <td>0.72</td>\n",
       "      <td>0.15</td>\n",
       "      <td>160.56</td>\n",
       "      <td>4.35</td>\n",
       "      <td>True</td>\n",
       "      <td>False</td>\n",
       "      <td>True</td>\n",
       "      <td>False</td>\n",
       "    </tr>\n",
       "    <tr>\n",
       "      <th>4</th>\n",
       "      <td>0.37</td>\n",
       "      <td>0.52</td>\n",
       "      <td>2</td>\n",
       "      <td>159</td>\n",
       "      <td>3</td>\n",
       "      <td>0</td>\n",
       "      <td>1</td>\n",
       "      <td>0</td>\n",
       "      <td>1</td>\n",
       "      <td>0.666667</td>\n",
       "      <td>0</td>\n",
       "      <td>0.37</td>\n",
       "      <td>0.15</td>\n",
       "      <td>58.83</td>\n",
       "      <td>1.04</td>\n",
       "      <td>True</td>\n",
       "      <td>False</td>\n",
       "      <td>True</td>\n",
       "      <td>False</td>\n",
       "    </tr>\n",
       "  </tbody>\n",
       "</table>\n",
       "</div>"
      ],
      "text/plain": [
       "   satisfaction_level  last_evaluation  number_of_projects  \\\n",
       "0                0.38             0.53                   2   \n",
       "1                0.80             0.86                   5   \n",
       "2                0.11             0.88                   7   \n",
       "3                0.72             0.87                   5   \n",
       "4                0.37             0.52                   2   \n",
       "\n",
       "   average_monthly_hours  tenure  work_accident  employee_left  \\\n",
       "0                    157       3              0              1   \n",
       "1                    262       6              0              1   \n",
       "2                    272       4              0              1   \n",
       "3                    223       5              0              1   \n",
       "4                    159       3              0              1   \n",
       "\n",
       "   promotion_last_5years  workload_risk  projects_per_year  \\\n",
       "0                      0              1           0.666667   \n",
       "1                      0              0           0.833333   \n",
       "2                      0              1           1.750000   \n",
       "3                      0              0           1.000000   \n",
       "4                      0              1           0.666667   \n",
       "\n",
       "   tenure_promotion_interaction  salary_satisfaction_index  \\\n",
       "0                             0                       0.38   \n",
       "1                             0                       1.60   \n",
       "2                             0                       0.22   \n",
       "3                             0                       0.72   \n",
       "4                             0                       0.37   \n",
       "\n",
       "   evaluation_satisfaction_gap  satisfaction_workload  career_growth  \\\n",
       "0                         0.15                  59.66           1.06   \n",
       "1                         0.06                 209.60           4.30   \n",
       "2                         0.77                  29.92           6.16   \n",
       "3                         0.15                 160.56           4.35   \n",
       "4                         0.15                  58.83           1.04   \n",
       "\n",
       "   salary_low  salary_medium  tenure_group_high_risk  tenure_group_stable  \n",
       "0        True          False                    True                False  \n",
       "1       False           True                   False                 True  \n",
       "2       False           True                    True                False  \n",
       "3        True          False                    True                False  \n",
       "4        True          False                    True                False  "
      ]
     },
     "execution_count": 125,
     "metadata": {},
     "output_type": "execute_result"
    }
   ],
   "source": [
    "# Converter variáveis categóricas restantes em dummies\n",
    "df = pd.get_dummies(df, columns=['salary', 'tenure_group'], drop_first=True)\n",
    "\n",
    "# Visualizar as novas colunas\n",
    "df.head()"
   ]
  },
  {
   "cell_type": "code",
   "execution_count": 126,
   "metadata": {},
   "outputs": [
    {
     "name": "stdout",
     "output_type": "stream",
     "text": [
      "<class 'pandas.core.frame.DataFrame'>\n",
      "Index: 11991 entries, 0 to 11999\n",
      "Data columns (total 19 columns):\n",
      " #   Column                        Non-Null Count  Dtype  \n",
      "---  ------                        --------------  -----  \n",
      " 0   satisfaction_level            11991 non-null  float64\n",
      " 1   last_evaluation               11991 non-null  float64\n",
      " 2   number_of_projects            11991 non-null  int64  \n",
      " 3   average_monthly_hours         11991 non-null  int64  \n",
      " 4   tenure                        11991 non-null  int64  \n",
      " 5   work_accident                 11991 non-null  int64  \n",
      " 6   employee_left                 11991 non-null  int64  \n",
      " 7   promotion_last_5years         11991 non-null  int64  \n",
      " 8   workload_risk                 11991 non-null  int64  \n",
      " 9   projects_per_year             11991 non-null  float64\n",
      " 10  tenure_promotion_interaction  11991 non-null  int64  \n",
      " 11  salary_satisfaction_index     11991 non-null  float64\n",
      " 12  evaluation_satisfaction_gap   11991 non-null  float64\n",
      " 13  satisfaction_workload         11991 non-null  float64\n",
      " 14  career_growth                 11991 non-null  float64\n",
      " 15  salary_low                    11991 non-null  bool   \n",
      " 16  salary_medium                 11991 non-null  bool   \n",
      " 17  tenure_group_high_risk        11991 non-null  bool   \n",
      " 18  tenure_group_stable           11991 non-null  bool   \n",
      "dtypes: bool(4), float64(7), int64(8)\n",
      "memory usage: 1.5 MB\n"
     ]
    }
   ],
   "source": [
    "df.info()"
   ]
  },
  {
   "cell_type": "markdown",
   "metadata": {
    "id": "Lca9c8XON8lc"
   },
   "source": [
    "# Construção"
   ]
  },
  {
   "cell_type": "markdown",
   "metadata": {
    "id": "ZDG9v-NCS69j"
   },
   "source": [
    "## Etapa 3. Construção do modelo\n",
    "- Ajustar um modelo que preveja a variável de resultado usando as variáveis independentes.\n",
    "- Verificar as suposições do modelo.\n",
    "- Avaliar o modelo."
   ]
  },
  {
   "cell_type": "markdown",
   "metadata": {
    "id": "OrW2oXy4OfD1"
   },
   "source": [
    "---\n",
    "\n",
    "### 1. Dividir os dados:\n",
    "\n",
    "Com 11.991 amostras, vou dividir os dados 80/20 em um conjunto de treinamento provisório e um conjunto de teste. Depois dividirei o conjunto de treinamento provisório em 75/25 em um conjunto de treinamento e um conjunto de validação, produzindo uma proporção final de 60/20/20 para conjuntos de treinamento/validação/teste.\n",
    "\n",
    "- 60% para treino oferece dados suficientes para os modelos aprenderem os padrões.\n",
    "- 20% para validação permite uma boa avaliação durante o tuning de hiperparâmetros.\n",
    "- 20% para para avaliação final.\n",
    "\n",
    "**Aspectos do código:**\n",
    "- Uso do `stratify` em ambos os splits, garantindo a mesma proporção da variável target em todos os conjuntos.\n",
    "- Definição de `random_state` para reprodutibilidade."
   ]
  },
  {
   "cell_type": "code",
   "execution_count": 130,
   "metadata": {
    "id": "UePZZyi_Okdz"
   },
   "outputs": [],
   "source": [
    "# Definir df_subset_X que isole os recursos \n",
    "df_subset_X = df.drop(columns=['employee_left'])\n",
    "\n",
    "# Definir df_subset_y que isole a variável alvo\n",
    "df_subset_y = df['employee_left']"
   ]
  },
  {
   "cell_type": "code",
   "execution_count": 131,
   "metadata": {},
   "outputs": [],
   "source": [
    "# Dividir em conjuntos de treinamento e teste.\n",
    "X_train, X_test, y_train, y_test = train_test_split(\n",
    "    df_subset_X, \n",
    "    df_subset_y,\n",
    "    stratify=df_subset_y,  # Garante a mesma proporção de classes\n",
    "    test_size=0.20, \n",
    "    random_state=42\n",
    ")\n",
    "\n",
    "# Dividir em conjuntos de treinamento e validação.\n",
    "X_tr, X_val, y_tr, y_val = train_test_split(\n",
    "    X_train, \n",
    "    y_train,\n",
    "    stratify=y_train,\n",
    "    test_size = 0.25, \n",
    "    random_state=42)"
   ]
  },
  {
   "cell_type": "code",
   "execution_count": 132,
   "metadata": {},
   "outputs": [
    {
     "name": "stdout",
     "output_type": "stream",
     "text": [
      "Proporções do target:\n",
      "Training: 0.166\n",
      "Validation: 0.166\n",
      "Test: 0.166\n"
     ]
    }
   ],
   "source": [
    "print(\"Proporções do target:\")\n",
    "print(f\"Training: {y_tr.mean():.3f}\")\n",
    "print(f\"Validation: {y_val.mean():.3f}\")\n",
    "print(f\"Test: {y_test.mean():.3f}\")"
   ]
  },
  {
   "cell_type": "code",
   "execution_count": 133,
   "metadata": {},
   "outputs": [
    {
     "name": "stdout",
     "output_type": "stream",
     "text": [
      "Número total de amostras no dataset original: 11991\n",
      "\n",
      "--- Divisão Treino/Teste ---\n",
      "Treino (X_train): 9592 amostras\n",
      "Teste (X_test): 2399 amostras\n",
      "\n",
      "--- Subdivisão Treino/Validação ---\n",
      "Treino Final (X_tr): 7194 amostras\n",
      "Validação (X_val): 2398 amostras\n",
      "\n",
      "Proporção do target (churn):\n",
      "- Treino Final (y_tr):\n",
      "employee_left\n",
      "0    0.833889\n",
      "1    0.166111\n",
      "Name: proportion, dtype: float64\n",
      "\n",
      "- Validação (y_val):\n",
      "employee_left\n",
      "0    0.834028\n",
      "1    0.165972\n",
      "Name: proportion, dtype: float64\n",
      "\n",
      "- Teste (y_test):\n",
      "employee_left\n",
      "0    0.834098\n",
      "1    0.165902\n",
      "Name: proportion, dtype: float64\n"
     ]
    }
   ],
   "source": [
    "print(f\"Número total de amostras no dataset original: {len(df)}\")\n",
    "\n",
    "# Verificar treino, validação e teste\n",
    "print(\"\\n--- Divisão Treino/Teste ---\")\n",
    "print(f\"Treino (X_train): {X_train.shape[0]} amostras\")\n",
    "print(f\"Teste (X_test): {X_test.shape[0]} amostras\")\n",
    "\n",
    "print(\"\\n--- Subdivisão Treino/Validação ---\")\n",
    "print(f\"Treino Final (X_tr): {X_tr.shape[0]} amostras\")\n",
    "print(f\"Validação (X_val): {X_val.shape[0]} amostras\")\n",
    "\n",
    "# Verificar proporção da variável target\n",
    "print(\"\\nProporção do target (churn):\")\n",
    "print(\"- Treino Final (y_tr):\")\n",
    "print(y_tr.value_counts(normalize=True))\n",
    "print(\"\\n- Validação (y_val):\")\n",
    "print(y_val.value_counts(normalize=True))\n",
    "print(\"\\n- Teste (y_test):\")\n",
    "print(y_test.value_counts(normalize=True))"
   ]
  },
  {
   "cell_type": "markdown",
   "metadata": {},
   "source": [
    "---\n",
    "\n",
    "### 2. Modelagem:"
   ]
  },
  {
   "cell_type": "markdown",
   "metadata": {},
   "source": [
    "#### Random forest\n",
    "\n",
    "Começarei usando o GridSearchCV para ajustar o modelo.\n",
    "\n",
    "- Instanciarei o classificador da Random forest `rf`.\n",
    "- Criarei um dicionário cv_params com hiperparâmetros e seus valores correspondentes.\n",
    "- Defina uma lista de pontuação de métricas de pontuação para o GridSearch capturar.\n",
    "- Instanciarei o objeto GridSearchCV rf_cv. \n"
   ]
  },
  {
   "cell_type": "markdown",
   "metadata": {},
   "source": [
    "Por motivos de eficiencia estarei colcando os melhores parametros diretamente, porém esses foram o que usei na GridSearchCV:\n",
    "\n",
    "cv_params = {\n",
    "    'n_estimators': [100, 200, 300],           \n",
    "    'max_depth': [10, 20, 30, None],          \n",
    "    'min_samples_split': [2, 5, 10],           \n",
    "    'min_samples_leaf': [1, 2, 4],             \n",
    "    'max_features': ['sqrt', 'log2'],          \n",
    "    'max_samples': [0.7, 0.8, 0.9]         \n",
    "}\n",
    "\n",
    "*Optei por essa grade, pois um número de combinações gerenciável para rodar num PC pessoal.*"
   ]
  },
  {
   "cell_type": "code",
   "execution_count": 137,
   "metadata": {},
   "outputs": [],
   "source": [
    "# 1. Criar o modelo Random Forest\n",
    "rf = RandomForestClassifier(class_weight='balanced', random_state=42)\n",
    "\n",
    "# 2. Criar um dicionário de hiperparâmetros para o Grid Search\n",
    "cv_params = {\n",
    " 'max_depth': [10],           # Profundidade máxima das árvoreso\n",
    " 'max_features': ['sqrt'],    # Estratégia para escolher os recursos em cada split\n",
    " 'max_samples': [0.8],        # Fração de amostras usadas para treinar cada árvore (bootstrap)\n",
    " 'min_samples_leaf': [1],     # Mínimo de amostras em uma folha\n",
    " 'min_samples_split': [5],    # Mínimo de amostras para dividir um nó\n",
    " 'n_estimators': [200]        # Número de árvores na floresta\n",
    "}\n",
    "\n",
    "# 3. Definir métricas\n",
    "scoring = {\n",
    "    'accuracy': 'accuracy',\n",
    "    'precision': 'precision',\n",
    "    'recall': 'recall',\n",
    "    'f1': 'f1'\n",
    "}\n",
    "\n",
    "# 4. Criar o GridSearchCV com a divisão customizada\n",
    "rf_cv = GridSearchCV(\n",
    "    rf, \n",
    "    cv_params, \n",
    "    scoring=scoring, \n",
    "    cv=StratifiedKFold(n_splits=5, shuffle=True, random_state=42),\n",
    "    refit='recall',  # Certifique-se de que essa métrica está no scoring\n",
    "    n_jobs=-1,       # Usa todos os núcleos da CPU\n",
    "    verbose=1        # Exibe progresso detalhado\n",
    ")"
   ]
  },
  {
   "cell_type": "code",
   "execution_count": 138,
   "metadata": {},
   "outputs": [
    {
     "name": "stdout",
     "output_type": "stream",
     "text": [
      "Fitting 5 folds for each of 1 candidates, totalling 5 fits\n",
      "CPU times: total: 1 s\n",
      "Wall time: 4.78 s\n"
     ]
    },
    {
     "data": {
      "text/html": [
       "<style>#sk-container-id-1 {\n",
       "  /* Definition of color scheme common for light and dark mode */\n",
       "  --sklearn-color-text: black;\n",
       "  --sklearn-color-line: gray;\n",
       "  /* Definition of color scheme for unfitted estimators */\n",
       "  --sklearn-color-unfitted-level-0: #fff5e6;\n",
       "  --sklearn-color-unfitted-level-1: #f6e4d2;\n",
       "  --sklearn-color-unfitted-level-2: #ffe0b3;\n",
       "  --sklearn-color-unfitted-level-3: chocolate;\n",
       "  /* Definition of color scheme for fitted estimators */\n",
       "  --sklearn-color-fitted-level-0: #f0f8ff;\n",
       "  --sklearn-color-fitted-level-1: #d4ebff;\n",
       "  --sklearn-color-fitted-level-2: #b3dbfd;\n",
       "  --sklearn-color-fitted-level-3: cornflowerblue;\n",
       "\n",
       "  /* Specific color for light theme */\n",
       "  --sklearn-color-text-on-default-background: var(--sg-text-color, var(--theme-code-foreground, var(--jp-content-font-color1, black)));\n",
       "  --sklearn-color-background: var(--sg-background-color, var(--theme-background, var(--jp-layout-color0, white)));\n",
       "  --sklearn-color-border-box: var(--sg-text-color, var(--theme-code-foreground, var(--jp-content-font-color1, black)));\n",
       "  --sklearn-color-icon: #696969;\n",
       "\n",
       "  @media (prefers-color-scheme: dark) {\n",
       "    /* Redefinition of color scheme for dark theme */\n",
       "    --sklearn-color-text-on-default-background: var(--sg-text-color, var(--theme-code-foreground, var(--jp-content-font-color1, white)));\n",
       "    --sklearn-color-background: var(--sg-background-color, var(--theme-background, var(--jp-layout-color0, #111)));\n",
       "    --sklearn-color-border-box: var(--sg-text-color, var(--theme-code-foreground, var(--jp-content-font-color1, white)));\n",
       "    --sklearn-color-icon: #878787;\n",
       "  }\n",
       "}\n",
       "\n",
       "#sk-container-id-1 {\n",
       "  color: var(--sklearn-color-text);\n",
       "}\n",
       "\n",
       "#sk-container-id-1 pre {\n",
       "  padding: 0;\n",
       "}\n",
       "\n",
       "#sk-container-id-1 input.sk-hidden--visually {\n",
       "  border: 0;\n",
       "  clip: rect(1px 1px 1px 1px);\n",
       "  clip: rect(1px, 1px, 1px, 1px);\n",
       "  height: 1px;\n",
       "  margin: -1px;\n",
       "  overflow: hidden;\n",
       "  padding: 0;\n",
       "  position: absolute;\n",
       "  width: 1px;\n",
       "}\n",
       "\n",
       "#sk-container-id-1 div.sk-dashed-wrapped {\n",
       "  border: 1px dashed var(--sklearn-color-line);\n",
       "  margin: 0 0.4em 0.5em 0.4em;\n",
       "  box-sizing: border-box;\n",
       "  padding-bottom: 0.4em;\n",
       "  background-color: var(--sklearn-color-background);\n",
       "}\n",
       "\n",
       "#sk-container-id-1 div.sk-container {\n",
       "  /* jupyter's `normalize.less` sets `[hidden] { display: none; }`\n",
       "     but bootstrap.min.css set `[hidden] { display: none !important; }`\n",
       "     so we also need the `!important` here to be able to override the\n",
       "     default hidden behavior on the sphinx rendered scikit-learn.org.\n",
       "     See: https://github.com/scikit-learn/scikit-learn/issues/21755 */\n",
       "  display: inline-block !important;\n",
       "  position: relative;\n",
       "}\n",
       "\n",
       "#sk-container-id-1 div.sk-text-repr-fallback {\n",
       "  display: none;\n",
       "}\n",
       "\n",
       "div.sk-parallel-item,\n",
       "div.sk-serial,\n",
       "div.sk-item {\n",
       "  /* draw centered vertical line to link estimators */\n",
       "  background-image: linear-gradient(var(--sklearn-color-text-on-default-background), var(--sklearn-color-text-on-default-background));\n",
       "  background-size: 2px 100%;\n",
       "  background-repeat: no-repeat;\n",
       "  background-position: center center;\n",
       "}\n",
       "\n",
       "/* Parallel-specific style estimator block */\n",
       "\n",
       "#sk-container-id-1 div.sk-parallel-item::after {\n",
       "  content: \"\";\n",
       "  width: 100%;\n",
       "  border-bottom: 2px solid var(--sklearn-color-text-on-default-background);\n",
       "  flex-grow: 1;\n",
       "}\n",
       "\n",
       "#sk-container-id-1 div.sk-parallel {\n",
       "  display: flex;\n",
       "  align-items: stretch;\n",
       "  justify-content: center;\n",
       "  background-color: var(--sklearn-color-background);\n",
       "  position: relative;\n",
       "}\n",
       "\n",
       "#sk-container-id-1 div.sk-parallel-item {\n",
       "  display: flex;\n",
       "  flex-direction: column;\n",
       "}\n",
       "\n",
       "#sk-container-id-1 div.sk-parallel-item:first-child::after {\n",
       "  align-self: flex-end;\n",
       "  width: 50%;\n",
       "}\n",
       "\n",
       "#sk-container-id-1 div.sk-parallel-item:last-child::after {\n",
       "  align-self: flex-start;\n",
       "  width: 50%;\n",
       "}\n",
       "\n",
       "#sk-container-id-1 div.sk-parallel-item:only-child::after {\n",
       "  width: 0;\n",
       "}\n",
       "\n",
       "/* Serial-specific style estimator block */\n",
       "\n",
       "#sk-container-id-1 div.sk-serial {\n",
       "  display: flex;\n",
       "  flex-direction: column;\n",
       "  align-items: center;\n",
       "  background-color: var(--sklearn-color-background);\n",
       "  padding-right: 1em;\n",
       "  padding-left: 1em;\n",
       "}\n",
       "\n",
       "\n",
       "/* Toggleable style: style used for estimator/Pipeline/ColumnTransformer box that is\n",
       "clickable and can be expanded/collapsed.\n",
       "- Pipeline and ColumnTransformer use this feature and define the default style\n",
       "- Estimators will overwrite some part of the style using the `sk-estimator` class\n",
       "*/\n",
       "\n",
       "/* Pipeline and ColumnTransformer style (default) */\n",
       "\n",
       "#sk-container-id-1 div.sk-toggleable {\n",
       "  /* Default theme specific background. It is overwritten whether we have a\n",
       "  specific estimator or a Pipeline/ColumnTransformer */\n",
       "  background-color: var(--sklearn-color-background);\n",
       "}\n",
       "\n",
       "/* Toggleable label */\n",
       "#sk-container-id-1 label.sk-toggleable__label {\n",
       "  cursor: pointer;\n",
       "  display: block;\n",
       "  width: 100%;\n",
       "  margin-bottom: 0;\n",
       "  padding: 0.5em;\n",
       "  box-sizing: border-box;\n",
       "  text-align: center;\n",
       "}\n",
       "\n",
       "#sk-container-id-1 label.sk-toggleable__label-arrow:before {\n",
       "  /* Arrow on the left of the label */\n",
       "  content: \"▸\";\n",
       "  float: left;\n",
       "  margin-right: 0.25em;\n",
       "  color: var(--sklearn-color-icon);\n",
       "}\n",
       "\n",
       "#sk-container-id-1 label.sk-toggleable__label-arrow:hover:before {\n",
       "  color: var(--sklearn-color-text);\n",
       "}\n",
       "\n",
       "/* Toggleable content - dropdown */\n",
       "\n",
       "#sk-container-id-1 div.sk-toggleable__content {\n",
       "  max-height: 0;\n",
       "  max-width: 0;\n",
       "  overflow: hidden;\n",
       "  text-align: left;\n",
       "  /* unfitted */\n",
       "  background-color: var(--sklearn-color-unfitted-level-0);\n",
       "}\n",
       "\n",
       "#sk-container-id-1 div.sk-toggleable__content.fitted {\n",
       "  /* fitted */\n",
       "  background-color: var(--sklearn-color-fitted-level-0);\n",
       "}\n",
       "\n",
       "#sk-container-id-1 div.sk-toggleable__content pre {\n",
       "  margin: 0.2em;\n",
       "  border-radius: 0.25em;\n",
       "  color: var(--sklearn-color-text);\n",
       "  /* unfitted */\n",
       "  background-color: var(--sklearn-color-unfitted-level-0);\n",
       "}\n",
       "\n",
       "#sk-container-id-1 div.sk-toggleable__content.fitted pre {\n",
       "  /* unfitted */\n",
       "  background-color: var(--sklearn-color-fitted-level-0);\n",
       "}\n",
       "\n",
       "#sk-container-id-1 input.sk-toggleable__control:checked~div.sk-toggleable__content {\n",
       "  /* Expand drop-down */\n",
       "  max-height: 200px;\n",
       "  max-width: 100%;\n",
       "  overflow: auto;\n",
       "}\n",
       "\n",
       "#sk-container-id-1 input.sk-toggleable__control:checked~label.sk-toggleable__label-arrow:before {\n",
       "  content: \"▾\";\n",
       "}\n",
       "\n",
       "/* Pipeline/ColumnTransformer-specific style */\n",
       "\n",
       "#sk-container-id-1 div.sk-label input.sk-toggleable__control:checked~label.sk-toggleable__label {\n",
       "  color: var(--sklearn-color-text);\n",
       "  background-color: var(--sklearn-color-unfitted-level-2);\n",
       "}\n",
       "\n",
       "#sk-container-id-1 div.sk-label.fitted input.sk-toggleable__control:checked~label.sk-toggleable__label {\n",
       "  background-color: var(--sklearn-color-fitted-level-2);\n",
       "}\n",
       "\n",
       "/* Estimator-specific style */\n",
       "\n",
       "/* Colorize estimator box */\n",
       "#sk-container-id-1 div.sk-estimator input.sk-toggleable__control:checked~label.sk-toggleable__label {\n",
       "  /* unfitted */\n",
       "  background-color: var(--sklearn-color-unfitted-level-2);\n",
       "}\n",
       "\n",
       "#sk-container-id-1 div.sk-estimator.fitted input.sk-toggleable__control:checked~label.sk-toggleable__label {\n",
       "  /* fitted */\n",
       "  background-color: var(--sklearn-color-fitted-level-2);\n",
       "}\n",
       "\n",
       "#sk-container-id-1 div.sk-label label.sk-toggleable__label,\n",
       "#sk-container-id-1 div.sk-label label {\n",
       "  /* The background is the default theme color */\n",
       "  color: var(--sklearn-color-text-on-default-background);\n",
       "}\n",
       "\n",
       "/* On hover, darken the color of the background */\n",
       "#sk-container-id-1 div.sk-label:hover label.sk-toggleable__label {\n",
       "  color: var(--sklearn-color-text);\n",
       "  background-color: var(--sklearn-color-unfitted-level-2);\n",
       "}\n",
       "\n",
       "/* Label box, darken color on hover, fitted */\n",
       "#sk-container-id-1 div.sk-label.fitted:hover label.sk-toggleable__label.fitted {\n",
       "  color: var(--sklearn-color-text);\n",
       "  background-color: var(--sklearn-color-fitted-level-2);\n",
       "}\n",
       "\n",
       "/* Estimator label */\n",
       "\n",
       "#sk-container-id-1 div.sk-label label {\n",
       "  font-family: monospace;\n",
       "  font-weight: bold;\n",
       "  display: inline-block;\n",
       "  line-height: 1.2em;\n",
       "}\n",
       "\n",
       "#sk-container-id-1 div.sk-label-container {\n",
       "  text-align: center;\n",
       "}\n",
       "\n",
       "/* Estimator-specific */\n",
       "#sk-container-id-1 div.sk-estimator {\n",
       "  font-family: monospace;\n",
       "  border: 1px dotted var(--sklearn-color-border-box);\n",
       "  border-radius: 0.25em;\n",
       "  box-sizing: border-box;\n",
       "  margin-bottom: 0.5em;\n",
       "  /* unfitted */\n",
       "  background-color: var(--sklearn-color-unfitted-level-0);\n",
       "}\n",
       "\n",
       "#sk-container-id-1 div.sk-estimator.fitted {\n",
       "  /* fitted */\n",
       "  background-color: var(--sklearn-color-fitted-level-0);\n",
       "}\n",
       "\n",
       "/* on hover */\n",
       "#sk-container-id-1 div.sk-estimator:hover {\n",
       "  /* unfitted */\n",
       "  background-color: var(--sklearn-color-unfitted-level-2);\n",
       "}\n",
       "\n",
       "#sk-container-id-1 div.sk-estimator.fitted:hover {\n",
       "  /* fitted */\n",
       "  background-color: var(--sklearn-color-fitted-level-2);\n",
       "}\n",
       "\n",
       "/* Specification for estimator info (e.g. \"i\" and \"?\") */\n",
       "\n",
       "/* Common style for \"i\" and \"?\" */\n",
       "\n",
       ".sk-estimator-doc-link,\n",
       "a:link.sk-estimator-doc-link,\n",
       "a:visited.sk-estimator-doc-link {\n",
       "  float: right;\n",
       "  font-size: smaller;\n",
       "  line-height: 1em;\n",
       "  font-family: monospace;\n",
       "  background-color: var(--sklearn-color-background);\n",
       "  border-radius: 1em;\n",
       "  height: 1em;\n",
       "  width: 1em;\n",
       "  text-decoration: none !important;\n",
       "  margin-left: 1ex;\n",
       "  /* unfitted */\n",
       "  border: var(--sklearn-color-unfitted-level-1) 1pt solid;\n",
       "  color: var(--sklearn-color-unfitted-level-1);\n",
       "}\n",
       "\n",
       ".sk-estimator-doc-link.fitted,\n",
       "a:link.sk-estimator-doc-link.fitted,\n",
       "a:visited.sk-estimator-doc-link.fitted {\n",
       "  /* fitted */\n",
       "  border: var(--sklearn-color-fitted-level-1) 1pt solid;\n",
       "  color: var(--sklearn-color-fitted-level-1);\n",
       "}\n",
       "\n",
       "/* On hover */\n",
       "div.sk-estimator:hover .sk-estimator-doc-link:hover,\n",
       ".sk-estimator-doc-link:hover,\n",
       "div.sk-label-container:hover .sk-estimator-doc-link:hover,\n",
       ".sk-estimator-doc-link:hover {\n",
       "  /* unfitted */\n",
       "  background-color: var(--sklearn-color-unfitted-level-3);\n",
       "  color: var(--sklearn-color-background);\n",
       "  text-decoration: none;\n",
       "}\n",
       "\n",
       "div.sk-estimator.fitted:hover .sk-estimator-doc-link.fitted:hover,\n",
       ".sk-estimator-doc-link.fitted:hover,\n",
       "div.sk-label-container:hover .sk-estimator-doc-link.fitted:hover,\n",
       ".sk-estimator-doc-link.fitted:hover {\n",
       "  /* fitted */\n",
       "  background-color: var(--sklearn-color-fitted-level-3);\n",
       "  color: var(--sklearn-color-background);\n",
       "  text-decoration: none;\n",
       "}\n",
       "\n",
       "/* Span, style for the box shown on hovering the info icon */\n",
       ".sk-estimator-doc-link span {\n",
       "  display: none;\n",
       "  z-index: 9999;\n",
       "  position: relative;\n",
       "  font-weight: normal;\n",
       "  right: .2ex;\n",
       "  padding: .5ex;\n",
       "  margin: .5ex;\n",
       "  width: min-content;\n",
       "  min-width: 20ex;\n",
       "  max-width: 50ex;\n",
       "  color: var(--sklearn-color-text);\n",
       "  box-shadow: 2pt 2pt 4pt #999;\n",
       "  /* unfitted */\n",
       "  background: var(--sklearn-color-unfitted-level-0);\n",
       "  border: .5pt solid var(--sklearn-color-unfitted-level-3);\n",
       "}\n",
       "\n",
       ".sk-estimator-doc-link.fitted span {\n",
       "  /* fitted */\n",
       "  background: var(--sklearn-color-fitted-level-0);\n",
       "  border: var(--sklearn-color-fitted-level-3);\n",
       "}\n",
       "\n",
       ".sk-estimator-doc-link:hover span {\n",
       "  display: block;\n",
       "}\n",
       "\n",
       "/* \"?\"-specific style due to the `<a>` HTML tag */\n",
       "\n",
       "#sk-container-id-1 a.estimator_doc_link {\n",
       "  float: right;\n",
       "  font-size: 1rem;\n",
       "  line-height: 1em;\n",
       "  font-family: monospace;\n",
       "  background-color: var(--sklearn-color-background);\n",
       "  border-radius: 1rem;\n",
       "  height: 1rem;\n",
       "  width: 1rem;\n",
       "  text-decoration: none;\n",
       "  /* unfitted */\n",
       "  color: var(--sklearn-color-unfitted-level-1);\n",
       "  border: var(--sklearn-color-unfitted-level-1) 1pt solid;\n",
       "}\n",
       "\n",
       "#sk-container-id-1 a.estimator_doc_link.fitted {\n",
       "  /* fitted */\n",
       "  border: var(--sklearn-color-fitted-level-1) 1pt solid;\n",
       "  color: var(--sklearn-color-fitted-level-1);\n",
       "}\n",
       "\n",
       "/* On hover */\n",
       "#sk-container-id-1 a.estimator_doc_link:hover {\n",
       "  /* unfitted */\n",
       "  background-color: var(--sklearn-color-unfitted-level-3);\n",
       "  color: var(--sklearn-color-background);\n",
       "  text-decoration: none;\n",
       "}\n",
       "\n",
       "#sk-container-id-1 a.estimator_doc_link.fitted:hover {\n",
       "  /* fitted */\n",
       "  background-color: var(--sklearn-color-fitted-level-3);\n",
       "}\n",
       "</style><div id=\"sk-container-id-1\" class=\"sk-top-container\"><div class=\"sk-text-repr-fallback\"><pre>GridSearchCV(cv=StratifiedKFold(n_splits=5, random_state=42, shuffle=True),\n",
       "             estimator=RandomForestClassifier(class_weight=&#x27;balanced&#x27;,\n",
       "                                              random_state=42),\n",
       "             n_jobs=-1,\n",
       "             param_grid={&#x27;max_depth&#x27;: [10], &#x27;max_features&#x27;: [&#x27;sqrt&#x27;],\n",
       "                         &#x27;max_samples&#x27;: [0.8], &#x27;min_samples_leaf&#x27;: [1],\n",
       "                         &#x27;min_samples_split&#x27;: [5], &#x27;n_estimators&#x27;: [200]},\n",
       "             refit=&#x27;recall&#x27;,\n",
       "             scoring={&#x27;accuracy&#x27;: &#x27;accuracy&#x27;, &#x27;f1&#x27;: &#x27;f1&#x27;,\n",
       "                      &#x27;precision&#x27;: &#x27;precision&#x27;, &#x27;recall&#x27;: &#x27;recall&#x27;},\n",
       "             verbose=1)</pre><b>In a Jupyter environment, please rerun this cell to show the HTML representation or trust the notebook. <br />On GitHub, the HTML representation is unable to render, please try loading this page with nbviewer.org.</b></div><div class=\"sk-container\" hidden><div class=\"sk-item sk-dashed-wrapped\"><div class=\"sk-label-container\"><div class=\"sk-label fitted sk-toggleable\"><input class=\"sk-toggleable__control sk-hidden--visually\" id=\"sk-estimator-id-1\" type=\"checkbox\" ><label for=\"sk-estimator-id-1\" class=\"sk-toggleable__label fitted sk-toggleable__label-arrow fitted\">&nbsp;&nbsp;GridSearchCV<a class=\"sk-estimator-doc-link fitted\" rel=\"noreferrer\" target=\"_blank\" href=\"https://scikit-learn.org/1.5/modules/generated/sklearn.model_selection.GridSearchCV.html\">?<span>Documentation for GridSearchCV</span></a><span class=\"sk-estimator-doc-link fitted\">i<span>Fitted</span></span></label><div class=\"sk-toggleable__content fitted\"><pre>GridSearchCV(cv=StratifiedKFold(n_splits=5, random_state=42, shuffle=True),\n",
       "             estimator=RandomForestClassifier(class_weight=&#x27;balanced&#x27;,\n",
       "                                              random_state=42),\n",
       "             n_jobs=-1,\n",
       "             param_grid={&#x27;max_depth&#x27;: [10], &#x27;max_features&#x27;: [&#x27;sqrt&#x27;],\n",
       "                         &#x27;max_samples&#x27;: [0.8], &#x27;min_samples_leaf&#x27;: [1],\n",
       "                         &#x27;min_samples_split&#x27;: [5], &#x27;n_estimators&#x27;: [200]},\n",
       "             refit=&#x27;recall&#x27;,\n",
       "             scoring={&#x27;accuracy&#x27;: &#x27;accuracy&#x27;, &#x27;f1&#x27;: &#x27;f1&#x27;,\n",
       "                      &#x27;precision&#x27;: &#x27;precision&#x27;, &#x27;recall&#x27;: &#x27;recall&#x27;},\n",
       "             verbose=1)</pre></div> </div></div><div class=\"sk-parallel\"><div class=\"sk-parallel-item\"><div class=\"sk-item\"><div class=\"sk-label-container\"><div class=\"sk-label fitted sk-toggleable\"><input class=\"sk-toggleable__control sk-hidden--visually\" id=\"sk-estimator-id-2\" type=\"checkbox\" ><label for=\"sk-estimator-id-2\" class=\"sk-toggleable__label fitted sk-toggleable__label-arrow fitted\">best_estimator_: RandomForestClassifier</label><div class=\"sk-toggleable__content fitted\"><pre>RandomForestClassifier(class_weight=&#x27;balanced&#x27;, max_depth=10, max_samples=0.8,\n",
       "                       min_samples_split=5, n_estimators=200, random_state=42)</pre></div> </div></div><div class=\"sk-serial\"><div class=\"sk-item\"><div class=\"sk-estimator fitted sk-toggleable\"><input class=\"sk-toggleable__control sk-hidden--visually\" id=\"sk-estimator-id-3\" type=\"checkbox\" ><label for=\"sk-estimator-id-3\" class=\"sk-toggleable__label fitted sk-toggleable__label-arrow fitted\">&nbsp;RandomForestClassifier<a class=\"sk-estimator-doc-link fitted\" rel=\"noreferrer\" target=\"_blank\" href=\"https://scikit-learn.org/1.5/modules/generated/sklearn.ensemble.RandomForestClassifier.html\">?<span>Documentation for RandomForestClassifier</span></a></label><div class=\"sk-toggleable__content fitted\"><pre>RandomForestClassifier(class_weight=&#x27;balanced&#x27;, max_depth=10, max_samples=0.8,\n",
       "                       min_samples_split=5, n_estimators=200, random_state=42)</pre></div> </div></div></div></div></div></div></div></div></div>"
      ],
      "text/plain": [
       "GridSearchCV(cv=StratifiedKFold(n_splits=5, random_state=42, shuffle=True),\n",
       "             estimator=RandomForestClassifier(class_weight='balanced',\n",
       "                                              random_state=42),\n",
       "             n_jobs=-1,\n",
       "             param_grid={'max_depth': [10], 'max_features': ['sqrt'],\n",
       "                         'max_samples': [0.8], 'min_samples_leaf': [1],\n",
       "                         'min_samples_split': [5], 'n_estimators': [200]},\n",
       "             refit='recall',\n",
       "             scoring={'accuracy': 'accuracy', 'f1': 'f1',\n",
       "                      'precision': 'precision', 'recall': 'recall'},\n",
       "             verbose=1)"
      ]
     },
     "execution_count": 138,
     "metadata": {},
     "output_type": "execute_result"
    }
   ],
   "source": [
    "%%time\n",
    "\n",
    "# Fit the model.\n",
    "rf_cv.fit(X_tr, y_tr)"
   ]
  },
  {
   "cell_type": "code",
   "execution_count": 139,
   "metadata": {},
   "outputs": [
    {
     "data": {
      "text/plain": [
       "0.902092050209205"
      ]
     },
     "execution_count": 139,
     "metadata": {},
     "output_type": "execute_result"
    }
   ],
   "source": [
    "# Examine best score\n",
    "rf_cv.best_score_"
   ]
  },
  {
   "cell_type": "code",
   "execution_count": 140,
   "metadata": {},
   "outputs": [
    {
     "data": {
      "text/plain": [
       "{'max_depth': 10,\n",
       " 'max_features': 'sqrt',\n",
       " 'max_samples': 0.8,\n",
       " 'min_samples_leaf': 1,\n",
       " 'min_samples_split': 5,\n",
       " 'n_estimators': 200}"
      ]
     },
     "execution_count": 140,
     "metadata": {},
     "output_type": "execute_result"
    }
   ],
   "source": [
    "# Examine best hyperparameter combo\n",
    "rf_cv.best_params_"
   ]
  },
  {
   "cell_type": "markdown",
   "metadata": {},
   "source": [
    "{'max_depth': 10,\n",
    " 'max_features': 'sqrt',\n",
    " 'max_samples': 0.8,\n",
    " 'min_samples_leaf': 1,\n",
    " 'min_samples_split': 5,\n",
    " 'n_estimators': 200}"
   ]
  },
  {
   "cell_type": "code",
   "execution_count": 142,
   "metadata": {},
   "outputs": [],
   "source": [
    "def make_results(model_name:str, model_object, metric:str):\n",
    "    '''\n",
    "    Arguments:\n",
    "        model_name (string): what you want the model to be called in the output table\n",
    "        model_object: a fit GridSearchCV object\n",
    "        metric (string): precision, recall, f1, or accuracy\n",
    "\n",
    "    Returns a pandas df with the F1, recall, precision, and accuracy scores\n",
    "    for the model with the best mean 'metric' score across all validation folds.\n",
    "    '''\n",
    "\n",
    "    # Create dictionary that maps input metric to actual metric name in GridSearchCV\n",
    "    metric_dict = {'precision': 'mean_test_precision',\n",
    "                   'recall': 'mean_test_recall',\n",
    "                   'f1': 'mean_test_f1',\n",
    "                   'accuracy': 'mean_test_accuracy',\n",
    "                   }\n",
    "\n",
    "    # Get all the results from the CV and put them in a df\n",
    "    cv_results = pd.DataFrame(model_object.cv_results_)\n",
    "\n",
    "    \n",
    "    # Isolate the row of the df with the max(metric) score\n",
    "    best_estimator_results = cv_results.iloc[cv_results[metric_dict[metric]].idxmax(), :]\n",
    "\n",
    "    # Extract accuracy, precision, recall, and f1 score from that row\n",
    "    f1 = best_estimator_results.mean_test_f1\n",
    "    recall = best_estimator_results.mean_test_recall\n",
    "    precision = best_estimator_results.mean_test_precision\n",
    "    accuracy = best_estimator_results.mean_test_accuracy\n",
    "\n",
    "    # Create table of results\n",
    "    table = pd.DataFrame({'model': [model_name],\n",
    "                          'precision': [precision],\n",
    "                          'recall': [recall],\n",
    "                          'F1': [f1],\n",
    "                          'accuracy': [accuracy],\n",
    "                          },\n",
    "                         )\n",
    "\n",
    "    return table"
   ]
  },
  {
   "cell_type": "code",
   "execution_count": 143,
   "metadata": {},
   "outputs": [
    {
     "data": {
      "text/html": [
       "<div>\n",
       "<style scoped>\n",
       "    .dataframe tbody tr th:only-of-type {\n",
       "        vertical-align: middle;\n",
       "    }\n",
       "\n",
       "    .dataframe tbody tr th {\n",
       "        vertical-align: top;\n",
       "    }\n",
       "\n",
       "    .dataframe thead th {\n",
       "        text-align: right;\n",
       "    }\n",
       "</style>\n",
       "<table border=\"1\" class=\"dataframe\">\n",
       "  <thead>\n",
       "    <tr style=\"text-align: right;\">\n",
       "      <th></th>\n",
       "      <th>model</th>\n",
       "      <th>precision</th>\n",
       "      <th>recall</th>\n",
       "      <th>F1</th>\n",
       "      <th>accuracy</th>\n",
       "    </tr>\n",
       "  </thead>\n",
       "  <tbody>\n",
       "    <tr>\n",
       "      <th>0</th>\n",
       "      <td>Random Forest CV</td>\n",
       "      <td>0.98183</td>\n",
       "      <td>0.902092</td>\n",
       "      <td>0.940218</td>\n",
       "      <td>0.980956</td>\n",
       "    </tr>\n",
       "  </tbody>\n",
       "</table>\n",
       "</div>"
      ],
      "text/plain": [
       "              model  precision    recall        F1  accuracy\n",
       "0  Random Forest CV    0.98183  0.902092  0.940218  0.980956"
      ]
     },
     "execution_count": 143,
     "metadata": {},
     "output_type": "execute_result"
    }
   ],
   "source": [
    "rf_cv_results = make_results('Random Forest CV', rf_cv, 'recall')\n",
    "\n",
    "rf_cv_results"
   ]
  },
  {
   "cell_type": "markdown",
   "metadata": {},
   "source": [
    "**Importância das Features:**\n",
    "    \n",
    "Confirmando se as features criadas (ex: workload_risk, evaluation_satisfaction_gap) foram relevantes."
   ]
  },
  {
   "cell_type": "code",
   "execution_count": 145,
   "metadata": {},
   "outputs": [
    {
     "name": "stdout",
     "output_type": "stream",
     "text": [
      "Features mais importantes:\n",
      " tenure                         0.155137\n",
      "satisfaction_level             0.143750\n",
      "career_growth                  0.126829\n",
      "workload_risk                  0.121866\n",
      "satisfaction_workload          0.111567\n",
      "average_monthly_hours          0.063907\n",
      "evaluation_satisfaction_gap    0.059977\n",
      "projects_per_year              0.058413\n",
      "last_evaluation                0.049497\n",
      "number_of_projects             0.042374\n",
      "dtype: float64\n"
     ]
    }
   ],
   "source": [
    "importances = rf_cv.best_estimator_.feature_importances_  \n",
    "features = pd.Series(importances, index=X_tr.columns).sort_values(ascending=False)  \n",
    "print(\"Features mais importantes:\\n\", features.head(10))  "
   ]
  },
  {
   "cell_type": "markdown",
   "metadata": {},
   "source": [
    "#### XGBoost\n",
    "\n",
    "Começarei usando o GridSearchCV para ajustar o modelo.\n",
    "\n",
    "- Instanciarei o classificador do XGBoost `xgb` e definir objective='binary:logistic'.\n",
    "- Criarei um dicionário cv_params com hiperparâmetros e seus valores correspondentes.\n",
    "- Definirei uma lista de pontuação de métricas de pontuação para o GridSearch capturar.\n",
    "- Instanciarei o objeto GridSearchCV xgb_cv. "
   ]
  },
  {
   "cell_type": "markdown",
   "metadata": {},
   "source": [
    "Por motivos de eficiencia estarei colcando os melhores parametros diretamente, porém esses foram o que usei na GridSearchCV:\n",
    "\n",
    "cv_params = {\n",
    "    'n_estimators': [100, 200, 300],          \n",
    "    'max_depth': [3, 6, 10, 15],              \n",
    "    'learning_rate': [0.01, 0.05, 0.1],      \n",
    "    'subsample': [0.7, 0.8, 1.0],             \n",
    "    'colsample_bytree': [0.7, 0.8, 1.0],      \n",
    "    'gamma': [0, 0.5, 1]                     \n",
    "}"
   ]
  },
  {
   "cell_type": "code",
   "execution_count": 148,
   "metadata": {},
   "outputs": [],
   "source": [
    "# 1. Instantiate the XGBoost classifier\n",
    "xgb = XGBClassifier(objective='binary:logistic', scale_pos_weight=5, random_state=42)\n",
    "\n",
    "# 2. Create a dictionary of hyperparameters to tune\n",
    "cv_params = {\n",
    " 'colsample_bytree': [1.0],\n",
    " 'gamma': [0],\n",
    " 'learning_rate': [0.1],\n",
    " 'max_depth': [3],\n",
    " 'n_estimators': [300],\n",
    " 'subsample': [1.0]                    \n",
    "}\n",
    "\n",
    "# 3. Definir métricas\n",
    "scoring = {\n",
    "    'accuracy': 'accuracy',\n",
    "    'precision': 'precision',\n",
    "    'recall': 'recall',\n",
    "    'f1': 'f1'\n",
    "}\n",
    "\n",
    "# 4. Instantiate the GridSearchCV object\n",
    "xgb_cv = GridSearchCV(\n",
    "    xgb, \n",
    "    cv_params, \n",
    "    scoring=scoring, \n",
    "    cv=StratifiedKFold(n_splits=5, shuffle=True, random_state=42),\n",
    "    refit='recall',  # Certifique-se de que essa métrica está no scoring\n",
    "    n_jobs=-1,       # Usa todos os núcleos da CPU\n",
    "    verbose=1        # Exibe progresso detalhado\n",
    ")"
   ]
  },
  {
   "cell_type": "code",
   "execution_count": 149,
   "metadata": {},
   "outputs": [
    {
     "name": "stdout",
     "output_type": "stream",
     "text": [
      "Fitting 5 folds for each of 1 candidates, totalling 5 fits\n",
      "CPU times: total: 1.59 s\n",
      "Wall time: 1.61 s\n"
     ]
    },
    {
     "data": {
      "text/html": [
       "<style>#sk-container-id-2 {\n",
       "  /* Definition of color scheme common for light and dark mode */\n",
       "  --sklearn-color-text: black;\n",
       "  --sklearn-color-line: gray;\n",
       "  /* Definition of color scheme for unfitted estimators */\n",
       "  --sklearn-color-unfitted-level-0: #fff5e6;\n",
       "  --sklearn-color-unfitted-level-1: #f6e4d2;\n",
       "  --sklearn-color-unfitted-level-2: #ffe0b3;\n",
       "  --sklearn-color-unfitted-level-3: chocolate;\n",
       "  /* Definition of color scheme for fitted estimators */\n",
       "  --sklearn-color-fitted-level-0: #f0f8ff;\n",
       "  --sklearn-color-fitted-level-1: #d4ebff;\n",
       "  --sklearn-color-fitted-level-2: #b3dbfd;\n",
       "  --sklearn-color-fitted-level-3: cornflowerblue;\n",
       "\n",
       "  /* Specific color for light theme */\n",
       "  --sklearn-color-text-on-default-background: var(--sg-text-color, var(--theme-code-foreground, var(--jp-content-font-color1, black)));\n",
       "  --sklearn-color-background: var(--sg-background-color, var(--theme-background, var(--jp-layout-color0, white)));\n",
       "  --sklearn-color-border-box: var(--sg-text-color, var(--theme-code-foreground, var(--jp-content-font-color1, black)));\n",
       "  --sklearn-color-icon: #696969;\n",
       "\n",
       "  @media (prefers-color-scheme: dark) {\n",
       "    /* Redefinition of color scheme for dark theme */\n",
       "    --sklearn-color-text-on-default-background: var(--sg-text-color, var(--theme-code-foreground, var(--jp-content-font-color1, white)));\n",
       "    --sklearn-color-background: var(--sg-background-color, var(--theme-background, var(--jp-layout-color0, #111)));\n",
       "    --sklearn-color-border-box: var(--sg-text-color, var(--theme-code-foreground, var(--jp-content-font-color1, white)));\n",
       "    --sklearn-color-icon: #878787;\n",
       "  }\n",
       "}\n",
       "\n",
       "#sk-container-id-2 {\n",
       "  color: var(--sklearn-color-text);\n",
       "}\n",
       "\n",
       "#sk-container-id-2 pre {\n",
       "  padding: 0;\n",
       "}\n",
       "\n",
       "#sk-container-id-2 input.sk-hidden--visually {\n",
       "  border: 0;\n",
       "  clip: rect(1px 1px 1px 1px);\n",
       "  clip: rect(1px, 1px, 1px, 1px);\n",
       "  height: 1px;\n",
       "  margin: -1px;\n",
       "  overflow: hidden;\n",
       "  padding: 0;\n",
       "  position: absolute;\n",
       "  width: 1px;\n",
       "}\n",
       "\n",
       "#sk-container-id-2 div.sk-dashed-wrapped {\n",
       "  border: 1px dashed var(--sklearn-color-line);\n",
       "  margin: 0 0.4em 0.5em 0.4em;\n",
       "  box-sizing: border-box;\n",
       "  padding-bottom: 0.4em;\n",
       "  background-color: var(--sklearn-color-background);\n",
       "}\n",
       "\n",
       "#sk-container-id-2 div.sk-container {\n",
       "  /* jupyter's `normalize.less` sets `[hidden] { display: none; }`\n",
       "     but bootstrap.min.css set `[hidden] { display: none !important; }`\n",
       "     so we also need the `!important` here to be able to override the\n",
       "     default hidden behavior on the sphinx rendered scikit-learn.org.\n",
       "     See: https://github.com/scikit-learn/scikit-learn/issues/21755 */\n",
       "  display: inline-block !important;\n",
       "  position: relative;\n",
       "}\n",
       "\n",
       "#sk-container-id-2 div.sk-text-repr-fallback {\n",
       "  display: none;\n",
       "}\n",
       "\n",
       "div.sk-parallel-item,\n",
       "div.sk-serial,\n",
       "div.sk-item {\n",
       "  /* draw centered vertical line to link estimators */\n",
       "  background-image: linear-gradient(var(--sklearn-color-text-on-default-background), var(--sklearn-color-text-on-default-background));\n",
       "  background-size: 2px 100%;\n",
       "  background-repeat: no-repeat;\n",
       "  background-position: center center;\n",
       "}\n",
       "\n",
       "/* Parallel-specific style estimator block */\n",
       "\n",
       "#sk-container-id-2 div.sk-parallel-item::after {\n",
       "  content: \"\";\n",
       "  width: 100%;\n",
       "  border-bottom: 2px solid var(--sklearn-color-text-on-default-background);\n",
       "  flex-grow: 1;\n",
       "}\n",
       "\n",
       "#sk-container-id-2 div.sk-parallel {\n",
       "  display: flex;\n",
       "  align-items: stretch;\n",
       "  justify-content: center;\n",
       "  background-color: var(--sklearn-color-background);\n",
       "  position: relative;\n",
       "}\n",
       "\n",
       "#sk-container-id-2 div.sk-parallel-item {\n",
       "  display: flex;\n",
       "  flex-direction: column;\n",
       "}\n",
       "\n",
       "#sk-container-id-2 div.sk-parallel-item:first-child::after {\n",
       "  align-self: flex-end;\n",
       "  width: 50%;\n",
       "}\n",
       "\n",
       "#sk-container-id-2 div.sk-parallel-item:last-child::after {\n",
       "  align-self: flex-start;\n",
       "  width: 50%;\n",
       "}\n",
       "\n",
       "#sk-container-id-2 div.sk-parallel-item:only-child::after {\n",
       "  width: 0;\n",
       "}\n",
       "\n",
       "/* Serial-specific style estimator block */\n",
       "\n",
       "#sk-container-id-2 div.sk-serial {\n",
       "  display: flex;\n",
       "  flex-direction: column;\n",
       "  align-items: center;\n",
       "  background-color: var(--sklearn-color-background);\n",
       "  padding-right: 1em;\n",
       "  padding-left: 1em;\n",
       "}\n",
       "\n",
       "\n",
       "/* Toggleable style: style used for estimator/Pipeline/ColumnTransformer box that is\n",
       "clickable and can be expanded/collapsed.\n",
       "- Pipeline and ColumnTransformer use this feature and define the default style\n",
       "- Estimators will overwrite some part of the style using the `sk-estimator` class\n",
       "*/\n",
       "\n",
       "/* Pipeline and ColumnTransformer style (default) */\n",
       "\n",
       "#sk-container-id-2 div.sk-toggleable {\n",
       "  /* Default theme specific background. It is overwritten whether we have a\n",
       "  specific estimator or a Pipeline/ColumnTransformer */\n",
       "  background-color: var(--sklearn-color-background);\n",
       "}\n",
       "\n",
       "/* Toggleable label */\n",
       "#sk-container-id-2 label.sk-toggleable__label {\n",
       "  cursor: pointer;\n",
       "  display: block;\n",
       "  width: 100%;\n",
       "  margin-bottom: 0;\n",
       "  padding: 0.5em;\n",
       "  box-sizing: border-box;\n",
       "  text-align: center;\n",
       "}\n",
       "\n",
       "#sk-container-id-2 label.sk-toggleable__label-arrow:before {\n",
       "  /* Arrow on the left of the label */\n",
       "  content: \"▸\";\n",
       "  float: left;\n",
       "  margin-right: 0.25em;\n",
       "  color: var(--sklearn-color-icon);\n",
       "}\n",
       "\n",
       "#sk-container-id-2 label.sk-toggleable__label-arrow:hover:before {\n",
       "  color: var(--sklearn-color-text);\n",
       "}\n",
       "\n",
       "/* Toggleable content - dropdown */\n",
       "\n",
       "#sk-container-id-2 div.sk-toggleable__content {\n",
       "  max-height: 0;\n",
       "  max-width: 0;\n",
       "  overflow: hidden;\n",
       "  text-align: left;\n",
       "  /* unfitted */\n",
       "  background-color: var(--sklearn-color-unfitted-level-0);\n",
       "}\n",
       "\n",
       "#sk-container-id-2 div.sk-toggleable__content.fitted {\n",
       "  /* fitted */\n",
       "  background-color: var(--sklearn-color-fitted-level-0);\n",
       "}\n",
       "\n",
       "#sk-container-id-2 div.sk-toggleable__content pre {\n",
       "  margin: 0.2em;\n",
       "  border-radius: 0.25em;\n",
       "  color: var(--sklearn-color-text);\n",
       "  /* unfitted */\n",
       "  background-color: var(--sklearn-color-unfitted-level-0);\n",
       "}\n",
       "\n",
       "#sk-container-id-2 div.sk-toggleable__content.fitted pre {\n",
       "  /* unfitted */\n",
       "  background-color: var(--sklearn-color-fitted-level-0);\n",
       "}\n",
       "\n",
       "#sk-container-id-2 input.sk-toggleable__control:checked~div.sk-toggleable__content {\n",
       "  /* Expand drop-down */\n",
       "  max-height: 200px;\n",
       "  max-width: 100%;\n",
       "  overflow: auto;\n",
       "}\n",
       "\n",
       "#sk-container-id-2 input.sk-toggleable__control:checked~label.sk-toggleable__label-arrow:before {\n",
       "  content: \"▾\";\n",
       "}\n",
       "\n",
       "/* Pipeline/ColumnTransformer-specific style */\n",
       "\n",
       "#sk-container-id-2 div.sk-label input.sk-toggleable__control:checked~label.sk-toggleable__label {\n",
       "  color: var(--sklearn-color-text);\n",
       "  background-color: var(--sklearn-color-unfitted-level-2);\n",
       "}\n",
       "\n",
       "#sk-container-id-2 div.sk-label.fitted input.sk-toggleable__control:checked~label.sk-toggleable__label {\n",
       "  background-color: var(--sklearn-color-fitted-level-2);\n",
       "}\n",
       "\n",
       "/* Estimator-specific style */\n",
       "\n",
       "/* Colorize estimator box */\n",
       "#sk-container-id-2 div.sk-estimator input.sk-toggleable__control:checked~label.sk-toggleable__label {\n",
       "  /* unfitted */\n",
       "  background-color: var(--sklearn-color-unfitted-level-2);\n",
       "}\n",
       "\n",
       "#sk-container-id-2 div.sk-estimator.fitted input.sk-toggleable__control:checked~label.sk-toggleable__label {\n",
       "  /* fitted */\n",
       "  background-color: var(--sklearn-color-fitted-level-2);\n",
       "}\n",
       "\n",
       "#sk-container-id-2 div.sk-label label.sk-toggleable__label,\n",
       "#sk-container-id-2 div.sk-label label {\n",
       "  /* The background is the default theme color */\n",
       "  color: var(--sklearn-color-text-on-default-background);\n",
       "}\n",
       "\n",
       "/* On hover, darken the color of the background */\n",
       "#sk-container-id-2 div.sk-label:hover label.sk-toggleable__label {\n",
       "  color: var(--sklearn-color-text);\n",
       "  background-color: var(--sklearn-color-unfitted-level-2);\n",
       "}\n",
       "\n",
       "/* Label box, darken color on hover, fitted */\n",
       "#sk-container-id-2 div.sk-label.fitted:hover label.sk-toggleable__label.fitted {\n",
       "  color: var(--sklearn-color-text);\n",
       "  background-color: var(--sklearn-color-fitted-level-2);\n",
       "}\n",
       "\n",
       "/* Estimator label */\n",
       "\n",
       "#sk-container-id-2 div.sk-label label {\n",
       "  font-family: monospace;\n",
       "  font-weight: bold;\n",
       "  display: inline-block;\n",
       "  line-height: 1.2em;\n",
       "}\n",
       "\n",
       "#sk-container-id-2 div.sk-label-container {\n",
       "  text-align: center;\n",
       "}\n",
       "\n",
       "/* Estimator-specific */\n",
       "#sk-container-id-2 div.sk-estimator {\n",
       "  font-family: monospace;\n",
       "  border: 1px dotted var(--sklearn-color-border-box);\n",
       "  border-radius: 0.25em;\n",
       "  box-sizing: border-box;\n",
       "  margin-bottom: 0.5em;\n",
       "  /* unfitted */\n",
       "  background-color: var(--sklearn-color-unfitted-level-0);\n",
       "}\n",
       "\n",
       "#sk-container-id-2 div.sk-estimator.fitted {\n",
       "  /* fitted */\n",
       "  background-color: var(--sklearn-color-fitted-level-0);\n",
       "}\n",
       "\n",
       "/* on hover */\n",
       "#sk-container-id-2 div.sk-estimator:hover {\n",
       "  /* unfitted */\n",
       "  background-color: var(--sklearn-color-unfitted-level-2);\n",
       "}\n",
       "\n",
       "#sk-container-id-2 div.sk-estimator.fitted:hover {\n",
       "  /* fitted */\n",
       "  background-color: var(--sklearn-color-fitted-level-2);\n",
       "}\n",
       "\n",
       "/* Specification for estimator info (e.g. \"i\" and \"?\") */\n",
       "\n",
       "/* Common style for \"i\" and \"?\" */\n",
       "\n",
       ".sk-estimator-doc-link,\n",
       "a:link.sk-estimator-doc-link,\n",
       "a:visited.sk-estimator-doc-link {\n",
       "  float: right;\n",
       "  font-size: smaller;\n",
       "  line-height: 1em;\n",
       "  font-family: monospace;\n",
       "  background-color: var(--sklearn-color-background);\n",
       "  border-radius: 1em;\n",
       "  height: 1em;\n",
       "  width: 1em;\n",
       "  text-decoration: none !important;\n",
       "  margin-left: 1ex;\n",
       "  /* unfitted */\n",
       "  border: var(--sklearn-color-unfitted-level-1) 1pt solid;\n",
       "  color: var(--sklearn-color-unfitted-level-1);\n",
       "}\n",
       "\n",
       ".sk-estimator-doc-link.fitted,\n",
       "a:link.sk-estimator-doc-link.fitted,\n",
       "a:visited.sk-estimator-doc-link.fitted {\n",
       "  /* fitted */\n",
       "  border: var(--sklearn-color-fitted-level-1) 1pt solid;\n",
       "  color: var(--sklearn-color-fitted-level-1);\n",
       "}\n",
       "\n",
       "/* On hover */\n",
       "div.sk-estimator:hover .sk-estimator-doc-link:hover,\n",
       ".sk-estimator-doc-link:hover,\n",
       "div.sk-label-container:hover .sk-estimator-doc-link:hover,\n",
       ".sk-estimator-doc-link:hover {\n",
       "  /* unfitted */\n",
       "  background-color: var(--sklearn-color-unfitted-level-3);\n",
       "  color: var(--sklearn-color-background);\n",
       "  text-decoration: none;\n",
       "}\n",
       "\n",
       "div.sk-estimator.fitted:hover .sk-estimator-doc-link.fitted:hover,\n",
       ".sk-estimator-doc-link.fitted:hover,\n",
       "div.sk-label-container:hover .sk-estimator-doc-link.fitted:hover,\n",
       ".sk-estimator-doc-link.fitted:hover {\n",
       "  /* fitted */\n",
       "  background-color: var(--sklearn-color-fitted-level-3);\n",
       "  color: var(--sklearn-color-background);\n",
       "  text-decoration: none;\n",
       "}\n",
       "\n",
       "/* Span, style for the box shown on hovering the info icon */\n",
       ".sk-estimator-doc-link span {\n",
       "  display: none;\n",
       "  z-index: 9999;\n",
       "  position: relative;\n",
       "  font-weight: normal;\n",
       "  right: .2ex;\n",
       "  padding: .5ex;\n",
       "  margin: .5ex;\n",
       "  width: min-content;\n",
       "  min-width: 20ex;\n",
       "  max-width: 50ex;\n",
       "  color: var(--sklearn-color-text);\n",
       "  box-shadow: 2pt 2pt 4pt #999;\n",
       "  /* unfitted */\n",
       "  background: var(--sklearn-color-unfitted-level-0);\n",
       "  border: .5pt solid var(--sklearn-color-unfitted-level-3);\n",
       "}\n",
       "\n",
       ".sk-estimator-doc-link.fitted span {\n",
       "  /* fitted */\n",
       "  background: var(--sklearn-color-fitted-level-0);\n",
       "  border: var(--sklearn-color-fitted-level-3);\n",
       "}\n",
       "\n",
       ".sk-estimator-doc-link:hover span {\n",
       "  display: block;\n",
       "}\n",
       "\n",
       "/* \"?\"-specific style due to the `<a>` HTML tag */\n",
       "\n",
       "#sk-container-id-2 a.estimator_doc_link {\n",
       "  float: right;\n",
       "  font-size: 1rem;\n",
       "  line-height: 1em;\n",
       "  font-family: monospace;\n",
       "  background-color: var(--sklearn-color-background);\n",
       "  border-radius: 1rem;\n",
       "  height: 1rem;\n",
       "  width: 1rem;\n",
       "  text-decoration: none;\n",
       "  /* unfitted */\n",
       "  color: var(--sklearn-color-unfitted-level-1);\n",
       "  border: var(--sklearn-color-unfitted-level-1) 1pt solid;\n",
       "}\n",
       "\n",
       "#sk-container-id-2 a.estimator_doc_link.fitted {\n",
       "  /* fitted */\n",
       "  border: var(--sklearn-color-fitted-level-1) 1pt solid;\n",
       "  color: var(--sklearn-color-fitted-level-1);\n",
       "}\n",
       "\n",
       "/* On hover */\n",
       "#sk-container-id-2 a.estimator_doc_link:hover {\n",
       "  /* unfitted */\n",
       "  background-color: var(--sklearn-color-unfitted-level-3);\n",
       "  color: var(--sklearn-color-background);\n",
       "  text-decoration: none;\n",
       "}\n",
       "\n",
       "#sk-container-id-2 a.estimator_doc_link.fitted:hover {\n",
       "  /* fitted */\n",
       "  background-color: var(--sklearn-color-fitted-level-3);\n",
       "}\n",
       "</style><div id=\"sk-container-id-2\" class=\"sk-top-container\"><div class=\"sk-text-repr-fallback\"><pre>GridSearchCV(cv=StratifiedKFold(n_splits=5, random_state=42, shuffle=True),\n",
       "             estimator=XGBClassifier(base_score=None, booster=None,\n",
       "                                     callbacks=None, colsample_bylevel=None,\n",
       "                                     colsample_bynode=None,\n",
       "                                     colsample_bytree=None, device=None,\n",
       "                                     early_stopping_rounds=None,\n",
       "                                     enable_categorical=False, eval_metric=None,\n",
       "                                     feature_types=None, gamma=None,\n",
       "                                     grow_policy=None, importance_typ...\n",
       "                                     missing=nan, monotone_constraints=None,\n",
       "                                     multi_strategy=None, n_estimators=None,\n",
       "                                     n_jobs=None, num_parallel_tree=None,\n",
       "                                     random_state=42, ...),\n",
       "             n_jobs=-1,\n",
       "             param_grid={&#x27;colsample_bytree&#x27;: [1.0], &#x27;gamma&#x27;: [0],\n",
       "                         &#x27;learning_rate&#x27;: [0.1], &#x27;max_depth&#x27;: [3],\n",
       "                         &#x27;n_estimators&#x27;: [300], &#x27;subsample&#x27;: [1.0]},\n",
       "             refit=&#x27;recall&#x27;,\n",
       "             scoring={&#x27;accuracy&#x27;: &#x27;accuracy&#x27;, &#x27;f1&#x27;: &#x27;f1&#x27;,\n",
       "                      &#x27;precision&#x27;: &#x27;precision&#x27;, &#x27;recall&#x27;: &#x27;recall&#x27;},\n",
       "             verbose=1)</pre><b>In a Jupyter environment, please rerun this cell to show the HTML representation or trust the notebook. <br />On GitHub, the HTML representation is unable to render, please try loading this page with nbviewer.org.</b></div><div class=\"sk-container\" hidden><div class=\"sk-item sk-dashed-wrapped\"><div class=\"sk-label-container\"><div class=\"sk-label fitted sk-toggleable\"><input class=\"sk-toggleable__control sk-hidden--visually\" id=\"sk-estimator-id-4\" type=\"checkbox\" ><label for=\"sk-estimator-id-4\" class=\"sk-toggleable__label fitted sk-toggleable__label-arrow fitted\">&nbsp;&nbsp;GridSearchCV<a class=\"sk-estimator-doc-link fitted\" rel=\"noreferrer\" target=\"_blank\" href=\"https://scikit-learn.org/1.5/modules/generated/sklearn.model_selection.GridSearchCV.html\">?<span>Documentation for GridSearchCV</span></a><span class=\"sk-estimator-doc-link fitted\">i<span>Fitted</span></span></label><div class=\"sk-toggleable__content fitted\"><pre>GridSearchCV(cv=StratifiedKFold(n_splits=5, random_state=42, shuffle=True),\n",
       "             estimator=XGBClassifier(base_score=None, booster=None,\n",
       "                                     callbacks=None, colsample_bylevel=None,\n",
       "                                     colsample_bynode=None,\n",
       "                                     colsample_bytree=None, device=None,\n",
       "                                     early_stopping_rounds=None,\n",
       "                                     enable_categorical=False, eval_metric=None,\n",
       "                                     feature_types=None, gamma=None,\n",
       "                                     grow_policy=None, importance_typ...\n",
       "                                     missing=nan, monotone_constraints=None,\n",
       "                                     multi_strategy=None, n_estimators=None,\n",
       "                                     n_jobs=None, num_parallel_tree=None,\n",
       "                                     random_state=42, ...),\n",
       "             n_jobs=-1,\n",
       "             param_grid={&#x27;colsample_bytree&#x27;: [1.0], &#x27;gamma&#x27;: [0],\n",
       "                         &#x27;learning_rate&#x27;: [0.1], &#x27;max_depth&#x27;: [3],\n",
       "                         &#x27;n_estimators&#x27;: [300], &#x27;subsample&#x27;: [1.0]},\n",
       "             refit=&#x27;recall&#x27;,\n",
       "             scoring={&#x27;accuracy&#x27;: &#x27;accuracy&#x27;, &#x27;f1&#x27;: &#x27;f1&#x27;,\n",
       "                      &#x27;precision&#x27;: &#x27;precision&#x27;, &#x27;recall&#x27;: &#x27;recall&#x27;},\n",
       "             verbose=1)</pre></div> </div></div><div class=\"sk-parallel\"><div class=\"sk-parallel-item\"><div class=\"sk-item\"><div class=\"sk-label-container\"><div class=\"sk-label fitted sk-toggleable\"><input class=\"sk-toggleable__control sk-hidden--visually\" id=\"sk-estimator-id-5\" type=\"checkbox\" ><label for=\"sk-estimator-id-5\" class=\"sk-toggleable__label fitted sk-toggleable__label-arrow fitted\">best_estimator_: XGBClassifier</label><div class=\"sk-toggleable__content fitted\"><pre>XGBClassifier(base_score=None, booster=None, callbacks=None,\n",
       "              colsample_bylevel=None, colsample_bynode=None,\n",
       "              colsample_bytree=1.0, device=None, early_stopping_rounds=None,\n",
       "              enable_categorical=False, eval_metric=None, feature_types=None,\n",
       "              gamma=0, grow_policy=None, importance_type=None,\n",
       "              interaction_constraints=None, learning_rate=0.1, max_bin=None,\n",
       "              max_cat_threshold=None, max_cat_to_onehot=None,\n",
       "              max_delta_step=None, max_depth=3, max_leaves=None,\n",
       "              min_child_weight=None, missing=nan, monotone_constraints=None,\n",
       "              multi_strategy=None, n_estimators=300, n_jobs=None,\n",
       "              num_parallel_tree=None, random_state=42, ...)</pre></div> </div></div><div class=\"sk-serial\"><div class=\"sk-item\"><div class=\"sk-estimator fitted sk-toggleable\"><input class=\"sk-toggleable__control sk-hidden--visually\" id=\"sk-estimator-id-6\" type=\"checkbox\" ><label for=\"sk-estimator-id-6\" class=\"sk-toggleable__label fitted sk-toggleable__label-arrow fitted\">XGBClassifier</label><div class=\"sk-toggleable__content fitted\"><pre>XGBClassifier(base_score=None, booster=None, callbacks=None,\n",
       "              colsample_bylevel=None, colsample_bynode=None,\n",
       "              colsample_bytree=1.0, device=None, early_stopping_rounds=None,\n",
       "              enable_categorical=False, eval_metric=None, feature_types=None,\n",
       "              gamma=0, grow_policy=None, importance_type=None,\n",
       "              interaction_constraints=None, learning_rate=0.1, max_bin=None,\n",
       "              max_cat_threshold=None, max_cat_to_onehot=None,\n",
       "              max_delta_step=None, max_depth=3, max_leaves=None,\n",
       "              min_child_weight=None, missing=nan, monotone_constraints=None,\n",
       "              multi_strategy=None, n_estimators=300, n_jobs=None,\n",
       "              num_parallel_tree=None, random_state=42, ...)</pre></div> </div></div></div></div></div></div></div></div></div>"
      ],
      "text/plain": [
       "GridSearchCV(cv=StratifiedKFold(n_splits=5, random_state=42, shuffle=True),\n",
       "             estimator=XGBClassifier(base_score=None, booster=None,\n",
       "                                     callbacks=None, colsample_bylevel=None,\n",
       "                                     colsample_bynode=None,\n",
       "                                     colsample_bytree=None, device=None,\n",
       "                                     early_stopping_rounds=None,\n",
       "                                     enable_categorical=False, eval_metric=None,\n",
       "                                     feature_types=None, gamma=None,\n",
       "                                     grow_policy=None, importance_typ...\n",
       "                                     missing=nan, monotone_constraints=None,\n",
       "                                     multi_strategy=None, n_estimators=None,\n",
       "                                     n_jobs=None, num_parallel_tree=None,\n",
       "                                     random_state=42, ...),\n",
       "             n_jobs=-1,\n",
       "             param_grid={'colsample_bytree': [1.0], 'gamma': [0],\n",
       "                         'learning_rate': [0.1], 'max_depth': [3],\n",
       "                         'n_estimators': [300], 'subsample': [1.0]},\n",
       "             refit='recall',\n",
       "             scoring={'accuracy': 'accuracy', 'f1': 'f1',\n",
       "                      'precision': 'precision', 'recall': 'recall'},\n",
       "             verbose=1)"
      ]
     },
     "execution_count": 149,
     "metadata": {},
     "output_type": "execute_result"
    }
   ],
   "source": [
    "%%time\n",
    "\n",
    "# fit the GridSearch model to training data\n",
    "xgb_cv.fit(X_tr, y_tr)"
   ]
  },
  {
   "cell_type": "code",
   "execution_count": 150,
   "metadata": {},
   "outputs": [
    {
     "data": {
      "text/plain": [
       "0.9238493723849371"
      ]
     },
     "execution_count": 150,
     "metadata": {},
     "output_type": "execute_result"
    }
   ],
   "source": [
    "# Examine best score\n",
    "xgb_cv.best_score_"
   ]
  },
  {
   "cell_type": "code",
   "execution_count": 151,
   "metadata": {},
   "outputs": [
    {
     "data": {
      "text/plain": [
       "{'colsample_bytree': 1.0,\n",
       " 'gamma': 0,\n",
       " 'learning_rate': 0.1,\n",
       " 'max_depth': 3,\n",
       " 'n_estimators': 300,\n",
       " 'subsample': 1.0}"
      ]
     },
     "execution_count": 151,
     "metadata": {},
     "output_type": "execute_result"
    }
   ],
   "source": [
    "# Examine best parameters\n",
    "xgb_cv.best_params_"
   ]
  },
  {
   "cell_type": "markdown",
   "metadata": {},
   "source": [
    "{'colsample_bytree': 1.0,\n",
    " 'gamma': 0,\n",
    " 'learning_rate': 0.1,\n",
    " 'max_depth': 3,\n",
    " 'n_estimators': 300,\n",
    " 'subsample': 1.0}"
   ]
  },
  {
   "cell_type": "code",
   "execution_count": 153,
   "metadata": {},
   "outputs": [
    {
     "data": {
      "text/html": [
       "<div>\n",
       "<style scoped>\n",
       "    .dataframe tbody tr th:only-of-type {\n",
       "        vertical-align: middle;\n",
       "    }\n",
       "\n",
       "    .dataframe tbody tr th {\n",
       "        vertical-align: top;\n",
       "    }\n",
       "\n",
       "    .dataframe thead th {\n",
       "        text-align: right;\n",
       "    }\n",
       "</style>\n",
       "<table border=\"1\" class=\"dataframe\">\n",
       "  <thead>\n",
       "    <tr style=\"text-align: right;\">\n",
       "      <th></th>\n",
       "      <th>model</th>\n",
       "      <th>precision</th>\n",
       "      <th>recall</th>\n",
       "      <th>F1</th>\n",
       "      <th>accuracy</th>\n",
       "    </tr>\n",
       "  </thead>\n",
       "  <tbody>\n",
       "    <tr>\n",
       "      <th>0</th>\n",
       "      <td>Random Forest CV</td>\n",
       "      <td>0.981830</td>\n",
       "      <td>0.902092</td>\n",
       "      <td>0.940218</td>\n",
       "      <td>0.980956</td>\n",
       "    </tr>\n",
       "    <tr>\n",
       "      <th>0</th>\n",
       "      <td>XGBoost CV</td>\n",
       "      <td>0.911085</td>\n",
       "      <td>0.923849</td>\n",
       "      <td>0.917316</td>\n",
       "      <td>0.972338</td>\n",
       "    </tr>\n",
       "  </tbody>\n",
       "</table>\n",
       "</div>"
      ],
      "text/plain": [
       "              model  precision    recall        F1  accuracy\n",
       "0  Random Forest CV   0.981830  0.902092  0.940218  0.980956\n",
       "0        XGBoost CV   0.911085  0.923849  0.917316  0.972338"
      ]
     },
     "execution_count": 153,
     "metadata": {},
     "output_type": "execute_result"
    }
   ],
   "source": [
    "# Call 'make_results()' on the GridSearch object\n",
    "xgb_cv_results = make_results('XGBoost CV', xgb_cv, 'recall')\n",
    "\n",
    "results = pd.concat([rf_cv_results, xgb_cv_results], axis=0)\n",
    "\n",
    "results"
   ]
  },
  {
   "cell_type": "markdown",
   "metadata": {},
   "source": [
    "**Importância das Features:**\n",
    "    \n",
    "Checando as features criadas."
   ]
  },
  {
   "cell_type": "code",
   "execution_count": 155,
   "metadata": {},
   "outputs": [
    {
     "name": "stdout",
     "output_type": "stream",
     "text": [
      "Features mais importantes:\n",
      " workload_risk                  0.717065\n",
      "tenure                         0.076932\n",
      "tenure_group_high_risk         0.050206\n",
      "satisfaction_workload          0.030454\n",
      "satisfaction_level             0.026714\n",
      "career_growth                  0.022042\n",
      "evaluation_satisfaction_gap    0.016620\n",
      "projects_per_year              0.013870\n",
      "work_accident                  0.011888\n",
      "average_monthly_hours          0.008968\n",
      "dtype: float32\n"
     ]
    }
   ],
   "source": [
    "importances = xgb_cv.best_estimator_.feature_importances_  \n",
    "features = pd.Series(importances, index=X_tr.columns).sort_values(ascending=False)  \n",
    "print(\"Features mais importantes:\\n\", features.head(10))  "
   ]
  },
  {
   "cell_type": "markdown",
   "metadata": {},
   "source": [
    "#### Prever com base nos dados de validação "
   ]
  },
  {
   "cell_type": "code",
   "execution_count": 157,
   "metadata": {},
   "outputs": [],
   "source": [
    "# Use o modelo random forest para fazer previsões nos dados de validação\n",
    "rf_val_preds = rf_cv.best_estimator_.predict(X_val)"
   ]
  },
  {
   "cell_type": "code",
   "execution_count": 158,
   "metadata": {},
   "outputs": [],
   "source": [
    "def get_test_scores(model_name:str, preds, y_test_data):\n",
    "    '''\n",
    "    Generate a table of test scores.\n",
    "\n",
    "    In:\n",
    "        model_name (string): Your choice: how the model will be named in the output table\n",
    "        preds: numpy array of test predictions\n",
    "        y_test_data: numpy array of y_test data\n",
    "\n",
    "    Out:\n",
    "        table: a pandas df of precision, recall, f1, and accuracy scores for your model\n",
    "    '''\n",
    "    accuracy = metrics.accuracy_score(y_test_data, preds)\n",
    "    precision = metrics.precision_score(y_test_data, preds)\n",
    "    recall = metrics.recall_score(y_test_data, preds)\n",
    "    f1 = metrics.f1_score(y_test_data, preds)\n",
    "\n",
    "    table = pd.DataFrame({'model': [model_name],\n",
    "                          'precision': [precision],\n",
    "                          'recall': [recall],\n",
    "                          'F1': [f1],\n",
    "                          'accuracy': [accuracy]\n",
    "                          })\n",
    "\n",
    "    return table"
   ]
  },
  {
   "cell_type": "code",
   "execution_count": 159,
   "metadata": {},
   "outputs": [
    {
     "data": {
      "text/html": [
       "<div>\n",
       "<style scoped>\n",
       "    .dataframe tbody tr th:only-of-type {\n",
       "        vertical-align: middle;\n",
       "    }\n",
       "\n",
       "    .dataframe tbody tr th {\n",
       "        vertical-align: top;\n",
       "    }\n",
       "\n",
       "    .dataframe thead th {\n",
       "        text-align: right;\n",
       "    }\n",
       "</style>\n",
       "<table border=\"1\" class=\"dataframe\">\n",
       "  <thead>\n",
       "    <tr style=\"text-align: right;\">\n",
       "      <th></th>\n",
       "      <th>model</th>\n",
       "      <th>precision</th>\n",
       "      <th>recall</th>\n",
       "      <th>F1</th>\n",
       "      <th>accuracy</th>\n",
       "    </tr>\n",
       "  </thead>\n",
       "  <tbody>\n",
       "    <tr>\n",
       "      <th>0</th>\n",
       "      <td>Random Forest CV</td>\n",
       "      <td>0.981830</td>\n",
       "      <td>0.902092</td>\n",
       "      <td>0.940218</td>\n",
       "      <td>0.980956</td>\n",
       "    </tr>\n",
       "    <tr>\n",
       "      <th>0</th>\n",
       "      <td>XGBoost CV</td>\n",
       "      <td>0.911085</td>\n",
       "      <td>0.923849</td>\n",
       "      <td>0.917316</td>\n",
       "      <td>0.972338</td>\n",
       "    </tr>\n",
       "    <tr>\n",
       "      <th>0</th>\n",
       "      <td>Random Forest VAL</td>\n",
       "      <td>0.973190</td>\n",
       "      <td>0.912060</td>\n",
       "      <td>0.941634</td>\n",
       "      <td>0.981234</td>\n",
       "    </tr>\n",
       "  </tbody>\n",
       "</table>\n",
       "</div>"
      ],
      "text/plain": [
       "               model  precision    recall        F1  accuracy\n",
       "0   Random Forest CV   0.981830  0.902092  0.940218  0.980956\n",
       "0         XGBoost CV   0.911085  0.923849  0.917316  0.972338\n",
       "0  Random Forest VAL   0.973190  0.912060  0.941634  0.981234"
      ]
     },
     "execution_count": 159,
     "metadata": {},
     "output_type": "execute_result"
    }
   ],
   "source": [
    "# Get validation scores for RF model\n",
    "rf_val_scores = get_test_scores('Random Forest VAL', rf_val_preds, y_val)\n",
    "\n",
    "# Append to the results table\n",
    "results = pd.concat([results, rf_val_scores], axis=0)\n",
    "results"
   ]
  },
  {
   "cell_type": "code",
   "execution_count": 160,
   "metadata": {},
   "outputs": [],
   "source": [
    "# Use o modelo XGBoost para fazer previsões nos dados de validação\n",
    "xgb_val_preds = xgb_cv.best_estimator_.predict(X_val)"
   ]
  },
  {
   "cell_type": "code",
   "execution_count": 161,
   "metadata": {},
   "outputs": [
    {
     "data": {
      "text/html": [
       "<div>\n",
       "<style scoped>\n",
       "    .dataframe tbody tr th:only-of-type {\n",
       "        vertical-align: middle;\n",
       "    }\n",
       "\n",
       "    .dataframe tbody tr th {\n",
       "        vertical-align: top;\n",
       "    }\n",
       "\n",
       "    .dataframe thead th {\n",
       "        text-align: right;\n",
       "    }\n",
       "</style>\n",
       "<table border=\"1\" class=\"dataframe\">\n",
       "  <thead>\n",
       "    <tr style=\"text-align: right;\">\n",
       "      <th></th>\n",
       "      <th>model</th>\n",
       "      <th>precision</th>\n",
       "      <th>recall</th>\n",
       "      <th>F1</th>\n",
       "      <th>accuracy</th>\n",
       "    </tr>\n",
       "  </thead>\n",
       "  <tbody>\n",
       "    <tr>\n",
       "      <th>0</th>\n",
       "      <td>Random Forest CV</td>\n",
       "      <td>0.981830</td>\n",
       "      <td>0.902092</td>\n",
       "      <td>0.940218</td>\n",
       "      <td>0.980956</td>\n",
       "    </tr>\n",
       "    <tr>\n",
       "      <th>0</th>\n",
       "      <td>XGBoost CV</td>\n",
       "      <td>0.911085</td>\n",
       "      <td>0.923849</td>\n",
       "      <td>0.917316</td>\n",
       "      <td>0.972338</td>\n",
       "    </tr>\n",
       "    <tr>\n",
       "      <th>0</th>\n",
       "      <td>Random Forest VAL</td>\n",
       "      <td>0.973190</td>\n",
       "      <td>0.912060</td>\n",
       "      <td>0.941634</td>\n",
       "      <td>0.981234</td>\n",
       "    </tr>\n",
       "    <tr>\n",
       "      <th>0</th>\n",
       "      <td>XGBoost VAL</td>\n",
       "      <td>0.919512</td>\n",
       "      <td>0.947236</td>\n",
       "      <td>0.933168</td>\n",
       "      <td>0.977481</td>\n",
       "    </tr>\n",
       "  </tbody>\n",
       "</table>\n",
       "</div>"
      ],
      "text/plain": [
       "               model  precision    recall        F1  accuracy\n",
       "0   Random Forest CV   0.981830  0.902092  0.940218  0.980956\n",
       "0         XGBoost CV   0.911085  0.923849  0.917316  0.972338\n",
       "0  Random Forest VAL   0.973190  0.912060  0.941634  0.981234\n",
       "0        XGBoost VAL   0.919512  0.947236  0.933168  0.977481"
      ]
     },
     "execution_count": 161,
     "metadata": {},
     "output_type": "execute_result"
    }
   ],
   "source": [
    "# Get validation scores for XGBoost model\n",
    "xgb_val_scores = get_test_scores('XGBoost VAL', xgb_val_preds, y_val)\n",
    "\n",
    "# Append to the results table\n",
    "results = pd.concat([results, xgb_val_scores], axis=0)\n",
    "results"
   ]
  },
  {
   "cell_type": "markdown",
   "metadata": {},
   "source": [
    "### Observações:\n",
    "\n",
    "Priorizei o `recall` para o contexto da Salifort Motors:\n",
    " \n",
    "O Recall mede a capacidade do modelo de **identificar corretamente funcionários que deixarão a empresa**.  \n",
    "- **Custo de um falso negativo (FN):**  \n",
    "  Se o modelo falhar em prever a saída de um funcionário (**FN**), a Salifort perderá a oportunidade de intervir, arcando com custos de:  \n",
    "  - Recrutamento de substitutos.  \n",
    "  - Treinamento e integração.  \n",
    "  - Perda de produtividade durante a transição. \n",
    "  \n",
    "<blank>\n",
    "    \n",
    "- **Custo de um falso positivo (FP):**  \n",
    "  Se o modelo prever que um funcionário sairá, mas ele permanecer (**FP**), o custo é menor:  \n",
    "  - Ações de retenção (ex: feedback, ajuste de carga de trabalho) são investimentos em um funcionário que já está na empresa.  "
   ]
  },
  {
   "cell_type": "markdown",
   "metadata": {
    "id": "moS7voiMOW67"
   },
   "source": [
    "**Quais variáveis independentes você escolheu para o modelo e por quê?**  \n",
    "   - **workload_risk**: para identificar funcionários subutilizados (2 projetos) ou sobrecarregados (6 ou mais).  \n",
    "   - **projects_per_year**: mede a pressão de projetos ao longo do tempo de empresa.  \n",
    "   - **tenure_promotion_interaction**: destaca funcionários com muito tempo de casa sem promoção.  \n",
    "   - **salary_satisfaction_index**: combina salário e satisfação, trazendo granularidade ao impacto da remuneração.  \n",
    "   - **evaluation_satisfaction_gap**: expõe desalinhamentos entre alto desempenho e baixa satisfação.  \n",
    "   - **satisfaction_workload**: relaciona satisfação com carga horária, útil para detectar riscos de burnout.  \n",
    "   - **career_growth**: reflete potencial de crescimento (número de projetos × avaliação).  \n",
    "   - **tenure_group**: agrupa funcionários pelo tempo na empresa (curto, médio, longo).  \n",
    "   Além dessas features criadas, mantivemos as variáveis originais mais relevantes (por exemplo, `satisfaction_level`, `average_monthly_hours`, etc.), removendo `department` após a EDA indicar baixa relevância.  \n",
    "\n",
    "**As suposições foram atendidas?**  \n",
    "   Modelos como **Random Forest** e **XGBoost** não exigem suposições fortes de distribuição (ao contrário de modelos lineares). As principais preocupações eram:  \n",
    "   - **Dados sem grandes inconsistências** (valores ausentes, outliers extremos).  \n",
    "   - **Balanceamento** (ou compensação via `class_weight` e `scale_pos_weight`).  \n",
    "   Ambas foram tratadas. Logo, podemos dizer que as suposições necessárias para esses modelos foram atendidas.  \n",
    "\n",
    "**Quão bem o modelo se ajusta aos dados?**  \n",
    "   Pelas métricas de validação, ambos os modelos atingiram **alta precisão e recall**. O **Random Forest** ficou com recall em torno de 90% e o **XGBoost** chegou a ~92–94% de recall, mantendo boa precisão e acurácia acima de 97%. Isso indica **bom ajuste** aos dados de treinamento e validação. Ainda assim, é essencial confirmar com o **conjunto de teste** para garantir que não haja overfitting.  \n",
    "\n",
    "**Você pode melhorá-lo? Há algo que você mudaria no modelo?**  \n",
    "   - **Testar mais combinações de hiperparâmetros** ou usar **RandomizedSearchCV** com uma grade maior, se o tempo de processamento permitir.  \n",
    "   - **Aplicar early stopping** no XGBoost para reduzir possíveis overfits e otimizar o número de iterações.  \n",
    "   - **Analisar feature importance** em maior detalhe, possivelmente removendo variáveis redundantes.  \n",
    "   - **Verificar métricas adicionais**, como a curva ROC ou a curva de precisão-recall, para confirmar a qualidade do modelo em diferentes thresholds.  \n",
    "\n",
    "**Você tem alguma consideração ética nesta fase?**  \n",
    "   Sim. Estamos lidando com **dados de funcionários**, portanto:  \n",
    "   - **Privacidade**: Devemos proteger informações sensíveis e não expor dados individuais.  \n",
    "   - **Transparência**: Se o modelo for usado para ações de retenção, é importante comunicar aos funcionários a existência de análises preditivas.  \n",
    "   - **Viés**: Verificar se o modelo não está aprendendo padrões discriminatórios (por exemplo, contra certos grupos).  \n",
    "   - **Uso responsável**: Garantir que as predições não resultem em “rotular” funcionários injustamente, prejudicando promoções ou oportunidades."
   ]
  },
  {
   "cell_type": "markdown",
   "metadata": {
    "id": "401PgchTPr4E"
   },
   "source": [
    "# Execução"
   ]
  },
  {
   "cell_type": "markdown",
   "metadata": {
    "id": "6pBUk35yTDaL"
   },
   "source": [
    "## Etapa 4. Resultados e avaliação\n",
    "- Interpretar o modelo\n",
    "- Avaliar o desempenho do modelo usando métricas\n",
    "- Preparar resultados, visualizações e etapas acionáveis para compartilhar com as partes interessadas"
   ]
  },
  {
   "cell_type": "markdown",
   "metadata": {},
   "source": [
    "---\n",
    "\n",
    "### 1. Usando o modelo escolhido para fazer previsões nos dados de teste"
   ]
  },
  {
   "cell_type": "code",
   "execution_count": 167,
   "metadata": {},
   "outputs": [],
   "source": [
    "# Use o modelo XGBoost para fazer previsões nos dados de teste\n",
    "xgb_test_preds = xgb_cv.best_estimator_.predict(X_test)"
   ]
  },
  {
   "cell_type": "code",
   "execution_count": 168,
   "metadata": {},
   "outputs": [
    {
     "data": {
      "text/html": [
       "<div>\n",
       "<style scoped>\n",
       "    .dataframe tbody tr th:only-of-type {\n",
       "        vertical-align: middle;\n",
       "    }\n",
       "\n",
       "    .dataframe tbody tr th {\n",
       "        vertical-align: top;\n",
       "    }\n",
       "\n",
       "    .dataframe thead th {\n",
       "        text-align: right;\n",
       "    }\n",
       "</style>\n",
       "<table border=\"1\" class=\"dataframe\">\n",
       "  <thead>\n",
       "    <tr style=\"text-align: right;\">\n",
       "      <th></th>\n",
       "      <th>model</th>\n",
       "      <th>precision</th>\n",
       "      <th>recall</th>\n",
       "      <th>F1</th>\n",
       "      <th>accuracy</th>\n",
       "    </tr>\n",
       "  </thead>\n",
       "  <tbody>\n",
       "    <tr>\n",
       "      <th>0</th>\n",
       "      <td>Random Forest CV</td>\n",
       "      <td>0.981830</td>\n",
       "      <td>0.902092</td>\n",
       "      <td>0.940218</td>\n",
       "      <td>0.980956</td>\n",
       "    </tr>\n",
       "    <tr>\n",
       "      <th>0</th>\n",
       "      <td>XGBoost CV</td>\n",
       "      <td>0.911085</td>\n",
       "      <td>0.923849</td>\n",
       "      <td>0.917316</td>\n",
       "      <td>0.972338</td>\n",
       "    </tr>\n",
       "    <tr>\n",
       "      <th>0</th>\n",
       "      <td>Random Forest VAL</td>\n",
       "      <td>0.973190</td>\n",
       "      <td>0.912060</td>\n",
       "      <td>0.941634</td>\n",
       "      <td>0.981234</td>\n",
       "    </tr>\n",
       "    <tr>\n",
       "      <th>0</th>\n",
       "      <td>XGBoost VAL</td>\n",
       "      <td>0.919512</td>\n",
       "      <td>0.947236</td>\n",
       "      <td>0.933168</td>\n",
       "      <td>0.977481</td>\n",
       "    </tr>\n",
       "    <tr>\n",
       "      <th>0</th>\n",
       "      <td>XGB test</td>\n",
       "      <td>0.903148</td>\n",
       "      <td>0.937186</td>\n",
       "      <td>0.919852</td>\n",
       "      <td>0.972905</td>\n",
       "    </tr>\n",
       "  </tbody>\n",
       "</table>\n",
       "</div>"
      ],
      "text/plain": [
       "               model  precision    recall        F1  accuracy\n",
       "0   Random Forest CV   0.981830  0.902092  0.940218  0.980956\n",
       "0         XGBoost CV   0.911085  0.923849  0.917316  0.972338\n",
       "0  Random Forest VAL   0.973190  0.912060  0.941634  0.981234\n",
       "0        XGBoost VAL   0.919512  0.947236  0.933168  0.977481\n",
       "0           XGB test   0.903148  0.937186  0.919852  0.972905"
      ]
     },
     "execution_count": 168,
     "metadata": {},
     "output_type": "execute_result"
    }
   ],
   "source": [
    "# Get test scores for XGBoost model\n",
    "xgb_test_scores = get_test_scores('XGB test', xgb_test_preds, y_test)\n",
    "\n",
    "# Append to the results table\n",
    "results = pd.concat([results, xgb_test_scores], axis=0)\n",
    "results"
   ]
  },
  {
   "cell_type": "markdown",
   "metadata": {},
   "source": [
    "---\n",
    "\n",
    "### 2. Confusion matrix"
   ]
  },
  {
   "cell_type": "code",
   "execution_count": 170,
   "metadata": {},
   "outputs": [],
   "source": [
    "# Construct the confusion matrix for your predicted and test values.\n",
    "def conf_matrix_plot(model, x_data, y_data):\n",
    "    '''\n",
    "    Aceita um modelo, dados X (teste/validação) e y (teste/validação).\n",
    "    Plota a matriz de confusão para as previsões em y.\n",
    "    ''' \n",
    "    xgb_test_preds = xgb_cv.predict(x_data)\n",
    "    cm = metrics.confusion_matrix(y_data, xgb_test_preds, labels=xgb_cv.classes_)\n",
    "    disp = metrics.ConfusionMatrixDisplay(confusion_matrix=cm, display_labels=['ficar', 'sair'])\n",
    "    \n",
    "# Plotar dentro da função\n",
    "    disp.plot(values_format='') # `values_format=''` suppresses scientific notation\n",
    "    plt.show()"
   ]
  },
  {
   "cell_type": "code",
   "execution_count": 171,
   "metadata": {},
   "outputs": [
    {
     "data": {
      "image/png": "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",
      "text/plain": [
       "<Figure size 640x480 with 2 Axes>"
      ]
     },
     "metadata": {},
     "output_type": "display_data"
    }
   ],
   "source": [
    "# Chame a função, e ela já plotará a matriz\n",
    "conf_matrix_plot(xgb_cv, X_test, y_test)"
   ]
  },
  {
   "cell_type": "markdown",
   "metadata": {},
   "source": [
    "---\n",
    "\n",
    "### 3. Feature importance"
   ]
  },
  {
   "cell_type": "code",
   "execution_count": 173,
   "metadata": {},
   "outputs": [
    {
     "data": {
      "text/plain": [
       "<Figure size 640x480 with 0 Axes>"
      ]
     },
     "metadata": {},
     "output_type": "display_data"
    },
    {
     "data": {
      "image/png": "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",
      "text/plain": [
       "<Figure size 640x480 with 1 Axes>"
      ]
     },
     "metadata": {},
     "output_type": "display_data"
    }
   ],
   "source": [
    "# Cria uma nova figura\n",
    "plt.figure()\n",
    "\n",
    "# Plota a importância\n",
    "plot_importance(xgb_cv.best_estimator_)\n",
    "plt.show()\n",
    "\n",
    "# Fecha a figura explicitamente (opcional, mas útil em loops)\n",
    "plt.close()"
   ]
  },
  {
   "cell_type": "markdown",
   "metadata": {
    "id": "GXrsxT498Z7h"
   },
   "source": [
    "### Resumo dos resultados do modelo"
   ]
  },
  {
   "cell_type": "markdown",
   "metadata": {},
   "source": [
    "**Desempenho Geral do Modelo (XGBoost no Conjunto de Teste):**\n",
    "\n",
    "| Métrica      | Valor   | Interpretação                                                                 |\n",
    "|--------------|---------|-------------------------------------------------------------------------------|\n",
    "| **Recall**   | 93.72%  | O modelo detecta **93.7% dos funcionários que realmente saem**, minimizando custos de rotatividade não prevista. |\n",
    "| **Precisão** | 90.31%  | Apenas **9.69% das previsões de saída são falsos positivos**, indicando eficiência em ações de retenção. |\n",
    "| **F1-Score** | 91.98%  | Equilíbrado entre precisão e recall, adequado para o objetivo do negócio. |\n",
    "| **Acurácia** | 97.29%  | Alta, mas influenciada pelo desbalanceamento das classes (83% \"ficar\"). |\n",
    "\n",
    "---\n",
    "\n",
    "**Matriz de Confusão (Teste):**\n",
    "\n",
    "|                     | **Previsto: Ficar** | **Previsto: Sair** |\n",
    "|---------------------|---------------------|--------------------|\n",
    "| **Real: Ficar**     | TN = 373            | FP = 25            |\n",
    "| **Real: Sair**      | FN = 40             | TP = 1961          |\n",
    "\n",
    "---\n",
    "\n",
    "**Pontos Fortes:**\n",
    "- **Alto Recall (93.7%):** Ideal para a Salifort, que prioriza evitar saídas não detectadas.  \n",
    "- **Features Interpretáveis:** Permitem ações diretas (ex: ajustar carga de trabalho).  \n",
    "- **Consistência:** Métricas similares em treino/validação/teste indicam **baixo overfitting**."
   ]
  },
  {
   "cell_type": "markdown",
   "metadata": {
    "id": "9MOMqelNLn2v"
   },
   "source": [
    "### Conclusão, recomendações e próximas etapas\n",
    "\n",
    "**Conclusão Geral do Projeto**\n",
    "\n",
    "O projeto de análise de dados sobre rotatividade de funcionários na Salifort Motors demonstrou que **o número de projetos** (tanto em excesso quanto em escassez) é um dos principais fatores de risco. Outras variáveis, como **nível de satisfação**, **carga horária** e **tempo de empresa sem promoções**, também influenciam fortemente a decisão do funcionário de permanecer ou sair. Após a criação de novas features e a comparação de diferentes algoritmos (Random Forest e XGBoost), o **XGBoost** obteve os melhores resultados, com elevada **revocação** (acima de 90%) e **precisão** igualmente alta, garantindo que a empresa possa identificar a maior parte dos funcionários em risco de saída, sem gerar muitos falsos alarmes.\n",
    "\n",
    "**Recomendações**  \n",
    "\n",
    "1. **Gerenciar a Alocação de Projetos**  \n",
    "   - Evitar sobrecarregar funcionários com muitos projetos (6 ou mais) e subutilizar aqueles com apenas 2 projetos.  \n",
    "   - Monitorar a métrica *workload_risk* regularmente para redistribuir tarefas e equilibrar a carga de trabalho.\n",
    "\n",
    "2. **Focar em Satisfação e Crescimento**  \n",
    "   - A satisfação (satisfaction_level) se correlaciona fortemente com a permanência. Investir em planos de carreira, feedbacks constantes e oportunidades de desenvolvimento.  \n",
    "   - Criar políticas que incentivem **promoções internas** ou novos desafios profissionais para evitar estagnação, especialmente para funcionários de média/longa permanência.\n",
    "\n",
    "3. **Usar o Modelo de Forma Proativa**  \n",
    "   - Implementar o **XGBoost** em ambiente de produção para detectar funcionários em risco, permitindo que o RH atue antecipadamente.  \n",
    "\n",
    "4. **Melhorar a Coleta de Dados**  \n",
    "   - Incluir variáveis adicionais (por exemplo: avaliações de liderança, dados de clima organizacional) para enriquecer a análise.  \n",
    "   - Garantir a **qualidade** e **atualização** dos dados para que o modelo continue relevante.\n",
    "\n",
    "5. **Monitorar Possíveis Vieses**  \n",
    "   - Verificar se o modelo não cria discriminações indiretas (por exemplo, contra grupos específicos).  \n",
    "   - Garantir transparência e privacidade dos funcionários ao utilizar o sistema de predição.\n",
    "\n",
    "**Próximas Etapas**  \n",
    "\n",
    "1. **Validação em Produção**  \n",
    "   - Aplicar o modelo em dados reais em tempo quase real e monitorar métricas de precisão, recall e F1.  \n",
    "   - Verificar se as **ações de retenção** propostas realmente reduzem o turnover.\n",
    "\n",
    "2. **Refinamento Contínuo do Modelo**  \n",
    "   - Usar técnicas como **early stopping** e **randomized search** para encontrar configurações ainda mais otimizadas do XGBoost.  \n",
    "   - Explorar **SHAP values** para entender detalhadamente como cada feature impacta as previsões.\n",
    "\n",
    "3. **Integração com Processos de RH**  \n",
    "   - Criar um **dashboard** que permita ao RH e gestores acompanhar em tempo real as métricas de risco de saída.  \n",
    "   - Desenvolver **protocolos de ação** quando um funcionário for classificado como alto risco (por exemplo, conversas individuais, planos de desenvolvimento).\n",
    "\n",
    "4. **Expansão dos Dados**  \n",
    "   - Avaliar a incorporação de dados externos, como benchmarks de mercado e pesquisas de satisfação anônimas, para ter uma visão ainda mais completa.\n",
    "\n",
    "Com essa estrutura, a Salifort Motors pode utilizar o modelo de forma assertiva, **reduzindo custos de rotatividade**, mantendo profissionais engajados e criando um ambiente de trabalho mais saudável e produtivo."
   ]
  }
 ],
 "metadata": {
  "colab": {
   "provenance": []
  },
  "gpuClass": "standard",
  "kernelspec": {
   "display_name": "Python [conda env:base] *",
   "language": "python",
   "name": "conda-base-py"
  },
  "language_info": {
   "codemirror_mode": {
    "name": "ipython",
    "version": 3
   },
   "file_extension": ".py",
   "mimetype": "text/x-python",
   "name": "python",
   "nbconvert_exporter": "python",
   "pygments_lexer": "ipython3",
   "version": "3.12.7"
  }
 },
 "nbformat": 4,
 "nbformat_minor": 4
}
